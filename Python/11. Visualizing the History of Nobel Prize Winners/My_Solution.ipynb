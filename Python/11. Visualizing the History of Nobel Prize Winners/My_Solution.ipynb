{
 "cells": [
  {
   "cell_type": "markdown",
   "id": "db5bd2ce-918a-4f7d-a927-a3ea74c4b456",
   "metadata": {},
   "source": [
    "The Nobel Prize has been among the most prestigious international awards since 1901. Each year, awards are bestowed in chemistry, literature, physics, physiology or medicine, economics, and peace. In addition to the honor, prestige, and substantial prize money, the recipient also gets a gold medal with an image of Alfred Nobel (1833 - 1896), who established the prize.\n",
    "\n",
    "![](Nobel_Prize.png)\n",
    "\n",
    "The Nobel Foundation has made a dataset available of all prize winners from the outset of the awards from 1901 to 2023. The dataset used in this project is from the Nobel Prize API and is available in the `nobel.csv` file in the `data` folder.\n",
    "\n",
    "In this project, you'll get a chance to explore and answer several questions related to this prizewinning data. And we encourage you then to explore further questions that you're interested in!"
   ]
  },
  {
   "cell_type": "markdown",
   "id": "20e9c995-4a1f-4463-9510-bf2abdf4b880",
   "metadata": {},
   "source": [
    "# Questions\n",
    "\n",
    "1. What is the most commonly awarded gender and birth country?\n",
    "2. Which decade had the highest ratio of US-born Nobel Prize winners to total winners in all categories?\n",
    "3. Which decade and Nobel Prize category combination had the highest proportion of female laureates?\n",
    "4. Who was the first woman to receive a Nobel Prize, and in what category?\n",
    "5. Which individuals or organizations have won more than one Nobel Prize throughout the years?"
   ]
  },
  {
   "cell_type": "code",
   "execution_count": 1,
   "id": "11fd5946-7bd1-495c-aa7f-ff6e7e4a350b",
   "metadata": {
    "executionCancelledAt": null,
    "executionTime": 11,
    "lastExecutedAt": 1726240404482,
    "lastExecutedByKernel": "34977d2a-e23a-4610-9820-102e366125a0",
    "lastScheduledRunId": null,
    "lastSuccessfullyExecutedCode": "# Loading in required libraries\nimport pandas as pd\nimport seaborn as sns\nimport numpy as np"
   },
   "outputs": [],
   "source": [
    "# Loading in required libraries\n",
    "import pandas as pd\n",
    "import seaborn as sns\n",
    "import numpy as np"
   ]
  },
  {
   "cell_type": "code",
   "execution_count": 5,
   "id": "6629f630-a2d9-4fb0-86c9-0225fe8ca321",
   "metadata": {
    "executionCancelledAt": null,
    "executionTime": 47,
    "lastExecutedAt": 1726240404529,
    "lastExecutedByKernel": "34977d2a-e23a-4610-9820-102e366125a0",
    "lastScheduledRunId": null,
    "lastSuccessfullyExecutedCode": "nobel = pd.read_csv(\"data/nobel.csv\")\nnobel.head()",
    "outputsMetadata": {
     "0": {
      "height": 218,
      "type": "dataFrame"
     }
    }
   },
   "outputs": [
    {
     "data": {
      "application/vnd.microsoft.datawrangler.viewer.v0+json": {
       "columns": [
        {
         "name": "index",
         "rawType": "int64",
         "type": "integer"
        },
        {
         "name": "year",
         "rawType": "int64",
         "type": "integer"
        },
        {
         "name": "category",
         "rawType": "object",
         "type": "string"
        },
        {
         "name": "prize",
         "rawType": "object",
         "type": "string"
        },
        {
         "name": "motivation",
         "rawType": "object",
         "type": "unknown"
        },
        {
         "name": "prize_share",
         "rawType": "object",
         "type": "string"
        },
        {
         "name": "laureate_id",
         "rawType": "int64",
         "type": "integer"
        },
        {
         "name": "laureate_type",
         "rawType": "object",
         "type": "string"
        },
        {
         "name": "full_name",
         "rawType": "object",
         "type": "string"
        },
        {
         "name": "birth_date",
         "rawType": "object",
         "type": "string"
        },
        {
         "name": "birth_city",
         "rawType": "object",
         "type": "string"
        },
        {
         "name": "birth_country",
         "rawType": "object",
         "type": "string"
        },
        {
         "name": "sex",
         "rawType": "object",
         "type": "string"
        },
        {
         "name": "organization_name",
         "rawType": "object",
         "type": "unknown"
        },
        {
         "name": "organization_city",
         "rawType": "object",
         "type": "unknown"
        },
        {
         "name": "organization_country",
         "rawType": "object",
         "type": "unknown"
        },
        {
         "name": "death_date",
         "rawType": "object",
         "type": "string"
        },
        {
         "name": "death_city",
         "rawType": "object",
         "type": "string"
        },
        {
         "name": "death_country",
         "rawType": "object",
         "type": "string"
        }
       ],
       "conversionMethod": "pd.DataFrame",
       "ref": "75595f5b-1241-4b47-a8ed-a30b8c058e29",
       "rows": [
        [
         "0",
         "1901",
         "Chemistry",
         "The Nobel Prize in Chemistry 1901",
         "\"in recognition of the extraordinary services he has rendered by the discovery of the laws of chemical dynamics and osmotic pressure in solutions\"",
         "1/1",
         "160",
         "Individual",
         "Jacobus Henricus van 't Hoff",
         "1852-08-30",
         "Rotterdam",
         "Netherlands",
         "Male",
         "Berlin University",
         "Berlin",
         "Germany",
         "1911-03-01",
         "Berlin",
         "Germany"
        ],
        [
         "1",
         "1901",
         "Literature",
         "The Nobel Prize in Literature 1901",
         "\"in special recognition of his poetic composition, which gives evidence of lofty idealism, artistic perfection and a rare combination of the qualities of both heart and intellect\"",
         "1/1",
         "569",
         "Individual",
         "Sully Prudhomme",
         "1839-03-16",
         "Paris",
         "France",
         "Male",
         null,
         null,
         null,
         "1907-09-07",
         "Châtenay",
         "France"
        ],
        [
         "2",
         "1901",
         "Medicine",
         "The Nobel Prize in Physiology or Medicine 1901",
         "\"for his work on serum therapy, especially its application against diphtheria, by which he has opened a new road in the domain of medical science and thereby placed in the hands of the physician a victorious weapon against illness and deaths\"",
         "1/1",
         "293",
         "Individual",
         "Emil Adolf von Behring",
         "1854-03-15",
         "Hansdorf (Lawice)",
         "Prussia (Poland)",
         "Male",
         "Marburg University",
         "Marburg",
         "Germany",
         "1917-03-31",
         "Marburg",
         "Germany"
        ],
        [
         "3",
         "1901",
         "Peace",
         "The Nobel Peace Prize 1901",
         null,
         "1/2",
         "462",
         "Individual",
         "Jean Henry Dunant",
         "1828-05-08",
         "Geneva",
         "Switzerland",
         "Male",
         null,
         null,
         null,
         "1910-10-30",
         "Heiden",
         "Switzerland"
        ],
        [
         "4",
         "1901",
         "Peace",
         "The Nobel Peace Prize 1901",
         null,
         "1/2",
         "463",
         "Individual",
         "Frédéric Passy",
         "1822-05-20",
         "Paris",
         "France",
         "Male",
         null,
         null,
         null,
         "1912-06-12",
         "Paris",
         "France"
        ]
       ],
       "shape": {
        "columns": 18,
        "rows": 5
       }
      },
      "text/html": [
       "<div>\n",
       "<style scoped>\n",
       "    .dataframe tbody tr th:only-of-type {\n",
       "        vertical-align: middle;\n",
       "    }\n",
       "\n",
       "    .dataframe tbody tr th {\n",
       "        vertical-align: top;\n",
       "    }\n",
       "\n",
       "    .dataframe thead th {\n",
       "        text-align: right;\n",
       "    }\n",
       "</style>\n",
       "<table border=\"1\" class=\"dataframe\">\n",
       "  <thead>\n",
       "    <tr style=\"text-align: right;\">\n",
       "      <th></th>\n",
       "      <th>year</th>\n",
       "      <th>category</th>\n",
       "      <th>prize</th>\n",
       "      <th>motivation</th>\n",
       "      <th>prize_share</th>\n",
       "      <th>laureate_id</th>\n",
       "      <th>laureate_type</th>\n",
       "      <th>full_name</th>\n",
       "      <th>birth_date</th>\n",
       "      <th>birth_city</th>\n",
       "      <th>birth_country</th>\n",
       "      <th>sex</th>\n",
       "      <th>organization_name</th>\n",
       "      <th>organization_city</th>\n",
       "      <th>organization_country</th>\n",
       "      <th>death_date</th>\n",
       "      <th>death_city</th>\n",
       "      <th>death_country</th>\n",
       "    </tr>\n",
       "  </thead>\n",
       "  <tbody>\n",
       "    <tr>\n",
       "      <th>0</th>\n",
       "      <td>1901</td>\n",
       "      <td>Chemistry</td>\n",
       "      <td>The Nobel Prize in Chemistry 1901</td>\n",
       "      <td>\"in recognition of the extraordinary services ...</td>\n",
       "      <td>1/1</td>\n",
       "      <td>160</td>\n",
       "      <td>Individual</td>\n",
       "      <td>Jacobus Henricus van 't Hoff</td>\n",
       "      <td>1852-08-30</td>\n",
       "      <td>Rotterdam</td>\n",
       "      <td>Netherlands</td>\n",
       "      <td>Male</td>\n",
       "      <td>Berlin University</td>\n",
       "      <td>Berlin</td>\n",
       "      <td>Germany</td>\n",
       "      <td>1911-03-01</td>\n",
       "      <td>Berlin</td>\n",
       "      <td>Germany</td>\n",
       "    </tr>\n",
       "    <tr>\n",
       "      <th>1</th>\n",
       "      <td>1901</td>\n",
       "      <td>Literature</td>\n",
       "      <td>The Nobel Prize in Literature 1901</td>\n",
       "      <td>\"in special recognition of his poetic composit...</td>\n",
       "      <td>1/1</td>\n",
       "      <td>569</td>\n",
       "      <td>Individual</td>\n",
       "      <td>Sully Prudhomme</td>\n",
       "      <td>1839-03-16</td>\n",
       "      <td>Paris</td>\n",
       "      <td>France</td>\n",
       "      <td>Male</td>\n",
       "      <td>NaN</td>\n",
       "      <td>NaN</td>\n",
       "      <td>NaN</td>\n",
       "      <td>1907-09-07</td>\n",
       "      <td>Châtenay</td>\n",
       "      <td>France</td>\n",
       "    </tr>\n",
       "    <tr>\n",
       "      <th>2</th>\n",
       "      <td>1901</td>\n",
       "      <td>Medicine</td>\n",
       "      <td>The Nobel Prize in Physiology or Medicine 1901</td>\n",
       "      <td>\"for his work on serum therapy, especially its...</td>\n",
       "      <td>1/1</td>\n",
       "      <td>293</td>\n",
       "      <td>Individual</td>\n",
       "      <td>Emil Adolf von Behring</td>\n",
       "      <td>1854-03-15</td>\n",
       "      <td>Hansdorf (Lawice)</td>\n",
       "      <td>Prussia (Poland)</td>\n",
       "      <td>Male</td>\n",
       "      <td>Marburg University</td>\n",
       "      <td>Marburg</td>\n",
       "      <td>Germany</td>\n",
       "      <td>1917-03-31</td>\n",
       "      <td>Marburg</td>\n",
       "      <td>Germany</td>\n",
       "    </tr>\n",
       "    <tr>\n",
       "      <th>3</th>\n",
       "      <td>1901</td>\n",
       "      <td>Peace</td>\n",
       "      <td>The Nobel Peace Prize 1901</td>\n",
       "      <td>NaN</td>\n",
       "      <td>1/2</td>\n",
       "      <td>462</td>\n",
       "      <td>Individual</td>\n",
       "      <td>Jean Henry Dunant</td>\n",
       "      <td>1828-05-08</td>\n",
       "      <td>Geneva</td>\n",
       "      <td>Switzerland</td>\n",
       "      <td>Male</td>\n",
       "      <td>NaN</td>\n",
       "      <td>NaN</td>\n",
       "      <td>NaN</td>\n",
       "      <td>1910-10-30</td>\n",
       "      <td>Heiden</td>\n",
       "      <td>Switzerland</td>\n",
       "    </tr>\n",
       "    <tr>\n",
       "      <th>4</th>\n",
       "      <td>1901</td>\n",
       "      <td>Peace</td>\n",
       "      <td>The Nobel Peace Prize 1901</td>\n",
       "      <td>NaN</td>\n",
       "      <td>1/2</td>\n",
       "      <td>463</td>\n",
       "      <td>Individual</td>\n",
       "      <td>Frédéric Passy</td>\n",
       "      <td>1822-05-20</td>\n",
       "      <td>Paris</td>\n",
       "      <td>France</td>\n",
       "      <td>Male</td>\n",
       "      <td>NaN</td>\n",
       "      <td>NaN</td>\n",
       "      <td>NaN</td>\n",
       "      <td>1912-06-12</td>\n",
       "      <td>Paris</td>\n",
       "      <td>France</td>\n",
       "    </tr>\n",
       "  </tbody>\n",
       "</table>\n",
       "</div>"
      ],
      "text/plain": [
       "   year    category                                           prize  \\\n",
       "0  1901   Chemistry               The Nobel Prize in Chemistry 1901   \n",
       "1  1901  Literature              The Nobel Prize in Literature 1901   \n",
       "2  1901    Medicine  The Nobel Prize in Physiology or Medicine 1901   \n",
       "3  1901       Peace                      The Nobel Peace Prize 1901   \n",
       "4  1901       Peace                      The Nobel Peace Prize 1901   \n",
       "\n",
       "                                          motivation prize_share  laureate_id  \\\n",
       "0  \"in recognition of the extraordinary services ...         1/1          160   \n",
       "1  \"in special recognition of his poetic composit...         1/1          569   \n",
       "2  \"for his work on serum therapy, especially its...         1/1          293   \n",
       "3                                                NaN         1/2          462   \n",
       "4                                                NaN         1/2          463   \n",
       "\n",
       "  laureate_type                     full_name  birth_date         birth_city  \\\n",
       "0    Individual  Jacobus Henricus van 't Hoff  1852-08-30          Rotterdam   \n",
       "1    Individual               Sully Prudhomme  1839-03-16              Paris   \n",
       "2    Individual        Emil Adolf von Behring  1854-03-15  Hansdorf (Lawice)   \n",
       "3    Individual             Jean Henry Dunant  1828-05-08             Geneva   \n",
       "4    Individual                Frédéric Passy  1822-05-20              Paris   \n",
       "\n",
       "      birth_country   sex   organization_name organization_city  \\\n",
       "0       Netherlands  Male   Berlin University            Berlin   \n",
       "1            France  Male                 NaN               NaN   \n",
       "2  Prussia (Poland)  Male  Marburg University           Marburg   \n",
       "3       Switzerland  Male                 NaN               NaN   \n",
       "4            France  Male                 NaN               NaN   \n",
       "\n",
       "  organization_country  death_date death_city death_country  \n",
       "0              Germany  1911-03-01     Berlin       Germany  \n",
       "1                  NaN  1907-09-07   Châtenay        France  \n",
       "2              Germany  1917-03-31    Marburg       Germany  \n",
       "3                  NaN  1910-10-30     Heiden   Switzerland  \n",
       "4                  NaN  1912-06-12      Paris        France  "
      ]
     },
     "execution_count": 5,
     "metadata": {},
     "output_type": "execute_result"
    }
   ],
   "source": [
    "nobel = pd.read_csv(\"nobel.csv\")\n",
    "nobel.head()"
   ]
  },
  {
   "cell_type": "code",
   "execution_count": 6,
   "id": "28571748-62d7-4d8f-bbc9-5235478732ae",
   "metadata": {
    "executionCancelledAt": null,
    "executionTime": 48,
    "lastExecutedAt": 1726240404577,
    "lastExecutedByKernel": "34977d2a-e23a-4610-9820-102e366125a0",
    "lastScheduledRunId": null,
    "lastSuccessfullyExecutedCode": "nobel.columns"
   },
   "outputs": [
    {
     "data": {
      "text/plain": [
       "Index(['year', 'category', 'prize', 'motivation', 'prize_share', 'laureate_id',\n",
       "       'laureate_type', 'full_name', 'birth_date', 'birth_city',\n",
       "       'birth_country', 'sex', 'organization_name', 'organization_city',\n",
       "       'organization_country', 'death_date', 'death_city', 'death_country'],\n",
       "      dtype='object')"
      ]
     },
     "execution_count": 6,
     "metadata": {},
     "output_type": "execute_result"
    }
   ],
   "source": [
    "nobel.columns"
   ]
  },
  {
   "cell_type": "code",
   "execution_count": 7,
   "id": "89f82cc3-87a7-47a1-ab68-c4b53d6e1cc4",
   "metadata": {
    "executionCancelledAt": null,
    "executionTime": 57,
    "lastExecutedAt": 1726240404634,
    "lastExecutedByKernel": "34977d2a-e23a-4610-9820-102e366125a0",
    "lastScheduledRunId": null,
    "lastSuccessfullyExecutedCode": "# Most commonly awarded gender & birth country\n\ntop_gender = nobel[\"sex\"].value_counts().index[0]\ntop_country = nobel[\"birth_country\"].value_counts().index[0]\n\nprint(top_gender)\nprint(top_country)",
    "outputsMetadata": {
     "0": {
      "height": 59,
      "type": "stream"
     }
    }
   },
   "outputs": [
    {
     "name": "stdout",
     "output_type": "stream",
     "text": [
      "Male\n",
      "United States of America\n"
     ]
    }
   ],
   "source": [
    "# Most commonly awarded gender & birth country\n",
    "\n",
    "top_gender = nobel[\"sex\"].value_counts().index[0]\n",
    "top_country = nobel[\"birth_country\"].value_counts().index[0]\n",
    "\n",
    "print(top_gender)\n",
    "print(top_country)"
   ]
  },
  {
   "cell_type": "code",
   "execution_count": 9,
   "id": "03863ff5",
   "metadata": {},
   "outputs": [
    {
     "data": {
      "application/vnd.microsoft.datawrangler.viewer.v0+json": {
       "columns": [
        {
         "name": "index",
         "rawType": "int64",
         "type": "integer"
        },
        {
         "name": "decades",
         "rawType": "int64",
         "type": "integer"
        },
        {
         "name": "is_USA",
         "rawType": "int64",
         "type": "integer"
        },
        {
         "name": "count",
         "rawType": "int64",
         "type": "integer"
        }
       ],
       "conversionMethod": "pd.DataFrame",
       "ref": "137dedb6-0e96-4e54-916d-8e30e15944d2",
       "rows": [
        [
         "0",
         "1900",
         "1",
         "57"
        ],
        [
         "1",
         "1910",
         "3",
         "40"
        ],
        [
         "2",
         "1920",
         "4",
         "54"
        ],
        [
         "3",
         "1930",
         "14",
         "56"
        ],
        [
         "4",
         "1940",
         "13",
         "43"
        ],
        [
         "5",
         "1950",
         "21",
         "72"
        ],
        [
         "6",
         "1960",
         "21",
         "79"
        ],
        [
         "7",
         "1970",
         "33",
         "104"
        ],
        [
         "8",
         "1980",
         "31",
         "97"
        ],
        [
         "9",
         "1990",
         "42",
         "104"
        ],
        [
         "10",
         "2000",
         "52",
         "123"
        ],
        [
         "11",
         "2010",
         "38",
         "121"
        ],
        [
         "12",
         "2020",
         "18",
         "50"
        ]
       ],
       "shape": {
        "columns": 3,
        "rows": 13
       }
      },
      "text/html": [
       "<div>\n",
       "<style scoped>\n",
       "    .dataframe tbody tr th:only-of-type {\n",
       "        vertical-align: middle;\n",
       "    }\n",
       "\n",
       "    .dataframe tbody tr th {\n",
       "        vertical-align: top;\n",
       "    }\n",
       "\n",
       "    .dataframe thead th {\n",
       "        text-align: right;\n",
       "    }\n",
       "</style>\n",
       "<table border=\"1\" class=\"dataframe\">\n",
       "  <thead>\n",
       "    <tr style=\"text-align: right;\">\n",
       "      <th></th>\n",
       "      <th>decades</th>\n",
       "      <th>is_USA</th>\n",
       "      <th>count</th>\n",
       "    </tr>\n",
       "  </thead>\n",
       "  <tbody>\n",
       "    <tr>\n",
       "      <th>0</th>\n",
       "      <td>1900</td>\n",
       "      <td>1</td>\n",
       "      <td>57</td>\n",
       "    </tr>\n",
       "    <tr>\n",
       "      <th>1</th>\n",
       "      <td>1910</td>\n",
       "      <td>3</td>\n",
       "      <td>40</td>\n",
       "    </tr>\n",
       "    <tr>\n",
       "      <th>2</th>\n",
       "      <td>1920</td>\n",
       "      <td>4</td>\n",
       "      <td>54</td>\n",
       "    </tr>\n",
       "    <tr>\n",
       "      <th>3</th>\n",
       "      <td>1930</td>\n",
       "      <td>14</td>\n",
       "      <td>56</td>\n",
       "    </tr>\n",
       "    <tr>\n",
       "      <th>4</th>\n",
       "      <td>1940</td>\n",
       "      <td>13</td>\n",
       "      <td>43</td>\n",
       "    </tr>\n",
       "    <tr>\n",
       "      <th>5</th>\n",
       "      <td>1950</td>\n",
       "      <td>21</td>\n",
       "      <td>72</td>\n",
       "    </tr>\n",
       "    <tr>\n",
       "      <th>6</th>\n",
       "      <td>1960</td>\n",
       "      <td>21</td>\n",
       "      <td>79</td>\n",
       "    </tr>\n",
       "    <tr>\n",
       "      <th>7</th>\n",
       "      <td>1970</td>\n",
       "      <td>33</td>\n",
       "      <td>104</td>\n",
       "    </tr>\n",
       "    <tr>\n",
       "      <th>8</th>\n",
       "      <td>1980</td>\n",
       "      <td>31</td>\n",
       "      <td>97</td>\n",
       "    </tr>\n",
       "    <tr>\n",
       "      <th>9</th>\n",
       "      <td>1990</td>\n",
       "      <td>42</td>\n",
       "      <td>104</td>\n",
       "    </tr>\n",
       "    <tr>\n",
       "      <th>10</th>\n",
       "      <td>2000</td>\n",
       "      <td>52</td>\n",
       "      <td>123</td>\n",
       "    </tr>\n",
       "    <tr>\n",
       "      <th>11</th>\n",
       "      <td>2010</td>\n",
       "      <td>38</td>\n",
       "      <td>121</td>\n",
       "    </tr>\n",
       "    <tr>\n",
       "      <th>12</th>\n",
       "      <td>2020</td>\n",
       "      <td>18</td>\n",
       "      <td>50</td>\n",
       "    </tr>\n",
       "  </tbody>\n",
       "</table>\n",
       "</div>"
      ],
      "text/plain": [
       "    decades  is_USA  count\n",
       "0      1900       1     57\n",
       "1      1910       3     40\n",
       "2      1920       4     54\n",
       "3      1930      14     56\n",
       "4      1940      13     43\n",
       "5      1950      21     72\n",
       "6      1960      21     79\n",
       "7      1970      33    104\n",
       "8      1980      31     97\n",
       "9      1990      42    104\n",
       "10     2000      52    123\n",
       "11     2010      38    121\n",
       "12     2020      18     50"
      ]
     },
     "execution_count": 9,
     "metadata": {},
     "output_type": "execute_result"
    }
   ],
   "source": [
    "dataset_merged"
   ]
  },
  {
   "cell_type": "code",
   "execution_count": 8,
   "id": "f4da8229-fd61-45f4-8ec8-94ed69d75f00",
   "metadata": {
    "executionCancelledAt": null,
    "executionTime": 55,
    "lastExecutedAt": 1726240404689,
    "lastExecutedByKernel": "34977d2a-e23a-4610-9820-102e366125a0",
    "lastScheduledRunId": null,
    "lastSuccessfullyExecutedCode": "# The decade that had the highest ratio of US-born Nobel Prize winners to toal winners across all categories\n\nnobel[\"is_USA\"] = nobel[\"birth_country\"] == \"United States of America\"\n\nnobel[\"decades\"] = (nobel[\"year\"] // 10) * 10\n\nus_decade_winners = nobel.groupby(\"decades\").agg({\"is_USA\" : \"sum\"})\nper_decade_winnings = nobel.value_counts(\"decades\").reset_index().rename(columns = {\"decades\" : \"decades\", 0 : \"winnings\"})\ndataset_merged = pd.merge(left = us_decade_winners, right = per_decade_winnings, on = \"decades\", how = \"inner\")\ndataset_merged[\"proportion\"] = dataset_merged[\"is_USA\"]/dataset_merged[\"winnings\"]\ndataset_merged = dataset_merged.sort_values(by = \"proportion\", ascending = False).reset_index(drop = True)\nmax_decade_usa = dataset_merged.iloc[0, 0]\nmax_decade_usa",
    "outputsMetadata": {
     "0": {
      "height": 442,
      "type": "dataFrame"
     }
    }
   },
   "outputs": [
    {
     "ename": "KeyError",
     "evalue": "'winnings'",
     "output_type": "error",
     "traceback": [
      "\u001b[0;31m---------------------------------------------------------------------------\u001b[0m",
      "\u001b[0;31mKeyError\u001b[0m                                  Traceback (most recent call last)",
      "File \u001b[0;32m/opt/anaconda3/lib/python3.12/site-packages/pandas/core/indexes/base.py:3805\u001b[0m, in \u001b[0;36mIndex.get_loc\u001b[0;34m(self, key)\u001b[0m\n\u001b[1;32m   3804\u001b[0m \u001b[38;5;28;01mtry\u001b[39;00m:\n\u001b[0;32m-> 3805\u001b[0m     \u001b[38;5;28;01mreturn\u001b[39;00m \u001b[38;5;28mself\u001b[39m\u001b[38;5;241m.\u001b[39m_engine\u001b[38;5;241m.\u001b[39mget_loc(casted_key)\n\u001b[1;32m   3806\u001b[0m \u001b[38;5;28;01mexcept\u001b[39;00m \u001b[38;5;167;01mKeyError\u001b[39;00m \u001b[38;5;28;01mas\u001b[39;00m err:\n",
      "File \u001b[0;32mindex.pyx:167\u001b[0m, in \u001b[0;36mpandas._libs.index.IndexEngine.get_loc\u001b[0;34m()\u001b[0m\n",
      "File \u001b[0;32mindex.pyx:196\u001b[0m, in \u001b[0;36mpandas._libs.index.IndexEngine.get_loc\u001b[0;34m()\u001b[0m\n",
      "File \u001b[0;32mpandas/_libs/hashtable_class_helper.pxi:7081\u001b[0m, in \u001b[0;36mpandas._libs.hashtable.PyObjectHashTable.get_item\u001b[0;34m()\u001b[0m\n",
      "File \u001b[0;32mpandas/_libs/hashtable_class_helper.pxi:7089\u001b[0m, in \u001b[0;36mpandas._libs.hashtable.PyObjectHashTable.get_item\u001b[0;34m()\u001b[0m\n",
      "\u001b[0;31mKeyError\u001b[0m: 'winnings'",
      "\nThe above exception was the direct cause of the following exception:\n",
      "\u001b[0;31mKeyError\u001b[0m                                  Traceback (most recent call last)",
      "Cell \u001b[0;32mIn[8], line 10\u001b[0m\n\u001b[1;32m      8\u001b[0m per_decade_winnings \u001b[38;5;241m=\u001b[39m nobel\u001b[38;5;241m.\u001b[39mvalue_counts(\u001b[38;5;124m\"\u001b[39m\u001b[38;5;124mdecades\u001b[39m\u001b[38;5;124m\"\u001b[39m)\u001b[38;5;241m.\u001b[39mreset_index()\u001b[38;5;241m.\u001b[39mrename(columns \u001b[38;5;241m=\u001b[39m {\u001b[38;5;124m\"\u001b[39m\u001b[38;5;124mdecades\u001b[39m\u001b[38;5;124m\"\u001b[39m : \u001b[38;5;124m\"\u001b[39m\u001b[38;5;124mdecades\u001b[39m\u001b[38;5;124m\"\u001b[39m, \u001b[38;5;241m0\u001b[39m : \u001b[38;5;124m\"\u001b[39m\u001b[38;5;124mwinnings\u001b[39m\u001b[38;5;124m\"\u001b[39m})\n\u001b[1;32m      9\u001b[0m dataset_merged \u001b[38;5;241m=\u001b[39m pd\u001b[38;5;241m.\u001b[39mmerge(left \u001b[38;5;241m=\u001b[39m us_decade_winners, right \u001b[38;5;241m=\u001b[39m per_decade_winnings, on \u001b[38;5;241m=\u001b[39m \u001b[38;5;124m\"\u001b[39m\u001b[38;5;124mdecades\u001b[39m\u001b[38;5;124m\"\u001b[39m, how \u001b[38;5;241m=\u001b[39m \u001b[38;5;124m\"\u001b[39m\u001b[38;5;124minner\u001b[39m\u001b[38;5;124m\"\u001b[39m)\n\u001b[0;32m---> 10\u001b[0m dataset_merged[\u001b[38;5;124m\"\u001b[39m\u001b[38;5;124mproportion\u001b[39m\u001b[38;5;124m\"\u001b[39m] \u001b[38;5;241m=\u001b[39m dataset_merged[\u001b[38;5;124m\"\u001b[39m\u001b[38;5;124mis_USA\u001b[39m\u001b[38;5;124m\"\u001b[39m]\u001b[38;5;241m/\u001b[39mdataset_merged[\u001b[38;5;124m\"\u001b[39m\u001b[38;5;124mwinnings\u001b[39m\u001b[38;5;124m\"\u001b[39m]\n\u001b[1;32m     11\u001b[0m dataset_merged \u001b[38;5;241m=\u001b[39m dataset_merged\u001b[38;5;241m.\u001b[39msort_values(by \u001b[38;5;241m=\u001b[39m \u001b[38;5;124m\"\u001b[39m\u001b[38;5;124mproportion\u001b[39m\u001b[38;5;124m\"\u001b[39m, ascending \u001b[38;5;241m=\u001b[39m \u001b[38;5;28;01mFalse\u001b[39;00m)\u001b[38;5;241m.\u001b[39mreset_index(drop \u001b[38;5;241m=\u001b[39m \u001b[38;5;28;01mTrue\u001b[39;00m)\n\u001b[1;32m     12\u001b[0m max_decade_usa \u001b[38;5;241m=\u001b[39m dataset_merged\u001b[38;5;241m.\u001b[39miloc[\u001b[38;5;241m0\u001b[39m, \u001b[38;5;241m0\u001b[39m]\n",
      "File \u001b[0;32m/opt/anaconda3/lib/python3.12/site-packages/pandas/core/frame.py:4102\u001b[0m, in \u001b[0;36mDataFrame.__getitem__\u001b[0;34m(self, key)\u001b[0m\n\u001b[1;32m   4100\u001b[0m \u001b[38;5;28;01mif\u001b[39;00m \u001b[38;5;28mself\u001b[39m\u001b[38;5;241m.\u001b[39mcolumns\u001b[38;5;241m.\u001b[39mnlevels \u001b[38;5;241m>\u001b[39m \u001b[38;5;241m1\u001b[39m:\n\u001b[1;32m   4101\u001b[0m     \u001b[38;5;28;01mreturn\u001b[39;00m \u001b[38;5;28mself\u001b[39m\u001b[38;5;241m.\u001b[39m_getitem_multilevel(key)\n\u001b[0;32m-> 4102\u001b[0m indexer \u001b[38;5;241m=\u001b[39m \u001b[38;5;28mself\u001b[39m\u001b[38;5;241m.\u001b[39mcolumns\u001b[38;5;241m.\u001b[39mget_loc(key)\n\u001b[1;32m   4103\u001b[0m \u001b[38;5;28;01mif\u001b[39;00m is_integer(indexer):\n\u001b[1;32m   4104\u001b[0m     indexer \u001b[38;5;241m=\u001b[39m [indexer]\n",
      "File \u001b[0;32m/opt/anaconda3/lib/python3.12/site-packages/pandas/core/indexes/base.py:3812\u001b[0m, in \u001b[0;36mIndex.get_loc\u001b[0;34m(self, key)\u001b[0m\n\u001b[1;32m   3807\u001b[0m     \u001b[38;5;28;01mif\u001b[39;00m \u001b[38;5;28misinstance\u001b[39m(casted_key, \u001b[38;5;28mslice\u001b[39m) \u001b[38;5;129;01mor\u001b[39;00m (\n\u001b[1;32m   3808\u001b[0m         \u001b[38;5;28misinstance\u001b[39m(casted_key, abc\u001b[38;5;241m.\u001b[39mIterable)\n\u001b[1;32m   3809\u001b[0m         \u001b[38;5;129;01mand\u001b[39;00m \u001b[38;5;28many\u001b[39m(\u001b[38;5;28misinstance\u001b[39m(x, \u001b[38;5;28mslice\u001b[39m) \u001b[38;5;28;01mfor\u001b[39;00m x \u001b[38;5;129;01min\u001b[39;00m casted_key)\n\u001b[1;32m   3810\u001b[0m     ):\n\u001b[1;32m   3811\u001b[0m         \u001b[38;5;28;01mraise\u001b[39;00m InvalidIndexError(key)\n\u001b[0;32m-> 3812\u001b[0m     \u001b[38;5;28;01mraise\u001b[39;00m \u001b[38;5;167;01mKeyError\u001b[39;00m(key) \u001b[38;5;28;01mfrom\u001b[39;00m \u001b[38;5;21;01merr\u001b[39;00m\n\u001b[1;32m   3813\u001b[0m \u001b[38;5;28;01mexcept\u001b[39;00m \u001b[38;5;167;01mTypeError\u001b[39;00m:\n\u001b[1;32m   3814\u001b[0m     \u001b[38;5;66;03m# If we have a listlike key, _check_indexing_error will raise\u001b[39;00m\n\u001b[1;32m   3815\u001b[0m     \u001b[38;5;66;03m#  InvalidIndexError. Otherwise we fall through and re-raise\u001b[39;00m\n\u001b[1;32m   3816\u001b[0m     \u001b[38;5;66;03m#  the TypeError.\u001b[39;00m\n\u001b[1;32m   3817\u001b[0m     \u001b[38;5;28mself\u001b[39m\u001b[38;5;241m.\u001b[39m_check_indexing_error(key)\n",
      "\u001b[0;31mKeyError\u001b[0m: 'winnings'"
     ]
    }
   ],
   "source": [
    "# The decade that had the highest ratio of US-born Nobel Prize winners to toal winners across all categories\n",
    "\n",
    "nobel[\"is_USA\"] = nobel[\"birth_country\"] == \"United States of America\"\n",
    "\n",
    "nobel[\"decades\"] = (nobel[\"year\"] // 10) * 10\n",
    "\n",
    "us_decade_winners = nobel.groupby(\"decades\").agg({\"is_USA\" : \"sum\"})\n",
    "per_decade_winnings = nobel.value_counts(\"decades\").reset_index().rename(columns = {\"decades\" : \"decades\", 0 : \"winnings\"})\n",
    "dataset_merged = pd.merge(left = us_decade_winners, right = per_decade_winnings, on = \"decades\", how = \"inner\")\n",
    "dataset_merged[\"proportion\"] = dataset_merged[\"is_USA\"]/dataset_merged[\"winnings\"]\n",
    "dataset_merged = dataset_merged.sort_values(by = \"proportion\", ascending = False).reset_index(drop = True)\n",
    "max_decade_usa = dataset_merged.iloc[0, 0]\n",
    "max_decade_usa"
   ]
  },
  {
   "cell_type": "code",
   "execution_count": null,
   "id": "5e20289f-53bf-4f58-97fc-b220eaba8b07",
   "metadata": {
    "executionCancelledAt": null,
    "executionTime": 52,
    "lastExecutedAt": 1726240404741,
    "lastExecutedByKernel": "34977d2a-e23a-4610-9820-102e366125a0",
    "lastScheduledRunId": null,
    "lastSuccessfullyExecutedCode": "nobel[\"female winner\"] = nobel[\"sex\"] == \"Female\"\nfemale_nobel = nobel.groupby([\"decades\", \"category\"])[\"female winner\"].mean().sort_values(ascending = False).reset_index()\nfemale_nobel.iloc[0]\n\nmax_female_dict = {female_nobel.iloc[0, 0] : female_nobel.iloc[0, 1]}\nmax_female_dict",
    "outputsMetadata": {
     "0": {
      "height": 525,
      "type": "dataFrame"
     }
    }
   },
   "outputs": [
    {
     "data": {
      "text/plain": [
       "{2020: 'Literature'}"
      ]
     },
     "execution_count": 281,
     "metadata": {},
     "output_type": "execute_result"
    }
   ],
   "source": [
    "nobel[\"female winner\"] = nobel[\"sex\"] == \"Female\"\n",
    "female_nobel = nobel.groupby([\"decades\", \"category\"])[\"female winner\"].mean().sort_values(ascending = False).reset_index()\n",
    "female_nobel.iloc[0]\n",
    "\n",
    "max_female_dict = {female_nobel.iloc[0, 0] : female_nobel.iloc[0, 1]}\n",
    "max_female_dict"
   ]
  },
  {
   "cell_type": "code",
   "execution_count": null,
   "id": "010a3174-d695-46f1-9bad-e0f90a8e652f",
   "metadata": {
    "executionCancelledAt": null,
    "executionTime": 48,
    "lastExecutedAt": 1726240404789,
    "lastExecutedByKernel": "34977d2a-e23a-4610-9820-102e366125a0",
    "lastScheduledRunId": null,
    "lastSuccessfullyExecutedCode": "# The first woman to win a nobel prize and category\n\nwomen_category_nobel = nobel[nobel[\"sex\"] == \"Female\"].sort_values(\"year\")[[\"full_name\", \"category\"]]\n\nfirst_woman_name = women_category_nobel.iloc[0, 0]\nfirst_woman_category = women_category_nobel.iloc[0, 1]\n\nprint(first_woman_name)\nprint(first_woman_category)",
    "outputsMetadata": {
     "0": {
      "height": 59,
      "type": "stream"
     }
    }
   },
   "outputs": [
    {
     "name": "stdout",
     "output_type": "stream",
     "text": [
      "Marie Curie, née Sklodowska\n",
      "Physics\n"
     ]
    }
   ],
   "source": [
    "# The first woman to win a nobel prize and category\n",
    "\n",
    "women_category_nobel = nobel[nobel[\"sex\"] == \"Female\"].sort_values(\"year\")[[\"full_name\", \"category\"]]\n",
    "\n",
    "first_woman_name = women_category_nobel.iloc[0, 0]\n",
    "first_woman_category = women_category_nobel.iloc[0, 1]\n",
    "\n",
    "print(first_woman_name)\n",
    "print(first_woman_category)"
   ]
  },
  {
   "cell_type": "code",
   "execution_count": null,
   "id": "9fc29fb2-694a-41bf-9c94-f9f464f681cb",
   "metadata": {
    "executionCancelledAt": null,
    "executionTime": 57,
    "lastExecutedAt": 1726240404846,
    "lastExecutedByKernel": "34977d2a-e23a-4610-9820-102e366125a0",
    "lastScheduledRunId": null,
    "lastSuccessfullyExecutedCode": "# Creating a list of names or organisations who won the nobel more than once\n\nrepeat = nobel.groupby(\"full_name\")[\"full_name\"].count().sort_values(ascending = False).reset_index(name = \"count\")\nrepeat_list = repeat[repeat[\"count\"] > 1]\nrepeat_list = list(repeat_list[\"full_name\"])\nrepeat_list",
    "outputsMetadata": {
     "0": {
      "height": 273,
      "type": "dataFrame"
     }
    }
   },
   "outputs": [
    {
     "data": {
      "text/plain": [
       "['Comité international de la Croix Rouge (International Committee of the Red Cross)',\n",
       " 'Office of the United Nations High Commissioner for Refugees (UNHCR)',\n",
       " 'Frederick Sanger',\n",
       " 'Linus Carl Pauling',\n",
       " 'John Bardeen',\n",
       " 'Marie Curie, née Sklodowska']"
      ]
     },
     "execution_count": 283,
     "metadata": {},
     "output_type": "execute_result"
    }
   ],
   "source": [
    "# Creating a list of names or organisations who won the nobel more than once\n",
    "\n",
    "repeat = nobel.groupby(\"full_name\")[\"full_name\"].count().sort_values(ascending = False).reset_index(name = \"count\")\n",
    "repeat_list = repeat[repeat[\"count\"] > 1]\n",
    "repeat_list = list(repeat_list[\"full_name\"])\n",
    "repeat_list"
   ]
  }
 ],
 "metadata": {
  "editor": "DataCamp Workspace",
  "kernelspec": {
   "display_name": "base",
   "language": "python",
   "name": "python3"
  },
  "language_info": {
   "codemirror_mode": {
    "name": "ipython",
    "version": 3
   },
   "file_extension": ".py",
   "mimetype": "text/x-python",
   "name": "python",
   "nbconvert_exporter": "python",
   "pygments_lexer": "ipython3",
   "version": "3.12.4"
  }
 },
 "nbformat": 4,
 "nbformat_minor": 5
}
