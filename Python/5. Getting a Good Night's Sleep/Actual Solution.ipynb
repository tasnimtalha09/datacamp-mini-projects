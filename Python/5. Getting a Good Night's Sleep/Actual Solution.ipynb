{
 "cells": [
  {
   "cell_type": "code",
   "execution_count": 3,
   "metadata": {},
   "outputs": [],
   "source": [
    "# Start coding here\n",
    "# Use as many cells as you need\n",
    "import pandas as pd"
   ]
  },
  {
   "cell_type": "code",
   "execution_count": 4,
   "metadata": {},
   "outputs": [],
   "source": [
    "# Read in the data \n",
    "sleep_df = pd.read_csv('sleep_health_data.csv')"
   ]
  },
  {
   "cell_type": "code",
   "execution_count": 8,
   "metadata": {},
   "outputs": [
    {
     "data": {
      "text/plain": [
       "'Sales Representative'"
      ]
     },
     "execution_count": 8,
     "metadata": {},
     "output_type": "execute_result"
    }
   ],
   "source": [
    "# 1. Which occupation has the lowest average sleep duration? Save this in a string variable called `lowest_sleep_occ`.\n",
    "\n",
    "# Groupby occupation and calculate mean sleep duration \n",
    "sleep_duration = sleep_df.groupby('Occupation')['Sleep Duration'].mean()\n",
    "# Get occupation with lowest average sleep duration\n",
    "lowest_sleep_occ = sleep_duration.sort_values().index[0]\n",
    "\n",
    "lowest_sleep_occ"
   ]
  },
  {
   "cell_type": "code",
   "execution_count": 9,
   "metadata": {},
   "outputs": [
    {
     "name": "stdout",
     "output_type": "stream",
     "text": [
      "Sales Representative\n",
      "True\n"
     ]
    }
   ],
   "source": [
    "# 2. Which occupation had the lowest quality of on average? Did the occupation with the lowest sleep duration also have the worst sleep quality?\n",
    "\n",
    "# Groupby occupation and calculate average sleep quality\n",
    "sleep_quality = sleep_df.groupby('Occupation')['Quality of Sleep'].mean()  \n",
    "# Get occupation with lowest average sleep quality \n",
    "lowest_sleep_quality_occ = sleep_quality.sort_values().index[0]\n",
    "\n",
    "# Compare occupation with the least sleep to occupation with the lowest sleep quality\n",
    "if lowest_sleep_occ == lowest_sleep_quality_occ:\n",
    "  same_occ = True\n",
    "else:\n",
    "  same_occ = False\n",
    "\n",
    "print(lowest_sleep_quality_occ)\n",
    "print(same_occ)"
   ]
  },
  {
   "cell_type": "code",
   "execution_count": 10,
   "metadata": {},
   "outputs": [
    {
     "data": {
      "text/plain": [
       "{'Normal': 0.04, 'Overweight': 0.43, 'Obese': 0.4}"
      ]
     },
     "execution_count": 10,
     "metadata": {},
     "output_type": "execute_result"
    }
   ],
   "source": [
    "# 3. Let's explore how BMI Category can affect sleep disorder rates. Start by finding what ratio of app users in each BMI category have been diagnosed with Insomnia.\n",
    "\n",
    "# Normal\n",
    "# Filter the full dataframe to only rows where BMI Category is Normal and Sleep Disorder is Insomnia.\n",
    "normal = sleep_df[(sleep_df[\"BMI Category\"] == \"Normal\") &  \n",
    "                  (sleep_df[\"Sleep Disorder\"] == \"Insomnia\")]\n",
    "normal2 = sleep_df[(sleep_df[\"BMI Category\"] == \"Normal Weight\") &  \n",
    "                  (sleep_df[\"Sleep Disorder\"] == \"Insomnia\")]\n",
    "# Total normal rows               \n",
    "total_normal = len(sleep_df[sleep_df[\"BMI Category\"] == \"Normal\"])  \n",
    "# Calculate normal insomnia ratio               \n",
    "normal_insomnia_ratio = round(len(normal) / total_normal, 2) \n",
    "\n",
    "\n",
    "# Overweight\n",
    "# Filter the full dataframe to only rows where BMI Category is Overweight and Sleep Disorder is Insomnia.\n",
    "overweight = sleep_df[(sleep_df[\"BMI Category\"] == \"Overweight\") &   \n",
    "                      (sleep_df[\"Sleep Disorder\"] == \"Insomnia\")]  \n",
    "# Total overweight rows\n",
    "total_overweight = len(sleep_df[sleep_df[\"BMI Category\"] == \"Overweight\"])  \n",
    "# Calculate overweight insomnia ratio \n",
    "overweight_insomnia_ratio = round(len(overweight) / total_overweight, 2)\n",
    "\n",
    "\n",
    "# Obese\n",
    "# Filter the full dataframe to only rows where BMI Category is Obese and Sleep Disorder is Insomnia.\n",
    "obese = sleep_df[(sleep_df[\"BMI Category\"] == \"Obese\") &  \n",
    "                  (sleep_df[\"Sleep Disorder\"] == \"Insomnia\")]\n",
    "# Total obese rows          \n",
    "total_obese = len(sleep_df[sleep_df[\"BMI Category\"] == \"Obese\"])  \n",
    "# Calculate obese insomnia ratio\n",
    "obese_insomnia_ratio = round(len(obese) / total_obese, 2)\n",
    "\n",
    "\n",
    "# Create dictionary to store the ratios for each BMI category \n",
    "bmi_insomnia_ratios = {\n",
    "    \"Normal\": normal_insomnia_ratio,  \n",
    "    \"Overweight\": overweight_insomnia_ratio,\n",
    "    \"Obese\": obese_insomnia_ratio \n",
    "}\n",
    "\n",
    "bmi_insomnia_ratios"
   ]
  }
 ],
 "metadata": {
  "kernelspec": {
   "display_name": "Python 3",
   "language": "python",
   "name": "python3"
  },
  "language_info": {
   "codemirror_mode": {
    "name": "ipython",
    "version": 3
   },
   "file_extension": ".py",
   "mimetype": "text/x-python",
   "name": "python",
   "nbconvert_exporter": "python",
   "pygments_lexer": "ipython3",
   "version": "3.12.4"
  }
 },
 "nbformat": 4,
 "nbformat_minor": 2
}
