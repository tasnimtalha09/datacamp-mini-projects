{
 "cells": [
  {
   "cell_type": "markdown",
   "id": "fe7ecb8d-ad0b-40c0-b404-8b4c339d1c8b",
   "metadata": {},
   "source": [
    "![insomnia](insomnia.jpg)\n"
   ]
  },
  {
   "cell_type": "markdown",
   "id": "04929432-e076-40ef-b2a7-8e67dc7ba1a3",
   "metadata": {},
   "source": [
    "Your client, SleepInc, has shared anonymized sleep data from their hot new sleep tracking app SleepScope. As their data science consultant, your mission is to analyze the lifestyle survey data with Python to discover relationships between exercise, gender, occupation, and sleep quality. See if you can identify patterns leading to insights on sleep quality.\n",
    "\n",
    "## 💾 The data: sleep_health_data.csv\n",
    "\n",
    "SleepInc has provided you with an anonymized dataset of sleep and lifestyle metrics for 374 individuals. This dataset contains average values for each person calculated over the past six months. The data is saved as `sleep_health_data.csv`.\n",
    "\n",
    "The dataset includes 13 columns covering sleep duration, quality, disorders, exercise, stress, diet, demographics, and other factors related to sleep health. \n",
    "\n",
    "| Column | Description |\n",
    "|---------|----------------------------------------|  \n",
    "| `Person ID` | An identifier for each individual. |\n",
    "| `Gender` | The gender of the person (Male/Female). |  \n",
    "| `Age` | The age of the person in years. |\n",
    "| `Occupation` | The occupation or profession of the person. |\n",
    "| `Sleep Duration (hours)` | The average number of hours the person sleeps per day. |\n",
    "| `Quality of Sleep (scale: 1-10)` | A subjective rating of the quality of sleep, ranging from 1 to 10. |\n",
    "| `Physical Activity Level (minutes/day)` | The average number of minutes the person engages in physical activity daily. |  \n",
    "| `Stress Level (scale: 1-10)` | A subjective rating of the stress level experienced by the person, ranging from 1 to 10. |\n",
    "| `BMI Category` | The BMI category of the person (e.g., Underweight, Normal, Overweight). |\n",
    "| `Blood Pressure (systolic/diastolic)` | The average blood pressure measurement of the person, indicated as systolic pressure over diastolic pressure. |\n",
    "| `Heart Rate (bpm)` | The average resting heart rate of the person in beats per minute. |\n",
    "| `Daily Steps` | The average number of steps the person takes per day. |\n",
    "| `Sleep Disorder` | The presence or absence of a sleep disorder in the person (None, Insomnia, Sleep Apnea). |"
   ]
  },
  {
   "cell_type": "code",
   "execution_count": 15,
   "id": "a622f61f-54d5-468a-83b6-41f0ff404278",
   "metadata": {
    "executionCancelledAt": null,
    "executionTime": 9,
    "lastExecutedAt": 1723615270287,
    "lastExecutedByKernel": "f4e42e68-30c3-4fae-add5-a9dae2013abf",
    "lastScheduledRunId": null,
    "lastSuccessfullyExecutedCode": "# Start coding here\n# Use as many cells as you need\nimport pandas as pd"
   },
   "outputs": [],
   "source": [
    "# Start coding here\n",
    "# Use as many cells as you need\n",
    "import pandas as pd"
   ]
  },
  {
   "cell_type": "code",
   "execution_count": 16,
   "id": "cc54c59d-91c0-4398-bc65-8334b4531239",
   "metadata": {
    "executionCancelledAt": null,
    "executionTime": 50,
    "lastExecutedAt": 1723615270337,
    "lastExecutedByKernel": "f4e42e68-30c3-4fae-add5-a9dae2013abf",
    "lastScheduledRunId": null,
    "lastSuccessfullyExecutedCode": "dataset = pd.read_csv(\"sleep_health_data.csv\")\ndataset.head()",
    "outputsMetadata": {
     "0": {
      "height": 196,
      "type": "dataFrame"
     }
    }
   },
   "outputs": [
    {
     "data": {
      "application/vnd.microsoft.datawrangler.viewer.v0+json": {
       "columns": [
        {
         "name": "index",
         "rawType": "int64",
         "type": "integer"
        },
        {
         "name": "Person ID",
         "rawType": "int64",
         "type": "integer"
        },
        {
         "name": "Gender",
         "rawType": "object",
         "type": "string"
        },
        {
         "name": "Age",
         "rawType": "int64",
         "type": "integer"
        },
        {
         "name": "Occupation",
         "rawType": "object",
         "type": "string"
        },
        {
         "name": "Sleep Duration",
         "rawType": "float64",
         "type": "float"
        },
        {
         "name": "Quality of Sleep",
         "rawType": "int64",
         "type": "integer"
        },
        {
         "name": "Physical Activity Level",
         "rawType": "int64",
         "type": "integer"
        },
        {
         "name": "Stress Level",
         "rawType": "int64",
         "type": "integer"
        },
        {
         "name": "BMI Category",
         "rawType": "object",
         "type": "string"
        },
        {
         "name": "Blood Pressure",
         "rawType": "object",
         "type": "string"
        },
        {
         "name": "Heart Rate",
         "rawType": "int64",
         "type": "integer"
        },
        {
         "name": "Daily Steps",
         "rawType": "int64",
         "type": "integer"
        },
        {
         "name": "Sleep Disorder",
         "rawType": "object",
         "type": "unknown"
        }
       ],
       "conversionMethod": "pd.DataFrame",
       "ref": "f5d12841-dddd-46ae-b6e4-f207ccdb446d",
       "rows": [
        [
         "0",
         "1",
         "Male",
         "27",
         "Software Engineer",
         "6.1",
         "6",
         "42",
         "6",
         "Overweight",
         "126/83",
         "77",
         "4200",
         null
        ],
        [
         "1",
         "2",
         "Male",
         "28",
         "Doctor",
         "6.2",
         "6",
         "60",
         "8",
         "Normal",
         "125/80",
         "75",
         "10000",
         null
        ],
        [
         "2",
         "3",
         "Male",
         "28",
         "Doctor",
         "6.2",
         "6",
         "60",
         "8",
         "Normal",
         "125/80",
         "75",
         "10000",
         null
        ],
        [
         "3",
         "4",
         "Male",
         "28",
         "Sales Representative",
         "5.9",
         "4",
         "30",
         "8",
         "Obese",
         "140/90",
         "85",
         "3000",
         "Sleep Apnea"
        ],
        [
         "4",
         "5",
         "Male",
         "28",
         "Sales Representative",
         "5.9",
         "4",
         "30",
         "8",
         "Obese",
         "140/90",
         "85",
         "3000",
         "Sleep Apnea"
        ]
       ],
       "shape": {
        "columns": 13,
        "rows": 5
       }
      },
      "text/html": [
       "<div>\n",
       "<style scoped>\n",
       "    .dataframe tbody tr th:only-of-type {\n",
       "        vertical-align: middle;\n",
       "    }\n",
       "\n",
       "    .dataframe tbody tr th {\n",
       "        vertical-align: top;\n",
       "    }\n",
       "\n",
       "    .dataframe thead th {\n",
       "        text-align: right;\n",
       "    }\n",
       "</style>\n",
       "<table border=\"1\" class=\"dataframe\">\n",
       "  <thead>\n",
       "    <tr style=\"text-align: right;\">\n",
       "      <th></th>\n",
       "      <th>Person ID</th>\n",
       "      <th>Gender</th>\n",
       "      <th>Age</th>\n",
       "      <th>Occupation</th>\n",
       "      <th>Sleep Duration</th>\n",
       "      <th>Quality of Sleep</th>\n",
       "      <th>Physical Activity Level</th>\n",
       "      <th>Stress Level</th>\n",
       "      <th>BMI Category</th>\n",
       "      <th>Blood Pressure</th>\n",
       "      <th>Heart Rate</th>\n",
       "      <th>Daily Steps</th>\n",
       "      <th>Sleep Disorder</th>\n",
       "    </tr>\n",
       "  </thead>\n",
       "  <tbody>\n",
       "    <tr>\n",
       "      <th>0</th>\n",
       "      <td>1</td>\n",
       "      <td>Male</td>\n",
       "      <td>27</td>\n",
       "      <td>Software Engineer</td>\n",
       "      <td>6.1</td>\n",
       "      <td>6</td>\n",
       "      <td>42</td>\n",
       "      <td>6</td>\n",
       "      <td>Overweight</td>\n",
       "      <td>126/83</td>\n",
       "      <td>77</td>\n",
       "      <td>4200</td>\n",
       "      <td>NaN</td>\n",
       "    </tr>\n",
       "    <tr>\n",
       "      <th>1</th>\n",
       "      <td>2</td>\n",
       "      <td>Male</td>\n",
       "      <td>28</td>\n",
       "      <td>Doctor</td>\n",
       "      <td>6.2</td>\n",
       "      <td>6</td>\n",
       "      <td>60</td>\n",
       "      <td>8</td>\n",
       "      <td>Normal</td>\n",
       "      <td>125/80</td>\n",
       "      <td>75</td>\n",
       "      <td>10000</td>\n",
       "      <td>NaN</td>\n",
       "    </tr>\n",
       "    <tr>\n",
       "      <th>2</th>\n",
       "      <td>3</td>\n",
       "      <td>Male</td>\n",
       "      <td>28</td>\n",
       "      <td>Doctor</td>\n",
       "      <td>6.2</td>\n",
       "      <td>6</td>\n",
       "      <td>60</td>\n",
       "      <td>8</td>\n",
       "      <td>Normal</td>\n",
       "      <td>125/80</td>\n",
       "      <td>75</td>\n",
       "      <td>10000</td>\n",
       "      <td>NaN</td>\n",
       "    </tr>\n",
       "    <tr>\n",
       "      <th>3</th>\n",
       "      <td>4</td>\n",
       "      <td>Male</td>\n",
       "      <td>28</td>\n",
       "      <td>Sales Representative</td>\n",
       "      <td>5.9</td>\n",
       "      <td>4</td>\n",
       "      <td>30</td>\n",
       "      <td>8</td>\n",
       "      <td>Obese</td>\n",
       "      <td>140/90</td>\n",
       "      <td>85</td>\n",
       "      <td>3000</td>\n",
       "      <td>Sleep Apnea</td>\n",
       "    </tr>\n",
       "    <tr>\n",
       "      <th>4</th>\n",
       "      <td>5</td>\n",
       "      <td>Male</td>\n",
       "      <td>28</td>\n",
       "      <td>Sales Representative</td>\n",
       "      <td>5.9</td>\n",
       "      <td>4</td>\n",
       "      <td>30</td>\n",
       "      <td>8</td>\n",
       "      <td>Obese</td>\n",
       "      <td>140/90</td>\n",
       "      <td>85</td>\n",
       "      <td>3000</td>\n",
       "      <td>Sleep Apnea</td>\n",
       "    </tr>\n",
       "  </tbody>\n",
       "</table>\n",
       "</div>"
      ],
      "text/plain": [
       "   Person ID Gender  Age            Occupation  Sleep Duration  \\\n",
       "0          1   Male   27     Software Engineer             6.1   \n",
       "1          2   Male   28                Doctor             6.2   \n",
       "2          3   Male   28                Doctor             6.2   \n",
       "3          4   Male   28  Sales Representative             5.9   \n",
       "4          5   Male   28  Sales Representative             5.9   \n",
       "\n",
       "   Quality of Sleep  Physical Activity Level  Stress Level BMI Category  \\\n",
       "0                 6                       42             6   Overweight   \n",
       "1                 6                       60             8       Normal   \n",
       "2                 6                       60             8       Normal   \n",
       "3                 4                       30             8        Obese   \n",
       "4                 4                       30             8        Obese   \n",
       "\n",
       "  Blood Pressure  Heart Rate  Daily Steps Sleep Disorder  \n",
       "0         126/83          77         4200            NaN  \n",
       "1         125/80          75        10000            NaN  \n",
       "2         125/80          75        10000            NaN  \n",
       "3         140/90          85         3000    Sleep Apnea  \n",
       "4         140/90          85         3000    Sleep Apnea  "
      ]
     },
     "execution_count": 16,
     "metadata": {},
     "output_type": "execute_result"
    }
   ],
   "source": [
    "dataset = pd.read_csv(\"sleep_health_data.csv\")\n",
    "dataset.head()"
   ]
  },
  {
   "cell_type": "code",
   "execution_count": 17,
   "id": "e38bc699-6442-4157-8350-211d91181ab0",
   "metadata": {
    "executionCancelledAt": null,
    "executionTime": 49,
    "lastExecutedAt": 1723615270386,
    "lastExecutedByKernel": "f4e42e68-30c3-4fae-add5-a9dae2013abf",
    "lastScheduledRunId": null,
    "lastSuccessfullyExecutedCode": "dataset.columns"
   },
   "outputs": [
    {
     "data": {
      "text/plain": [
       "['Person ID',\n",
       " 'Gender',\n",
       " 'Age',\n",
       " 'Occupation',\n",
       " 'Sleep Duration',\n",
       " 'Quality of Sleep',\n",
       " 'Physical Activity Level',\n",
       " 'Stress Level',\n",
       " 'BMI Category',\n",
       " 'Blood Pressure',\n",
       " 'Heart Rate',\n",
       " 'Daily Steps',\n",
       " 'Sleep Disorder']"
      ]
     },
     "execution_count": 17,
     "metadata": {},
     "output_type": "execute_result"
    }
   ],
   "source": [
    "list(dataset.columns)"
   ]
  },
  {
   "cell_type": "code",
   "execution_count": null,
   "id": "0ba24207-07af-40e3-9be2-b15e5f2aaa6d",
   "metadata": {
    "executionCancelledAt": null,
    "executionTime": 51,
    "lastExecutedAt": 1723615270437,
    "lastExecutedByKernel": "f4e42e68-30c3-4fae-add5-a9dae2013abf",
    "lastScheduledRunId": null,
    "lastSuccessfullyExecutedCode": "lowest_sleep = dataset.groupby(\"Occupation\")[\"Sleep Duration\"].mean().sort_values(ascending = False).reset_index()\nlowest_occ = lowest_sleep.loc[lowest_sleep[\"Sleep Duration\"].idxmin()]\nlowest_sleep_occ = lowest_occ[\"Occupation\"]\nlowest_sleep_occ",
    "outputsMetadata": {
     "0": {
      "height": 321,
      "type": "dataFrame"
     }
    }
   },
   "outputs": [
    {
     "data": {
      "text/plain": [
       "'Sales Representative'"
      ]
     },
     "execution_count": 4,
     "metadata": {},
     "output_type": "execute_result"
    }
   ],
   "source": [
    "lowest_sleep = dataset.groupby(\"Occupation\")[\"Sleep Duration\"].mean().sort_values(ascending = False).reset_index()\n",
    "# dataset.groupby(\"Occupation\").agg({\"Sleep Duration\" : \"mean\"}).sort_values(\"Sleep Duration\", ascending = False).reset_index()\n",
    "lowest_occ = lowest_sleep.loc[lowest_sleep[\"Sleep Duration\"].idxmin()]\n",
    "lowest_sleep_occ = lowest_occ[\"Occupation\"]\n",
    "lowest_sleep_occ"
   ]
  },
  {
   "cell_type": "code",
   "execution_count": 5,
   "id": "fb606f9a-176f-4ec8-8fa1-cce4d5d1d55f",
   "metadata": {
    "executionCancelledAt": null,
    "executionTime": 48,
    "lastExecutedAt": 1723615270485,
    "lastExecutedByKernel": "f4e42e68-30c3-4fae-add5-a9dae2013abf",
    "lastScheduledRunId": null,
    "lastSuccessfullyExecutedCode": "lowest_sleep_quality = dataset.groupby(\"Occupation\")[\"Quality of Sleep\"].mean().sort_values(ascending = False).reset_index()\nlowest_occ_quality = lowest_sleep_quality.loc[lowest_sleep_quality[\"Quality of Sleep\"].idxmin()]\nlowest_sleep_quality_occ = lowest_occ_quality[\"Occupation\"]\nlowest_sleep_quality_occ"
   },
   "outputs": [
    {
     "data": {
      "text/plain": [
       "'Sales Representative'"
      ]
     },
     "execution_count": 5,
     "metadata": {},
     "output_type": "execute_result"
    }
   ],
   "source": [
    "lowest_sleep_quality = dataset.groupby(\"Occupation\")[\"Quality of Sleep\"].mean().sort_values(ascending = False).reset_index()\n",
    "lowest_occ_quality = lowest_sleep_quality.loc[lowest_sleep_quality[\"Quality of Sleep\"].idxmin()]\n",
    "lowest_sleep_quality_occ = lowest_occ_quality[\"Occupation\"]\n",
    "lowest_sleep_quality_occ"
   ]
  },
  {
   "cell_type": "code",
   "execution_count": 6,
   "id": "94110b96-9a98-4ac4-9e3a-5d5ecdcf22ac",
   "metadata": {
    "executionCancelledAt": null,
    "executionTime": 48,
    "lastExecutedAt": 1723615270533,
    "lastExecutedByKernel": "f4e42e68-30c3-4fae-add5-a9dae2013abf",
    "lastScheduledRunId": null,
    "lastSuccessfullyExecutedCode": "same_occ = (lowest_sleep_occ == lowest_sleep_occ_quality)\nprint(same_occ)",
    "outputsMetadata": {
     "0": {
      "height": 38,
      "type": "stream"
     }
    }
   },
   "outputs": [
    {
     "name": "stdout",
     "output_type": "stream",
     "text": [
      "True\n"
     ]
    }
   ],
   "source": [
    "same_occ = (lowest_sleep_occ == lowest_sleep_quality_occ)\n",
    "print(same_occ)"
   ]
  },
  {
   "cell_type": "code",
   "execution_count": 28,
   "id": "c8e36d2d-71b8-48d4-8f5d-c7876a21f1ea",
   "metadata": {
    "executionCancelledAt": null,
    "executionTime": 48,
    "lastExecutedAt": 1723615270581,
    "lastExecutedByKernel": "f4e42e68-30c3-4fae-add5-a9dae2013abf",
    "lastScheduledRunId": null,
    "lastSuccessfullyExecutedCode": "dataset.head(20)",
    "outputsMetadata": {
     "0": {
      "height": 321,
      "type": "dataFrame"
     }
    }
   },
   "outputs": [
    {
     "data": {
      "application/vnd.microsoft.datawrangler.viewer.v0+json": {
       "columns": [
        {
         "name": "index",
         "rawType": "int64",
         "type": "integer"
        },
        {
         "name": "Person ID",
         "rawType": "int64",
         "type": "integer"
        },
        {
         "name": "Gender",
         "rawType": "object",
         "type": "string"
        },
        {
         "name": "Age",
         "rawType": "int64",
         "type": "integer"
        },
        {
         "name": "Occupation",
         "rawType": "object",
         "type": "string"
        },
        {
         "name": "Sleep Duration",
         "rawType": "float64",
         "type": "float"
        },
        {
         "name": "Quality of Sleep",
         "rawType": "int64",
         "type": "integer"
        },
        {
         "name": "Physical Activity Level",
         "rawType": "int64",
         "type": "integer"
        },
        {
         "name": "Stress Level",
         "rawType": "int64",
         "type": "integer"
        },
        {
         "name": "BMI Category",
         "rawType": "object",
         "type": "string"
        },
        {
         "name": "Blood Pressure",
         "rawType": "object",
         "type": "string"
        },
        {
         "name": "Heart Rate",
         "rawType": "int64",
         "type": "integer"
        },
        {
         "name": "Daily Steps",
         "rawType": "int64",
         "type": "integer"
        },
        {
         "name": "Sleep Disorder",
         "rawType": "object",
         "type": "unknown"
        }
       ],
       "conversionMethod": "pd.DataFrame",
       "ref": "188a2580-70a0-4303-96b5-fc4113ed4f65",
       "rows": [
        [
         "0",
         "1",
         "Male",
         "27",
         "Software Engineer",
         "6.1",
         "6",
         "42",
         "6",
         "Overweight",
         "126/83",
         "77",
         "4200",
         null
        ],
        [
         "1",
         "2",
         "Male",
         "28",
         "Doctor",
         "6.2",
         "6",
         "60",
         "8",
         "Normal",
         "125/80",
         "75",
         "10000",
         null
        ],
        [
         "2",
         "3",
         "Male",
         "28",
         "Doctor",
         "6.2",
         "6",
         "60",
         "8",
         "Normal",
         "125/80",
         "75",
         "10000",
         null
        ],
        [
         "3",
         "4",
         "Male",
         "28",
         "Sales Representative",
         "5.9",
         "4",
         "30",
         "8",
         "Obese",
         "140/90",
         "85",
         "3000",
         "Sleep Apnea"
        ],
        [
         "4",
         "5",
         "Male",
         "28",
         "Sales Representative",
         "5.9",
         "4",
         "30",
         "8",
         "Obese",
         "140/90",
         "85",
         "3000",
         "Sleep Apnea"
        ]
       ],
       "shape": {
        "columns": 13,
        "rows": 5
       }
      },
      "text/html": [
       "<div>\n",
       "<style scoped>\n",
       "    .dataframe tbody tr th:only-of-type {\n",
       "        vertical-align: middle;\n",
       "    }\n",
       "\n",
       "    .dataframe tbody tr th {\n",
       "        vertical-align: top;\n",
       "    }\n",
       "\n",
       "    .dataframe thead th {\n",
       "        text-align: right;\n",
       "    }\n",
       "</style>\n",
       "<table border=\"1\" class=\"dataframe\">\n",
       "  <thead>\n",
       "    <tr style=\"text-align: right;\">\n",
       "      <th></th>\n",
       "      <th>Person ID</th>\n",
       "      <th>Gender</th>\n",
       "      <th>Age</th>\n",
       "      <th>Occupation</th>\n",
       "      <th>Sleep Duration</th>\n",
       "      <th>Quality of Sleep</th>\n",
       "      <th>Physical Activity Level</th>\n",
       "      <th>Stress Level</th>\n",
       "      <th>BMI Category</th>\n",
       "      <th>Blood Pressure</th>\n",
       "      <th>Heart Rate</th>\n",
       "      <th>Daily Steps</th>\n",
       "      <th>Sleep Disorder</th>\n",
       "    </tr>\n",
       "  </thead>\n",
       "  <tbody>\n",
       "    <tr>\n",
       "      <th>0</th>\n",
       "      <td>1</td>\n",
       "      <td>Male</td>\n",
       "      <td>27</td>\n",
       "      <td>Software Engineer</td>\n",
       "      <td>6.1</td>\n",
       "      <td>6</td>\n",
       "      <td>42</td>\n",
       "      <td>6</td>\n",
       "      <td>Overweight</td>\n",
       "      <td>126/83</td>\n",
       "      <td>77</td>\n",
       "      <td>4200</td>\n",
       "      <td>NaN</td>\n",
       "    </tr>\n",
       "    <tr>\n",
       "      <th>1</th>\n",
       "      <td>2</td>\n",
       "      <td>Male</td>\n",
       "      <td>28</td>\n",
       "      <td>Doctor</td>\n",
       "      <td>6.2</td>\n",
       "      <td>6</td>\n",
       "      <td>60</td>\n",
       "      <td>8</td>\n",
       "      <td>Normal</td>\n",
       "      <td>125/80</td>\n",
       "      <td>75</td>\n",
       "      <td>10000</td>\n",
       "      <td>NaN</td>\n",
       "    </tr>\n",
       "    <tr>\n",
       "      <th>2</th>\n",
       "      <td>3</td>\n",
       "      <td>Male</td>\n",
       "      <td>28</td>\n",
       "      <td>Doctor</td>\n",
       "      <td>6.2</td>\n",
       "      <td>6</td>\n",
       "      <td>60</td>\n",
       "      <td>8</td>\n",
       "      <td>Normal</td>\n",
       "      <td>125/80</td>\n",
       "      <td>75</td>\n",
       "      <td>10000</td>\n",
       "      <td>NaN</td>\n",
       "    </tr>\n",
       "    <tr>\n",
       "      <th>3</th>\n",
       "      <td>4</td>\n",
       "      <td>Male</td>\n",
       "      <td>28</td>\n",
       "      <td>Sales Representative</td>\n",
       "      <td>5.9</td>\n",
       "      <td>4</td>\n",
       "      <td>30</td>\n",
       "      <td>8</td>\n",
       "      <td>Obese</td>\n",
       "      <td>140/90</td>\n",
       "      <td>85</td>\n",
       "      <td>3000</td>\n",
       "      <td>Sleep Apnea</td>\n",
       "    </tr>\n",
       "    <tr>\n",
       "      <th>4</th>\n",
       "      <td>5</td>\n",
       "      <td>Male</td>\n",
       "      <td>28</td>\n",
       "      <td>Sales Representative</td>\n",
       "      <td>5.9</td>\n",
       "      <td>4</td>\n",
       "      <td>30</td>\n",
       "      <td>8</td>\n",
       "      <td>Obese</td>\n",
       "      <td>140/90</td>\n",
       "      <td>85</td>\n",
       "      <td>3000</td>\n",
       "      <td>Sleep Apnea</td>\n",
       "    </tr>\n",
       "  </tbody>\n",
       "</table>\n",
       "</div>"
      ],
      "text/plain": [
       "   Person ID Gender  Age            Occupation  Sleep Duration  \\\n",
       "0          1   Male   27     Software Engineer             6.1   \n",
       "1          2   Male   28                Doctor             6.2   \n",
       "2          3   Male   28                Doctor             6.2   \n",
       "3          4   Male   28  Sales Representative             5.9   \n",
       "4          5   Male   28  Sales Representative             5.9   \n",
       "\n",
       "   Quality of Sleep  Physical Activity Level  Stress Level BMI Category  \\\n",
       "0                 6                       42             6   Overweight   \n",
       "1                 6                       60             8       Normal   \n",
       "2                 6                       60             8       Normal   \n",
       "3                 4                       30             8        Obese   \n",
       "4                 4                       30             8        Obese   \n",
       "\n",
       "  Blood Pressure  Heart Rate  Daily Steps Sleep Disorder  \n",
       "0         126/83          77         4200            NaN  \n",
       "1         125/80          75        10000            NaN  \n",
       "2         125/80          75        10000            NaN  \n",
       "3         140/90          85         3000    Sleep Apnea  \n",
       "4         140/90          85         3000    Sleep Apnea  "
      ]
     },
     "execution_count": 28,
     "metadata": {},
     "output_type": "execute_result"
    }
   ],
   "source": [
    "dataset.head()"
   ]
  },
  {
   "cell_type": "code",
   "execution_count": 8,
   "id": "3ab6bf27-4ab1-4d48-a68d-e658a222135a",
   "metadata": {
    "executionCancelledAt": null,
    "executionTime": 60,
    "lastExecutedAt": 1723615270641,
    "lastExecutedByKernel": "f4e42e68-30c3-4fae-add5-a9dae2013abf",
    "lastScheduledRunId": null,
    "lastSuccessfullyExecutedCode": "dataset_modified = dataset[[\"BMI Category\", \"Sleep Disorder\"]]\ndataset_modified",
    "outputsMetadata": {
     "0": {
      "height": 321,
      "type": "dataFrame"
     }
    }
   },
   "outputs": [
    {
     "data": {
      "application/vnd.microsoft.datawrangler.viewer.v0+json": {
       "columns": [
        {
         "name": "index",
         "rawType": "int64",
         "type": "integer"
        },
        {
         "name": "BMI Category",
         "rawType": "object",
         "type": "string"
        },
        {
         "name": "Sleep Disorder",
         "rawType": "object",
         "type": "unknown"
        }
       ],
       "conversionMethod": "pd.DataFrame",
       "ref": "846b6fdb-02fe-49ef-b183-cae68f0b46aa",
       "rows": [
        [
         "0",
         "Overweight",
         null
        ],
        [
         "1",
         "Normal",
         null
        ],
        [
         "2",
         "Normal",
         null
        ],
        [
         "3",
         "Obese",
         "Sleep Apnea"
        ],
        [
         "4",
         "Obese",
         "Sleep Apnea"
        ],
        [
         "5",
         "Obese",
         "Insomnia"
        ],
        [
         "6",
         "Obese",
         "Insomnia"
        ],
        [
         "7",
         "Normal",
         null
        ],
        [
         "8",
         "Normal",
         null
        ],
        [
         "9",
         "Normal",
         null
        ],
        [
         "10",
         "Normal",
         null
        ],
        [
         "11",
         "Normal",
         null
        ],
        [
         "12",
         "Normal",
         null
        ],
        [
         "13",
         "Normal",
         null
        ],
        [
         "14",
         "Normal",
         null
        ],
        [
         "15",
         "Normal",
         null
        ],
        [
         "16",
         "Normal",
         "Sleep Apnea"
        ],
        [
         "17",
         "Normal",
         "Sleep Apnea"
        ],
        [
         "18",
         "Normal",
         "Insomnia"
        ],
        [
         "19",
         "Normal",
         null
        ],
        [
         "20",
         "Normal",
         null
        ],
        [
         "21",
         "Normal",
         null
        ],
        [
         "22",
         "Normal",
         null
        ],
        [
         "23",
         "Normal",
         null
        ],
        [
         "24",
         "Normal",
         null
        ],
        [
         "25",
         "Normal",
         null
        ],
        [
         "26",
         "Normal",
         null
        ],
        [
         "27",
         "Normal",
         null
        ],
        [
         "28",
         "Normal",
         null
        ],
        [
         "29",
         "Normal",
         null
        ],
        [
         "30",
         "Normal",
         "Sleep Apnea"
        ],
        [
         "31",
         "Normal",
         "Insomnia"
        ],
        [
         "32",
         "Normal",
         null
        ],
        [
         "33",
         "Normal",
         null
        ],
        [
         "34",
         "Normal",
         null
        ],
        [
         "35",
         "Normal",
         null
        ],
        [
         "36",
         "Normal",
         null
        ],
        [
         "37",
         "Normal",
         null
        ],
        [
         "38",
         "Normal",
         null
        ],
        [
         "39",
         "Normal",
         null
        ],
        [
         "40",
         "Normal",
         null
        ],
        [
         "41",
         "Normal",
         null
        ],
        [
         "42",
         "Normal",
         null
        ],
        [
         "43",
         "Normal",
         null
        ],
        [
         "44",
         "Normal",
         null
        ],
        [
         "45",
         "Normal",
         null
        ],
        [
         "46",
         "Normal",
         null
        ],
        [
         "47",
         "Normal",
         null
        ],
        [
         "48",
         "Normal",
         null
        ],
        [
         "49",
         "Normal",
         "Sleep Apnea"
        ]
       ],
       "shape": {
        "columns": 2,
        "rows": 374
       }
      },
      "text/html": [
       "<div>\n",
       "<style scoped>\n",
       "    .dataframe tbody tr th:only-of-type {\n",
       "        vertical-align: middle;\n",
       "    }\n",
       "\n",
       "    .dataframe tbody tr th {\n",
       "        vertical-align: top;\n",
       "    }\n",
       "\n",
       "    .dataframe thead th {\n",
       "        text-align: right;\n",
       "    }\n",
       "</style>\n",
       "<table border=\"1\" class=\"dataframe\">\n",
       "  <thead>\n",
       "    <tr style=\"text-align: right;\">\n",
       "      <th></th>\n",
       "      <th>BMI Category</th>\n",
       "      <th>Sleep Disorder</th>\n",
       "    </tr>\n",
       "  </thead>\n",
       "  <tbody>\n",
       "    <tr>\n",
       "      <th>0</th>\n",
       "      <td>Overweight</td>\n",
       "      <td>NaN</td>\n",
       "    </tr>\n",
       "    <tr>\n",
       "      <th>1</th>\n",
       "      <td>Normal</td>\n",
       "      <td>NaN</td>\n",
       "    </tr>\n",
       "    <tr>\n",
       "      <th>2</th>\n",
       "      <td>Normal</td>\n",
       "      <td>NaN</td>\n",
       "    </tr>\n",
       "    <tr>\n",
       "      <th>3</th>\n",
       "      <td>Obese</td>\n",
       "      <td>Sleep Apnea</td>\n",
       "    </tr>\n",
       "    <tr>\n",
       "      <th>4</th>\n",
       "      <td>Obese</td>\n",
       "      <td>Sleep Apnea</td>\n",
       "    </tr>\n",
       "    <tr>\n",
       "      <th>...</th>\n",
       "      <td>...</td>\n",
       "      <td>...</td>\n",
       "    </tr>\n",
       "    <tr>\n",
       "      <th>369</th>\n",
       "      <td>Overweight</td>\n",
       "      <td>Sleep Apnea</td>\n",
       "    </tr>\n",
       "    <tr>\n",
       "      <th>370</th>\n",
       "      <td>Overweight</td>\n",
       "      <td>Sleep Apnea</td>\n",
       "    </tr>\n",
       "    <tr>\n",
       "      <th>371</th>\n",
       "      <td>Overweight</td>\n",
       "      <td>Sleep Apnea</td>\n",
       "    </tr>\n",
       "    <tr>\n",
       "      <th>372</th>\n",
       "      <td>Overweight</td>\n",
       "      <td>Sleep Apnea</td>\n",
       "    </tr>\n",
       "    <tr>\n",
       "      <th>373</th>\n",
       "      <td>Overweight</td>\n",
       "      <td>Sleep Apnea</td>\n",
       "    </tr>\n",
       "  </tbody>\n",
       "</table>\n",
       "<p>374 rows × 2 columns</p>\n",
       "</div>"
      ],
      "text/plain": [
       "    BMI Category Sleep Disorder\n",
       "0     Overweight            NaN\n",
       "1         Normal            NaN\n",
       "2         Normal            NaN\n",
       "3          Obese    Sleep Apnea\n",
       "4          Obese    Sleep Apnea\n",
       "..           ...            ...\n",
       "369   Overweight    Sleep Apnea\n",
       "370   Overweight    Sleep Apnea\n",
       "371   Overweight    Sleep Apnea\n",
       "372   Overweight    Sleep Apnea\n",
       "373   Overweight    Sleep Apnea\n",
       "\n",
       "[374 rows x 2 columns]"
      ]
     },
     "execution_count": 8,
     "metadata": {},
     "output_type": "execute_result"
    }
   ],
   "source": [
    "dataset_modified = dataset[[\"BMI Category\", \"Sleep Disorder\"]]\n",
    "dataset_modified"
   ]
  },
  {
   "cell_type": "code",
   "execution_count": 32,
   "id": "5742b8b1-c6d6-4650-9745-dbc5a12b14db",
   "metadata": {
    "executionCancelledAt": null,
    "executionTime": 53,
    "lastExecutedAt": 1723615270694,
    "lastExecutedByKernel": "f4e42e68-30c3-4fae-add5-a9dae2013abf",
    "lastScheduledRunId": null,
    "lastSuccessfullyExecutedCode": "BMI = dataset_modified.groupby([\"BMI Category\", \"Sleep Disorder\"])[\"Sleep Disorder\"].count()\nBMI"
   },
   "outputs": [
    {
     "data": {
      "application/vnd.microsoft.datawrangler.viewer.v0+json": {
       "columns": [
        {
         "name": "('BMI Category', 'Sleep Disorder')",
         "rawType": "object",
         "type": "unknown"
        },
        {
         "name": "Sleep Disorder",
         "rawType": "int64",
         "type": "integer"
        }
       ],
       "conversionMethod": "pd.DataFrame",
       "ref": "57ad7399-7982-4bc3-9745-df299b55de93",
       "rows": [
        [
         "('Normal', 'Insomnia')",
         "9"
        ],
        [
         "('Normal', 'Sleep Apnea')",
         "7"
        ],
        [
         "('Obese', 'Insomnia')",
         "4"
        ],
        [
         "('Obese', 'Sleep Apnea')",
         "6"
        ],
        [
         "('Overweight', 'Insomnia')",
         "64"
        ],
        [
         "('Overweight', 'Sleep Apnea')",
         "65"
        ]
       ],
       "shape": {
        "columns": 1,
        "rows": 6
       }
      },
      "text/html": [
       "<div>\n",
       "<style scoped>\n",
       "    .dataframe tbody tr th:only-of-type {\n",
       "        vertical-align: middle;\n",
       "    }\n",
       "\n",
       "    .dataframe tbody tr th {\n",
       "        vertical-align: top;\n",
       "    }\n",
       "\n",
       "    .dataframe thead th {\n",
       "        text-align: right;\n",
       "    }\n",
       "</style>\n",
       "<table border=\"1\" class=\"dataframe\">\n",
       "  <thead>\n",
       "    <tr style=\"text-align: right;\">\n",
       "      <th></th>\n",
       "      <th></th>\n",
       "      <th>Sleep Disorder</th>\n",
       "    </tr>\n",
       "    <tr>\n",
       "      <th>BMI Category</th>\n",
       "      <th>Sleep Disorder</th>\n",
       "      <th></th>\n",
       "    </tr>\n",
       "  </thead>\n",
       "  <tbody>\n",
       "    <tr>\n",
       "      <th rowspan=\"2\" valign=\"top\">Normal</th>\n",
       "      <th>Insomnia</th>\n",
       "      <td>9</td>\n",
       "    </tr>\n",
       "    <tr>\n",
       "      <th>Sleep Apnea</th>\n",
       "      <td>7</td>\n",
       "    </tr>\n",
       "    <tr>\n",
       "      <th rowspan=\"2\" valign=\"top\">Obese</th>\n",
       "      <th>Insomnia</th>\n",
       "      <td>4</td>\n",
       "    </tr>\n",
       "    <tr>\n",
       "      <th>Sleep Apnea</th>\n",
       "      <td>6</td>\n",
       "    </tr>\n",
       "    <tr>\n",
       "      <th rowspan=\"2\" valign=\"top\">Overweight</th>\n",
       "      <th>Insomnia</th>\n",
       "      <td>64</td>\n",
       "    </tr>\n",
       "    <tr>\n",
       "      <th>Sleep Apnea</th>\n",
       "      <td>65</td>\n",
       "    </tr>\n",
       "  </tbody>\n",
       "</table>\n",
       "</div>"
      ],
      "text/plain": [
       "                             Sleep Disorder\n",
       "BMI Category Sleep Disorder                \n",
       "Normal       Insomnia                     9\n",
       "             Sleep Apnea                  7\n",
       "Obese        Insomnia                     4\n",
       "             Sleep Apnea                  6\n",
       "Overweight   Insomnia                    64\n",
       "             Sleep Apnea                 65"
      ]
     },
     "execution_count": 32,
     "metadata": {},
     "output_type": "execute_result"
    }
   ],
   "source": [
    "BMI = dataset_modified.groupby([\"BMI Category\", \"Sleep Disorder\"]).agg({\"Sleep Disorder\" : \"count\"})\n",
    "BMI"
   ]
  },
  {
   "cell_type": "code",
   "execution_count": 10,
   "id": "3d3597ea-6161-4205-88fa-9a4a4a26821b",
   "metadata": {
    "executionCancelledAt": null,
    "executionTime": 51,
    "lastExecutedAt": 1723615270745,
    "lastExecutedByKernel": "f4e42e68-30c3-4fae-add5-a9dae2013abf",
    "lastScheduledRunId": null,
    "lastSuccessfullyExecutedCode": "bmi_normal = BMI[\"Normal\"][\"Insomnia\"]\nbmi_obese = BMI[\"Obese\"][\"Insomnia\"]\nbmi_overweight = BMI[\"Overweight\"][\"Insomnia\"]"
   },
   "outputs": [],
   "source": [
    "bmi_normal = BMI[\"Normal\"][\"Insomnia\"]\n",
    "bmi_obese = BMI[\"Obese\"][\"Insomnia\"]\n",
    "bmi_overweight = BMI[\"Overweight\"][\"Insomnia\"]"
   ]
  },
  {
   "cell_type": "code",
   "execution_count": 11,
   "id": "e24a8c95-9ba9-4dfd-9c65-d61e898837a0",
   "metadata": {
    "executionCancelledAt": null,
    "executionTime": 52,
    "lastExecutedAt": 1723615270797,
    "lastExecutedByKernel": "f4e42e68-30c3-4fae-add5-a9dae2013abf",
    "lastScheduledRunId": null,
    "lastSuccessfullyExecutedCode": "normal_ratio = (bmi_normal / len(dataset_modified[dataset_modified[\"BMI Category\"] == \"Normal\"])).round(2)\nobese_ratio = (bmi_obese / len(dataset_modified[dataset_modified[\"BMI Category\"] == \"Obese\"])).round(2)\noverweight_ratio = (bmi_overweight / len(dataset_modified[dataset_modified[\"BMI Category\"] == \"Overweight\"])).round(2)"
   },
   "outputs": [],
   "source": [
    "normal_ratio = (bmi_normal / len(dataset_modified[dataset_modified[\"BMI Category\"] == \"Normal\"])).round(2)\n",
    "obese_ratio = (bmi_obese / len(dataset_modified[dataset_modified[\"BMI Category\"] == \"Obese\"])).round(2)\n",
    "overweight_ratio = (bmi_overweight / len(dataset_modified[dataset_modified[\"BMI Category\"] == \"Overweight\"])).round(2)"
   ]
  },
  {
   "cell_type": "code",
   "execution_count": 12,
   "id": "9ef2234b-d778-4625-90c1-d09c3066344e",
   "metadata": {
    "executionCancelledAt": null,
    "executionTime": 53,
    "lastExecutedAt": 1723615270850,
    "lastExecutedByKernel": "f4e42e68-30c3-4fae-add5-a9dae2013abf",
    "lastScheduledRunId": null,
    "lastSuccessfullyExecutedCode": "bmi_insomnia_ratios = {\"Normal\" : float(normal_ratio),\n                      \"Obese\" : float(obese_ratio),\n                      \"Overweight\" : float(overweight_ratio)}\nbmi_insomnia_ratios"
   },
   "outputs": [
    {
     "data": {
      "text/plain": [
       "{'Normal': 0.04, 'Obese': 0.4, 'Overweight': 0.43}"
      ]
     },
     "execution_count": 12,
     "metadata": {},
     "output_type": "execute_result"
    }
   ],
   "source": [
    "bmi_insomnia_ratios = {\"Normal\" : float(normal_ratio),\n",
    "                      \"Obese\" : float(obese_ratio),\n",
    "                      \"Overweight\" : float(overweight_ratio)}\n",
    "bmi_insomnia_ratios"
   ]
  }
 ],
 "metadata": {
  "colab": {
   "name": "Welcome to DataCamp Workspaces.ipynb",
   "provenance": []
  },
  "kernelspec": {
   "display_name": "base",
   "language": "python",
   "name": "python3"
  },
  "language_info": {
   "codemirror_mode": {
    "name": "ipython",
    "version": 3
   },
   "file_extension": ".py",
   "mimetype": "text/x-python",
   "name": "python",
   "nbconvert_exporter": "python",
   "pygments_lexer": "ipython3",
   "version": "3.12.4"
  }
 },
 "nbformat": 4,
 "nbformat_minor": 5
}
