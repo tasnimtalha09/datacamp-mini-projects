{
 "cells": [
  {
   "cell_type": "markdown",
   "id": "31ab2131-3049-4d8d-b9dc-d195f72af27a",
   "metadata": {},
   "source": [
    "![Los Angeles skyline](la_skyline.jpg)\n",
    "\n",
    "Los Angeles, California 😎. The City of Angels. Tinseltown. The Entertainment Capital of the World! \n",
    "\n",
    "Known for its warm weather, palm trees, sprawling coastline, and Hollywood, along with producing some of the most iconic films and songs. However, as with any highly populated city, it isn't always glamorous and there can be a large volume of crime. That's where you can help!\n",
    "\n",
    "You have been asked to support the Los Angeles Police Department (LAPD) by analyzing crime data to identify patterns in criminal behavior. They plan to use your insights to allocate resources effectively to tackle various crimes in different areas.\n",
    "\n",
    "## The Data\n",
    "\n",
    "They have provided you with a single dataset to use. A summary and preview are provided below.\n",
    "\n",
    "It is a modified version of the original data, which is publicly available from Los Angeles Open Data.\n",
    "\n",
    "# crimes.csv\n",
    "\n",
    "| Column     | Description              |\n",
    "|------------|--------------------------|\n",
    "| `'DR_NO'` | Division of Records Number: Official file number made up of a 2-digit year, area ID, and 5 digits. |\n",
    "| `'Date Rptd'` | Date reported - MM/DD/YYYY. |\n",
    "| `'DATE OCC'` | Date of occurrence - MM/DD/YYYY. |\n",
    "| `'TIME OCC'` | In 24-hour military time. |\n",
    "| `'AREA NAME'` | The 21 Geographic Areas or Patrol Divisions are also given a name designation that references a landmark or the surrounding community that it is responsible for. For example, the 77th Street Division is located at the intersection of South Broadway and 77th Street, serving neighborhoods in South Los Angeles. |\n",
    "| `'Crm Cd Desc'` | Indicates the crime committed. |\n",
    "| `'Vict Age'` | Victim's age in years. |\n",
    "| `'Vict Sex'` | Victim's sex: `F`: Female, `M`: Male, `X`: Unknown. |\n",
    "| `'Vict Descent'` | Victim's descent:<ul><li>`A` - Other Asian</li><li>`B` - Black</li><li>`C` - Chinese</li><li>`D` - Cambodian</li><li>`F` - Filipino</li><li>`G` - Guamanian</li><li>`H` - Hispanic/Latin/Mexican</li><li>`I` - American Indian/Alaskan Native</li><li>`J` - Japanese</li><li>`K` - Korean</li><li>`L` - Laotian</li><li>`O` - Other</li><li>`P` - Pacific Islander</li><li>`S` - Samoan</li><li>`U` - Hawaiian</li><li>`V` - Vietnamese</li><li>`W` - White</li><li>`X` - Unknown</li><li>`Z` - Asian Indian</li> |\n",
    "| `'Weapon Desc'` | Description of the weapon used (if applicable). |\n",
    "| `'Status Desc'` | Crime status. |\n",
    "| `'LOCATION'` | Street address of the crime. |"
   ]
  },
  {
   "cell_type": "markdown",
   "id": "112c9efc-ffac-47dd-8898-fe62fca1ec01",
   "metadata": {},
   "source": [
    "# Questions\n",
    "1. Which hour has the highest frequency of crimes?\n",
    "2. Which area has the largest frequency of night crimes (crimes committed between 10pm and 3:59am)?\n",
    "3. Identify the number of crimes committed against victims of different age groups."
   ]
  },
  {
   "cell_type": "code",
   "execution_count": 6,
   "id": "ca330bf9-27c6-4289-ac36-c085007b562a",
   "metadata": {
    "executionCancelledAt": null,
    "executionTime": 332,
    "lastExecutedAt": 1726643025787,
    "lastExecutedByKernel": "f1ed94d2-8c31-42c9-a119-231b18c93c70",
    "lastScheduledRunId": null,
    "lastSuccessfullyExecutedCode": "# Re-run this cell\n# Import required libraries\nimport pandas as pd\nimport numpy as np\nimport matplotlib.pyplot as plt\nimport seaborn as sns\ncrimes = pd.read_csv(\"crimes.csv\", parse_dates=[\"Date Rptd\", \"DATE OCC\"], dtype={\"TIME OCC\": str})\ncrimes.head()",
    "outputsMetadata": {
     "0": {
      "height": 245,
      "type": "dataFrame"
     }
    }
   },
   "outputs": [],
   "source": [
    "# Import required libraries\n",
    "import pandas as pd\n",
    "import numpy as np\n",
    "import matplotlib.pyplot as plt\n",
    "import seaborn as sns"
   ]
  },
  {
   "cell_type": "code",
   "execution_count": 7,
   "id": "5dbfae9c",
   "metadata": {},
   "outputs": [
    {
     "data": {
      "application/vnd.microsoft.datawrangler.viewer.v0+json": {
       "columns": [
        {
         "name": "index",
         "rawType": "int64",
         "type": "integer"
        },
        {
         "name": "DR_NO",
         "rawType": "int64",
         "type": "integer"
        },
        {
         "name": "Date Rptd",
         "rawType": "datetime64[ns]",
         "type": "datetime"
        },
        {
         "name": "DATE OCC",
         "rawType": "datetime64[ns]",
         "type": "datetime"
        },
        {
         "name": "TIME OCC",
         "rawType": "object",
         "type": "string"
        },
        {
         "name": "AREA NAME",
         "rawType": "object",
         "type": "string"
        },
        {
         "name": "Crm Cd Desc",
         "rawType": "object",
         "type": "string"
        },
        {
         "name": "Vict Age",
         "rawType": "int64",
         "type": "integer"
        },
        {
         "name": "Vict Sex",
         "rawType": "object",
         "type": "string"
        },
        {
         "name": "Vict Descent",
         "rawType": "object",
         "type": "string"
        },
        {
         "name": "Weapon Desc",
         "rawType": "object",
         "type": "unknown"
        },
        {
         "name": "Status Desc",
         "rawType": "object",
         "type": "string"
        },
        {
         "name": "LOCATION",
         "rawType": "object",
         "type": "string"
        }
       ],
       "conversionMethod": "pd.DataFrame",
       "ref": "0e92f5bb-413c-4884-8a8c-ba96822a3950",
       "rows": [
        [
         "0",
         "220314085",
         "2022-07-22 00:00:00",
         "2020-05-12 00:00:00",
         "1110",
         "Southwest",
         "THEFT OF IDENTITY",
         "27",
         "F",
         "B",
         null,
         "Invest Cont",
         "2500 S  SYCAMORE                     AV"
        ],
        [
         "1",
         "222013040",
         "2022-08-06 00:00:00",
         "2020-06-04 00:00:00",
         "1620",
         "Olympic",
         "THEFT OF IDENTITY",
         "60",
         "M",
         "H",
         null,
         "Invest Cont",
         "3300    SAN MARINO                   ST"
        ],
        [
         "2",
         "220614831",
         "2022-08-18 00:00:00",
         "2020-08-17 00:00:00",
         "1200",
         "Hollywood",
         "THEFT OF IDENTITY",
         "28",
         "M",
         "H",
         null,
         "Invest Cont",
         "1900    TRANSIENT"
        ],
        [
         "3",
         "231207725",
         "2023-02-27 00:00:00",
         "2020-01-27 00:00:00",
         "0635",
         "77th Street",
         "THEFT OF IDENTITY",
         "37",
         "M",
         "H",
         null,
         "Invest Cont",
         "6200    4TH                          AV"
        ],
        [
         "4",
         "220213256",
         "2022-07-14 00:00:00",
         "2020-07-14 00:00:00",
         "0900",
         "Rampart",
         "THEFT OF IDENTITY",
         "79",
         "M",
         "B",
         null,
         "Invest Cont",
         "1200 W  7TH                          ST"
        ]
       ],
       "shape": {
        "columns": 12,
        "rows": 5
       }
      },
      "text/html": [
       "<div>\n",
       "<style scoped>\n",
       "    .dataframe tbody tr th:only-of-type {\n",
       "        vertical-align: middle;\n",
       "    }\n",
       "\n",
       "    .dataframe tbody tr th {\n",
       "        vertical-align: top;\n",
       "    }\n",
       "\n",
       "    .dataframe thead th {\n",
       "        text-align: right;\n",
       "    }\n",
       "</style>\n",
       "<table border=\"1\" class=\"dataframe\">\n",
       "  <thead>\n",
       "    <tr style=\"text-align: right;\">\n",
       "      <th></th>\n",
       "      <th>DR_NO</th>\n",
       "      <th>Date Rptd</th>\n",
       "      <th>DATE OCC</th>\n",
       "      <th>TIME OCC</th>\n",
       "      <th>AREA NAME</th>\n",
       "      <th>Crm Cd Desc</th>\n",
       "      <th>Vict Age</th>\n",
       "      <th>Vict Sex</th>\n",
       "      <th>Vict Descent</th>\n",
       "      <th>Weapon Desc</th>\n",
       "      <th>Status Desc</th>\n",
       "      <th>LOCATION</th>\n",
       "    </tr>\n",
       "  </thead>\n",
       "  <tbody>\n",
       "    <tr>\n",
       "      <th>0</th>\n",
       "      <td>220314085</td>\n",
       "      <td>2022-07-22</td>\n",
       "      <td>2020-05-12</td>\n",
       "      <td>1110</td>\n",
       "      <td>Southwest</td>\n",
       "      <td>THEFT OF IDENTITY</td>\n",
       "      <td>27</td>\n",
       "      <td>F</td>\n",
       "      <td>B</td>\n",
       "      <td>NaN</td>\n",
       "      <td>Invest Cont</td>\n",
       "      <td>2500 S  SYCAMORE                     AV</td>\n",
       "    </tr>\n",
       "    <tr>\n",
       "      <th>1</th>\n",
       "      <td>222013040</td>\n",
       "      <td>2022-08-06</td>\n",
       "      <td>2020-06-04</td>\n",
       "      <td>1620</td>\n",
       "      <td>Olympic</td>\n",
       "      <td>THEFT OF IDENTITY</td>\n",
       "      <td>60</td>\n",
       "      <td>M</td>\n",
       "      <td>H</td>\n",
       "      <td>NaN</td>\n",
       "      <td>Invest Cont</td>\n",
       "      <td>3300    SAN MARINO                   ST</td>\n",
       "    </tr>\n",
       "    <tr>\n",
       "      <th>2</th>\n",
       "      <td>220614831</td>\n",
       "      <td>2022-08-18</td>\n",
       "      <td>2020-08-17</td>\n",
       "      <td>1200</td>\n",
       "      <td>Hollywood</td>\n",
       "      <td>THEFT OF IDENTITY</td>\n",
       "      <td>28</td>\n",
       "      <td>M</td>\n",
       "      <td>H</td>\n",
       "      <td>NaN</td>\n",
       "      <td>Invest Cont</td>\n",
       "      <td>1900    TRANSIENT</td>\n",
       "    </tr>\n",
       "    <tr>\n",
       "      <th>3</th>\n",
       "      <td>231207725</td>\n",
       "      <td>2023-02-27</td>\n",
       "      <td>2020-01-27</td>\n",
       "      <td>0635</td>\n",
       "      <td>77th Street</td>\n",
       "      <td>THEFT OF IDENTITY</td>\n",
       "      <td>37</td>\n",
       "      <td>M</td>\n",
       "      <td>H</td>\n",
       "      <td>NaN</td>\n",
       "      <td>Invest Cont</td>\n",
       "      <td>6200    4TH                          AV</td>\n",
       "    </tr>\n",
       "    <tr>\n",
       "      <th>4</th>\n",
       "      <td>220213256</td>\n",
       "      <td>2022-07-14</td>\n",
       "      <td>2020-07-14</td>\n",
       "      <td>0900</td>\n",
       "      <td>Rampart</td>\n",
       "      <td>THEFT OF IDENTITY</td>\n",
       "      <td>79</td>\n",
       "      <td>M</td>\n",
       "      <td>B</td>\n",
       "      <td>NaN</td>\n",
       "      <td>Invest Cont</td>\n",
       "      <td>1200 W  7TH                          ST</td>\n",
       "    </tr>\n",
       "  </tbody>\n",
       "</table>\n",
       "</div>"
      ],
      "text/plain": [
       "       DR_NO  Date Rptd   DATE OCC TIME OCC    AREA NAME        Crm Cd Desc  \\\n",
       "0  220314085 2022-07-22 2020-05-12     1110    Southwest  THEFT OF IDENTITY   \n",
       "1  222013040 2022-08-06 2020-06-04     1620      Olympic  THEFT OF IDENTITY   \n",
       "2  220614831 2022-08-18 2020-08-17     1200    Hollywood  THEFT OF IDENTITY   \n",
       "3  231207725 2023-02-27 2020-01-27     0635  77th Street  THEFT OF IDENTITY   \n",
       "4  220213256 2022-07-14 2020-07-14     0900      Rampart  THEFT OF IDENTITY   \n",
       "\n",
       "   Vict Age Vict Sex Vict Descent Weapon Desc  Status Desc  \\\n",
       "0        27        F            B         NaN  Invest Cont   \n",
       "1        60        M            H         NaN  Invest Cont   \n",
       "2        28        M            H         NaN  Invest Cont   \n",
       "3        37        M            H         NaN  Invest Cont   \n",
       "4        79        M            B         NaN  Invest Cont   \n",
       "\n",
       "                                  LOCATION  \n",
       "0  2500 S  SYCAMORE                     AV  \n",
       "1  3300    SAN MARINO                   ST  \n",
       "2                        1900    TRANSIENT  \n",
       "3  6200    4TH                          AV  \n",
       "4  1200 W  7TH                          ST  "
      ]
     },
     "execution_count": 7,
     "metadata": {},
     "output_type": "execute_result"
    }
   ],
   "source": [
    "# Load the dataset\n",
    "crimes = pd.read_csv(\"crimes.csv\", parse_dates=[\"Date Rptd\", \"DATE OCC\"], dtype={\"TIME OCC\": str})\n",
    "crimes.head()"
   ]
  },
  {
   "cell_type": "code",
   "execution_count": null,
   "id": "4cef81d2-8abb-4b5f-871c-5e9ac51c9ed8",
   "metadata": {
    "executionCancelledAt": null,
    "executionTime": 68,
    "lastExecutedAt": 1726643025855,
    "lastExecutedByKernel": "f1ed94d2-8c31-42c9-a119-231b18c93c70",
    "lastScheduledRunId": null,
    "lastSuccessfullyExecutedCode": "TIME_OCC_HOUR = crimes[\"TIME OCC\"].str[:2].astype(\"int\")\nTIME_OCC_HOUR\n\npeak_crime_hour = TIME_OCC_HOUR.value_counts(\"TIME OCC\").index[0]\npeak_crime_hour",
    "outputsMetadata": {
     "0": {
      "height": 539,
      "type": "dataFrame"
     }
    }
   },
   "outputs": [
    {
     "data": {
      "text/plain": [
       "12"
      ]
     },
     "metadata": {},
     "output_type": "display_data"
    }
   ],
   "source": [
    "# Taking only the hours from the column \"TIME OCC\"\n",
    "TIME_OCC_HOUR = crimes[\"TIME OCC\"].str[:2].astype(\"int\")\n",
    "TIME_OCC_HOUR\n",
    "\n",
    "# Taking the top result\n",
    "peak_crime_hour = TIME_OCC_HOUR.value_counts(\"TIME OCC\").index[0]\n",
    "display(peak_crime_hour)"
   ]
  },
  {
   "cell_type": "code",
   "execution_count": null,
   "id": "84dd42ce-ee40-40fc-abd4-9da955707bb2",
   "metadata": {
    "executionCancelledAt": null,
    "executionTime": 69,
    "lastExecutedAt": 1726643025924,
    "lastExecutedByKernel": "f1ed94d2-8c31-42c9-a119-231b18c93c70",
    "lastScheduledRunId": null,
    "lastSuccessfullyExecutedCode": "night_crime = crimes[(crimes[\"TIME OCC\"] >= \"2200\") | (crimes[\"TIME OCC\"] <= \"0359\")]\npeak_night_crime_location = night_crime.groupby(\"AREA NAME\")[\"TIME OCC\"].count().sort_values(ascending = False).index[0]\npeak_night_crime_location"
   },
   "outputs": [
    {
     "data": {
      "text/plain": [
       "'Central'"
      ]
     },
     "execution_count": 12,
     "metadata": {},
     "output_type": "execute_result"
    }
   ],
   "source": [
    "# Taking a look at the top nighttime crime location\n",
    "night_crime = crimes[(crimes[\"TIME OCC\"] >= \"2200\") | (crimes[\"TIME OCC\"] <= \"0359\")]\n",
    "peak_night_crime_location = night_crime.groupby(\"AREA NAME\")[\"TIME OCC\"].count().sort_values(ascending = False).index[0]\n",
    "peak_night_crime_location"
   ]
  },
  {
   "cell_type": "code",
   "execution_count": 14,
   "id": "943103c0-c6f3-4e95-a5eb-f825c9c74bde",
   "metadata": {
    "executionCancelledAt": null,
    "executionTime": 50,
    "lastExecutedAt": 1726643025975,
    "lastExecutedByKernel": "f1ed94d2-8c31-42c9-a119-231b18c93c70",
    "lastScheduledRunId": null,
    "lastSuccessfullyExecutedCode": "labels = [\"0-17\", \n          \"18-25\", \n          \"26-34\", \n          \"35-44\", \n          \"45-54\", \n          \"55-64\", \n          \"65+\"]\nbins = [0, 17, 25, 34, 44, 54, 64, crimes[\"Vict Age\"].max()]\n\ncrimes[\"Age Groups\"] = pd.cut(crimes[\"Vict Age\"], labels = labels, bins = bins)\ncrimes.head()"
   },
   "outputs": [
    {
     "data": {
      "application/vnd.microsoft.datawrangler.viewer.v0+json": {
       "columns": [
        {
         "name": "index",
         "rawType": "int64",
         "type": "integer"
        },
        {
         "name": "DR_NO",
         "rawType": "int64",
         "type": "integer"
        },
        {
         "name": "Date Rptd",
         "rawType": "datetime64[ns]",
         "type": "datetime"
        },
        {
         "name": "DATE OCC",
         "rawType": "datetime64[ns]",
         "type": "datetime"
        },
        {
         "name": "TIME OCC",
         "rawType": "object",
         "type": "string"
        },
        {
         "name": "AREA NAME",
         "rawType": "object",
         "type": "string"
        },
        {
         "name": "Crm Cd Desc",
         "rawType": "object",
         "type": "string"
        },
        {
         "name": "Vict Age",
         "rawType": "int64",
         "type": "integer"
        },
        {
         "name": "Vict Sex",
         "rawType": "object",
         "type": "string"
        },
        {
         "name": "Vict Descent",
         "rawType": "object",
         "type": "string"
        },
        {
         "name": "Weapon Desc",
         "rawType": "object",
         "type": "unknown"
        },
        {
         "name": "Status Desc",
         "rawType": "object",
         "type": "string"
        },
        {
         "name": "LOCATION",
         "rawType": "object",
         "type": "string"
        },
        {
         "name": "Age Groups",
         "rawType": "category",
         "type": "unknown"
        }
       ],
       "conversionMethod": "pd.DataFrame",
       "ref": "1615eac5-5178-4f26-bae2-c60afd6d21b6",
       "rows": [
        [
         "0",
         "220314085",
         "2022-07-22 00:00:00",
         "2020-05-12 00:00:00",
         "1110",
         "Southwest",
         "THEFT OF IDENTITY",
         "27",
         "F",
         "B",
         null,
         "Invest Cont",
         "2500 S  SYCAMORE                     AV",
         "26-34"
        ],
        [
         "1",
         "222013040",
         "2022-08-06 00:00:00",
         "2020-06-04 00:00:00",
         "1620",
         "Olympic",
         "THEFT OF IDENTITY",
         "60",
         "M",
         "H",
         null,
         "Invest Cont",
         "3300    SAN MARINO                   ST",
         "55-64"
        ],
        [
         "2",
         "220614831",
         "2022-08-18 00:00:00",
         "2020-08-17 00:00:00",
         "1200",
         "Hollywood",
         "THEFT OF IDENTITY",
         "28",
         "M",
         "H",
         null,
         "Invest Cont",
         "1900    TRANSIENT",
         "26-34"
        ],
        [
         "3",
         "231207725",
         "2023-02-27 00:00:00",
         "2020-01-27 00:00:00",
         "0635",
         "77th Street",
         "THEFT OF IDENTITY",
         "37",
         "M",
         "H",
         null,
         "Invest Cont",
         "6200    4TH                          AV",
         "35-44"
        ],
        [
         "4",
         "220213256",
         "2022-07-14 00:00:00",
         "2020-07-14 00:00:00",
         "0900",
         "Rampart",
         "THEFT OF IDENTITY",
         "79",
         "M",
         "B",
         null,
         "Invest Cont",
         "1200 W  7TH                          ST",
         "65+"
        ]
       ],
       "shape": {
        "columns": 13,
        "rows": 5
       }
      },
      "text/html": [
       "<div>\n",
       "<style scoped>\n",
       "    .dataframe tbody tr th:only-of-type {\n",
       "        vertical-align: middle;\n",
       "    }\n",
       "\n",
       "    .dataframe tbody tr th {\n",
       "        vertical-align: top;\n",
       "    }\n",
       "\n",
       "    .dataframe thead th {\n",
       "        text-align: right;\n",
       "    }\n",
       "</style>\n",
       "<table border=\"1\" class=\"dataframe\">\n",
       "  <thead>\n",
       "    <tr style=\"text-align: right;\">\n",
       "      <th></th>\n",
       "      <th>DR_NO</th>\n",
       "      <th>Date Rptd</th>\n",
       "      <th>DATE OCC</th>\n",
       "      <th>TIME OCC</th>\n",
       "      <th>AREA NAME</th>\n",
       "      <th>Crm Cd Desc</th>\n",
       "      <th>Vict Age</th>\n",
       "      <th>Vict Sex</th>\n",
       "      <th>Vict Descent</th>\n",
       "      <th>Weapon Desc</th>\n",
       "      <th>Status Desc</th>\n",
       "      <th>LOCATION</th>\n",
       "      <th>Age Groups</th>\n",
       "    </tr>\n",
       "  </thead>\n",
       "  <tbody>\n",
       "    <tr>\n",
       "      <th>0</th>\n",
       "      <td>220314085</td>\n",
       "      <td>2022-07-22</td>\n",
       "      <td>2020-05-12</td>\n",
       "      <td>1110</td>\n",
       "      <td>Southwest</td>\n",
       "      <td>THEFT OF IDENTITY</td>\n",
       "      <td>27</td>\n",
       "      <td>F</td>\n",
       "      <td>B</td>\n",
       "      <td>NaN</td>\n",
       "      <td>Invest Cont</td>\n",
       "      <td>2500 S  SYCAMORE                     AV</td>\n",
       "      <td>26-34</td>\n",
       "    </tr>\n",
       "    <tr>\n",
       "      <th>1</th>\n",
       "      <td>222013040</td>\n",
       "      <td>2022-08-06</td>\n",
       "      <td>2020-06-04</td>\n",
       "      <td>1620</td>\n",
       "      <td>Olympic</td>\n",
       "      <td>THEFT OF IDENTITY</td>\n",
       "      <td>60</td>\n",
       "      <td>M</td>\n",
       "      <td>H</td>\n",
       "      <td>NaN</td>\n",
       "      <td>Invest Cont</td>\n",
       "      <td>3300    SAN MARINO                   ST</td>\n",
       "      <td>55-64</td>\n",
       "    </tr>\n",
       "    <tr>\n",
       "      <th>2</th>\n",
       "      <td>220614831</td>\n",
       "      <td>2022-08-18</td>\n",
       "      <td>2020-08-17</td>\n",
       "      <td>1200</td>\n",
       "      <td>Hollywood</td>\n",
       "      <td>THEFT OF IDENTITY</td>\n",
       "      <td>28</td>\n",
       "      <td>M</td>\n",
       "      <td>H</td>\n",
       "      <td>NaN</td>\n",
       "      <td>Invest Cont</td>\n",
       "      <td>1900    TRANSIENT</td>\n",
       "      <td>26-34</td>\n",
       "    </tr>\n",
       "    <tr>\n",
       "      <th>3</th>\n",
       "      <td>231207725</td>\n",
       "      <td>2023-02-27</td>\n",
       "      <td>2020-01-27</td>\n",
       "      <td>0635</td>\n",
       "      <td>77th Street</td>\n",
       "      <td>THEFT OF IDENTITY</td>\n",
       "      <td>37</td>\n",
       "      <td>M</td>\n",
       "      <td>H</td>\n",
       "      <td>NaN</td>\n",
       "      <td>Invest Cont</td>\n",
       "      <td>6200    4TH                          AV</td>\n",
       "      <td>35-44</td>\n",
       "    </tr>\n",
       "    <tr>\n",
       "      <th>4</th>\n",
       "      <td>220213256</td>\n",
       "      <td>2022-07-14</td>\n",
       "      <td>2020-07-14</td>\n",
       "      <td>0900</td>\n",
       "      <td>Rampart</td>\n",
       "      <td>THEFT OF IDENTITY</td>\n",
       "      <td>79</td>\n",
       "      <td>M</td>\n",
       "      <td>B</td>\n",
       "      <td>NaN</td>\n",
       "      <td>Invest Cont</td>\n",
       "      <td>1200 W  7TH                          ST</td>\n",
       "      <td>65+</td>\n",
       "    </tr>\n",
       "  </tbody>\n",
       "</table>\n",
       "</div>"
      ],
      "text/plain": [
       "       DR_NO  Date Rptd   DATE OCC TIME OCC    AREA NAME        Crm Cd Desc  \\\n",
       "0  220314085 2022-07-22 2020-05-12     1110    Southwest  THEFT OF IDENTITY   \n",
       "1  222013040 2022-08-06 2020-06-04     1620      Olympic  THEFT OF IDENTITY   \n",
       "2  220614831 2022-08-18 2020-08-17     1200    Hollywood  THEFT OF IDENTITY   \n",
       "3  231207725 2023-02-27 2020-01-27     0635  77th Street  THEFT OF IDENTITY   \n",
       "4  220213256 2022-07-14 2020-07-14     0900      Rampart  THEFT OF IDENTITY   \n",
       "\n",
       "   Vict Age Vict Sex Vict Descent Weapon Desc  Status Desc  \\\n",
       "0        27        F            B         NaN  Invest Cont   \n",
       "1        60        M            H         NaN  Invest Cont   \n",
       "2        28        M            H         NaN  Invest Cont   \n",
       "3        37        M            H         NaN  Invest Cont   \n",
       "4        79        M            B         NaN  Invest Cont   \n",
       "\n",
       "                                  LOCATION Age Groups  \n",
       "0  2500 S  SYCAMORE                     AV      26-34  \n",
       "1  3300    SAN MARINO                   ST      55-64  \n",
       "2                        1900    TRANSIENT      26-34  \n",
       "3  6200    4TH                          AV      35-44  \n",
       "4  1200 W  7TH                          ST        65+  "
      ]
     },
     "execution_count": 14,
     "metadata": {},
     "output_type": "execute_result"
    }
   ],
   "source": [
    "# Creating clusters of the victims' ages\n",
    "labels = [\"0-17\", \n",
    "          \"18-25\", \n",
    "          \"26-34\", \n",
    "          \"35-44\", \n",
    "          \"45-54\", \n",
    "          \"55-64\", \n",
    "          \"65+\"]\n",
    "bins = [0, 17, 25, 34, 44, 54, 64, crimes[\"Vict Age\"].max()]\n",
    "\n",
    "crimes[\"Age Groups\"] = pd.cut(crimes[\"Vict Age\"], labels = labels, bins = bins)\n",
    "crimes.head()"
   ]
  },
  {
   "cell_type": "code",
   "execution_count": null,
   "id": "3280f675-b5af-4cf0-b176-44990cf18ea7",
   "metadata": {
    "executionCancelledAt": null,
    "executionTime": 51,
    "lastExecutedAt": 1726643026026,
    "lastExecutedByKernel": "f1ed94d2-8c31-42c9-a119-231b18c93c70",
    "lastScheduledRunId": null,
    "lastSuccessfullyExecutedCode": "victim_ages = crimes.value_counts(\"Age Groups\")\nvictim_ages"
   },
   "outputs": [
    {
     "data": {
      "text/plain": [
       "Age Groups\n",
       "26-34    47470\n",
       "35-44    42157\n",
       "45-54    28353\n",
       "18-25    28291\n",
       "55-64    20169\n",
       "65+      14747\n",
       "0-17      4528\n",
       "Name: count, dtype: int64"
      ]
     },
     "execution_count": 5,
     "metadata": {},
     "output_type": "execute_result"
    }
   ],
   "source": [
    "# Taking a look into the number of victims across the clusters\n",
    "victim_ages = crimes.value_counts(\"Age Groups\")\n",
    "victim_ages"
   ]
  }
 ],
 "metadata": {
  "colab": {
   "name": "Welcome to DataCamp Workspaces.ipynb",
   "provenance": []
  },
  "kernelspec": {
   "display_name": "base",
   "language": "python",
   "name": "python3"
  },
  "language_info": {
   "codemirror_mode": {
    "name": "ipython",
    "version": 3
   },
   "file_extension": ".py",
   "mimetype": "text/x-python",
   "name": "python",
   "nbconvert_exporter": "python",
   "pygments_lexer": "ipython3",
   "version": "3.12.4"
  }
 },
 "nbformat": 4,
 "nbformat_minor": 5
}
