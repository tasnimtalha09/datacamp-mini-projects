{
 "cells": [
  {
   "cell_type": "markdown",
   "id": "3bfef1de-6cf3-4410-8c17-4d235deedff5",
   "metadata": {},
   "source": [
    "![Futuristic electric car charging](ev_charging.png)"
   ]
  },
  {
   "cell_type": "markdown",
   "id": "d0e3f658-b4eb-44fe-ae85-76eeef3c4abd",
   "metadata": {},
   "source": [
    "The US Government's Alternative Fuels Data Center collects records of electric vehicle (EV) charging infrastructure, including charging ports and station locations, as well as sales of electric vehicles. With the EV market rapidly evolving, understanding trends in charging facilities and sales is essential to inform strategic planning.\n",
    "\n",
    "As a data scientist working for a leading EV charging network operator, you recognize the potential in this data and start wrangling and visualizing the aggregated yearly data. \n",
    "\n",
    "This yearly data captured in December of each year encompasses a record of EV charging port installations and station localities spanning roughly ten years, capturing both public and private charging environments. \n",
    "___\n",
    "\n",
    "### The Data\n",
    "&nbsp;\n",
    "\n",
    "`private_ev_charging.csv`\n",
    "\n",
    "| Variable   | Description                                          |\n",
    "|------------|------------------------------------------------------|\n",
    "| `year` |  Year of data collection |\n",
    "| `private_ports`| The number of available charging ports owned by private companies in a given year  |\n",
    "| `private_station_locations`   | The number of privately owned station locations for EV charging\n",
    "\n",
    "___\n",
    "\n",
    "`public_ev_charging.csv`\n",
    " \n",
    "| Variable   | Description                                          |\n",
    "|------------|------------------------------------------------------|\n",
    "| `year` |  Year of data collection  |\n",
    "| `public_ports`| The number of available charging ports under public ownership in a given year  |\n",
    "| `public_station_locations`   | The number of publicly owned station locations for EV charging\n",
    "\n",
    "___\n",
    "\n",
    "The sales information is available for each model and year in the `ev_sales.csv` file:\n",
    "\n",
    "| Variable   | Description                                          |\n",
    "|------------|------------------------------------------------------|\n",
    "| `Vehicle` |  Electric vehicle model |\n",
    "| `year`| Year of data collection |\n",
    "| `sales`   | The number of vehicles sold in the US"
   ]
  },
  {
   "cell_type": "code",
   "execution_count": 1,
   "id": "bff36b1c-38f2-4a2c-8e4e-3d357b56fa21",
   "metadata": {
    "executionCancelledAt": null,
    "executionTime": 9,
    "lastExecutedAt": 1728139037758,
    "lastExecutedByKernel": "42328e81-5ecc-4f23-ad96-b827e5d5044d",
    "lastScheduledRunId": null,
    "lastSuccessfullyExecutedCode": "# Import required libraries\nimport pandas as pd\nimport matplotlib.pyplot as plt\nimport seaborn as sns"
   },
   "outputs": [],
   "source": [
    "# Import required libraries\n",
    "import pandas as pd\n",
    "import matplotlib.pyplot as plt\n",
    "import seaborn as sns"
   ]
  },
  {
   "cell_type": "code",
   "execution_count": 2,
   "id": "50c40e0a-b33d-46ad-bccc-c8ad085d07fb",
   "metadata": {
    "executionCancelledAt": null,
    "executionTime": 50,
    "lastExecutedAt": 1728139037808,
    "lastExecutedByKernel": "42328e81-5ecc-4f23-ad96-b827e5d5044d",
    "lastScheduledRunId": null,
    "lastSuccessfullyExecutedCode": "private_ev_charging = pd.read_csv(\"private_ev_charging.csv\")\nprivate_ev_charging.head()",
    "outputsMetadata": {
     "0": {
      "height": 143,
      "type": "stream"
     }
    }
   },
   "outputs": [
    {
     "data": {
      "application/vnd.microsoft.datawrangler.viewer.v0+json": {
       "columns": [
        {
         "name": "index",
         "rawType": "int64",
         "type": "integer"
        },
        {
         "name": "year",
         "rawType": "int64",
         "type": "integer"
        },
        {
         "name": "private_ports",
         "rawType": "int64",
         "type": "integer"
        },
        {
         "name": "private_station_locations",
         "rawType": "int64",
         "type": "integer"
        }
       ],
       "conversionMethod": "pd.DataFrame",
       "ref": "06855920-aa2f-4ac6-bea2-d0d4eadbd549",
       "rows": [
        [
         "0",
         "2014",
         "3695",
         "1825"
        ],
        [
         "1",
         "2015",
         "4150",
         "1962"
        ],
        [
         "2",
         "2016",
         "5763",
         "2331"
        ],
        [
         "3",
         "2017",
         "6048",
         "2370"
        ],
        [
         "4",
         "2018",
         "6812",
         "2489"
        ]
       ],
       "shape": {
        "columns": 3,
        "rows": 5
       }
      },
      "text/html": [
       "<div>\n",
       "<style scoped>\n",
       "    .dataframe tbody tr th:only-of-type {\n",
       "        vertical-align: middle;\n",
       "    }\n",
       "\n",
       "    .dataframe tbody tr th {\n",
       "        vertical-align: top;\n",
       "    }\n",
       "\n",
       "    .dataframe thead th {\n",
       "        text-align: right;\n",
       "    }\n",
       "</style>\n",
       "<table border=\"1\" class=\"dataframe\">\n",
       "  <thead>\n",
       "    <tr style=\"text-align: right;\">\n",
       "      <th></th>\n",
       "      <th>year</th>\n",
       "      <th>private_ports</th>\n",
       "      <th>private_station_locations</th>\n",
       "    </tr>\n",
       "  </thead>\n",
       "  <tbody>\n",
       "    <tr>\n",
       "      <th>0</th>\n",
       "      <td>2014</td>\n",
       "      <td>3695</td>\n",
       "      <td>1825</td>\n",
       "    </tr>\n",
       "    <tr>\n",
       "      <th>1</th>\n",
       "      <td>2015</td>\n",
       "      <td>4150</td>\n",
       "      <td>1962</td>\n",
       "    </tr>\n",
       "    <tr>\n",
       "      <th>2</th>\n",
       "      <td>2016</td>\n",
       "      <td>5763</td>\n",
       "      <td>2331</td>\n",
       "    </tr>\n",
       "    <tr>\n",
       "      <th>3</th>\n",
       "      <td>2017</td>\n",
       "      <td>6048</td>\n",
       "      <td>2370</td>\n",
       "    </tr>\n",
       "    <tr>\n",
       "      <th>4</th>\n",
       "      <td>2018</td>\n",
       "      <td>6812</td>\n",
       "      <td>2489</td>\n",
       "    </tr>\n",
       "  </tbody>\n",
       "</table>\n",
       "</div>"
      ],
      "text/plain": [
       "   year  private_ports  private_station_locations\n",
       "0  2014           3695                       1825\n",
       "1  2015           4150                       1962\n",
       "2  2016           5763                       2331\n",
       "3  2017           6048                       2370\n",
       "4  2018           6812                       2489"
      ]
     },
     "execution_count": 2,
     "metadata": {},
     "output_type": "execute_result"
    }
   ],
   "source": [
    "private_ev_charging = pd.read_csv(\"private_ev_charging.csv\")\n",
    "private_ev_charging.head()"
   ]
  },
  {
   "cell_type": "code",
   "execution_count": 3,
   "id": "402cfbb3-976a-4afe-8301-1085907ad505",
   "metadata": {
    "executionCancelledAt": null,
    "executionTime": 49,
    "lastExecutedAt": 1728139037857,
    "lastExecutedByKernel": "42328e81-5ecc-4f23-ad96-b827e5d5044d",
    "lastScheduledRunId": null,
    "lastSuccessfullyExecutedCode": "public_ev_charging = pd.read_csv(\"public_ev_charging.csv\")\npublic_ev_charging.head()"
   },
   "outputs": [
    {
     "data": {
      "application/vnd.microsoft.datawrangler.viewer.v0+json": {
       "columns": [
        {
         "name": "index",
         "rawType": "int64",
         "type": "integer"
        },
        {
         "name": "year",
         "rawType": "int64",
         "type": "integer"
        },
        {
         "name": "public_ports",
         "rawType": "int64",
         "type": "integer"
        },
        {
         "name": "public_station_locations",
         "rawType": "int64",
         "type": "integer"
        }
       ],
       "conversionMethod": "pd.DataFrame",
       "ref": "360700b0-a545-4597-91d5-08a3502302be",
       "rows": [
        [
         "0",
         "2013",
         "16619",
         "6938"
        ],
        [
         "1",
         "2014",
         "22470",
         "9207"
        ],
        [
         "2",
         "2015",
         "26532",
         "10710"
        ],
        [
         "3",
         "2016",
         "33165",
         "13150"
        ],
        [
         "4",
         "2017",
         "45789",
         "16170"
        ]
       ],
       "shape": {
        "columns": 3,
        "rows": 5
       }
      },
      "text/html": [
       "<div>\n",
       "<style scoped>\n",
       "    .dataframe tbody tr th:only-of-type {\n",
       "        vertical-align: middle;\n",
       "    }\n",
       "\n",
       "    .dataframe tbody tr th {\n",
       "        vertical-align: top;\n",
       "    }\n",
       "\n",
       "    .dataframe thead th {\n",
       "        text-align: right;\n",
       "    }\n",
       "</style>\n",
       "<table border=\"1\" class=\"dataframe\">\n",
       "  <thead>\n",
       "    <tr style=\"text-align: right;\">\n",
       "      <th></th>\n",
       "      <th>year</th>\n",
       "      <th>public_ports</th>\n",
       "      <th>public_station_locations</th>\n",
       "    </tr>\n",
       "  </thead>\n",
       "  <tbody>\n",
       "    <tr>\n",
       "      <th>0</th>\n",
       "      <td>2013</td>\n",
       "      <td>16619</td>\n",
       "      <td>6938</td>\n",
       "    </tr>\n",
       "    <tr>\n",
       "      <th>1</th>\n",
       "      <td>2014</td>\n",
       "      <td>22470</td>\n",
       "      <td>9207</td>\n",
       "    </tr>\n",
       "    <tr>\n",
       "      <th>2</th>\n",
       "      <td>2015</td>\n",
       "      <td>26532</td>\n",
       "      <td>10710</td>\n",
       "    </tr>\n",
       "    <tr>\n",
       "      <th>3</th>\n",
       "      <td>2016</td>\n",
       "      <td>33165</td>\n",
       "      <td>13150</td>\n",
       "    </tr>\n",
       "    <tr>\n",
       "      <th>4</th>\n",
       "      <td>2017</td>\n",
       "      <td>45789</td>\n",
       "      <td>16170</td>\n",
       "    </tr>\n",
       "  </tbody>\n",
       "</table>\n",
       "</div>"
      ],
      "text/plain": [
       "   year  public_ports  public_station_locations\n",
       "0  2013         16619                      6938\n",
       "1  2014         22470                      9207\n",
       "2  2015         26532                     10710\n",
       "3  2016         33165                     13150\n",
       "4  2017         45789                     16170"
      ]
     },
     "execution_count": 3,
     "metadata": {},
     "output_type": "execute_result"
    }
   ],
   "source": [
    "public_ev_charging = pd.read_csv(\"public_ev_charging.csv\")\n",
    "public_ev_charging.head()"
   ]
  },
  {
   "cell_type": "code",
   "execution_count": 4,
   "id": "41942164-4efe-4426-a481-4df3255f671d",
   "metadata": {
    "executionCancelledAt": null,
    "executionTime": 46,
    "lastExecutedAt": 1728139037903,
    "lastExecutedByKernel": "42328e81-5ecc-4f23-ad96-b827e5d5044d",
    "lastScheduledRunId": null,
    "lastSuccessfullyExecutedCode": "ev_sales = pd.read_csv(\"ev_sales.csv\")\nev_sales.head()"
   },
   "outputs": [
    {
     "data": {
      "application/vnd.microsoft.datawrangler.viewer.v0+json": {
       "columns": [
        {
         "name": "index",
         "rawType": "int64",
         "type": "integer"
        },
        {
         "name": "Vehicle",
         "rawType": "object",
         "type": "string"
        },
        {
         "name": "year",
         "rawType": "int64",
         "type": "integer"
        },
        {
         "name": "sales",
         "rawType": "float64",
         "type": "float"
        }
       ],
       "conversionMethod": "pd.DataFrame",
       "ref": "f3d5f4d7-9995-492e-8601-34e5272a6364",
       "rows": [
        [
         "0",
         "Chevy Volt",
         "2011",
         "7671.0"
        ],
        [
         "1",
         "Chevy Volt",
         "2012",
         "23461.0"
        ],
        [
         "2",
         "Chevy Volt",
         "2013",
         "23094.0"
        ],
        [
         "3",
         "Chevy Volt",
         "2014",
         "18805.0"
        ],
        [
         "4",
         "Chevy Volt",
         "2015",
         "15393.0"
        ]
       ],
       "shape": {
        "columns": 3,
        "rows": 5
       }
      },
      "text/html": [
       "<div>\n",
       "<style scoped>\n",
       "    .dataframe tbody tr th:only-of-type {\n",
       "        vertical-align: middle;\n",
       "    }\n",
       "\n",
       "    .dataframe tbody tr th {\n",
       "        vertical-align: top;\n",
       "    }\n",
       "\n",
       "    .dataframe thead th {\n",
       "        text-align: right;\n",
       "    }\n",
       "</style>\n",
       "<table border=\"1\" class=\"dataframe\">\n",
       "  <thead>\n",
       "    <tr style=\"text-align: right;\">\n",
       "      <th></th>\n",
       "      <th>Vehicle</th>\n",
       "      <th>year</th>\n",
       "      <th>sales</th>\n",
       "    </tr>\n",
       "  </thead>\n",
       "  <tbody>\n",
       "    <tr>\n",
       "      <th>0</th>\n",
       "      <td>Chevy Volt</td>\n",
       "      <td>2011</td>\n",
       "      <td>7671.0</td>\n",
       "    </tr>\n",
       "    <tr>\n",
       "      <th>1</th>\n",
       "      <td>Chevy Volt</td>\n",
       "      <td>2012</td>\n",
       "      <td>23461.0</td>\n",
       "    </tr>\n",
       "    <tr>\n",
       "      <th>2</th>\n",
       "      <td>Chevy Volt</td>\n",
       "      <td>2013</td>\n",
       "      <td>23094.0</td>\n",
       "    </tr>\n",
       "    <tr>\n",
       "      <th>3</th>\n",
       "      <td>Chevy Volt</td>\n",
       "      <td>2014</td>\n",
       "      <td>18805.0</td>\n",
       "    </tr>\n",
       "    <tr>\n",
       "      <th>4</th>\n",
       "      <td>Chevy Volt</td>\n",
       "      <td>2015</td>\n",
       "      <td>15393.0</td>\n",
       "    </tr>\n",
       "  </tbody>\n",
       "</table>\n",
       "</div>"
      ],
      "text/plain": [
       "      Vehicle  year    sales\n",
       "0  Chevy Volt  2011   7671.0\n",
       "1  Chevy Volt  2012  23461.0\n",
       "2  Chevy Volt  2013  23094.0\n",
       "3  Chevy Volt  2014  18805.0\n",
       "4  Chevy Volt  2015  15393.0"
      ]
     },
     "execution_count": 4,
     "metadata": {},
     "output_type": "execute_result"
    }
   ],
   "source": [
    "ev_sales = pd.read_csv(\"ev_sales.csv\")\n",
    "ev_sales.head()"
   ]
  },
  {
   "cell_type": "code",
   "execution_count": 12,
   "id": "95f0d994-0d3d-45e4-a781-7998bc820de2",
   "metadata": {
    "executionCancelledAt": null,
    "executionTime": 48,
    "lastExecutedAt": 1728139037951,
    "lastExecutedByKernel": "42328e81-5ecc-4f23-ad96-b827e5d5044d",
    "lastScheduledRunId": null,
    "lastSuccessfullyExecutedCode": "ev_sales_2018 = ev_sales.groupby(\"year\")[\"sales\"].sum().iloc[7]\nev_sales_2018"
   },
   "outputs": [
    {
     "data": {
      "text/plain": [
       "361315.0"
      ]
     },
     "execution_count": 12,
     "metadata": {},
     "output_type": "execute_result"
    }
   ],
   "source": [
    "ev_sales_2018 = ev_sales.groupby(\"year\")[\"sales\"].sum().iloc[7]\n",
    "ev_sales_2018"
   ]
  },
  {
   "cell_type": "code",
   "execution_count": 6,
   "id": "341045ae-41a3-4c4a-9a76-9dcf0fadcbb3",
   "metadata": {
    "executionCancelledAt": null,
    "executionTime": 48,
    "lastExecutedAt": 1728139037999,
    "lastExecutedByKernel": "42328e81-5ecc-4f23-ad96-b827e5d5044d",
    "lastScheduledRunId": null,
    "lastSuccessfullyExecutedCode": "ev_sales[\"year\"].value_counts()\nev_sales_total = ev_sales.groupby(\"year\").sum()\nev_sales_total"
   },
   "outputs": [
    {
     "data": {
      "application/vnd.microsoft.datawrangler.viewer.v0+json": {
       "columns": [
        {
         "name": "year",
         "rawType": "int64",
         "type": "integer"
        },
        {
         "name": "Vehicle",
         "rawType": "object",
         "type": "string"
        },
        {
         "name": "sales",
         "rawType": "float64",
         "type": "float"
        }
       ],
       "conversionMethod": "pd.DataFrame",
       "ref": "c72416f1-8a01-4164-b6d6-065b164a0a26",
       "rows": [
        [
         "2011",
         "Chevy VoltNissan LeafSmart EDMitsubishi I EVBMW Active EPrius PHEVFord Focus EVHonda Fit EVTesla Model SToyota RAV4 EVFord C-Max EnergiHonda AccordFord Fusion EnergiChevy SparkFiat 500EPorsche Panamera S E-HybridCadillac ELRBMW i3Mercedes B-Class (B250e)BMW i8VW e-GolfKia Soul EVPorsche Cayenne S E-HybridMercedes S550 PlugVolvo-XC90 Plug InTesla Model XBMW X5Hyundai Sonata Plug InAudi A3 Plug InBMW 3-series Plug-InMercedes GLE 550eBMW 7-series Plug-inMercedes C350WeChevy BoltKia Optima Plug-inHyundai Ioniq EVChrysler Pacifica Plug-in HybridCadillac CT6BMW 5-Series Plug inMINI Countryman S EPorsche Panamera 4 E-HTesla Model 3Honda Clarity BEVVolvo XC60 Plug InVolvo S90 Plug InHonda Clarity Plug-inMitsubishi Outlander Plug InHyundai Ioniq Plug-InKia Niro Plug InMercedes GLC 350e HybridJaguar I-PaceHyundai Kona ElectricSubaru Crosstrek HybridAudi e-tronKia Niro EV",
         "17763.0"
        ],
        [
         "2012",
         "Chevy VoltNissan LeafSmart EDMitsubishi I EVBMW Active EPrius PHEVFord Focus EVHonda Fit EVTesla Model SToyota RAV4 EVFord C-Max EnergiHonda AccordFord Fusion EnergiChevy SparkFiat 500EPorsche Panamera S E-HybridCadillac ELRBMW i3Mercedes B-Class (B250e)BMW i8VW e-GolfKia Soul EVPorsche Cayenne S E-HybridMercedes S550 PlugVolvo-XC90 Plug InTesla Model XBMW X5Hyundai Sonata Plug InAudi A3 Plug InBMW 3-series Plug-InMercedes GLE 550eBMW 7-series Plug-inMercedes C350WeChevy BoltKia Optima Plug-inHyundai Ioniq EVChrysler Pacifica Plug-in HybridCadillac CT6BMW 5-Series Plug inMINI Countryman S EPorsche Panamera 4 E-HTesla Model 3Honda Clarity BEVVolvo XC60 Plug InVolvo S90 Plug InHonda Clarity Plug-inMitsubishi Outlander Plug InHyundai Ioniq Plug-InKia Niro Plug InMercedes GLC 350e HybridJaguar I-PaceHyundai Kona ElectricSubaru Crosstrek HybridAudi e-tronKia Niro EV",
         "53171.0"
        ],
        [
         "2013",
         "Chevy VoltNissan LeafSmart EDMitsubishi I EVBMW Active EPrius PHEVFord Focus EVHonda Fit EVTesla Model SToyota RAV4 EVFord C-Max EnergiHonda AccordFord Fusion EnergiChevy SparkFiat 500EPorsche Panamera S E-HybridCadillac ELRBMW i3Mercedes B-Class (B250e)BMW i8VW e-GolfKia Soul EVPorsche Cayenne S E-HybridMercedes S550 PlugVolvo-XC90 Plug InTesla Model XBMW X5Hyundai Sonata Plug InAudi A3 Plug InBMW 3-series Plug-InMercedes GLE 550eBMW 7-series Plug-inMercedes C350WeChevy BoltKia Optima Plug-inHyundai Ioniq EVChrysler Pacifica Plug-in HybridCadillac CT6BMW 5-Series Plug inMINI Countryman S EPorsche Panamera 4 E-HTesla Model 3Honda Clarity BEVVolvo XC60 Plug InVolvo S90 Plug InHonda Clarity Plug-inMitsubishi Outlander Plug InHyundai Ioniq Plug-InKia Niro Plug InMercedes GLC 350e HybridJaguar I-PaceHyundai Kona ElectricSubaru Crosstrek HybridAudi e-tronKia Niro EV",
         "97102.0"
        ],
        [
         "2014",
         "Chevy VoltNissan LeafSmart EDMitsubishi I EVBMW Active EPrius PHEVFord Focus EVHonda Fit EVTesla Model SToyota RAV4 EVFord C-Max EnergiHonda AccordFord Fusion EnergiChevy SparkFiat 500EPorsche Panamera S E-HybridCadillac ELRBMW i3Mercedes B-Class (B250e)BMW i8VW e-GolfKia Soul EVPorsche Cayenne S E-HybridMercedes S550 PlugVolvo-XC90 Plug InTesla Model XBMW X5Hyundai Sonata Plug InAudi A3 Plug InBMW 3-series Plug-InMercedes GLE 550eBMW 7-series Plug-inMercedes C350WeChevy BoltKia Optima Plug-inHyundai Ioniq EVChrysler Pacifica Plug-in HybridCadillac CT6BMW 5-Series Plug inMINI Countryman S EPorsche Panamera 4 E-HTesla Model 3Honda Clarity BEVVolvo XC60 Plug InVolvo S90 Plug InHonda Clarity Plug-inMitsubishi Outlander Plug InHyundai Ioniq Plug-InKia Niro Plug InMercedes GLC 350e HybridJaguar I-PaceHyundai Kona ElectricSubaru Crosstrek HybridAudi e-tronKia Niro EV",
         "118882.0"
        ],
        [
         "2015",
         "Chevy VoltNissan LeafSmart EDMitsubishi I EVBMW Active EPrius PHEVFord Focus EVHonda Fit EVTesla Model SToyota RAV4 EVFord C-Max EnergiHonda AccordFord Fusion EnergiChevy SparkFiat 500EPorsche Panamera S E-HybridCadillac ELRBMW i3Mercedes B-Class (B250e)BMW i8VW e-GolfKia Soul EVPorsche Cayenne S E-HybridMercedes S550 PlugVolvo-XC90 Plug InTesla Model XBMW X5Hyundai Sonata Plug InAudi A3 Plug InBMW 3-series Plug-InMercedes GLE 550eBMW 7-series Plug-inMercedes C350WeChevy BoltKia Optima Plug-inHyundai Ioniq EVChrysler Pacifica Plug-in HybridCadillac CT6BMW 5-Series Plug inMINI Countryman S EPorsche Panamera 4 E-HTesla Model 3Honda Clarity BEVVolvo XC60 Plug InVolvo S90 Plug InHonda Clarity Plug-inMitsubishi Outlander Plug InHyundai Ioniq Plug-InKia Niro Plug InMercedes GLC 350e HybridJaguar I-PaceHyundai Kona ElectricSubaru Crosstrek HybridAudi e-tronKia Niro EV",
         "114023.0"
        ],
        [
         "2016",
         "Chevy VoltNissan LeafSmart EDMitsubishi I EVBMW Active EPrius PHEVFord Focus EVHonda Fit EVTesla Model SToyota RAV4 EVFord C-Max EnergiHonda AccordFord Fusion EnergiChevy SparkFiat 500EPorsche Panamera S E-HybridCadillac ELRBMW i3Mercedes B-Class (B250e)BMW i8VW e-GolfKia Soul EVPorsche Cayenne S E-HybridMercedes S550 PlugVolvo-XC90 Plug InTesla Model XBMW X5Hyundai Sonata Plug InAudi A3 Plug InBMW 3-series Plug-InMercedes GLE 550eBMW 7-series Plug-inMercedes C350WeChevy BoltKia Optima Plug-inHyundai Ioniq EVChrysler Pacifica Plug-in HybridCadillac CT6BMW 5-Series Plug inMINI Countryman S EPorsche Panamera 4 E-HTesla Model 3Honda Clarity BEVVolvo XC60 Plug InVolvo S90 Plug InHonda Clarity Plug-inMitsubishi Outlander Plug InHyundai Ioniq Plug-InKia Niro Plug InMercedes GLC 350e HybridJaguar I-PaceHyundai Kona ElectricSubaru Crosstrek HybridAudi e-tronKia Niro EV",
         "159616.0"
        ],
        [
         "2017",
         "Chevy VoltNissan LeafSmart EDMitsubishi I EVBMW Active EPrius PHEVFord Focus EVHonda Fit EVTesla Model SToyota RAV4 EVFord C-Max EnergiHonda AccordFord Fusion EnergiChevy SparkFiat 500EPorsche Panamera S E-HybridCadillac ELRBMW i3Mercedes B-Class (B250e)BMW i8VW e-GolfKia Soul EVPorsche Cayenne S E-HybridMercedes S550 PlugVolvo-XC90 Plug InTesla Model XBMW X5Hyundai Sonata Plug InAudi A3 Plug InBMW 3-series Plug-InMercedes GLE 550eBMW 7-series Plug-inMercedes C350WeChevy BoltKia Optima Plug-inHyundai Ioniq EVChrysler Pacifica Plug-in HybridCadillac CT6BMW 5-Series Plug inMINI Countryman S EPorsche Panamera 4 E-HTesla Model 3Honda Clarity BEVVolvo XC60 Plug InVolvo S90 Plug InHonda Clarity Plug-inMitsubishi Outlander Plug InHyundai Ioniq Plug-InKia Niro Plug InMercedes GLC 350e HybridJaguar I-PaceHyundai Kona ElectricSubaru Crosstrek HybridAudi e-tronKia Niro EV",
         "195581.0"
        ],
        [
         "2018",
         "Chevy VoltNissan LeafSmart EDMitsubishi I EVBMW Active EPrius PHEVFord Focus EVHonda Fit EVTesla Model SToyota RAV4 EVFord C-Max EnergiHonda AccordFord Fusion EnergiChevy SparkFiat 500EPorsche Panamera S E-HybridCadillac ELRBMW i3Mercedes B-Class (B250e)BMW i8VW e-GolfKia Soul EVPorsche Cayenne S E-HybridMercedes S550 PlugVolvo-XC90 Plug InTesla Model XBMW X5Hyundai Sonata Plug InAudi A3 Plug InBMW 3-series Plug-InMercedes GLE 550eBMW 7-series Plug-inMercedes C350WeChevy BoltKia Optima Plug-inHyundai Ioniq EVChrysler Pacifica Plug-in HybridCadillac CT6BMW 5-Series Plug inMINI Countryman S EPorsche Panamera 4 E-HTesla Model 3Honda Clarity BEVVolvo XC60 Plug InVolvo S90 Plug InHonda Clarity Plug-inMitsubishi Outlander Plug InHyundai Ioniq Plug-InKia Niro Plug InMercedes GLC 350e HybridJaguar I-PaceHyundai Kona ElectricSubaru Crosstrek HybridAudi e-tronKia Niro EV",
         "361315.0"
        ],
        [
         "2019",
         "Chevy VoltNissan LeafSmart EDMitsubishi I EVBMW Active EPrius PHEVFord Focus EVHonda Fit EVTesla Model SToyota RAV4 EVFord C-Max EnergiHonda AccordFord Fusion EnergiChevy SparkFiat 500EPorsche Panamera S E-HybridCadillac ELRBMW i3Mercedes B-Class (B250e)BMW i8VW e-GolfKia Soul EVPorsche Cayenne S E-HybridMercedes S550 PlugVolvo-XC90 Plug InTesla Model XBMW X5Hyundai Sonata Plug InAudi A3 Plug InBMW 3-series Plug-InMercedes GLE 550eBMW 7-series Plug-inMercedes C350WeChevy BoltKia Optima Plug-inHyundai Ioniq EVChrysler Pacifica Plug-in HybridCadillac CT6BMW 5-Series Plug inMINI Countryman S EPorsche Panamera 4 E-HTesla Model 3Honda Clarity BEVVolvo XC60 Plug InVolvo S90 Plug InHonda Clarity Plug-inMitsubishi Outlander Plug InHyundai Ioniq Plug-InKia Niro Plug InMercedes GLC 350e HybridJaguar I-PaceHyundai Kona ElectricSubaru Crosstrek HybridAudi e-tronKia Niro EV",
         "326644.0"
        ]
       ],
       "shape": {
        "columns": 2,
        "rows": 9
       }
      },
      "text/html": [
       "<div>\n",
       "<style scoped>\n",
       "    .dataframe tbody tr th:only-of-type {\n",
       "        vertical-align: middle;\n",
       "    }\n",
       "\n",
       "    .dataframe tbody tr th {\n",
       "        vertical-align: top;\n",
       "    }\n",
       "\n",
       "    .dataframe thead th {\n",
       "        text-align: right;\n",
       "    }\n",
       "</style>\n",
       "<table border=\"1\" class=\"dataframe\">\n",
       "  <thead>\n",
       "    <tr style=\"text-align: right;\">\n",
       "      <th></th>\n",
       "      <th>Vehicle</th>\n",
       "      <th>sales</th>\n",
       "    </tr>\n",
       "    <tr>\n",
       "      <th>year</th>\n",
       "      <th></th>\n",
       "      <th></th>\n",
       "    </tr>\n",
       "  </thead>\n",
       "  <tbody>\n",
       "    <tr>\n",
       "      <th>2011</th>\n",
       "      <td>Chevy VoltNissan LeafSmart EDMitsubishi I EVBM...</td>\n",
       "      <td>17763.0</td>\n",
       "    </tr>\n",
       "    <tr>\n",
       "      <th>2012</th>\n",
       "      <td>Chevy VoltNissan LeafSmart EDMitsubishi I EVBM...</td>\n",
       "      <td>53171.0</td>\n",
       "    </tr>\n",
       "    <tr>\n",
       "      <th>2013</th>\n",
       "      <td>Chevy VoltNissan LeafSmart EDMitsubishi I EVBM...</td>\n",
       "      <td>97102.0</td>\n",
       "    </tr>\n",
       "    <tr>\n",
       "      <th>2014</th>\n",
       "      <td>Chevy VoltNissan LeafSmart EDMitsubishi I EVBM...</td>\n",
       "      <td>118882.0</td>\n",
       "    </tr>\n",
       "    <tr>\n",
       "      <th>2015</th>\n",
       "      <td>Chevy VoltNissan LeafSmart EDMitsubishi I EVBM...</td>\n",
       "      <td>114023.0</td>\n",
       "    </tr>\n",
       "    <tr>\n",
       "      <th>2016</th>\n",
       "      <td>Chevy VoltNissan LeafSmart EDMitsubishi I EVBM...</td>\n",
       "      <td>159616.0</td>\n",
       "    </tr>\n",
       "    <tr>\n",
       "      <th>2017</th>\n",
       "      <td>Chevy VoltNissan LeafSmart EDMitsubishi I EVBM...</td>\n",
       "      <td>195581.0</td>\n",
       "    </tr>\n",
       "    <tr>\n",
       "      <th>2018</th>\n",
       "      <td>Chevy VoltNissan LeafSmart EDMitsubishi I EVBM...</td>\n",
       "      <td>361315.0</td>\n",
       "    </tr>\n",
       "    <tr>\n",
       "      <th>2019</th>\n",
       "      <td>Chevy VoltNissan LeafSmart EDMitsubishi I EVBM...</td>\n",
       "      <td>326644.0</td>\n",
       "    </tr>\n",
       "  </tbody>\n",
       "</table>\n",
       "</div>"
      ],
      "text/plain": [
       "                                                Vehicle     sales\n",
       "year                                                             \n",
       "2011  Chevy VoltNissan LeafSmart EDMitsubishi I EVBM...   17763.0\n",
       "2012  Chevy VoltNissan LeafSmart EDMitsubishi I EVBM...   53171.0\n",
       "2013  Chevy VoltNissan LeafSmart EDMitsubishi I EVBM...   97102.0\n",
       "2014  Chevy VoltNissan LeafSmart EDMitsubishi I EVBM...  118882.0\n",
       "2015  Chevy VoltNissan LeafSmart EDMitsubishi I EVBM...  114023.0\n",
       "2016  Chevy VoltNissan LeafSmart EDMitsubishi I EVBM...  159616.0\n",
       "2017  Chevy VoltNissan LeafSmart EDMitsubishi I EVBM...  195581.0\n",
       "2018  Chevy VoltNissan LeafSmart EDMitsubishi I EVBM...  361315.0\n",
       "2019  Chevy VoltNissan LeafSmart EDMitsubishi I EVBM...  326644.0"
      ]
     },
     "execution_count": 6,
     "metadata": {},
     "output_type": "execute_result"
    }
   ],
   "source": [
    "ev_sales[\"year\"].value_counts()\n",
    "ev_sales_total = ev_sales.groupby(\"year\").sum()\n",
    "ev_sales_total"
   ]
  },
  {
   "cell_type": "code",
   "execution_count": 7,
   "id": "16510fa7-c13c-4dff-b1ec-138c40df37bc",
   "metadata": {
    "executionCancelledAt": null,
    "executionTime": 53,
    "lastExecutedAt": 1728139038052,
    "lastExecutedByKernel": "42328e81-5ecc-4f23-ad96-b827e5d5044d",
    "lastScheduledRunId": null,
    "lastSuccessfullyExecutedCode": "all_ports = pd.merge(left = private_ev_charging, right = public_ev_charging, on = \"year\", how = \"outer\")\nall_data = pd.merge(left = all_ports, right = ev_sales_total, on = \"year\", how = \"outer\")\nall_data.drop(columns = [\"private_station_locations\", \"public_station_locations\"], inplace = True)\nall_data.dropna(subset = [\"private_ports\", \"public_ports\", \"sales\"], inplace = True)\nall_data"
   },
   "outputs": [
    {
     "data": {
      "application/vnd.microsoft.datawrangler.viewer.v0+json": {
       "columns": [
        {
         "name": "index",
         "rawType": "int64",
         "type": "integer"
        },
        {
         "name": "year",
         "rawType": "int64",
         "type": "integer"
        },
        {
         "name": "private_ports",
         "rawType": "float64",
         "type": "float"
        },
        {
         "name": "public_ports",
         "rawType": "float64",
         "type": "float"
        },
        {
         "name": "Vehicle",
         "rawType": "object",
         "type": "string"
        },
        {
         "name": "sales",
         "rawType": "float64",
         "type": "float"
        }
       ],
       "conversionMethod": "pd.DataFrame",
       "ref": "aba53374-4612-4f80-9516-6a2f49a54a2f",
       "rows": [
        [
         "3",
         "2014",
         "3695.0",
         "22470.0",
         "Chevy VoltNissan LeafSmart EDMitsubishi I EVBMW Active EPrius PHEVFord Focus EVHonda Fit EVTesla Model SToyota RAV4 EVFord C-Max EnergiHonda AccordFord Fusion EnergiChevy SparkFiat 500EPorsche Panamera S E-HybridCadillac ELRBMW i3Mercedes B-Class (B250e)BMW i8VW e-GolfKia Soul EVPorsche Cayenne S E-HybridMercedes S550 PlugVolvo-XC90 Plug InTesla Model XBMW X5Hyundai Sonata Plug InAudi A3 Plug InBMW 3-series Plug-InMercedes GLE 550eBMW 7-series Plug-inMercedes C350WeChevy BoltKia Optima Plug-inHyundai Ioniq EVChrysler Pacifica Plug-in HybridCadillac CT6BMW 5-Series Plug inMINI Countryman S EPorsche Panamera 4 E-HTesla Model 3Honda Clarity BEVVolvo XC60 Plug InVolvo S90 Plug InHonda Clarity Plug-inMitsubishi Outlander Plug InHyundai Ioniq Plug-InKia Niro Plug InMercedes GLC 350e HybridJaguar I-PaceHyundai Kona ElectricSubaru Crosstrek HybridAudi e-tronKia Niro EV",
         "118882.0"
        ],
        [
         "4",
         "2015",
         "4150.0",
         "26532.0",
         "Chevy VoltNissan LeafSmart EDMitsubishi I EVBMW Active EPrius PHEVFord Focus EVHonda Fit EVTesla Model SToyota RAV4 EVFord C-Max EnergiHonda AccordFord Fusion EnergiChevy SparkFiat 500EPorsche Panamera S E-HybridCadillac ELRBMW i3Mercedes B-Class (B250e)BMW i8VW e-GolfKia Soul EVPorsche Cayenne S E-HybridMercedes S550 PlugVolvo-XC90 Plug InTesla Model XBMW X5Hyundai Sonata Plug InAudi A3 Plug InBMW 3-series Plug-InMercedes GLE 550eBMW 7-series Plug-inMercedes C350WeChevy BoltKia Optima Plug-inHyundai Ioniq EVChrysler Pacifica Plug-in HybridCadillac CT6BMW 5-Series Plug inMINI Countryman S EPorsche Panamera 4 E-HTesla Model 3Honda Clarity BEVVolvo XC60 Plug InVolvo S90 Plug InHonda Clarity Plug-inMitsubishi Outlander Plug InHyundai Ioniq Plug-InKia Niro Plug InMercedes GLC 350e HybridJaguar I-PaceHyundai Kona ElectricSubaru Crosstrek HybridAudi e-tronKia Niro EV",
         "114023.0"
        ],
        [
         "5",
         "2016",
         "5763.0",
         "33165.0",
         "Chevy VoltNissan LeafSmart EDMitsubishi I EVBMW Active EPrius PHEVFord Focus EVHonda Fit EVTesla Model SToyota RAV4 EVFord C-Max EnergiHonda AccordFord Fusion EnergiChevy SparkFiat 500EPorsche Panamera S E-HybridCadillac ELRBMW i3Mercedes B-Class (B250e)BMW i8VW e-GolfKia Soul EVPorsche Cayenne S E-HybridMercedes S550 PlugVolvo-XC90 Plug InTesla Model XBMW X5Hyundai Sonata Plug InAudi A3 Plug InBMW 3-series Plug-InMercedes GLE 550eBMW 7-series Plug-inMercedes C350WeChevy BoltKia Optima Plug-inHyundai Ioniq EVChrysler Pacifica Plug-in HybridCadillac CT6BMW 5-Series Plug inMINI Countryman S EPorsche Panamera 4 E-HTesla Model 3Honda Clarity BEVVolvo XC60 Plug InVolvo S90 Plug InHonda Clarity Plug-inMitsubishi Outlander Plug InHyundai Ioniq Plug-InKia Niro Plug InMercedes GLC 350e HybridJaguar I-PaceHyundai Kona ElectricSubaru Crosstrek HybridAudi e-tronKia Niro EV",
         "159616.0"
        ],
        [
         "6",
         "2017",
         "6048.0",
         "45789.0",
         "Chevy VoltNissan LeafSmart EDMitsubishi I EVBMW Active EPrius PHEVFord Focus EVHonda Fit EVTesla Model SToyota RAV4 EVFord C-Max EnergiHonda AccordFord Fusion EnergiChevy SparkFiat 500EPorsche Panamera S E-HybridCadillac ELRBMW i3Mercedes B-Class (B250e)BMW i8VW e-GolfKia Soul EVPorsche Cayenne S E-HybridMercedes S550 PlugVolvo-XC90 Plug InTesla Model XBMW X5Hyundai Sonata Plug InAudi A3 Plug InBMW 3-series Plug-InMercedes GLE 550eBMW 7-series Plug-inMercedes C350WeChevy BoltKia Optima Plug-inHyundai Ioniq EVChrysler Pacifica Plug-in HybridCadillac CT6BMW 5-Series Plug inMINI Countryman S EPorsche Panamera 4 E-HTesla Model 3Honda Clarity BEVVolvo XC60 Plug InVolvo S90 Plug InHonda Clarity Plug-inMitsubishi Outlander Plug InHyundai Ioniq Plug-InKia Niro Plug InMercedes GLC 350e HybridJaguar I-PaceHyundai Kona ElectricSubaru Crosstrek HybridAudi e-tronKia Niro EV",
         "195581.0"
        ],
        [
         "7",
         "2018",
         "6812.0",
         "56842.0",
         "Chevy VoltNissan LeafSmart EDMitsubishi I EVBMW Active EPrius PHEVFord Focus EVHonda Fit EVTesla Model SToyota RAV4 EVFord C-Max EnergiHonda AccordFord Fusion EnergiChevy SparkFiat 500EPorsche Panamera S E-HybridCadillac ELRBMW i3Mercedes B-Class (B250e)BMW i8VW e-GolfKia Soul EVPorsche Cayenne S E-HybridMercedes S550 PlugVolvo-XC90 Plug InTesla Model XBMW X5Hyundai Sonata Plug InAudi A3 Plug InBMW 3-series Plug-InMercedes GLE 550eBMW 7-series Plug-inMercedes C350WeChevy BoltKia Optima Plug-inHyundai Ioniq EVChrysler Pacifica Plug-in HybridCadillac CT6BMW 5-Series Plug inMINI Countryman S EPorsche Panamera 4 E-HTesla Model 3Honda Clarity BEVVolvo XC60 Plug InVolvo S90 Plug InHonda Clarity Plug-inMitsubishi Outlander Plug InHyundai Ioniq Plug-InKia Niro Plug InMercedes GLC 350e HybridJaguar I-PaceHyundai Kona ElectricSubaru Crosstrek HybridAudi e-tronKia Niro EV",
         "361315.0"
        ],
        [
         "8",
         "2019",
         "9955.0",
         "73838.0",
         "Chevy VoltNissan LeafSmart EDMitsubishi I EVBMW Active EPrius PHEVFord Focus EVHonda Fit EVTesla Model SToyota RAV4 EVFord C-Max EnergiHonda AccordFord Fusion EnergiChevy SparkFiat 500EPorsche Panamera S E-HybridCadillac ELRBMW i3Mercedes B-Class (B250e)BMW i8VW e-GolfKia Soul EVPorsche Cayenne S E-HybridMercedes S550 PlugVolvo-XC90 Plug InTesla Model XBMW X5Hyundai Sonata Plug InAudi A3 Plug InBMW 3-series Plug-InMercedes GLE 550eBMW 7-series Plug-inMercedes C350WeChevy BoltKia Optima Plug-inHyundai Ioniq EVChrysler Pacifica Plug-in HybridCadillac CT6BMW 5-Series Plug inMINI Countryman S EPorsche Panamera 4 E-HTesla Model 3Honda Clarity BEVVolvo XC60 Plug InVolvo S90 Plug InHonda Clarity Plug-inMitsubishi Outlander Plug InHyundai Ioniq Plug-InKia Niro Plug InMercedes GLC 350e HybridJaguar I-PaceHyundai Kona ElectricSubaru Crosstrek HybridAudi e-tronKia Niro EV",
         "326644.0"
        ]
       ],
       "shape": {
        "columns": 5,
        "rows": 6
       }
      },
      "text/html": [
       "<div>\n",
       "<style scoped>\n",
       "    .dataframe tbody tr th:only-of-type {\n",
       "        vertical-align: middle;\n",
       "    }\n",
       "\n",
       "    .dataframe tbody tr th {\n",
       "        vertical-align: top;\n",
       "    }\n",
       "\n",
       "    .dataframe thead th {\n",
       "        text-align: right;\n",
       "    }\n",
       "</style>\n",
       "<table border=\"1\" class=\"dataframe\">\n",
       "  <thead>\n",
       "    <tr style=\"text-align: right;\">\n",
       "      <th></th>\n",
       "      <th>year</th>\n",
       "      <th>private_ports</th>\n",
       "      <th>public_ports</th>\n",
       "      <th>Vehicle</th>\n",
       "      <th>sales</th>\n",
       "    </tr>\n",
       "  </thead>\n",
       "  <tbody>\n",
       "    <tr>\n",
       "      <th>3</th>\n",
       "      <td>2014</td>\n",
       "      <td>3695.0</td>\n",
       "      <td>22470.0</td>\n",
       "      <td>Chevy VoltNissan LeafSmart EDMitsubishi I EVBM...</td>\n",
       "      <td>118882.0</td>\n",
       "    </tr>\n",
       "    <tr>\n",
       "      <th>4</th>\n",
       "      <td>2015</td>\n",
       "      <td>4150.0</td>\n",
       "      <td>26532.0</td>\n",
       "      <td>Chevy VoltNissan LeafSmart EDMitsubishi I EVBM...</td>\n",
       "      <td>114023.0</td>\n",
       "    </tr>\n",
       "    <tr>\n",
       "      <th>5</th>\n",
       "      <td>2016</td>\n",
       "      <td>5763.0</td>\n",
       "      <td>33165.0</td>\n",
       "      <td>Chevy VoltNissan LeafSmart EDMitsubishi I EVBM...</td>\n",
       "      <td>159616.0</td>\n",
       "    </tr>\n",
       "    <tr>\n",
       "      <th>6</th>\n",
       "      <td>2017</td>\n",
       "      <td>6048.0</td>\n",
       "      <td>45789.0</td>\n",
       "      <td>Chevy VoltNissan LeafSmart EDMitsubishi I EVBM...</td>\n",
       "      <td>195581.0</td>\n",
       "    </tr>\n",
       "    <tr>\n",
       "      <th>7</th>\n",
       "      <td>2018</td>\n",
       "      <td>6812.0</td>\n",
       "      <td>56842.0</td>\n",
       "      <td>Chevy VoltNissan LeafSmart EDMitsubishi I EVBM...</td>\n",
       "      <td>361315.0</td>\n",
       "    </tr>\n",
       "    <tr>\n",
       "      <th>8</th>\n",
       "      <td>2019</td>\n",
       "      <td>9955.0</td>\n",
       "      <td>73838.0</td>\n",
       "      <td>Chevy VoltNissan LeafSmart EDMitsubishi I EVBM...</td>\n",
       "      <td>326644.0</td>\n",
       "    </tr>\n",
       "  </tbody>\n",
       "</table>\n",
       "</div>"
      ],
      "text/plain": [
       "   year  private_ports  public_ports  \\\n",
       "3  2014         3695.0       22470.0   \n",
       "4  2015         4150.0       26532.0   \n",
       "5  2016         5763.0       33165.0   \n",
       "6  2017         6048.0       45789.0   \n",
       "7  2018         6812.0       56842.0   \n",
       "8  2019         9955.0       73838.0   \n",
       "\n",
       "                                             Vehicle     sales  \n",
       "3  Chevy VoltNissan LeafSmart EDMitsubishi I EVBM...  118882.0  \n",
       "4  Chevy VoltNissan LeafSmart EDMitsubishi I EVBM...  114023.0  \n",
       "5  Chevy VoltNissan LeafSmart EDMitsubishi I EVBM...  159616.0  \n",
       "6  Chevy VoltNissan LeafSmart EDMitsubishi I EVBM...  195581.0  \n",
       "7  Chevy VoltNissan LeafSmart EDMitsubishi I EVBM...  361315.0  \n",
       "8  Chevy VoltNissan LeafSmart EDMitsubishi I EVBM...  326644.0  "
      ]
     },
     "execution_count": 7,
     "metadata": {},
     "output_type": "execute_result"
    }
   ],
   "source": [
    "all_ports = pd.merge(left = private_ev_charging, right = public_ev_charging, on = \"year\", how = \"outer\")\n",
    "all_data = pd.merge(left = all_ports, right = ev_sales_total, on = \"year\", how = \"outer\")\n",
    "all_data.drop(columns = [\"private_station_locations\", \"public_station_locations\"], inplace = True)\n",
    "all_data.dropna(subset = [\"private_ports\", \"public_ports\", \"sales\"], inplace = True)\n",
    "all_data"
   ]
  },
  {
   "cell_type": "code",
   "execution_count": 13,
   "id": "b88487bc-f820-4dc0-959f-a6812c898dc9",
   "metadata": {
    "executionCancelledAt": null,
    "executionTime": 357,
    "lastExecutedAt": 1728139038409,
    "lastExecutedByKernel": "42328e81-5ecc-4f23-ad96-b827e5d5044d",
    "lastScheduledRunId": null,
    "lastSuccessfullyExecutedCode": "sns.lineplot(data = all_data, y = \"private_ports\", x = \"year\", label = \"Private Ports\")\nsns.lineplot(data = all_data, y = \"public_ports\", x = \"year\", label = \"Public Ports\")\nsns.lineplot(data = all_data, y = \"sales\", x = \"year\", label = \"Sales\")"
   },
   "outputs": [
    {
     "data": {
      "text/plain": [
       "<Axes: xlabel='year', ylabel='private_ports'>"
      ]
     },
     "execution_count": 13,
     "metadata": {},
     "output_type": "execute_result"
    },
    {
     "data": {
      "image/png": "[encoded data removed]",
      "text/plain": [
       "<Figure size 640x480 with 1 Axes>"
      ]
     },
     "metadata": {},
     "output_type": "display_data"
    }
   ],
   "source": [
    "fig, ax = plt.subplots()\n",
    "\n",
    "sns.lineplot(data = all_data, y = \"private_ports\", x = \"year\", label = \"Private Ports\")\n",
    "sns.lineplot(data = all_data, y = \"public_ports\", x = \"year\", label = \"Public Ports\")\n",
    "sns.lineplot(data = all_data, y = \"sales\", x = \"year\", label = \"Sales\")"
   ]
  },
  {
   "cell_type": "code",
   "execution_count": 15,
   "id": "78c4d45a-4f53-465e-b64c-4bd3c543e7cf",
   "metadata": {
    "executionCancelledAt": null,
    "executionTime": 523,
    "lastExecutedAt": 1728139038932,
    "lastExecutedByKernel": "42328e81-5ecc-4f23-ad96-b827e5d5044d",
    "lastScheduledRunId": null,
    "lastSuccessfullyExecutedCode": "plt.figure(figsize = (8, 5))\n\nplt.subplot(3, 1, 1)\nsns.lineplot(data = all_data, y = \"private_ports\", x = \"year\", label = \"Private Ports\")\nplt.subplot(3, 1, 2)\nsns.lineplot(data = all_data, y = \"public_ports\", x = \"year\", label = \"Public Ports\")\nplt.subplot(3, 1, 3)\nsns.lineplot(data = all_data, y = \"sales\", x = \"year\", label = \"Sales\")"
   },
   "outputs": [
    {
     "data": {
      "text/plain": [
       "<Axes: xlabel='year', ylabel='sales'>"
      ]
     },
     "execution_count": 15,
     "metadata": {},
     "output_type": "execute_result"
    },
    {
     "data": {
      "image/png": "[encoded data removed]",
      "text/plain": [
       "<Figure size 800x500 with 3 Axes>"
      ]
     },
     "metadata": {},
     "output_type": "display_data"
    }
   ],
   "source": [
    "plt.figure(figsize = (8, 5))\n",
    "\n",
    "plt.subplot(3, 1, 1)\n",
    "sns.lineplot(data = all_data, y = \"private_ports\", x = \"year\", label = \"Private Ports\", color = \"blue\")\n",
    "plt.subplot(3, 1, 2)\n",
    "sns.lineplot(data = all_data, y = \"public_ports\", x = \"year\", label = \"Public Ports\", color = \"green\")\n",
    "plt.subplot(3, 1, 3)\n",
    "sns.lineplot(data = all_data, y = \"sales\", x = \"year\", label = \"Sales\", color = \"red\")"
   ]
  },
  {
   "cell_type": "code",
   "execution_count": 10,
   "id": "c1f88087-4b09-49e4-a98a-d5ae0052020f",
   "metadata": {
    "executionCancelledAt": null,
    "executionTime": 51,
    "lastExecutedAt": 1728139038983,
    "lastExecutedByKernel": "42328e81-5ecc-4f23-ad96-b827e5d5044d",
    "lastScheduledRunId": null,
    "lastSuccessfullyExecutedCode": "trend = \"same\""
   },
   "outputs": [],
   "source": [
    "trend = \"same\""
   ]
  }
 ],
 "metadata": {
  "colab": {
   "name": "Welcome to DataCamp Workspaces.ipynb",
   "provenance": []
  },
  "kernelspec": {
   "display_name": "base",
   "language": "python",
   "name": "python3"
  },
  "language_info": {
   "codemirror_mode": {
    "name": "ipython",
    "version": 3
   },
   "file_extension": ".py",
   "mimetype": "text/x-python",
   "name": "python",
   "nbconvert_exporter": "python",
   "pygments_lexer": "ipython3",
   "version": "3.12.4"
  }
 },
 "nbformat": 4,
 "nbformat_minor": 5
}
