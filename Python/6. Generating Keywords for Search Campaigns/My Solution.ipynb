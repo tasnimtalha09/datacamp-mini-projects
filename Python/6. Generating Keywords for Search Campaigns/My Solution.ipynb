{
 "cells": [
  {
   "cell_type": "markdown",
   "id": "d3c7962e-43b7-458f-a36d-4eac0ad6cf3f",
   "metadata": {},
   "source": [
    "![A laptop screen with a person typing the word 'seo'](work_laptop.png)\n"
   ]
  },
  {
   "cell_type": "markdown",
   "id": "f5958533-c625-43cf-966d-589884e29d7e",
   "metadata": {},
   "source": [
    "Imagine working for a digital marketing agency, and the agency is approached by a massive online furniture retailer. They want to test your skills at creating large campaigns for all of their website. You are tasked with creating a prototype set of keywords for search campaigns for their sofas section. The client says that they want you to generate keywords for the following products:\n",
    "\n",
    "- sofas\n",
    "- convertible sofas\n",
    "- love seats\n",
    "- recliners\n",
    "- sofa beds\n",
    "\n",
    "The client is a low-cost retailer, offering many promotions and discounts. You will need to focus on such keywords. You will also need to move away from luxury keywords and topics, as you are targeting price-sensitive customers. Because they are going to be tight on budget, it would be good to focus on a tightly targeted set of keywords and make sure they are all set to exact and phrase match.\n",
    "\n",
    "Based on the brief above you will first need to generate a list of words, that together with the products given above would make for good keywords. Here are some examples:\n",
    "\n",
    "- Products: sofas, recliners\n",
    "- Words: buy, prices\n",
    "\n",
    "The resulting keywords: 'buy sofas', 'sofas buy', 'buy recliners', 'recliners buy', 'prices sofas', 'sofas prices', 'prices recliners', 'recliners prices'.\n",
    "\n",
    "As a final result, you want to have a DataFrame that looks like this:\n",
    "\n",
    "<table>\n",
    "<thead>\n",
    "<tr>\n",
    "<th>Campaign</th>\n",
    "<th>Ad Group</th>\n",
    "<th>Keyword</th>\n",
    "<th>Criterion Type</th>\n",
    "</tr>\n",
    "</thead>\n",
    "<tbody>\n",
    "<tr>\n",
    "<td>Campaign1</td>\n",
    "<td>AdGroup_1</td>\n",
    "<td>keyword 1a</td>\n",
    "<td>Exact</td>\n",
    "</tr>\n",
    "<tr>\n",
    "<td>Campaign1</td>\n",
    "<td>AdGroup_1</td>\n",
    "<td>keyword 1b</td>\n",
    "<td>Exact</td>\n",
    "</tr>\n",
    "<tr>\n",
    "<td>Campaign1</td>\n",
    "<td>AdGroup_2</td>\n",
    "<td>keyword 2a</td>\n",
    "<td>Exact</td>\n",
    "</tr>\n",
    "</tbody>\n",
    "</table>\n"
   ]
  },
  {
   "cell_type": "code",
   "execution_count": 1,
   "id": "2c9becd8-f51c-4a11-9c10-351d1c058e3a",
   "metadata": {
    "executionCancelledAt": null,
    "executionTime": 51,
    "lastExecutedAt": 1724338742184,
    "lastExecutedByKernel": "fe275b9a-c082-4f78-a639-e40da87671e1",
    "lastScheduledRunId": null,
    "lastSuccessfullyExecutedCode": "import pandas as pd",
    "outputsMetadata": {
     "0": {
      "height": 37,
      "type": "stream"
     }
    }
   },
   "outputs": [],
   "source": [
    "import pandas as pd"
   ]
  },
  {
   "cell_type": "code",
   "execution_count": 2,
   "id": "99fd32ed-d7d9-42f6-9100-88723104da92",
   "metadata": {
    "executionCancelledAt": null,
    "executionTime": 56,
    "lastExecutedAt": 1724338742240,
    "lastExecutedByKernel": "fe275b9a-c082-4f78-a639-e40da87671e1",
    "lastScheduledRunId": null,
    "lastSuccessfullyExecutedCode": "# Start coding here\n# Use as many cells as you need"
   },
   "outputs": [],
   "source": [
    "# Start coding here\n",
    "# Use as many cells as you need"
   ]
  },
  {
   "cell_type": "code",
   "execution_count": 3,
   "id": "b9f601af-c41e-46e2-b1d8-70921eb2fe4b",
   "metadata": {
    "executionCancelledAt": null,
    "executionTime": 53,
    "lastExecutedAt": 1724338742293,
    "lastExecutedByKernel": "fe275b9a-c082-4f78-a639-e40da87671e1",
    "lastScheduledRunId": null,
    "lastSuccessfullyExecutedCode": "products = [\"sofas\", \"convertible sofas\", \"love seats\", \"recliners\", \"sofa beds\"]\nwords = [\"price\", \"affordable\", \"budget\", \"good-value\", \"economical\", \"bargain\"]\nKeyword = []"
   },
   "outputs": [],
   "source": [
    "products = [\"sofas\", \"convertible sofas\", \"love seats\", \"recliners\", \"sofa beds\"]\n",
    "words = [\"price\", \"affordable\", \"budget\", \"good-value\", \"economical\", \"bargain\"]\n",
    "Keyword = []"
   ]
  },
  {
   "cell_type": "code",
   "execution_count": 4,
   "id": "0164c9c7-eedf-4e6e-b7c3-8d854b35bb80",
   "metadata": {
    "executionCancelledAt": null,
    "executionTime": 55,
    "lastExecutedAt": 1724338742348,
    "lastExecutedByKernel": "fe275b9a-c082-4f78-a639-e40da87671e1",
    "lastScheduledRunId": null,
    "lastSuccessfullyExecutedCode": "for product in products:\n    for word in words:\n        Keyword.append([product, product + \" \" + word])\n        Keyword.append([product, word + \" \" + product])\n        \nKeyword"
   },
   "outputs": [
    {
     "data": {
      "text/plain": [
       "[['sofas', 'sofas price'],\n",
       " ['sofas', 'price sofas'],\n",
       " ['sofas', 'sofas affordable'],\n",
       " ['sofas', 'affordable sofas'],\n",
       " ['sofas', 'sofas budget'],\n",
       " ['sofas', 'budget sofas'],\n",
       " ['sofas', 'sofas good-value'],\n",
       " ['sofas', 'good-value sofas'],\n",
       " ['sofas', 'sofas economical'],\n",
       " ['sofas', 'economical sofas'],\n",
       " ['sofas', 'sofas bargain'],\n",
       " ['sofas', 'bargain sofas'],\n",
       " ['convertible sofas', 'convertible sofas price'],\n",
       " ['convertible sofas', 'price convertible sofas'],\n",
       " ['convertible sofas', 'convertible sofas affordable'],\n",
       " ['convertible sofas', 'affordable convertible sofas'],\n",
       " ['convertible sofas', 'convertible sofas budget'],\n",
       " ['convertible sofas', 'budget convertible sofas'],\n",
       " ['convertible sofas', 'convertible sofas good-value'],\n",
       " ['convertible sofas', 'good-value convertible sofas'],\n",
       " ['convertible sofas', 'convertible sofas economical'],\n",
       " ['convertible sofas', 'economical convertible sofas'],\n",
       " ['convertible sofas', 'convertible sofas bargain'],\n",
       " ['convertible sofas', 'bargain convertible sofas'],\n",
       " ['love seats', 'love seats price'],\n",
       " ['love seats', 'price love seats'],\n",
       " ['love seats', 'love seats affordable'],\n",
       " ['love seats', 'affordable love seats'],\n",
       " ['love seats', 'love seats budget'],\n",
       " ['love seats', 'budget love seats'],\n",
       " ['love seats', 'love seats good-value'],\n",
       " ['love seats', 'good-value love seats'],\n",
       " ['love seats', 'love seats economical'],\n",
       " ['love seats', 'economical love seats'],\n",
       " ['love seats', 'love seats bargain'],\n",
       " ['love seats', 'bargain love seats'],\n",
       " ['recliners', 'recliners price'],\n",
       " ['recliners', 'price recliners'],\n",
       " ['recliners', 'recliners affordable'],\n",
       " ['recliners', 'affordable recliners'],\n",
       " ['recliners', 'recliners budget'],\n",
       " ['recliners', 'budget recliners'],\n",
       " ['recliners', 'recliners good-value'],\n",
       " ['recliners', 'good-value recliners'],\n",
       " ['recliners', 'recliners economical'],\n",
       " ['recliners', 'economical recliners'],\n",
       " ['recliners', 'recliners bargain'],\n",
       " ['recliners', 'bargain recliners'],\n",
       " ['sofa beds', 'sofa beds price'],\n",
       " ['sofa beds', 'price sofa beds'],\n",
       " ['sofa beds', 'sofa beds affordable'],\n",
       " ['sofa beds', 'affordable sofa beds'],\n",
       " ['sofa beds', 'sofa beds budget'],\n",
       " ['sofa beds', 'budget sofa beds'],\n",
       " ['sofa beds', 'sofa beds good-value'],\n",
       " ['sofa beds', 'good-value sofa beds'],\n",
       " ['sofa beds', 'sofa beds economical'],\n",
       " ['sofa beds', 'economical sofa beds'],\n",
       " ['sofa beds', 'sofa beds bargain'],\n",
       " ['sofa beds', 'bargain sofa beds']]"
      ]
     },
     "execution_count": 4,
     "metadata": {},
     "output_type": "execute_result"
    }
   ],
   "source": [
    "for product in products:\n",
    "    for word in words:\n",
    "        Keyword.append([product, product + \" \" + word])\n",
    "        Keyword.append([product, word + \" \" + product])\n",
    "        \n",
    "Keyword"
   ]
  },
  {
   "cell_type": "code",
   "execution_count": 5,
   "id": "bf4e055f-9186-446a-981a-1a650641eec3",
   "metadata": {
    "executionCancelledAt": null,
    "executionTime": 56,
    "lastExecutedAt": 1724338742404,
    "lastExecutedByKernel": "fe275b9a-c082-4f78-a639-e40da87671e1",
    "lastScheduledRunId": null,
    "lastSuccessfullyExecutedCode": "keywords_df = pd.DataFrame(Keyword)\nkeywords_df.rename(columns = {0 : \"Ad Group\", 1 : \"Keyword\"}, inplace = True)"
   },
   "outputs": [],
   "source": [
    "keywords_df = pd.DataFrame(Keyword)\n",
    "keywords_df.rename(columns = {0 : \"Ad Group\", 1 : \"Keyword\"}, inplace = True)"
   ]
  },
  {
   "cell_type": "code",
   "execution_count": 6,
   "id": "77a7ff46-6cc5-4952-a3f1-fbea679249b9",
   "metadata": {
    "executionCancelledAt": null,
    "executionTime": 56,
    "lastExecutedAt": 1724338742460,
    "lastExecutedByKernel": "fe275b9a-c082-4f78-a639-e40da87671e1",
    "lastScheduledRunId": null,
    "lastSuccessfullyExecutedCode": "keywords_df[\"Campaign\"] = \"SEM_Sofas\"\nkeywords_df[\"Criterion Type\"] = \"Exact\"\nkeywords_df.head()",
    "outputsMetadata": {
     "0": {
      "height": 196,
      "type": "dataFrame"
     }
    }
   },
   "outputs": [
    {
     "data": {
      "application/vnd.microsoft.datawrangler.viewer.v0+json": {
       "columns": [
        {
         "name": "index",
         "rawType": "int64",
         "type": "integer"
        },
        {
         "name": "Ad Group",
         "rawType": "object",
         "type": "string"
        },
        {
         "name": "Keyword",
         "rawType": "object",
         "type": "string"
        },
        {
         "name": "Campaign",
         "rawType": "object",
         "type": "string"
        },
        {
         "name": "Criterion Type",
         "rawType": "object",
         "type": "string"
        }
       ],
       "conversionMethod": "pd.DataFrame",
       "ref": "abf62c02-e72c-49bc-8527-f996775162fa",
       "rows": [
        [
         "0",
         "sofas",
         "sofas price",
         "SEM_Sofas",
         "Exact"
        ],
        [
         "1",
         "sofas",
         "price sofas",
         "SEM_Sofas",
         "Exact"
        ],
        [
         "2",
         "sofas",
         "sofas affordable",
         "SEM_Sofas",
         "Exact"
        ],
        [
         "3",
         "sofas",
         "affordable sofas",
         "SEM_Sofas",
         "Exact"
        ],
        [
         "4",
         "sofas",
         "sofas budget",
         "SEM_Sofas",
         "Exact"
        ]
       ],
       "shape": {
        "columns": 4,
        "rows": 5
       }
      },
      "text/html": [
       "<div>\n",
       "<style scoped>\n",
       "    .dataframe tbody tr th:only-of-type {\n",
       "        vertical-align: middle;\n",
       "    }\n",
       "\n",
       "    .dataframe tbody tr th {\n",
       "        vertical-align: top;\n",
       "    }\n",
       "\n",
       "    .dataframe thead th {\n",
       "        text-align: right;\n",
       "    }\n",
       "</style>\n",
       "<table border=\"1\" class=\"dataframe\">\n",
       "  <thead>\n",
       "    <tr style=\"text-align: right;\">\n",
       "      <th></th>\n",
       "      <th>Ad Group</th>\n",
       "      <th>Keyword</th>\n",
       "      <th>Campaign</th>\n",
       "      <th>Criterion Type</th>\n",
       "    </tr>\n",
       "  </thead>\n",
       "  <tbody>\n",
       "    <tr>\n",
       "      <th>0</th>\n",
       "      <td>sofas</td>\n",
       "      <td>sofas price</td>\n",
       "      <td>SEM_Sofas</td>\n",
       "      <td>Exact</td>\n",
       "    </tr>\n",
       "    <tr>\n",
       "      <th>1</th>\n",
       "      <td>sofas</td>\n",
       "      <td>price sofas</td>\n",
       "      <td>SEM_Sofas</td>\n",
       "      <td>Exact</td>\n",
       "    </tr>\n",
       "    <tr>\n",
       "      <th>2</th>\n",
       "      <td>sofas</td>\n",
       "      <td>sofas affordable</td>\n",
       "      <td>SEM_Sofas</td>\n",
       "      <td>Exact</td>\n",
       "    </tr>\n",
       "    <tr>\n",
       "      <th>3</th>\n",
       "      <td>sofas</td>\n",
       "      <td>affordable sofas</td>\n",
       "      <td>SEM_Sofas</td>\n",
       "      <td>Exact</td>\n",
       "    </tr>\n",
       "    <tr>\n",
       "      <th>4</th>\n",
       "      <td>sofas</td>\n",
       "      <td>sofas budget</td>\n",
       "      <td>SEM_Sofas</td>\n",
       "      <td>Exact</td>\n",
       "    </tr>\n",
       "  </tbody>\n",
       "</table>\n",
       "</div>"
      ],
      "text/plain": [
       "  Ad Group           Keyword   Campaign Criterion Type\n",
       "0    sofas       sofas price  SEM_Sofas          Exact\n",
       "1    sofas       price sofas  SEM_Sofas          Exact\n",
       "2    sofas  sofas affordable  SEM_Sofas          Exact\n",
       "3    sofas  affordable sofas  SEM_Sofas          Exact\n",
       "4    sofas      sofas budget  SEM_Sofas          Exact"
      ]
     },
     "execution_count": 6,
     "metadata": {},
     "output_type": "execute_result"
    }
   ],
   "source": [
    "keywords_df[\"Campaign\"] = \"SEM_Sofas\"\n",
    "keywords_df[\"Criterion Type\"] = \"Exact\"\n",
    "keywords_df.head()"
   ]
  },
  {
   "cell_type": "code",
   "execution_count": 7,
   "id": "7facd39b-b09f-46a4-b843-d7a394b72d5d",
   "metadata": {
    "executionCancelledAt": null,
    "executionTime": 56,
    "lastExecutedAt": 1724338742516,
    "lastExecutedByKernel": "fe275b9a-c082-4f78-a639-e40da87671e1",
    "lastScheduledRunId": null,
    "lastSuccessfullyExecutedCode": "keywords_df.to_csv(\"keywords.csv\")"
   },
   "outputs": [],
   "source": [
    "keywords_df.to_csv(\"keywords.csv\")"
   ]
  }
 ],
 "metadata": {
  "colab": {
   "name": "Welcome to DataCamp Workspaces.ipynb",
   "provenance": []
  },
  "kernelspec": {
   "display_name": "base",
   "language": "python",
   "name": "python3"
  },
  "language_info": {
   "codemirror_mode": {
    "name": "ipython",
    "version": 3
   },
   "file_extension": ".py",
   "mimetype": "text/x-python",
   "name": "python",
   "nbconvert_exporter": "python",
   "pygments_lexer": "ipython3",
   "version": "3.12.4"
  }
 },
 "nbformat": 4,
 "nbformat_minor": 5
}
