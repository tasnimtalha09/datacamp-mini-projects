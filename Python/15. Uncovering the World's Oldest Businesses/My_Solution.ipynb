{
 "cells": [
  {
   "cell_type": "markdown",
   "id": "a72c3591-e237-49ba-b20f-a739b27b5a7e",
   "metadata": {},
   "source": [
    "<center><img src=\"MKn_Staffelter_Hof.jpeg\" alt=\"Picture of old business\"</center>\n",
    "<!--Image Credit: Martin Kraft https://commons.wikimedia.org/wiki/File:MKn_Staffelter_Hof.jpg -->"
   ]
  },
  {
   "cell_type": "markdown",
   "id": "3093f28a-1efc-4811-899f-278d698bd09b",
   "metadata": {},
   "source": [
    "Staffelter Hof Winery is Germany's oldest business, established in 862 under the Carolingian dynasty. It has continued to serve customers through dramatic changes in Europe, such as the Holy Roman Empire, the Ottoman Empire, and both world wars. What characteristics enable a business to stand the test of time?\n",
    "\n",
    "To help answer this question, BusinessFinancing.co.uk researched the oldest company still in business in **almost** every country and compiled the results into several CSV files. This dataset has been cleaned.\n",
    "\n",
    "Having useful information in different files is a common problem. While it's better to keep different types of data separate for data storage, you'll want all the data in one place for analysis. You'll use joining and data manipulation to work with this data and better understand the world's oldest businesses.\n",
    "\n",
    "## The Data\n",
    "`data/businesses.csv` and `data/new_businesses.csv`\n",
    "|Column|Description|\n",
    "|------|-----------|\n",
    "|`business`|Name of the business (varchar)|\n",
    "|`year_founded`|Year the business was founded (int)|\n",
    "|`category_code`|Code for the business category (varchar)|\n",
    "|`country_code`|ISO 3166-1 three-letter country code (char)|\n",
    "\n",
    "`data/countries.csv`\n",
    "|Column|Description|\n",
    "|------|-----------|\n",
    "|`country_code`|ISO 3166-1 three-letter country code (varchar)|\n",
    "|`country`|Name of the country (varchar)|\n",
    "|`continent`|Name of the continent the country exists in (varchar)|\n",
    "\n",
    "`data/categories.csv`\n",
    "|Column|Description|\n",
    "|------|-----------|\n",
    "|`category_code`|Code for the business category (varchar)|\n",
    "|`category`|Description of the business category (varchar)|"
   ]
  },
  {
   "cell_type": "markdown",
   "id": "704b50a1",
   "metadata": {},
   "source": [
    "## Questions\n",
    "\n",
    "1. What is the oldest business on each continent?\n",
    "2. How many countries per continent lack data on the oldest businesses? Does including new_businesses change this? Count the number of countries per continent missing business data, including new_businesses, and store the results in a DataFrame named count_missing with columns for the continent and the count.\n",
    "3. Which business categories are best suited to last many years, and on what continent are they?"
   ]
  },
  {
   "cell_type": "code",
   "execution_count": 1,
   "id": "113ca14a-42b7-4bee-bc8a-349e2b4368cf",
   "metadata": {
    "executionCancelledAt": null,
    "executionTime": 31,
    "lastExecutedAt": 1728180837585,
    "lastExecutedByKernel": "88f6369f-7cdd-4b85-b3ca-a81d31ca77f7",
    "lastScheduledRunId": null,
    "lastSuccessfullyExecutedCode": "# Import necessary libraries\nimport pandas as pd\n\n# Load the data\nbusinesses = pd.read_csv(\"data/businesses.csv\")\nnew_businesses = pd.read_csv(\"data/new_businesses.csv\")\ncountries = pd.read_csv(\"data/countries.csv\")\ncategories = pd.read_csv(\"data/categories.csv\")"
   },
   "outputs": [],
   "source": [
    "# Import necessary libraries\n",
    "import pandas as pd\n",
    "\n",
    "# Load the data\n",
    "businesses = pd.read_csv(\"data/businesses.csv\")\n",
    "new_businesses = pd.read_csv(\"data/new_businesses.csv\")\n",
    "countries = pd.read_csv(\"data/countries.csv\")\n",
    "categories = pd.read_csv(\"data/categories.csv\")"
   ]
  },
  {
   "cell_type": "code",
   "execution_count": 2,
   "id": "185be0b1-702c-49d0-87ba-a3d9098686fc",
   "metadata": {
    "executionCancelledAt": null,
    "executionTime": 60,
    "lastExecutedAt": 1728180837645,
    "lastExecutedByKernel": "88f6369f-7cdd-4b85-b3ca-a81d31ca77f7",
    "lastScheduledRunId": null,
    "lastSuccessfullyExecutedCode": "businesses.head()"
   },
   "outputs": [
    {
     "data": {
      "application/vnd.microsoft.datawrangler.viewer.v0+json": {
       "columns": [
        {
         "name": "index",
         "rawType": "int64",
         "type": "integer"
        },
        {
         "name": "business",
         "rawType": "object",
         "type": "string"
        },
        {
         "name": "year_founded",
         "rawType": "int64",
         "type": "integer"
        },
        {
         "name": "category_code",
         "rawType": "object",
         "type": "string"
        },
        {
         "name": "country_code",
         "rawType": "object",
         "type": "string"
        }
       ],
       "conversionMethod": "pd.DataFrame",
       "ref": "82ff281d-90b3-42f8-abd4-c7db8b4edf22",
       "rows": [
        [
         "0",
         "Hamoud Boualem",
         "1878",
         "CAT11",
         "DZA"
        ],
        [
         "1",
         "Communauté Électrique du Bénin",
         "1968",
         "CAT10",
         "BEN"
        ],
        [
         "2",
         "Botswana Meat Commission",
         "1965",
         "CAT1",
         "BWA"
        ],
        [
         "3",
         "Air Burkina",
         "1967",
         "CAT2",
         "BFA"
        ],
        [
         "4",
         "Brarudi",
         "1955",
         "CAT9",
         "BDI"
        ]
       ],
       "shape": {
        "columns": 4,
        "rows": 5
       }
      },
      "text/html": [
       "<div>\n",
       "<style scoped>\n",
       "    .dataframe tbody tr th:only-of-type {\n",
       "        vertical-align: middle;\n",
       "    }\n",
       "\n",
       "    .dataframe tbody tr th {\n",
       "        vertical-align: top;\n",
       "    }\n",
       "\n",
       "    .dataframe thead th {\n",
       "        text-align: right;\n",
       "    }\n",
       "</style>\n",
       "<table border=\"1\" class=\"dataframe\">\n",
       "  <thead>\n",
       "    <tr style=\"text-align: right;\">\n",
       "      <th></th>\n",
       "      <th>business</th>\n",
       "      <th>year_founded</th>\n",
       "      <th>category_code</th>\n",
       "      <th>country_code</th>\n",
       "    </tr>\n",
       "  </thead>\n",
       "  <tbody>\n",
       "    <tr>\n",
       "      <th>0</th>\n",
       "      <td>Hamoud Boualem</td>\n",
       "      <td>1878</td>\n",
       "      <td>CAT11</td>\n",
       "      <td>DZA</td>\n",
       "    </tr>\n",
       "    <tr>\n",
       "      <th>1</th>\n",
       "      <td>Communauté Électrique du Bénin</td>\n",
       "      <td>1968</td>\n",
       "      <td>CAT10</td>\n",
       "      <td>BEN</td>\n",
       "    </tr>\n",
       "    <tr>\n",
       "      <th>2</th>\n",
       "      <td>Botswana Meat Commission</td>\n",
       "      <td>1965</td>\n",
       "      <td>CAT1</td>\n",
       "      <td>BWA</td>\n",
       "    </tr>\n",
       "    <tr>\n",
       "      <th>3</th>\n",
       "      <td>Air Burkina</td>\n",
       "      <td>1967</td>\n",
       "      <td>CAT2</td>\n",
       "      <td>BFA</td>\n",
       "    </tr>\n",
       "    <tr>\n",
       "      <th>4</th>\n",
       "      <td>Brarudi</td>\n",
       "      <td>1955</td>\n",
       "      <td>CAT9</td>\n",
       "      <td>BDI</td>\n",
       "    </tr>\n",
       "  </tbody>\n",
       "</table>\n",
       "</div>"
      ],
      "text/plain": [
       "                         business  year_founded category_code country_code\n",
       "0                  Hamoud Boualem          1878         CAT11          DZA\n",
       "1  Communauté Électrique du Bénin          1968         CAT10          BEN\n",
       "2        Botswana Meat Commission          1965          CAT1          BWA\n",
       "3                     Air Burkina          1967          CAT2          BFA\n",
       "4                         Brarudi          1955          CAT9          BDI"
      ]
     },
     "execution_count": 2,
     "metadata": {},
     "output_type": "execute_result"
    }
   ],
   "source": [
    "businesses.head()"
   ]
  },
  {
   "cell_type": "code",
   "execution_count": 3,
   "id": "4c649526-a0c1-4f06-ab3f-038e4260d75c",
   "metadata": {
    "executionCancelledAt": null,
    "executionTime": 60,
    "lastExecutedAt": 1728180837705,
    "lastExecutedByKernel": "88f6369f-7cdd-4b85-b3ca-a81d31ca77f7",
    "lastScheduledRunId": null,
    "lastSuccessfullyExecutedCode": "new_businesses"
   },
   "outputs": [
    {
     "data": {
      "application/vnd.microsoft.datawrangler.viewer.v0+json": {
       "columns": [
        {
         "name": "index",
         "rawType": "int64",
         "type": "integer"
        },
        {
         "name": "business",
         "rawType": "object",
         "type": "string"
        },
        {
         "name": "year_founded",
         "rawType": "int64",
         "type": "integer"
        },
        {
         "name": "category_code",
         "rawType": "object",
         "type": "string"
        },
        {
         "name": "country_code",
         "rawType": "object",
         "type": "string"
        }
       ],
       "conversionMethod": "pd.DataFrame",
       "ref": "8eb083ac-9887-48da-9669-d872d3dd73e5",
       "rows": [
        [
         "0",
         "Fiji Times",
         "1869",
         "CAT13",
         "FJI"
        ],
        [
         "1",
         "J. Armando Bermúdez & Co.",
         "1852",
         "CAT9",
         "DOM"
        ]
       ],
       "shape": {
        "columns": 4,
        "rows": 2
       }
      },
      "text/html": [
       "<div>\n",
       "<style scoped>\n",
       "    .dataframe tbody tr th:only-of-type {\n",
       "        vertical-align: middle;\n",
       "    }\n",
       "\n",
       "    .dataframe tbody tr th {\n",
       "        vertical-align: top;\n",
       "    }\n",
       "\n",
       "    .dataframe thead th {\n",
       "        text-align: right;\n",
       "    }\n",
       "</style>\n",
       "<table border=\"1\" class=\"dataframe\">\n",
       "  <thead>\n",
       "    <tr style=\"text-align: right;\">\n",
       "      <th></th>\n",
       "      <th>business</th>\n",
       "      <th>year_founded</th>\n",
       "      <th>category_code</th>\n",
       "      <th>country_code</th>\n",
       "    </tr>\n",
       "  </thead>\n",
       "  <tbody>\n",
       "    <tr>\n",
       "      <th>0</th>\n",
       "      <td>Fiji Times</td>\n",
       "      <td>1869</td>\n",
       "      <td>CAT13</td>\n",
       "      <td>FJI</td>\n",
       "    </tr>\n",
       "    <tr>\n",
       "      <th>1</th>\n",
       "      <td>J. Armando Bermúdez &amp; Co.</td>\n",
       "      <td>1852</td>\n",
       "      <td>CAT9</td>\n",
       "      <td>DOM</td>\n",
       "    </tr>\n",
       "  </tbody>\n",
       "</table>\n",
       "</div>"
      ],
      "text/plain": [
       "                    business  year_founded category_code country_code\n",
       "0                 Fiji Times          1869         CAT13          FJI\n",
       "1  J. Armando Bermúdez & Co.          1852          CAT9          DOM"
      ]
     },
     "execution_count": 3,
     "metadata": {},
     "output_type": "execute_result"
    }
   ],
   "source": [
    "new_businesses"
   ]
  },
  {
   "cell_type": "code",
   "execution_count": 4,
   "id": "30f39da9-46ef-46f2-a51c-aea5ca85985f",
   "metadata": {
    "executionCancelledAt": null,
    "executionTime": 55,
    "lastExecutedAt": 1728180837760,
    "lastExecutedByKernel": "88f6369f-7cdd-4b85-b3ca-a81d31ca77f7",
    "lastScheduledRunId": null,
    "lastSuccessfullyExecutedCode": "countries.head()"
   },
   "outputs": [
    {
     "data": {
      "application/vnd.microsoft.datawrangler.viewer.v0+json": {
       "columns": [
        {
         "name": "index",
         "rawType": "int64",
         "type": "integer"
        },
        {
         "name": "country_code",
         "rawType": "object",
         "type": "string"
        },
        {
         "name": "country",
         "rawType": "object",
         "type": "string"
        },
        {
         "name": "continent",
         "rawType": "object",
         "type": "string"
        }
       ],
       "conversionMethod": "pd.DataFrame",
       "ref": "157f2fba-7822-4229-ab23-7c7c702621aa",
       "rows": [
        [
         "0",
         "AFG",
         "Afghanistan",
         "Asia"
        ],
        [
         "1",
         "AGO",
         "Angola",
         "Africa"
        ],
        [
         "2",
         "ALB",
         "Albania",
         "Europe"
        ],
        [
         "3",
         "AND",
         "Andorra",
         "Europe"
        ],
        [
         "4",
         "ARE",
         "United Arab Emirates",
         "Asia"
        ]
       ],
       "shape": {
        "columns": 3,
        "rows": 5
       }
      },
      "text/html": [
       "<div>\n",
       "<style scoped>\n",
       "    .dataframe tbody tr th:only-of-type {\n",
       "        vertical-align: middle;\n",
       "    }\n",
       "\n",
       "    .dataframe tbody tr th {\n",
       "        vertical-align: top;\n",
       "    }\n",
       "\n",
       "    .dataframe thead th {\n",
       "        text-align: right;\n",
       "    }\n",
       "</style>\n",
       "<table border=\"1\" class=\"dataframe\">\n",
       "  <thead>\n",
       "    <tr style=\"text-align: right;\">\n",
       "      <th></th>\n",
       "      <th>country_code</th>\n",
       "      <th>country</th>\n",
       "      <th>continent</th>\n",
       "    </tr>\n",
       "  </thead>\n",
       "  <tbody>\n",
       "    <tr>\n",
       "      <th>0</th>\n",
       "      <td>AFG</td>\n",
       "      <td>Afghanistan</td>\n",
       "      <td>Asia</td>\n",
       "    </tr>\n",
       "    <tr>\n",
       "      <th>1</th>\n",
       "      <td>AGO</td>\n",
       "      <td>Angola</td>\n",
       "      <td>Africa</td>\n",
       "    </tr>\n",
       "    <tr>\n",
       "      <th>2</th>\n",
       "      <td>ALB</td>\n",
       "      <td>Albania</td>\n",
       "      <td>Europe</td>\n",
       "    </tr>\n",
       "    <tr>\n",
       "      <th>3</th>\n",
       "      <td>AND</td>\n",
       "      <td>Andorra</td>\n",
       "      <td>Europe</td>\n",
       "    </tr>\n",
       "    <tr>\n",
       "      <th>4</th>\n",
       "      <td>ARE</td>\n",
       "      <td>United Arab Emirates</td>\n",
       "      <td>Asia</td>\n",
       "    </tr>\n",
       "  </tbody>\n",
       "</table>\n",
       "</div>"
      ],
      "text/plain": [
       "  country_code               country continent\n",
       "0          AFG           Afghanistan      Asia\n",
       "1          AGO                Angola    Africa\n",
       "2          ALB               Albania    Europe\n",
       "3          AND               Andorra    Europe\n",
       "4          ARE  United Arab Emirates      Asia"
      ]
     },
     "execution_count": 4,
     "metadata": {},
     "output_type": "execute_result"
    }
   ],
   "source": [
    "countries.head()"
   ]
  },
  {
   "cell_type": "code",
   "execution_count": 5,
   "id": "98e4ff8a-f082-41b1-b02e-685709070eba",
   "metadata": {
    "executionCancelledAt": null,
    "executionTime": 57,
    "lastExecutedAt": 1728180837817,
    "lastExecutedByKernel": "88f6369f-7cdd-4b85-b3ca-a81d31ca77f7",
    "lastScheduledRunId": null,
    "lastSuccessfullyExecutedCode": "categories.head()"
   },
   "outputs": [
    {
     "data": {
      "application/vnd.microsoft.datawrangler.viewer.v0+json": {
       "columns": [
        {
         "name": "index",
         "rawType": "int64",
         "type": "integer"
        },
        {
         "name": "category_code",
         "rawType": "object",
         "type": "string"
        },
        {
         "name": "category",
         "rawType": "object",
         "type": "string"
        }
       ],
       "conversionMethod": "pd.DataFrame",
       "ref": "a2963ff9-1c01-4fd5-8973-1fb5a0aa397d",
       "rows": [
        [
         "0",
         "CAT1",
         "Agriculture"
        ],
        [
         "1",
         "CAT2",
         "Aviation & Transport"
        ],
        [
         "2",
         "CAT3",
         "Banking & Finance"
        ],
        [
         "3",
         "CAT4",
         "Cafés, Restaurants & Bars"
        ],
        [
         "4",
         "CAT5",
         "Conglomerate"
        ]
       ],
       "shape": {
        "columns": 2,
        "rows": 5
       }
      },
      "text/html": [
       "<div>\n",
       "<style scoped>\n",
       "    .dataframe tbody tr th:only-of-type {\n",
       "        vertical-align: middle;\n",
       "    }\n",
       "\n",
       "    .dataframe tbody tr th {\n",
       "        vertical-align: top;\n",
       "    }\n",
       "\n",
       "    .dataframe thead th {\n",
       "        text-align: right;\n",
       "    }\n",
       "</style>\n",
       "<table border=\"1\" class=\"dataframe\">\n",
       "  <thead>\n",
       "    <tr style=\"text-align: right;\">\n",
       "      <th></th>\n",
       "      <th>category_code</th>\n",
       "      <th>category</th>\n",
       "    </tr>\n",
       "  </thead>\n",
       "  <tbody>\n",
       "    <tr>\n",
       "      <th>0</th>\n",
       "      <td>CAT1</td>\n",
       "      <td>Agriculture</td>\n",
       "    </tr>\n",
       "    <tr>\n",
       "      <th>1</th>\n",
       "      <td>CAT2</td>\n",
       "      <td>Aviation &amp; Transport</td>\n",
       "    </tr>\n",
       "    <tr>\n",
       "      <th>2</th>\n",
       "      <td>CAT3</td>\n",
       "      <td>Banking &amp; Finance</td>\n",
       "    </tr>\n",
       "    <tr>\n",
       "      <th>3</th>\n",
       "      <td>CAT4</td>\n",
       "      <td>Cafés, Restaurants &amp; Bars</td>\n",
       "    </tr>\n",
       "    <tr>\n",
       "      <th>4</th>\n",
       "      <td>CAT5</td>\n",
       "      <td>Conglomerate</td>\n",
       "    </tr>\n",
       "  </tbody>\n",
       "</table>\n",
       "</div>"
      ],
      "text/plain": [
       "  category_code                   category\n",
       "0          CAT1                Agriculture\n",
       "1          CAT2       Aviation & Transport\n",
       "2          CAT3          Banking & Finance\n",
       "3          CAT4  Cafés, Restaurants & Bars\n",
       "4          CAT5               Conglomerate"
      ]
     },
     "execution_count": 5,
     "metadata": {},
     "output_type": "execute_result"
    }
   ],
   "source": [
    "categories.head()"
   ]
  },
  {
   "cell_type": "code",
   "execution_count": 6,
   "id": "15014715-9a28-4185-be70-a0007751f80c",
   "metadata": {
    "executionCancelledAt": null,
    "executionTime": 52,
    "lastExecutedAt": 1728180837869,
    "lastExecutedByKernel": "88f6369f-7cdd-4b85-b3ca-a81d31ca77f7",
    "lastScheduledRunId": null,
    "lastSuccessfullyExecutedCode": "all_businesses = pd.concat([businesses, new_businesses], axis = 0)\ncountry_businesses = pd.merge(left = countries, right = all_businesses, on = \"country_code\", how = \"left\")\ncountry_businesses_clean = country_businesses[[\"continent\", \"country\", \"business\", \"year_founded\"]]\ncountry_businesses_clean.value_counts(\"continent\")"
   },
   "outputs": [
    {
     "data": {
      "text/plain": [
       "continent\n",
       "Africa           53\n",
       "Asia             49\n",
       "Europe           44\n",
       "North America    23\n",
       "Oceania          14\n",
       "South America    12\n",
       "Name: count, dtype: int64"
      ]
     },
     "execution_count": 6,
     "metadata": {},
     "output_type": "execute_result"
    }
   ],
   "source": [
    "all_businesses = pd.concat([businesses, new_businesses], axis = 0)\n",
    "country_businesses = pd.merge(left = countries, right = all_businesses, on = \"country_code\", how = \"left\")\n",
    "country_businesses_clean = country_businesses[[\"continent\", \"country\", \"business\", \"year_founded\"]]\n",
    "country_businesses_clean.value_counts(\"continent\")"
   ]
  },
  {
   "cell_type": "code",
   "execution_count": 7,
   "id": "5e93a530-201d-46ed-9b23-0a10ec4d226d",
   "metadata": {
    "executionCancelledAt": null,
    "executionTime": 51,
    "lastExecutedAt": 1728180837920,
    "lastExecutedByKernel": "88f6369f-7cdd-4b85-b3ca-a81d31ca77f7",
    "lastScheduledRunId": null,
    "lastSuccessfullyExecutedCode": "oldest_Asia = country_businesses_clean[country_businesses_clean[\"continent\"] == \"Asia\"].sort_values(by = \"year_founded\").iloc[:1]\noldest_Africa = country_businesses_clean[country_businesses_clean[\"continent\"] == \"Africa\"].sort_values(by = \"year_founded\").iloc[:1]\noldest_Europe = country_businesses_clean[country_businesses_clean[\"continent\"] == \"Europe\"].sort_values(by = \"year_founded\").iloc[:1]\noldest_N_America = country_businesses_clean[country_businesses_clean[\"continent\"] == \"North America\"].sort_values(by = \"year_founded\").iloc[:1]\noldest_S_America = country_businesses_clean[country_businesses_clean[\"continent\"] == \"South America\"].sort_values(by = \"year_founded\").iloc[:1]\noldest_Oceania = country_businesses_clean[country_businesses_clean[\"continent\"] == \"Oceania\"].sort_values(by = \"year_founded\").iloc[:1]",
    "outputsMetadata": {
     "0": {
      "height": 269,
      "type": "stream"
     }
    }
   },
   "outputs": [],
   "source": [
    "oldest_Asia = country_businesses_clean[country_businesses_clean[\"continent\"] == \"Asia\"].sort_values(by = \"year_founded\").iloc[:1]\n",
    "oldest_Africa = country_businesses_clean[country_businesses_clean[\"continent\"] == \"Africa\"].sort_values(by = \"year_founded\").iloc[:1]\n",
    "oldest_Europe = country_businesses_clean[country_businesses_clean[\"continent\"] == \"Europe\"].sort_values(by = \"year_founded\").iloc[:1]\n",
    "oldest_N_America = country_businesses_clean[country_businesses_clean[\"continent\"] == \"North America\"].sort_values(by = \"year_founded\").iloc[:1]\n",
    "oldest_S_America = country_businesses_clean[country_businesses_clean[\"continent\"] == \"South America\"].sort_values(by = \"year_founded\").iloc[:1]\n",
    "oldest_Oceania = country_businesses_clean[country_businesses_clean[\"continent\"] == \"Oceania\"].sort_values(by = \"year_founded\").iloc[:1]"
   ]
  },
  {
   "cell_type": "code",
   "execution_count": 8,
   "id": "21512430-c655-4b57-a240-9f32a187761f",
   "metadata": {
    "executionCancelledAt": null,
    "executionTime": 53,
    "lastExecutedAt": 1728180837973,
    "lastExecutedByKernel": "88f6369f-7cdd-4b85-b3ca-a81d31ca77f7",
    "lastScheduledRunId": null,
    "lastSuccessfullyExecutedCode": "oldest_business_continent = pd.concat([oldest_Asia, oldest_Africa, oldest_Europe, oldest_N_America, oldest_S_America, oldest_Oceania], axis = 0)\noldest_business_continent"
   },
   "outputs": [
    {
     "data": {
      "application/vnd.microsoft.datawrangler.viewer.v0+json": {
       "columns": [
        {
         "name": "index",
         "rawType": "int64",
         "type": "integer"
        },
        {
         "name": "continent",
         "rawType": "object",
         "type": "string"
        },
        {
         "name": "country",
         "rawType": "object",
         "type": "string"
        },
        {
         "name": "business",
         "rawType": "object",
         "type": "string"
        },
        {
         "name": "year_founded",
         "rawType": "float64",
         "type": "float"
        }
       ],
       "conversionMethod": "pd.DataFrame",
       "ref": "d8f261b9-e89b-4421-8e01-ea6cc9aa69d6",
       "rows": [
        [
         "86",
         "Asia",
         "Japan",
         "Kongō Gumi",
         "578.0"
        ],
        [
         "121",
         "Africa",
         "Mauritius",
         "Mauritius Post",
         "1772.0"
        ],
        [
         "9",
         "Europe",
         "Austria",
         "St. Peter Stifts Kulinarium",
         "803.0"
        ],
        [
         "111",
         "North America",
         "Mexico",
         "La Casa de Moneda de México",
         "1534.0"
        ],
        [
         "136",
         "South America",
         "Peru",
         "Casa Nacional de Moneda",
         "1565.0"
        ],
        [
         "8",
         "Oceania",
         "Australia",
         "Australia Post",
         "1809.0"
        ]
       ],
       "shape": {
        "columns": 4,
        "rows": 6
       }
      },
      "text/html": [
       "<div>\n",
       "<style scoped>\n",
       "    .dataframe tbody tr th:only-of-type {\n",
       "        vertical-align: middle;\n",
       "    }\n",
       "\n",
       "    .dataframe tbody tr th {\n",
       "        vertical-align: top;\n",
       "    }\n",
       "\n",
       "    .dataframe thead th {\n",
       "        text-align: right;\n",
       "    }\n",
       "</style>\n",
       "<table border=\"1\" class=\"dataframe\">\n",
       "  <thead>\n",
       "    <tr style=\"text-align: right;\">\n",
       "      <th></th>\n",
       "      <th>continent</th>\n",
       "      <th>country</th>\n",
       "      <th>business</th>\n",
       "      <th>year_founded</th>\n",
       "    </tr>\n",
       "  </thead>\n",
       "  <tbody>\n",
       "    <tr>\n",
       "      <th>86</th>\n",
       "      <td>Asia</td>\n",
       "      <td>Japan</td>\n",
       "      <td>Kongō Gumi</td>\n",
       "      <td>578.0</td>\n",
       "    </tr>\n",
       "    <tr>\n",
       "      <th>121</th>\n",
       "      <td>Africa</td>\n",
       "      <td>Mauritius</td>\n",
       "      <td>Mauritius Post</td>\n",
       "      <td>1772.0</td>\n",
       "    </tr>\n",
       "    <tr>\n",
       "      <th>9</th>\n",
       "      <td>Europe</td>\n",
       "      <td>Austria</td>\n",
       "      <td>St. Peter Stifts Kulinarium</td>\n",
       "      <td>803.0</td>\n",
       "    </tr>\n",
       "    <tr>\n",
       "      <th>111</th>\n",
       "      <td>North America</td>\n",
       "      <td>Mexico</td>\n",
       "      <td>La Casa de Moneda de México</td>\n",
       "      <td>1534.0</td>\n",
       "    </tr>\n",
       "    <tr>\n",
       "      <th>136</th>\n",
       "      <td>South America</td>\n",
       "      <td>Peru</td>\n",
       "      <td>Casa Nacional de Moneda</td>\n",
       "      <td>1565.0</td>\n",
       "    </tr>\n",
       "    <tr>\n",
       "      <th>8</th>\n",
       "      <td>Oceania</td>\n",
       "      <td>Australia</td>\n",
       "      <td>Australia Post</td>\n",
       "      <td>1809.0</td>\n",
       "    </tr>\n",
       "  </tbody>\n",
       "</table>\n",
       "</div>"
      ],
      "text/plain": [
       "         continent    country                     business  year_founded\n",
       "86            Asia      Japan                   Kongō Gumi         578.0\n",
       "121         Africa  Mauritius               Mauritius Post        1772.0\n",
       "9           Europe    Austria  St. Peter Stifts Kulinarium         803.0\n",
       "111  North America     Mexico  La Casa de Moneda de México        1534.0\n",
       "136  South America       Peru      Casa Nacional de Moneda        1565.0\n",
       "8          Oceania  Australia               Australia Post        1809.0"
      ]
     },
     "execution_count": 8,
     "metadata": {},
     "output_type": "execute_result"
    }
   ],
   "source": [
    "oldest_business_continent = pd.concat([oldest_Asia, oldest_Africa, oldest_Europe, oldest_N_America, oldest_S_America, oldest_Oceania], axis = 0)\n",
    "oldest_business_continent"
   ]
  },
  {
   "cell_type": "code",
   "execution_count": 9,
   "id": "d9e101fe-3661-426e-8136-675061451d03",
   "metadata": {
    "executionCancelledAt": null,
    "executionTime": 56,
    "lastExecutedAt": 1728180838029,
    "lastExecutedByKernel": "88f6369f-7cdd-4b85-b3ca-a81d31ca77f7",
    "lastScheduledRunId": null,
    "lastSuccessfullyExecutedCode": "country_businesses.isnull().sum()"
   },
   "outputs": [
    {
     "data": {
      "text/plain": [
       "country_code      0\n",
       "country           0\n",
       "continent         0\n",
       "business         30\n",
       "year_founded     30\n",
       "category_code    30\n",
       "dtype: int64"
      ]
     },
     "execution_count": 9,
     "metadata": {},
     "output_type": "execute_result"
    }
   ],
   "source": [
    "country_businesses.isnull().sum()"
   ]
  },
  {
   "cell_type": "code",
   "execution_count": 10,
   "id": "9a367d4b-0c90-4da8-9674-7ce06224ce7c",
   "metadata": {
    "executionCancelledAt": null,
    "executionTime": 53,
    "lastExecutedAt": 1728180838082,
    "lastExecutedByKernel": "88f6369f-7cdd-4b85-b3ca-a81d31ca77f7",
    "lastScheduledRunId": null,
    "lastSuccessfullyExecutedCode": "all_countries = pd.merge(left = all_businesses, right = countries, on = \"country_code\", how = \"outer\", indicator = True)\nall_countries"
   },
   "outputs": [
    {
     "data": {
      "application/vnd.microsoft.datawrangler.viewer.v0+json": {
       "columns": [
        {
         "name": "index",
         "rawType": "int64",
         "type": "integer"
        },
        {
         "name": "business",
         "rawType": "object",
         "type": "unknown"
        },
        {
         "name": "year_founded",
         "rawType": "float64",
         "type": "float"
        },
        {
         "name": "category_code",
         "rawType": "object",
         "type": "unknown"
        },
        {
         "name": "country_code",
         "rawType": "object",
         "type": "string"
        },
        {
         "name": "country",
         "rawType": "object",
         "type": "string"
        },
        {
         "name": "continent",
         "rawType": "object",
         "type": "string"
        },
        {
         "name": "_merge",
         "rawType": "category",
         "type": "unknown"
        }
       ],
       "conversionMethod": "pd.DataFrame",
       "ref": "0f834b9a-d174-4ef2-a040-8c16ff6553c3",
       "rows": [
        [
         "0",
         "Spinzar Cotton Company",
         "1930.0",
         "CAT1",
         "AFG",
         "Afghanistan",
         "Asia",
         "both"
        ],
        [
         "1",
         null,
         null,
         null,
         "AGO",
         "Angola",
         "Africa",
         "right_only"
        ],
        [
         "2",
         "ALBtelecom",
         "1912.0",
         "CAT18",
         "ALB",
         "Albania",
         "Europe",
         "both"
        ],
        [
         "3",
         "Andbank",
         "1930.0",
         "CAT3",
         "AND",
         "Andorra",
         "Europe",
         "both"
        ],
        [
         "4",
         "Liwa Chemicals",
         "1939.0",
         "CAT12",
         "ARE",
         "United Arab Emirates",
         "Asia",
         "both"
        ],
        [
         "5",
         "Bank of the Province of Buenos Aires",
         "1822.0",
         "CAT3",
         "ARG",
         "Argentina",
         "South America",
         "both"
        ],
        [
         "6",
         "Yerevan Ararat Brandy-Wine-Vodka Factory",
         "1877.0",
         "CAT9",
         "ARM",
         "Armenia",
         "Asia",
         "both"
        ],
        [
         "7",
         null,
         null,
         null,
         "ATG",
         "Antigua and Barbuda",
         "North America",
         "right_only"
        ],
        [
         "8",
         "Australia Post",
         "1809.0",
         "CAT16",
         "AUS",
         "Australia",
         "Oceania",
         "both"
        ],
        [
         "9",
         "St. Peter Stifts Kulinarium",
         "803.0",
         "CAT4",
         "AUT",
         "Austria",
         "Europe",
         "both"
        ],
        [
         "10",
         "Azerbaijan Caspian Shipping Company",
         "1858.0",
         "CAT2",
         "AZE",
         "Azerbaijan",
         "Asia",
         "both"
        ],
        [
         "11",
         "Brarudi",
         "1955.0",
         "CAT9",
         "BDI",
         "Burundi",
         "Africa",
         "both"
        ],
        [
         "12",
         "Affligem Brewery",
         "1074.0",
         "CAT9",
         "BEL",
         "Belgium",
         "Europe",
         "both"
        ],
        [
         "13",
         "Communauté Électrique du Bénin",
         "1968.0",
         "CAT10",
         "BEN",
         "Benin",
         "Africa",
         "both"
        ],
        [
         "14",
         "Air Burkina",
         "1967.0",
         "CAT2",
         "BFA",
         "Burkina Faso",
         "Africa",
         "both"
        ],
        [
         "15",
         "M. M. Ispahani Limited",
         "1820.0",
         "CAT11",
         "BGD",
         "Bangladesh",
         "Asia",
         "both"
        ],
        [
         "16",
         "Arsenal AD",
         "1878.0",
         "CAT8",
         "BGR",
         "Bulgaria",
         "Europe",
         "both"
        ],
        [
         "17",
         "BMMI",
         "1883.0",
         "CAT17",
         "BHR",
         "Bahrain",
         "Asia",
         "both"
        ],
        [
         "18",
         null,
         null,
         null,
         "BHS",
         "Bahamas",
         "North America",
         "right_only"
        ],
        [
         "19",
         "Sarajevska Pivara",
         "1864.0",
         "CAT9",
         "BIH",
         "Bosnia and Herzegovina",
         "Europe",
         "both"
        ],
        [
         "20",
         "Olivaria Brewery",
         "1864.0",
         "CAT9",
         "BLR",
         "Belarus",
         "Europe",
         "both"
        ],
        [
         "21",
         "Belize Bank",
         "1902.0",
         "CAT3",
         "BLZ",
         "Belize",
         "North America",
         "both"
        ],
        [
         "22",
         "Banco Nacional de Bolivia",
         "1871.0",
         "CAT3",
         "BOL",
         "Bolivia, Plurinational State of",
         "South America",
         "both"
        ],
        [
         "23",
         "Casa da Moeda do Brasil",
         "1694.0",
         "CAT12",
         "BRA",
         "Brazil",
         "South America",
         "both"
        ],
        [
         "24",
         "Mount Gay Rum",
         "1703.0",
         "CAT9",
         "BRB",
         "Barbados",
         "North America",
         "both"
        ],
        [
         "25",
         "Hua Ho Department Store",
         "1947.0",
         "CAT17",
         "BRN",
         "Brunei Darussalam",
         "Asia",
         "both"
        ],
        [
         "26",
         "Tashi Group",
         "1959.0",
         "CAT2",
         "BTN",
         "Bhutan",
         "Asia",
         "both"
        ],
        [
         "27",
         "Botswana Meat Commission",
         "1965.0",
         "CAT1",
         "BWA",
         "Botswana",
         "Africa",
         "both"
        ],
        [
         "28",
         "Banque Internationale pour la Centrafrique",
         "1946.0",
         "CAT3",
         "CAF",
         "Central African Republic",
         "Africa",
         "both"
        ],
        [
         "29",
         "Hudson's Bay Company",
         "1670.0",
         "CAT17",
         "CAN",
         "Canada",
         "North America",
         "both"
        ],
        [
         "30",
         "Gasthof Sternen",
         "1230.0",
         "CAT19",
         "CHE",
         "Switzerland",
         "Europe",
         "both"
        ],
        [
         "31",
         "Famae",
         "1811.0",
         "CAT8",
         "CHL",
         "Chile",
         "South America",
         "both"
        ],
        [
         "32",
         "Ma Yu Ching's Bucket Chicken House",
         "1153.0",
         "CAT4",
         "CHN",
         "China",
         "Asia",
         "both"
        ],
        [
         "33",
         "La Poste",
         "1945.0",
         "CAT16",
         "CIV",
         "Côte d'Ivoire",
         "Africa",
         "both"
        ],
        [
         "34",
         "Cameroon Development Corporation",
         "1947.0",
         "CAT1",
         "CMR",
         "Cameroon",
         "Africa",
         "both"
        ],
        [
         "35",
         "Société nationale des Chemins de fer du Congo",
         "1889.0",
         "CAT2",
         "COD",
         "Congo, The Democratic Republic of the",
         "Africa",
         "both"
        ],
        [
         "36",
         "Development Bank of the Central African States",
         "1975.0",
         "CAT3",
         "COG",
         "Congo",
         "Africa",
         "both"
        ],
        [
         "37",
         "Casa de Moneda de Colombia",
         "1621.0",
         "CAT12",
         "COL",
         "Colombia",
         "South America",
         "both"
        ],
        [
         "38",
         "Central Bank of the Comoros",
         "1981.0",
         "CAT3",
         "COM",
         "Comoros",
         "Africa",
         "both"
        ],
        [
         "39",
         "Correios de Cabo Verde",
         "1849.0",
         "CAT16",
         "CPV",
         "Cabo Verde",
         "Africa",
         "both"
        ],
        [
         "40",
         "Florida Ice and Farm Company",
         "1908.0",
         "CAT9",
         "CRI",
         "Costa Rica",
         "North America",
         "both"
        ],
        [
         "41",
         "Cubana de Aviación",
         "1929.0",
         "CAT2",
         "CUB",
         "Cuba",
         "North America",
         "both"
        ],
        [
         "42",
         "Bank of Cyprus",
         "1899.0",
         "CAT3",
         "CYP",
         "Cyprus",
         "Europe",
         "both"
        ],
        [
         "43",
         "Pivovar Broumov",
         "1348.0",
         "CAT9",
         "CZE",
         "Czechia",
         "Europe",
         "both"
        ],
        [
         "44",
         "Staffelter Hof Winery",
         "862.0",
         "CAT9",
         "DEU",
         "Germany",
         "Europe",
         "both"
        ],
        [
         "45",
         "Ethio-Djibouti Railways",
         "1901.0",
         "CAT2",
         "DJI",
         "Djibouti",
         "Africa",
         "both"
        ],
        [
         "46",
         "The Chronicle (Dominica)",
         "1909.0",
         "CAT13",
         "DMA",
         "Dominica",
         "North America",
         "both"
        ],
        [
         "47",
         "Munke Mølle",
         "1135.0",
         "CAT12",
         "DNK",
         "Denmark",
         "Europe",
         "both"
        ],
        [
         "48",
         "J. Armando Bermúdez & Co.",
         "1852.0",
         "CAT9",
         "DOM",
         "Dominican Republic",
         "North America",
         "both"
        ],
        [
         "49",
         "Hamoud Boualem",
         "1878.0",
         "CAT11",
         "DZA",
         "Algeria",
         "Africa",
         "both"
        ]
       ],
       "shape": {
        "columns": 7,
        "rows": 195
       }
      },
      "text/html": [
       "<div>\n",
       "<style scoped>\n",
       "    .dataframe tbody tr th:only-of-type {\n",
       "        vertical-align: middle;\n",
       "    }\n",
       "\n",
       "    .dataframe tbody tr th {\n",
       "        vertical-align: top;\n",
       "    }\n",
       "\n",
       "    .dataframe thead th {\n",
       "        text-align: right;\n",
       "    }\n",
       "</style>\n",
       "<table border=\"1\" class=\"dataframe\">\n",
       "  <thead>\n",
       "    <tr style=\"text-align: right;\">\n",
       "      <th></th>\n",
       "      <th>business</th>\n",
       "      <th>year_founded</th>\n",
       "      <th>category_code</th>\n",
       "      <th>country_code</th>\n",
       "      <th>country</th>\n",
       "      <th>continent</th>\n",
       "      <th>_merge</th>\n",
       "    </tr>\n",
       "  </thead>\n",
       "  <tbody>\n",
       "    <tr>\n",
       "      <th>0</th>\n",
       "      <td>Spinzar Cotton Company</td>\n",
       "      <td>1930.0</td>\n",
       "      <td>CAT1</td>\n",
       "      <td>AFG</td>\n",
       "      <td>Afghanistan</td>\n",
       "      <td>Asia</td>\n",
       "      <td>both</td>\n",
       "    </tr>\n",
       "    <tr>\n",
       "      <th>1</th>\n",
       "      <td>NaN</td>\n",
       "      <td>NaN</td>\n",
       "      <td>NaN</td>\n",
       "      <td>AGO</td>\n",
       "      <td>Angola</td>\n",
       "      <td>Africa</td>\n",
       "      <td>right_only</td>\n",
       "    </tr>\n",
       "    <tr>\n",
       "      <th>2</th>\n",
       "      <td>ALBtelecom</td>\n",
       "      <td>1912.0</td>\n",
       "      <td>CAT18</td>\n",
       "      <td>ALB</td>\n",
       "      <td>Albania</td>\n",
       "      <td>Europe</td>\n",
       "      <td>both</td>\n",
       "    </tr>\n",
       "    <tr>\n",
       "      <th>3</th>\n",
       "      <td>Andbank</td>\n",
       "      <td>1930.0</td>\n",
       "      <td>CAT3</td>\n",
       "      <td>AND</td>\n",
       "      <td>Andorra</td>\n",
       "      <td>Europe</td>\n",
       "      <td>both</td>\n",
       "    </tr>\n",
       "    <tr>\n",
       "      <th>4</th>\n",
       "      <td>Liwa Chemicals</td>\n",
       "      <td>1939.0</td>\n",
       "      <td>CAT12</td>\n",
       "      <td>ARE</td>\n",
       "      <td>United Arab Emirates</td>\n",
       "      <td>Asia</td>\n",
       "      <td>both</td>\n",
       "    </tr>\n",
       "    <tr>\n",
       "      <th>...</th>\n",
       "      <td>...</td>\n",
       "      <td>...</td>\n",
       "      <td>...</td>\n",
       "      <td>...</td>\n",
       "      <td>...</td>\n",
       "      <td>...</td>\n",
       "      <td>...</td>\n",
       "    </tr>\n",
       "    <tr>\n",
       "      <th>190</th>\n",
       "      <td>Meridian Corporation</td>\n",
       "      <td>1999.0</td>\n",
       "      <td>CAT13</td>\n",
       "      <td>XK</td>\n",
       "      <td>Kosovo</td>\n",
       "      <td>Europe</td>\n",
       "      <td>both</td>\n",
       "    </tr>\n",
       "    <tr>\n",
       "      <th>191</th>\n",
       "      <td>Yemenia Airways</td>\n",
       "      <td>1962.0</td>\n",
       "      <td>CAT2</td>\n",
       "      <td>YEM</td>\n",
       "      <td>Yemen</td>\n",
       "      <td>Asia</td>\n",
       "      <td>both</td>\n",
       "    </tr>\n",
       "    <tr>\n",
       "      <th>192</th>\n",
       "      <td>Premier FMCG</td>\n",
       "      <td>1820.0</td>\n",
       "      <td>CAT12</td>\n",
       "      <td>ZAF</td>\n",
       "      <td>South Africa</td>\n",
       "      <td>Africa</td>\n",
       "      <td>both</td>\n",
       "    </tr>\n",
       "    <tr>\n",
       "      <th>193</th>\n",
       "      <td>ZamPost</td>\n",
       "      <td>1896.0</td>\n",
       "      <td>CAT16</td>\n",
       "      <td>ZMB</td>\n",
       "      <td>Zambia</td>\n",
       "      <td>Africa</td>\n",
       "      <td>both</td>\n",
       "    </tr>\n",
       "    <tr>\n",
       "      <th>194</th>\n",
       "      <td>Standard Chartered Zimbabwe</td>\n",
       "      <td>1892.0</td>\n",
       "      <td>CAT3</td>\n",
       "      <td>ZWE</td>\n",
       "      <td>Zimbabwe</td>\n",
       "      <td>Africa</td>\n",
       "      <td>both</td>\n",
       "    </tr>\n",
       "  </tbody>\n",
       "</table>\n",
       "<p>195 rows × 7 columns</p>\n",
       "</div>"
      ],
      "text/plain": [
       "                        business  year_founded category_code country_code  \\\n",
       "0         Spinzar Cotton Company        1930.0          CAT1          AFG   \n",
       "1                            NaN           NaN           NaN          AGO   \n",
       "2                     ALBtelecom        1912.0         CAT18          ALB   \n",
       "3                        Andbank        1930.0          CAT3          AND   \n",
       "4                 Liwa Chemicals        1939.0         CAT12          ARE   \n",
       "..                           ...           ...           ...          ...   \n",
       "190         Meridian Corporation        1999.0         CAT13           XK   \n",
       "191              Yemenia Airways        1962.0          CAT2          YEM   \n",
       "192                 Premier FMCG        1820.0         CAT12          ZAF   \n",
       "193                      ZamPost        1896.0         CAT16          ZMB   \n",
       "194  Standard Chartered Zimbabwe        1892.0          CAT3          ZWE   \n",
       "\n",
       "                  country continent      _merge  \n",
       "0             Afghanistan      Asia        both  \n",
       "1                  Angola    Africa  right_only  \n",
       "2                 Albania    Europe        both  \n",
       "3                 Andorra    Europe        both  \n",
       "4    United Arab Emirates      Asia        both  \n",
       "..                    ...       ...         ...  \n",
       "190                Kosovo    Europe        both  \n",
       "191                 Yemen      Asia        both  \n",
       "192          South Africa    Africa        both  \n",
       "193                Zambia    Africa        both  \n",
       "194              Zimbabwe    Africa        both  \n",
       "\n",
       "[195 rows x 7 columns]"
      ]
     },
     "execution_count": 10,
     "metadata": {},
     "output_type": "execute_result"
    }
   ],
   "source": [
    "all_countries = pd.merge(left = all_businesses, right = countries, on = \"country_code\", how = \"outer\", indicator = True)\n",
    "all_countries"
   ]
  },
  {
   "cell_type": "code",
   "execution_count": 11,
   "id": "46aed84a-ca1a-498d-9723-f6f9b883bd2f",
   "metadata": {
    "executionCancelledAt": null,
    "executionTime": 50,
    "lastExecutedAt": 1728180838132,
    "lastExecutedByKernel": "88f6369f-7cdd-4b85-b3ca-a81d31ca77f7",
    "lastScheduledRunId": null,
    "lastSuccessfullyExecutedCode": "missing_countries = all_countries[all_countries[\"_merge\"] != \"both\"]\nmissing_countries"
   },
   "outputs": [
    {
     "data": {
      "application/vnd.microsoft.datawrangler.viewer.v0+json": {
       "columns": [
        {
         "name": "index",
         "rawType": "int64",
         "type": "integer"
        },
        {
         "name": "business",
         "rawType": "object",
         "type": "unknown"
        },
        {
         "name": "year_founded",
         "rawType": "float64",
         "type": "float"
        },
        {
         "name": "category_code",
         "rawType": "object",
         "type": "unknown"
        },
        {
         "name": "country_code",
         "rawType": "object",
         "type": "string"
        },
        {
         "name": "country",
         "rawType": "object",
         "type": "string"
        },
        {
         "name": "continent",
         "rawType": "object",
         "type": "string"
        },
        {
         "name": "_merge",
         "rawType": "category",
         "type": "unknown"
        }
       ],
       "conversionMethod": "pd.DataFrame",
       "ref": "95ebcdb5-ef76-4922-b5ca-baa7d5c3a322",
       "rows": [
        [
         "1",
         null,
         null,
         null,
         "AGO",
         "Angola",
         "Africa",
         "right_only"
        ],
        [
         "7",
         null,
         null,
         null,
         "ATG",
         "Antigua and Barbuda",
         "North America",
         "right_only"
        ],
        [
         "18",
         null,
         null,
         null,
         "BHS",
         "Bahamas",
         "North America",
         "right_only"
        ],
        [
         "50",
         null,
         null,
         null,
         "ECU",
         "Ecuador",
         "South America",
         "right_only"
        ],
        [
         "59",
         null,
         null,
         null,
         "FSM",
         "Micronesia, Federated States of",
         "Oceania",
         "right_only"
        ],
        [
         "63",
         null,
         null,
         null,
         "GHA",
         "Ghana",
         "Africa",
         "right_only"
        ],
        [
         "65",
         null,
         null,
         null,
         "GMB",
         "Gambia",
         "Africa",
         "right_only"
        ],
        [
         "69",
         null,
         null,
         null,
         "GRD",
         "Grenada",
         "North America",
         "right_only"
        ],
        [
         "79",
         null,
         null,
         null,
         "IRN",
         "Iran, Islamic Republic of",
         "Asia",
         "right_only"
        ],
        [
         "89",
         null,
         null,
         null,
         "KGZ",
         "Kyrgyzstan",
         "Asia",
         "right_only"
        ],
        [
         "91",
         null,
         null,
         null,
         "KIR",
         "Kiribati",
         "Oceania",
         "right_only"
        ],
        [
         "92",
         null,
         null,
         null,
         "KNA",
         "Saint Kitts and Nevis",
         "North America",
         "right_only"
        ],
        [
         "107",
         null,
         null,
         null,
         "MCO",
         "Monaco",
         "Europe",
         "right_only"
        ],
        [
         "108",
         null,
         null,
         null,
         "MDA",
         "Moldova, Republic of",
         "Europe",
         "right_only"
        ],
        [
         "110",
         null,
         null,
         null,
         "MDV",
         "Maldives",
         "Asia",
         "right_only"
        ],
        [
         "112",
         null,
         null,
         null,
         "MHL",
         "Marshall Islands",
         "Oceania",
         "right_only"
        ],
        [
         "131",
         null,
         null,
         null,
         "NRU",
         "Nauru",
         "Oceania",
         "right_only"
        ],
        [
         "138",
         null,
         null,
         null,
         "PLW",
         "Palau",
         "Oceania",
         "right_only"
        ],
        [
         "139",
         null,
         null,
         null,
         "PNG",
         "Papua New Guinea",
         "Oceania",
         "right_only"
        ],
        [
         "143",
         null,
         null,
         null,
         "PRY",
         "Paraguay",
         "South America",
         "right_only"
        ],
        [
         "144",
         null,
         null,
         null,
         "PSE",
         "Palestine, State of",
         "Asia",
         "right_only"
        ],
        [
         "153",
         null,
         null,
         null,
         "SLB",
         "Solomon Islands",
         "Oceania",
         "right_only"
        ],
        [
         "160",
         null,
         null,
         null,
         "SUR",
         "Suriname",
         "South America",
         "right_only"
        ],
        [
         "170",
         null,
         null,
         null,
         "TJK",
         "Tajikistan",
         "Asia",
         "right_only"
        ],
        [
         "171",
         null,
         null,
         null,
         "TKM",
         "Turkmenistan",
         "Asia",
         "right_only"
        ],
        [
         "172",
         null,
         null,
         null,
         "TLS",
         "Timor-Leste",
         "Asia",
         "right_only"
        ],
        [
         "173",
         null,
         null,
         null,
         "TON",
         "Tonga",
         "Oceania",
         "right_only"
        ],
        [
         "177",
         null,
         null,
         null,
         "TUV",
         "Tuvalu",
         "Oceania",
         "right_only"
        ],
        [
         "185",
         null,
         null,
         null,
         "VCT",
         "Saint Vincent and the Grenadines",
         "North America",
         "right_only"
        ],
        [
         "189",
         null,
         null,
         null,
         "WSM",
         "Samoa",
         "Oceania",
         "right_only"
        ]
       ],
       "shape": {
        "columns": 7,
        "rows": 30
       }
      },
      "text/html": [
       "<div>\n",
       "<style scoped>\n",
       "    .dataframe tbody tr th:only-of-type {\n",
       "        vertical-align: middle;\n",
       "    }\n",
       "\n",
       "    .dataframe tbody tr th {\n",
       "        vertical-align: top;\n",
       "    }\n",
       "\n",
       "    .dataframe thead th {\n",
       "        text-align: right;\n",
       "    }\n",
       "</style>\n",
       "<table border=\"1\" class=\"dataframe\">\n",
       "  <thead>\n",
       "    <tr style=\"text-align: right;\">\n",
       "      <th></th>\n",
       "      <th>business</th>\n",
       "      <th>year_founded</th>\n",
       "      <th>category_code</th>\n",
       "      <th>country_code</th>\n",
       "      <th>country</th>\n",
       "      <th>continent</th>\n",
       "      <th>_merge</th>\n",
       "    </tr>\n",
       "  </thead>\n",
       "  <tbody>\n",
       "    <tr>\n",
       "      <th>1</th>\n",
       "      <td>NaN</td>\n",
       "      <td>NaN</td>\n",
       "      <td>NaN</td>\n",
       "      <td>AGO</td>\n",
       "      <td>Angola</td>\n",
       "      <td>Africa</td>\n",
       "      <td>right_only</td>\n",
       "    </tr>\n",
       "    <tr>\n",
       "      <th>7</th>\n",
       "      <td>NaN</td>\n",
       "      <td>NaN</td>\n",
       "      <td>NaN</td>\n",
       "      <td>ATG</td>\n",
       "      <td>Antigua and Barbuda</td>\n",
       "      <td>North America</td>\n",
       "      <td>right_only</td>\n",
       "    </tr>\n",
       "    <tr>\n",
       "      <th>18</th>\n",
       "      <td>NaN</td>\n",
       "      <td>NaN</td>\n",
       "      <td>NaN</td>\n",
       "      <td>BHS</td>\n",
       "      <td>Bahamas</td>\n",
       "      <td>North America</td>\n",
       "      <td>right_only</td>\n",
       "    </tr>\n",
       "    <tr>\n",
       "      <th>50</th>\n",
       "      <td>NaN</td>\n",
       "      <td>NaN</td>\n",
       "      <td>NaN</td>\n",
       "      <td>ECU</td>\n",
       "      <td>Ecuador</td>\n",
       "      <td>South America</td>\n",
       "      <td>right_only</td>\n",
       "    </tr>\n",
       "    <tr>\n",
       "      <th>59</th>\n",
       "      <td>NaN</td>\n",
       "      <td>NaN</td>\n",
       "      <td>NaN</td>\n",
       "      <td>FSM</td>\n",
       "      <td>Micronesia, Federated States of</td>\n",
       "      <td>Oceania</td>\n",
       "      <td>right_only</td>\n",
       "    </tr>\n",
       "    <tr>\n",
       "      <th>63</th>\n",
       "      <td>NaN</td>\n",
       "      <td>NaN</td>\n",
       "      <td>NaN</td>\n",
       "      <td>GHA</td>\n",
       "      <td>Ghana</td>\n",
       "      <td>Africa</td>\n",
       "      <td>right_only</td>\n",
       "    </tr>\n",
       "    <tr>\n",
       "      <th>65</th>\n",
       "      <td>NaN</td>\n",
       "      <td>NaN</td>\n",
       "      <td>NaN</td>\n",
       "      <td>GMB</td>\n",
       "      <td>Gambia</td>\n",
       "      <td>Africa</td>\n",
       "      <td>right_only</td>\n",
       "    </tr>\n",
       "    <tr>\n",
       "      <th>69</th>\n",
       "      <td>NaN</td>\n",
       "      <td>NaN</td>\n",
       "      <td>NaN</td>\n",
       "      <td>GRD</td>\n",
       "      <td>Grenada</td>\n",
       "      <td>North America</td>\n",
       "      <td>right_only</td>\n",
       "    </tr>\n",
       "    <tr>\n",
       "      <th>79</th>\n",
       "      <td>NaN</td>\n",
       "      <td>NaN</td>\n",
       "      <td>NaN</td>\n",
       "      <td>IRN</td>\n",
       "      <td>Iran, Islamic Republic of</td>\n",
       "      <td>Asia</td>\n",
       "      <td>right_only</td>\n",
       "    </tr>\n",
       "    <tr>\n",
       "      <th>89</th>\n",
       "      <td>NaN</td>\n",
       "      <td>NaN</td>\n",
       "      <td>NaN</td>\n",
       "      <td>KGZ</td>\n",
       "      <td>Kyrgyzstan</td>\n",
       "      <td>Asia</td>\n",
       "      <td>right_only</td>\n",
       "    </tr>\n",
       "    <tr>\n",
       "      <th>91</th>\n",
       "      <td>NaN</td>\n",
       "      <td>NaN</td>\n",
       "      <td>NaN</td>\n",
       "      <td>KIR</td>\n",
       "      <td>Kiribati</td>\n",
       "      <td>Oceania</td>\n",
       "      <td>right_only</td>\n",
       "    </tr>\n",
       "    <tr>\n",
       "      <th>92</th>\n",
       "      <td>NaN</td>\n",
       "      <td>NaN</td>\n",
       "      <td>NaN</td>\n",
       "      <td>KNA</td>\n",
       "      <td>Saint Kitts and Nevis</td>\n",
       "      <td>North America</td>\n",
       "      <td>right_only</td>\n",
       "    </tr>\n",
       "    <tr>\n",
       "      <th>107</th>\n",
       "      <td>NaN</td>\n",
       "      <td>NaN</td>\n",
       "      <td>NaN</td>\n",
       "      <td>MCO</td>\n",
       "      <td>Monaco</td>\n",
       "      <td>Europe</td>\n",
       "      <td>right_only</td>\n",
       "    </tr>\n",
       "    <tr>\n",
       "      <th>108</th>\n",
       "      <td>NaN</td>\n",
       "      <td>NaN</td>\n",
       "      <td>NaN</td>\n",
       "      <td>MDA</td>\n",
       "      <td>Moldova, Republic of</td>\n",
       "      <td>Europe</td>\n",
       "      <td>right_only</td>\n",
       "    </tr>\n",
       "    <tr>\n",
       "      <th>110</th>\n",
       "      <td>NaN</td>\n",
       "      <td>NaN</td>\n",
       "      <td>NaN</td>\n",
       "      <td>MDV</td>\n",
       "      <td>Maldives</td>\n",
       "      <td>Asia</td>\n",
       "      <td>right_only</td>\n",
       "    </tr>\n",
       "    <tr>\n",
       "      <th>112</th>\n",
       "      <td>NaN</td>\n",
       "      <td>NaN</td>\n",
       "      <td>NaN</td>\n",
       "      <td>MHL</td>\n",
       "      <td>Marshall Islands</td>\n",
       "      <td>Oceania</td>\n",
       "      <td>right_only</td>\n",
       "    </tr>\n",
       "    <tr>\n",
       "      <th>131</th>\n",
       "      <td>NaN</td>\n",
       "      <td>NaN</td>\n",
       "      <td>NaN</td>\n",
       "      <td>NRU</td>\n",
       "      <td>Nauru</td>\n",
       "      <td>Oceania</td>\n",
       "      <td>right_only</td>\n",
       "    </tr>\n",
       "    <tr>\n",
       "      <th>138</th>\n",
       "      <td>NaN</td>\n",
       "      <td>NaN</td>\n",
       "      <td>NaN</td>\n",
       "      <td>PLW</td>\n",
       "      <td>Palau</td>\n",
       "      <td>Oceania</td>\n",
       "      <td>right_only</td>\n",
       "    </tr>\n",
       "    <tr>\n",
       "      <th>139</th>\n",
       "      <td>NaN</td>\n",
       "      <td>NaN</td>\n",
       "      <td>NaN</td>\n",
       "      <td>PNG</td>\n",
       "      <td>Papua New Guinea</td>\n",
       "      <td>Oceania</td>\n",
       "      <td>right_only</td>\n",
       "    </tr>\n",
       "    <tr>\n",
       "      <th>143</th>\n",
       "      <td>NaN</td>\n",
       "      <td>NaN</td>\n",
       "      <td>NaN</td>\n",
       "      <td>PRY</td>\n",
       "      <td>Paraguay</td>\n",
       "      <td>South America</td>\n",
       "      <td>right_only</td>\n",
       "    </tr>\n",
       "    <tr>\n",
       "      <th>144</th>\n",
       "      <td>NaN</td>\n",
       "      <td>NaN</td>\n",
       "      <td>NaN</td>\n",
       "      <td>PSE</td>\n",
       "      <td>Palestine, State of</td>\n",
       "      <td>Asia</td>\n",
       "      <td>right_only</td>\n",
       "    </tr>\n",
       "    <tr>\n",
       "      <th>153</th>\n",
       "      <td>NaN</td>\n",
       "      <td>NaN</td>\n",
       "      <td>NaN</td>\n",
       "      <td>SLB</td>\n",
       "      <td>Solomon Islands</td>\n",
       "      <td>Oceania</td>\n",
       "      <td>right_only</td>\n",
       "    </tr>\n",
       "    <tr>\n",
       "      <th>160</th>\n",
       "      <td>NaN</td>\n",
       "      <td>NaN</td>\n",
       "      <td>NaN</td>\n",
       "      <td>SUR</td>\n",
       "      <td>Suriname</td>\n",
       "      <td>South America</td>\n",
       "      <td>right_only</td>\n",
       "    </tr>\n",
       "    <tr>\n",
       "      <th>170</th>\n",
       "      <td>NaN</td>\n",
       "      <td>NaN</td>\n",
       "      <td>NaN</td>\n",
       "      <td>TJK</td>\n",
       "      <td>Tajikistan</td>\n",
       "      <td>Asia</td>\n",
       "      <td>right_only</td>\n",
       "    </tr>\n",
       "    <tr>\n",
       "      <th>171</th>\n",
       "      <td>NaN</td>\n",
       "      <td>NaN</td>\n",
       "      <td>NaN</td>\n",
       "      <td>TKM</td>\n",
       "      <td>Turkmenistan</td>\n",
       "      <td>Asia</td>\n",
       "      <td>right_only</td>\n",
       "    </tr>\n",
       "    <tr>\n",
       "      <th>172</th>\n",
       "      <td>NaN</td>\n",
       "      <td>NaN</td>\n",
       "      <td>NaN</td>\n",
       "      <td>TLS</td>\n",
       "      <td>Timor-Leste</td>\n",
       "      <td>Asia</td>\n",
       "      <td>right_only</td>\n",
       "    </tr>\n",
       "    <tr>\n",
       "      <th>173</th>\n",
       "      <td>NaN</td>\n",
       "      <td>NaN</td>\n",
       "      <td>NaN</td>\n",
       "      <td>TON</td>\n",
       "      <td>Tonga</td>\n",
       "      <td>Oceania</td>\n",
       "      <td>right_only</td>\n",
       "    </tr>\n",
       "    <tr>\n",
       "      <th>177</th>\n",
       "      <td>NaN</td>\n",
       "      <td>NaN</td>\n",
       "      <td>NaN</td>\n",
       "      <td>TUV</td>\n",
       "      <td>Tuvalu</td>\n",
       "      <td>Oceania</td>\n",
       "      <td>right_only</td>\n",
       "    </tr>\n",
       "    <tr>\n",
       "      <th>185</th>\n",
       "      <td>NaN</td>\n",
       "      <td>NaN</td>\n",
       "      <td>NaN</td>\n",
       "      <td>VCT</td>\n",
       "      <td>Saint Vincent and the Grenadines</td>\n",
       "      <td>North America</td>\n",
       "      <td>right_only</td>\n",
       "    </tr>\n",
       "    <tr>\n",
       "      <th>189</th>\n",
       "      <td>NaN</td>\n",
       "      <td>NaN</td>\n",
       "      <td>NaN</td>\n",
       "      <td>WSM</td>\n",
       "      <td>Samoa</td>\n",
       "      <td>Oceania</td>\n",
       "      <td>right_only</td>\n",
       "    </tr>\n",
       "  </tbody>\n",
       "</table>\n",
       "</div>"
      ],
      "text/plain": [
       "    business  year_founded category_code country_code  \\\n",
       "1        NaN           NaN           NaN          AGO   \n",
       "7        NaN           NaN           NaN          ATG   \n",
       "18       NaN           NaN           NaN          BHS   \n",
       "50       NaN           NaN           NaN          ECU   \n",
       "59       NaN           NaN           NaN          FSM   \n",
       "63       NaN           NaN           NaN          GHA   \n",
       "65       NaN           NaN           NaN          GMB   \n",
       "69       NaN           NaN           NaN          GRD   \n",
       "79       NaN           NaN           NaN          IRN   \n",
       "89       NaN           NaN           NaN          KGZ   \n",
       "91       NaN           NaN           NaN          KIR   \n",
       "92       NaN           NaN           NaN          KNA   \n",
       "107      NaN           NaN           NaN          MCO   \n",
       "108      NaN           NaN           NaN          MDA   \n",
       "110      NaN           NaN           NaN          MDV   \n",
       "112      NaN           NaN           NaN          MHL   \n",
       "131      NaN           NaN           NaN          NRU   \n",
       "138      NaN           NaN           NaN          PLW   \n",
       "139      NaN           NaN           NaN          PNG   \n",
       "143      NaN           NaN           NaN          PRY   \n",
       "144      NaN           NaN           NaN          PSE   \n",
       "153      NaN           NaN           NaN          SLB   \n",
       "160      NaN           NaN           NaN          SUR   \n",
       "170      NaN           NaN           NaN          TJK   \n",
       "171      NaN           NaN           NaN          TKM   \n",
       "172      NaN           NaN           NaN          TLS   \n",
       "173      NaN           NaN           NaN          TON   \n",
       "177      NaN           NaN           NaN          TUV   \n",
       "185      NaN           NaN           NaN          VCT   \n",
       "189      NaN           NaN           NaN          WSM   \n",
       "\n",
       "                              country      continent      _merge  \n",
       "1                              Angola         Africa  right_only  \n",
       "7                 Antigua and Barbuda  North America  right_only  \n",
       "18                            Bahamas  North America  right_only  \n",
       "50                            Ecuador  South America  right_only  \n",
       "59    Micronesia, Federated States of        Oceania  right_only  \n",
       "63                              Ghana         Africa  right_only  \n",
       "65                             Gambia         Africa  right_only  \n",
       "69                            Grenada  North America  right_only  \n",
       "79          Iran, Islamic Republic of           Asia  right_only  \n",
       "89                         Kyrgyzstan           Asia  right_only  \n",
       "91                           Kiribati        Oceania  right_only  \n",
       "92              Saint Kitts and Nevis  North America  right_only  \n",
       "107                            Monaco         Europe  right_only  \n",
       "108              Moldova, Republic of         Europe  right_only  \n",
       "110                          Maldives           Asia  right_only  \n",
       "112                  Marshall Islands        Oceania  right_only  \n",
       "131                             Nauru        Oceania  right_only  \n",
       "138                             Palau        Oceania  right_only  \n",
       "139                  Papua New Guinea        Oceania  right_only  \n",
       "143                          Paraguay  South America  right_only  \n",
       "144               Palestine, State of           Asia  right_only  \n",
       "153                   Solomon Islands        Oceania  right_only  \n",
       "160                          Suriname  South America  right_only  \n",
       "170                        Tajikistan           Asia  right_only  \n",
       "171                      Turkmenistan           Asia  right_only  \n",
       "172                       Timor-Leste           Asia  right_only  \n",
       "173                             Tonga        Oceania  right_only  \n",
       "177                            Tuvalu        Oceania  right_only  \n",
       "185  Saint Vincent and the Grenadines  North America  right_only  \n",
       "189                             Samoa        Oceania  right_only  "
      ]
     },
     "execution_count": 11,
     "metadata": {},
     "output_type": "execute_result"
    }
   ],
   "source": [
    "missing_countries = all_countries[all_countries[\"_merge\"] != \"both\"]\n",
    "missing_countries"
   ]
  },
  {
   "cell_type": "code",
   "execution_count": 12,
   "id": "cbf4eb65-8592-4ba6-a69f-6cd70f43bc33",
   "metadata": {
    "executionCancelledAt": null,
    "executionTime": 57,
    "lastExecutedAt": 1728180838189,
    "lastExecutedByKernel": "88f6369f-7cdd-4b85-b3ca-a81d31ca77f7",
    "lastScheduledRunId": null,
    "lastSuccessfullyExecutedCode": "count_missing = missing_countries.groupby(\"continent\").agg({\"country\" : \"count\"})\ncount_missing.columns = [\"count_missing\"]\ncount_missing",
    "outputsMetadata": {
     "0": {
      "height": 250,
      "type": "dataFrame"
     }
    }
   },
   "outputs": [
    {
     "data": {
      "application/vnd.microsoft.datawrangler.viewer.v0+json": {
       "columns": [
        {
         "name": "continent",
         "rawType": "object",
         "type": "string"
        },
        {
         "name": "count_missing",
         "rawType": "int64",
         "type": "integer"
        }
       ],
       "conversionMethod": "pd.DataFrame",
       "ref": "9eb21579-6dd3-4329-a5f3-cfd0b5419acf",
       "rows": [
        [
         "Africa",
         "3"
        ],
        [
         "Asia",
         "7"
        ],
        [
         "Europe",
         "2"
        ],
        [
         "North America",
         "5"
        ],
        [
         "Oceania",
         "10"
        ],
        [
         "South America",
         "3"
        ]
       ],
       "shape": {
        "columns": 1,
        "rows": 6
       }
      },
      "text/html": [
       "<div>\n",
       "<style scoped>\n",
       "    .dataframe tbody tr th:only-of-type {\n",
       "        vertical-align: middle;\n",
       "    }\n",
       "\n",
       "    .dataframe tbody tr th {\n",
       "        vertical-align: top;\n",
       "    }\n",
       "\n",
       "    .dataframe thead th {\n",
       "        text-align: right;\n",
       "    }\n",
       "</style>\n",
       "<table border=\"1\" class=\"dataframe\">\n",
       "  <thead>\n",
       "    <tr style=\"text-align: right;\">\n",
       "      <th></th>\n",
       "      <th>count_missing</th>\n",
       "    </tr>\n",
       "    <tr>\n",
       "      <th>continent</th>\n",
       "      <th></th>\n",
       "    </tr>\n",
       "  </thead>\n",
       "  <tbody>\n",
       "    <tr>\n",
       "      <th>Africa</th>\n",
       "      <td>3</td>\n",
       "    </tr>\n",
       "    <tr>\n",
       "      <th>Asia</th>\n",
       "      <td>7</td>\n",
       "    </tr>\n",
       "    <tr>\n",
       "      <th>Europe</th>\n",
       "      <td>2</td>\n",
       "    </tr>\n",
       "    <tr>\n",
       "      <th>North America</th>\n",
       "      <td>5</td>\n",
       "    </tr>\n",
       "    <tr>\n",
       "      <th>Oceania</th>\n",
       "      <td>10</td>\n",
       "    </tr>\n",
       "    <tr>\n",
       "      <th>South America</th>\n",
       "      <td>3</td>\n",
       "    </tr>\n",
       "  </tbody>\n",
       "</table>\n",
       "</div>"
      ],
      "text/plain": [
       "               count_missing\n",
       "continent                   \n",
       "Africa                     3\n",
       "Asia                       7\n",
       "Europe                     2\n",
       "North America              5\n",
       "Oceania                   10\n",
       "South America              3"
      ]
     },
     "execution_count": 12,
     "metadata": {},
     "output_type": "execute_result"
    }
   ],
   "source": [
    "count_missing = missing_countries.groupby(\"continent\").agg({\"country\" : \"count\"})\n",
    "count_missing.columns = [\"count_missing\"]\n",
    "count_missing"
   ]
  },
  {
   "cell_type": "code",
   "execution_count": 13,
   "id": "8aed31d2-88a9-4b74-ac1a-106f253619bd",
   "metadata": {
    "executionCancelledAt": null,
    "executionTime": 56,
    "lastExecutedAt": 1728180838245,
    "lastExecutedByKernel": "88f6369f-7cdd-4b85-b3ca-a81d31ca77f7",
    "lastScheduledRunId": null,
    "lastSuccessfullyExecutedCode": "all_countries_categories = pd.merge(left = all_countries, right = categories, on = \"category_code\")\nall_countries_categories.value_counts(\"continent\")"
   },
   "outputs": [
    {
     "data": {
      "text/plain": [
       "continent\n",
       "Africa           50\n",
       "Asia             42\n",
       "Europe           42\n",
       "North America    18\n",
       "South America     9\n",
       "Oceania           4\n",
       "Name: count, dtype: int64"
      ]
     },
     "execution_count": 13,
     "metadata": {},
     "output_type": "execute_result"
    }
   ],
   "source": [
    "all_countries_categories = pd.merge(left = all_countries, right = categories, on = \"category_code\")\n",
    "all_countries_categories.value_counts(\"continent\")"
   ]
  },
  {
   "cell_type": "code",
   "execution_count": 14,
   "id": "65f2ec76-12a5-40ee-ab0e-594bf5629549",
   "metadata": {
    "executionCancelledAt": null,
    "executionTime": 57,
    "lastExecutedAt": 1728180838302,
    "lastExecutedByKernel": "88f6369f-7cdd-4b85-b3ca-a81d31ca77f7",
    "lastScheduledRunId": null,
    "lastSuccessfullyExecutedCode": "all_countries_categories_oldest = all_countries_categories[[\"continent\", \"category\", \"year_founded\"]]\nall_countries_categories_oldest.value_counts(\"continent\")",
    "outputsMetadata": {
     "0": {
      "height": 543,
      "type": "dataFrame"
     }
    }
   },
   "outputs": [
    {
     "data": {
      "text/plain": [
       "continent\n",
       "Africa           50\n",
       "Asia             42\n",
       "Europe           42\n",
       "North America    18\n",
       "South America     9\n",
       "Oceania           4\n",
       "Name: count, dtype: int64"
      ]
     },
     "execution_count": 14,
     "metadata": {},
     "output_type": "execute_result"
    }
   ],
   "source": [
    "all_countries_categories_oldest = all_countries_categories[[\"continent\", \"category\", \"year_founded\"]]\n",
    "all_countries_categories_oldest.value_counts(\"continent\")"
   ]
  },
  {
   "cell_type": "code",
   "execution_count": 15,
   "id": "7d7146f2-3f13-4ae4-bb6e-8b8f362e48a6",
   "metadata": {
    "executionCancelledAt": null,
    "executionTime": 55,
    "lastExecutedAt": 1728180838357,
    "lastExecutedByKernel": "88f6369f-7cdd-4b85-b3ca-a81d31ca77f7",
    "lastScheduledRunId": null,
    "lastSuccessfullyExecutedCode": "all_countries_categories_oldest.shape"
   },
   "outputs": [
    {
     "data": {
      "text/plain": [
       "(165, 3)"
      ]
     },
     "execution_count": 15,
     "metadata": {},
     "output_type": "execute_result"
    }
   ],
   "source": [
    "all_countries_categories_oldest.shape"
   ]
  },
  {
   "cell_type": "code",
   "execution_count": 16,
   "id": "9bff8991-c4b1-4036-9b46-4b944dfbc8e4",
   "metadata": {
    "executionCancelledAt": null,
    "executionTime": 53,
    "lastExecutedAt": 1728180838410,
    "lastExecutedByKernel": "88f6369f-7cdd-4b85-b3ca-a81d31ca77f7",
    "lastScheduledRunId": null,
    "lastSuccessfullyExecutedCode": "demo = pd.merge(left = businesses, right = countries, on = \"country_code\")\ndemo_cat = pd.merge(left = demo, right = categories, on = \"category_code\")\ndemo_cat"
   },
   "outputs": [
    {
     "ename": "NameError",
     "evalue": "name 'demo' is not defined",
     "output_type": "error",
     "traceback": [
      "\u001b[0;31m---------------------------------------------------------------------------\u001b[0m",
      "\u001b[0;31mNameError\u001b[0m                                 Traceback (most recent call last)",
      "Cell \u001b[0;32mIn[16], line 2\u001b[0m\n\u001b[1;32m      1\u001b[0m businesses_country \u001b[38;5;241m=\u001b[39m pd\u001b[38;5;241m.\u001b[39mmerge(left \u001b[38;5;241m=\u001b[39m businesses, right \u001b[38;5;241m=\u001b[39m countries, on \u001b[38;5;241m=\u001b[39m \u001b[38;5;124m\"\u001b[39m\u001b[38;5;124mcountry_code\u001b[39m\u001b[38;5;124m\"\u001b[39m)\n\u001b[0;32m----> 2\u001b[0m businesses_country_cat \u001b[38;5;241m=\u001b[39m pd\u001b[38;5;241m.\u001b[39mmerge(left \u001b[38;5;241m=\u001b[39m demo, right \u001b[38;5;241m=\u001b[39m categories, on \u001b[38;5;241m=\u001b[39m \u001b[38;5;124m\"\u001b[39m\u001b[38;5;124mcategory_code\u001b[39m\u001b[38;5;124m\"\u001b[39m)\n\u001b[1;32m      3\u001b[0m businesses_country_cat\n",
      "\u001b[0;31mNameError\u001b[0m: name 'demo' is not defined"
     ]
    }
   ],
   "source": [
    "businesses_country = pd.merge(left = businesses, right = countries, on = \"country_code\")\n",
    "businesses_country_cat = pd.merge(left = demo, right = categories, on = \"category_code\")\n",
    "businesses_country_cat"
   ]
  },
  {
   "cell_type": "code",
   "execution_count": null,
   "id": "2d214469-f216-40af-bfc5-2279c4781a9f",
   "metadata": {
    "executionCancelledAt": null,
    "executionTime": 55,
    "lastExecutedAt": 1728180838465,
    "lastExecutedByKernel": "88f6369f-7cdd-4b85-b3ca-a81d31ca77f7",
    "lastScheduledRunId": null,
    "lastSuccessfullyExecutedCode": "oldest_by_continent_category = demo_cat.groupby([\"continent\", \"category\"]).agg({\"year_founded\" : \"min\"})\noldest_by_continent_category"
   },
   "outputs": [
    {
     "data": {
      "text/html": [
       "<div>\n",
       "<style scoped>\n",
       "    .dataframe tbody tr th:only-of-type {\n",
       "        vertical-align: middle;\n",
       "    }\n",
       "\n",
       "    .dataframe tbody tr th {\n",
       "        vertical-align: top;\n",
       "    }\n",
       "\n",
       "    .dataframe thead th {\n",
       "        text-align: right;\n",
       "    }\n",
       "</style>\n",
       "<table border=\"1\" class=\"dataframe\">\n",
       "  <thead>\n",
       "    <tr style=\"text-align: right;\">\n",
       "      <th></th>\n",
       "      <th></th>\n",
       "      <th>year_founded</th>\n",
       "    </tr>\n",
       "    <tr>\n",
       "      <th>continent</th>\n",
       "      <th>category</th>\n",
       "      <th></th>\n",
       "    </tr>\n",
       "  </thead>\n",
       "  <tbody>\n",
       "    <tr>\n",
       "      <th rowspan=\"10\" valign=\"top\">Africa</th>\n",
       "      <th>Agriculture</th>\n",
       "      <td>1947</td>\n",
       "    </tr>\n",
       "    <tr>\n",
       "      <th>Aviation &amp; Transport</th>\n",
       "      <td>1854</td>\n",
       "    </tr>\n",
       "    <tr>\n",
       "      <th>Banking &amp; Finance</th>\n",
       "      <td>1892</td>\n",
       "    </tr>\n",
       "    <tr>\n",
       "      <th>Distillers, Vintners, &amp; Breweries</th>\n",
       "      <td>1933</td>\n",
       "    </tr>\n",
       "    <tr>\n",
       "      <th>Energy</th>\n",
       "      <td>1968</td>\n",
       "    </tr>\n",
       "    <tr>\n",
       "      <th>Food &amp; Beverages</th>\n",
       "      <td>1878</td>\n",
       "    </tr>\n",
       "    <tr>\n",
       "      <th>Manufacturing &amp; Production</th>\n",
       "      <td>1820</td>\n",
       "    </tr>\n",
       "    <tr>\n",
       "      <th>Media</th>\n",
       "      <td>1943</td>\n",
       "    </tr>\n",
       "    <tr>\n",
       "      <th>Mining</th>\n",
       "      <td>1962</td>\n",
       "    </tr>\n",
       "    <tr>\n",
       "      <th>Postal Service</th>\n",
       "      <td>1772</td>\n",
       "    </tr>\n",
       "    <tr>\n",
       "      <th rowspan=\"17\" valign=\"top\">Asia</th>\n",
       "      <th>Agriculture</th>\n",
       "      <td>1930</td>\n",
       "    </tr>\n",
       "    <tr>\n",
       "      <th>Aviation &amp; Transport</th>\n",
       "      <td>1858</td>\n",
       "    </tr>\n",
       "    <tr>\n",
       "      <th>Banking &amp; Finance</th>\n",
       "      <td>1830</td>\n",
       "    </tr>\n",
       "    <tr>\n",
       "      <th>Cafés, Restaurants &amp; Bars</th>\n",
       "      <td>1153</td>\n",
       "    </tr>\n",
       "    <tr>\n",
       "      <th>Conglomerate</th>\n",
       "      <td>1841</td>\n",
       "    </tr>\n",
       "    <tr>\n",
       "      <th>Construction</th>\n",
       "      <td>578</td>\n",
       "    </tr>\n",
       "    <tr>\n",
       "      <th>Defense</th>\n",
       "      <td>1808</td>\n",
       "    </tr>\n",
       "    <tr>\n",
       "      <th>Distillers, Vintners, &amp; Breweries</th>\n",
       "      <td>1853</td>\n",
       "    </tr>\n",
       "    <tr>\n",
       "      <th>Energy</th>\n",
       "      <td>1928</td>\n",
       "    </tr>\n",
       "    <tr>\n",
       "      <th>Food &amp; Beverages</th>\n",
       "      <td>1820</td>\n",
       "    </tr>\n",
       "    <tr>\n",
       "      <th>Manufacturing &amp; Production</th>\n",
       "      <td>1736</td>\n",
       "    </tr>\n",
       "    <tr>\n",
       "      <th>Media</th>\n",
       "      <td>1931</td>\n",
       "    </tr>\n",
       "    <tr>\n",
       "      <th>Mining</th>\n",
       "      <td>1913</td>\n",
       "    </tr>\n",
       "    <tr>\n",
       "      <th>Postal Service</th>\n",
       "      <td>1800</td>\n",
       "    </tr>\n",
       "    <tr>\n",
       "      <th>Retail</th>\n",
       "      <td>1883</td>\n",
       "    </tr>\n",
       "    <tr>\n",
       "      <th>Telecommunications</th>\n",
       "      <td>1885</td>\n",
       "    </tr>\n",
       "    <tr>\n",
       "      <th>Tourism &amp; Hotels</th>\n",
       "      <td>1584</td>\n",
       "    </tr>\n",
       "    <tr>\n",
       "      <th rowspan=\"13\" valign=\"top\">Europe</th>\n",
       "      <th>Agriculture</th>\n",
       "      <td>1218</td>\n",
       "    </tr>\n",
       "    <tr>\n",
       "      <th>Banking &amp; Finance</th>\n",
       "      <td>1606</td>\n",
       "    </tr>\n",
       "    <tr>\n",
       "      <th>Cafés, Restaurants &amp; Bars</th>\n",
       "      <td>803</td>\n",
       "    </tr>\n",
       "    <tr>\n",
       "      <th>Consumer Goods</th>\n",
       "      <td>1649</td>\n",
       "    </tr>\n",
       "    <tr>\n",
       "      <th>Defense</th>\n",
       "      <td>1878</td>\n",
       "    </tr>\n",
       "    <tr>\n",
       "      <th>Distillers, Vintners, &amp; Breweries</th>\n",
       "      <td>862</td>\n",
       "    </tr>\n",
       "    <tr>\n",
       "      <th>Manufacturing &amp; Production</th>\n",
       "      <td>864</td>\n",
       "    </tr>\n",
       "    <tr>\n",
       "      <th>Media</th>\n",
       "      <td>1999</td>\n",
       "    </tr>\n",
       "    <tr>\n",
       "      <th>Medical</th>\n",
       "      <td>1422</td>\n",
       "    </tr>\n",
       "    <tr>\n",
       "      <th>Mining</th>\n",
       "      <td>1248</td>\n",
       "    </tr>\n",
       "    <tr>\n",
       "      <th>Postal Service</th>\n",
       "      <td>1520</td>\n",
       "    </tr>\n",
       "    <tr>\n",
       "      <th>Telecommunications</th>\n",
       "      <td>1912</td>\n",
       "    </tr>\n",
       "    <tr>\n",
       "      <th>Tourism &amp; Hotels</th>\n",
       "      <td>1230</td>\n",
       "    </tr>\n",
       "    <tr>\n",
       "      <th rowspan=\"9\" valign=\"top\">North America</th>\n",
       "      <th>Agriculture</th>\n",
       "      <td>1638</td>\n",
       "    </tr>\n",
       "    <tr>\n",
       "      <th>Aviation &amp; Transport</th>\n",
       "      <td>1870</td>\n",
       "    </tr>\n",
       "    <tr>\n",
       "      <th>Banking &amp; Finance</th>\n",
       "      <td>1891</td>\n",
       "    </tr>\n",
       "    <tr>\n",
       "      <th>Distillers, Vintners, &amp; Breweries</th>\n",
       "      <td>1703</td>\n",
       "    </tr>\n",
       "    <tr>\n",
       "      <th>Food &amp; Beverages</th>\n",
       "      <td>1920</td>\n",
       "    </tr>\n",
       "    <tr>\n",
       "      <th>Manufacturing &amp; Production</th>\n",
       "      <td>1534</td>\n",
       "    </tr>\n",
       "    <tr>\n",
       "      <th>Media</th>\n",
       "      <td>1909</td>\n",
       "    </tr>\n",
       "    <tr>\n",
       "      <th>Retail</th>\n",
       "      <td>1670</td>\n",
       "    </tr>\n",
       "    <tr>\n",
       "      <th>Tourism &amp; Hotels</th>\n",
       "      <td>1770</td>\n",
       "    </tr>\n",
       "    <tr>\n",
       "      <th rowspan=\"2\" valign=\"top\">Oceania</th>\n",
       "      <th>Banking &amp; Finance</th>\n",
       "      <td>1861</td>\n",
       "    </tr>\n",
       "    <tr>\n",
       "      <th>Postal Service</th>\n",
       "      <td>1809</td>\n",
       "    </tr>\n",
       "    <tr>\n",
       "      <th rowspan=\"5\" valign=\"top\">South America</th>\n",
       "      <th>Banking &amp; Finance</th>\n",
       "      <td>1565</td>\n",
       "    </tr>\n",
       "    <tr>\n",
       "      <th>Cafés, Restaurants &amp; Bars</th>\n",
       "      <td>1877</td>\n",
       "    </tr>\n",
       "    <tr>\n",
       "      <th>Defense</th>\n",
       "      <td>1811</td>\n",
       "    </tr>\n",
       "    <tr>\n",
       "      <th>Food &amp; Beverages</th>\n",
       "      <td>1660</td>\n",
       "    </tr>\n",
       "    <tr>\n",
       "      <th>Manufacturing &amp; Production</th>\n",
       "      <td>1621</td>\n",
       "    </tr>\n",
       "  </tbody>\n",
       "</table>\n",
       "</div>"
      ],
      "text/plain": [
       "                                                 year_founded\n",
       "continent     category                                       \n",
       "Africa        Agriculture                                1947\n",
       "              Aviation & Transport                       1854\n",
       "              Banking & Finance                          1892\n",
       "              Distillers, Vintners, & Breweries          1933\n",
       "              Energy                                     1968\n",
       "              Food & Beverages                           1878\n",
       "              Manufacturing & Production                 1820\n",
       "              Media                                      1943\n",
       "              Mining                                     1962\n",
       "              Postal Service                             1772\n",
       "Asia          Agriculture                                1930\n",
       "              Aviation & Transport                       1858\n",
       "              Banking & Finance                          1830\n",
       "              Cafés, Restaurants & Bars                  1153\n",
       "              Conglomerate                               1841\n",
       "              Construction                                578\n",
       "              Defense                                    1808\n",
       "              Distillers, Vintners, & Breweries          1853\n",
       "              Energy                                     1928\n",
       "              Food & Beverages                           1820\n",
       "              Manufacturing & Production                 1736\n",
       "              Media                                      1931\n",
       "              Mining                                     1913\n",
       "              Postal Service                             1800\n",
       "              Retail                                     1883\n",
       "              Telecommunications                         1885\n",
       "              Tourism & Hotels                           1584\n",
       "Europe        Agriculture                                1218\n",
       "              Banking & Finance                          1606\n",
       "              Cafés, Restaurants & Bars                   803\n",
       "              Consumer Goods                             1649\n",
       "              Defense                                    1878\n",
       "              Distillers, Vintners, & Breweries           862\n",
       "              Manufacturing & Production                  864\n",
       "              Media                                      1999\n",
       "              Medical                                    1422\n",
       "              Mining                                     1248\n",
       "              Postal Service                             1520\n",
       "              Telecommunications                         1912\n",
       "              Tourism & Hotels                           1230\n",
       "North America Agriculture                                1638\n",
       "              Aviation & Transport                       1870\n",
       "              Banking & Finance                          1891\n",
       "              Distillers, Vintners, & Breweries          1703\n",
       "              Food & Beverages                           1920\n",
       "              Manufacturing & Production                 1534\n",
       "              Media                                      1909\n",
       "              Retail                                     1670\n",
       "              Tourism & Hotels                           1770\n",
       "Oceania       Banking & Finance                          1861\n",
       "              Postal Service                             1809\n",
       "South America Banking & Finance                          1565\n",
       "              Cafés, Restaurants & Bars                  1877\n",
       "              Defense                                    1811\n",
       "              Food & Beverages                           1660\n",
       "              Manufacturing & Production                 1621"
      ]
     },
     "execution_count": 19,
     "metadata": {},
     "output_type": "execute_result"
    }
   ],
   "source": [
    "oldest_by_continent_category = businesses_country_cat.groupby([\"continent\", \"category\"]).agg({\"year_founded\" : \"min\"})\n",
    "oldest_by_continent_category"
   ]
  }
 ],
 "metadata": {
  "editor": "DataLab",
  "kernelspec": {
   "display_name": "base",
   "language": "python",
   "name": "python3"
  },
  "language_info": {
   "codemirror_mode": {
    "name": "ipython",
    "version": 3
   },
   "file_extension": ".py",
   "mimetype": "text/x-python",
   "name": "python",
   "nbconvert_exporter": "python",
   "pygments_lexer": "ipython3",
   "version": "3.12.4"
  }
 },
 "nbformat": 4,
 "nbformat_minor": 5
}
