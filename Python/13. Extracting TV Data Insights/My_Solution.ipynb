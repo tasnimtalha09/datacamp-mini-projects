{
 "cells": [
  {
   "cell_type": "markdown",
   "id": "0852345e-d504-4ea1-84a2-be63b63b328d",
   "metadata": {},
   "source": [
    "![us_bank_stadium_superbowl_2018](us_bank_stadium_superbowl_2018.png)"
   ]
  },
  {
   "cell_type": "markdown",
   "id": "8ee01bde-19d6-437a-91ab-7d6d5cb73e38",
   "metadata": {},
   "source": [
    "Whether or not you like football, the Super Bowl is a spectacle. There's a little something for everyone at your Super Bowl party. Drama in the form of blowouts, comebacks, and controversy for the sports fan. There are the ridiculously expensive ads, some hilarious, others gut-wrenching, thought-provoking, and weird. The half-time shows with the biggest musicians in the world, sometimes riding giant mechanical tigers or leaping from the roof of the stadium. \n",
    "\n",
    "The dataset we'll use was scraped and polished from Wikipedia. It is made up of three CSV files, one with game data, one with TV data, and one with halftime musician data for 52 Super Bowls through 2018. \n",
    "\n",
    "## The Data\n",
    "\n",
    "Three datasets have been provided, and summaries and previews of each are presented below.\n",
    "\n",
    "### 1. **halftime_musicians.csv**\n",
    "\n",
    "This dataset contains information about the musicians who performed during the halftime shows of various Super Bowl games. The structure is shown below, and it applies to all remaining files.\n",
    "\n",
    "| Column       | Description                                                                                  |\n",
    "|--------------|----------------------------------------------------------------------------------------------|\n",
    "| `'super_bowl'` | The Super Bowl number (e.g., 52 for Super Bowl LII).                                         |\n",
    "| `'musician'`   | The name of the musician or musical group that performed during the halftime show.           |\n",
    "| `'num_songs'`  | The number of songs performed by the musician or group during the halftime show.             |\n",
    "\n",
    "### 2. **super_bowls.csv**\n",
    "\n",
    "This dataset provides details about each Super Bowl game, including the date, location, participating teams, and scores, including the points difference between the winning and losing team (`'difference_pts'`).\n",
    "\n",
    "### 3. **tv.csv**\n",
    "\n",
    "This dataset contains television viewership statistics and advertisement costs related to each Super Bowl."
   ]
  },
  {
   "cell_type": "markdown",
   "id": "56b66d39",
   "metadata": {},
   "source": [
    "## Questions\n",
    "1. Has TV viewership increased over time?\n",
    "2. How many matches finished with a point difference greater than 40?\n",
    "3. Who performed the most songs in Super Bowl halftime shows?"
   ]
  },
  {
   "cell_type": "code",
   "execution_count": 1,
   "id": "d142c0b1-9c0c-42cc-8d91-2f1650309c62",
   "metadata": {
    "executionCancelledAt": null,
    "executionTime": 11,
    "lastExecutedAt": 1727961222026,
    "lastExecutedByKernel": "6e16e52c-bae7-410d-a77a-a5e65e2b3588",
    "lastScheduledRunId": null,
    "lastSuccessfullyExecutedCode": "# Import libraries\nimport pandas as pd\nfrom matplotlib import pyplot as plt\nimport seaborn as sns\n\n%matplotlib inline"
   },
   "outputs": [],
   "source": [
    "# Import libraries\n",
    "import pandas as pd\n",
    "from matplotlib import pyplot as plt\n",
    "import seaborn as sns\n",
    "\n",
    "%matplotlib inline"
   ]
  },
  {
   "cell_type": "code",
   "execution_count": 2,
   "id": "cd83fe09-cd21-464a-a4fe-7ea9b35e44bf",
   "metadata": {
    "executionCancelledAt": null,
    "executionTime": 53,
    "lastExecutedAt": 1727961222079,
    "lastExecutedByKernel": "6e16e52c-bae7-410d-a77a-a5e65e2b3588",
    "lastScheduledRunId": null,
    "lastSuccessfullyExecutedCode": "# Load the CSV data into DataFrames\nsuper_bowls = pd.read_csv(\"datasets/super_bowls.csv\")\nsuper_bowls.head()",
    "outputsMetadata": {
     "0": {
      "height": 249,
      "type": "dataFrame"
     }
    }
   },
   "outputs": [
    {
     "data": {
      "application/vnd.microsoft.datawrangler.viewer.v0+json": {
       "columns": [
        {
         "name": "index",
         "rawType": "int64",
         "type": "integer"
        },
        {
         "name": "date",
         "rawType": "object",
         "type": "string"
        },
        {
         "name": "super_bowl",
         "rawType": "int64",
         "type": "integer"
        },
        {
         "name": "venue",
         "rawType": "object",
         "type": "string"
        },
        {
         "name": "city",
         "rawType": "object",
         "type": "string"
        },
        {
         "name": "state",
         "rawType": "object",
         "type": "string"
        },
        {
         "name": "attendance",
         "rawType": "int64",
         "type": "integer"
        },
        {
         "name": "team_winner",
         "rawType": "object",
         "type": "string"
        },
        {
         "name": "winning_pts",
         "rawType": "int64",
         "type": "integer"
        },
        {
         "name": "qb_winner_1",
         "rawType": "object",
         "type": "string"
        },
        {
         "name": "qb_winner_2",
         "rawType": "object",
         "type": "unknown"
        },
        {
         "name": "coach_winner",
         "rawType": "object",
         "type": "string"
        },
        {
         "name": "team_loser",
         "rawType": "object",
         "type": "string"
        },
        {
         "name": "losing_pts",
         "rawType": "int64",
         "type": "integer"
        },
        {
         "name": "qb_loser_1",
         "rawType": "object",
         "type": "string"
        },
        {
         "name": "qb_loser_2",
         "rawType": "object",
         "type": "unknown"
        },
        {
         "name": "coach_loser",
         "rawType": "object",
         "type": "string"
        },
        {
         "name": "combined_pts",
         "rawType": "int64",
         "type": "integer"
        },
        {
         "name": "difference_pts",
         "rawType": "int64",
         "type": "integer"
        }
       ],
       "conversionMethod": "pd.DataFrame",
       "ref": "bcab2e16-8a40-4904-b6a6-63e71f31ae11",
       "rows": [
        [
         "0",
         "2018-02-04",
         "52",
         "U.S. Bank Stadium",
         "Minneapolis",
         "Minnesota",
         "67612",
         "Philadelphia Eagles",
         "41",
         "Nick Foles",
         null,
         "Doug Pederson",
         "New England Patriots",
         "33",
         "Tom Brady",
         null,
         "Bill Belichick",
         "74",
         "8"
        ],
        [
         "1",
         "2017-02-05",
         "51",
         "NRG Stadium",
         "Houston",
         "Texas",
         "70807",
         "New England Patriots",
         "34",
         "Tom Brady",
         null,
         "Bill Belichick",
         "Atlanta Falcons",
         "28",
         "Matt Ryan",
         null,
         "Dan Quinn",
         "62",
         "6"
        ],
        [
         "2",
         "2016-02-07",
         "50",
         "Levi's Stadium",
         "Santa Clara",
         "California",
         "71088",
         "Denver Broncos",
         "24",
         "Peyton Manning",
         null,
         "Gary Kubiak",
         "Carolina Panthers",
         "10",
         "Cam Newton",
         null,
         "Ron Rivera",
         "34",
         "14"
        ],
        [
         "3",
         "2015-02-01",
         "49",
         "University of Phoenix Stadium",
         "Glendale",
         "Arizona",
         "70288",
         "New England Patriots",
         "28",
         "Tom Brady",
         null,
         "Bill Belichick",
         "Seattle Seahawks",
         "24",
         "Russell Wilson",
         null,
         "Pete Carroll",
         "52",
         "4"
        ],
        [
         "4",
         "2014-02-02",
         "48",
         "MetLife Stadium",
         "East Rutherford",
         "New Jersey",
         "82529",
         "Seattle Seahawks",
         "43",
         "Russell Wilson",
         null,
         "Pete Carroll",
         "Denver Broncos",
         "8",
         "Peyton Manning",
         null,
         "John Fox",
         "51",
         "35"
        ]
       ],
       "shape": {
        "columns": 18,
        "rows": 5
       }
      },
      "text/html": [
       "<div>\n",
       "<style scoped>\n",
       "    .dataframe tbody tr th:only-of-type {\n",
       "        vertical-align: middle;\n",
       "    }\n",
       "\n",
       "    .dataframe tbody tr th {\n",
       "        vertical-align: top;\n",
       "    }\n",
       "\n",
       "    .dataframe thead th {\n",
       "        text-align: right;\n",
       "    }\n",
       "</style>\n",
       "<table border=\"1\" class=\"dataframe\">\n",
       "  <thead>\n",
       "    <tr style=\"text-align: right;\">\n",
       "      <th></th>\n",
       "      <th>date</th>\n",
       "      <th>super_bowl</th>\n",
       "      <th>venue</th>\n",
       "      <th>city</th>\n",
       "      <th>state</th>\n",
       "      <th>attendance</th>\n",
       "      <th>team_winner</th>\n",
       "      <th>winning_pts</th>\n",
       "      <th>qb_winner_1</th>\n",
       "      <th>qb_winner_2</th>\n",
       "      <th>coach_winner</th>\n",
       "      <th>team_loser</th>\n",
       "      <th>losing_pts</th>\n",
       "      <th>qb_loser_1</th>\n",
       "      <th>qb_loser_2</th>\n",
       "      <th>coach_loser</th>\n",
       "      <th>combined_pts</th>\n",
       "      <th>difference_pts</th>\n",
       "    </tr>\n",
       "  </thead>\n",
       "  <tbody>\n",
       "    <tr>\n",
       "      <th>0</th>\n",
       "      <td>2018-02-04</td>\n",
       "      <td>52</td>\n",
       "      <td>U.S. Bank Stadium</td>\n",
       "      <td>Minneapolis</td>\n",
       "      <td>Minnesota</td>\n",
       "      <td>67612</td>\n",
       "      <td>Philadelphia Eagles</td>\n",
       "      <td>41</td>\n",
       "      <td>Nick Foles</td>\n",
       "      <td>NaN</td>\n",
       "      <td>Doug Pederson</td>\n",
       "      <td>New England Patriots</td>\n",
       "      <td>33</td>\n",
       "      <td>Tom Brady</td>\n",
       "      <td>NaN</td>\n",
       "      <td>Bill Belichick</td>\n",
       "      <td>74</td>\n",
       "      <td>8</td>\n",
       "    </tr>\n",
       "    <tr>\n",
       "      <th>1</th>\n",
       "      <td>2017-02-05</td>\n",
       "      <td>51</td>\n",
       "      <td>NRG Stadium</td>\n",
       "      <td>Houston</td>\n",
       "      <td>Texas</td>\n",
       "      <td>70807</td>\n",
       "      <td>New England Patriots</td>\n",
       "      <td>34</td>\n",
       "      <td>Tom Brady</td>\n",
       "      <td>NaN</td>\n",
       "      <td>Bill Belichick</td>\n",
       "      <td>Atlanta Falcons</td>\n",
       "      <td>28</td>\n",
       "      <td>Matt Ryan</td>\n",
       "      <td>NaN</td>\n",
       "      <td>Dan Quinn</td>\n",
       "      <td>62</td>\n",
       "      <td>6</td>\n",
       "    </tr>\n",
       "    <tr>\n",
       "      <th>2</th>\n",
       "      <td>2016-02-07</td>\n",
       "      <td>50</td>\n",
       "      <td>Levi's Stadium</td>\n",
       "      <td>Santa Clara</td>\n",
       "      <td>California</td>\n",
       "      <td>71088</td>\n",
       "      <td>Denver Broncos</td>\n",
       "      <td>24</td>\n",
       "      <td>Peyton Manning</td>\n",
       "      <td>NaN</td>\n",
       "      <td>Gary Kubiak</td>\n",
       "      <td>Carolina Panthers</td>\n",
       "      <td>10</td>\n",
       "      <td>Cam Newton</td>\n",
       "      <td>NaN</td>\n",
       "      <td>Ron Rivera</td>\n",
       "      <td>34</td>\n",
       "      <td>14</td>\n",
       "    </tr>\n",
       "    <tr>\n",
       "      <th>3</th>\n",
       "      <td>2015-02-01</td>\n",
       "      <td>49</td>\n",
       "      <td>University of Phoenix Stadium</td>\n",
       "      <td>Glendale</td>\n",
       "      <td>Arizona</td>\n",
       "      <td>70288</td>\n",
       "      <td>New England Patriots</td>\n",
       "      <td>28</td>\n",
       "      <td>Tom Brady</td>\n",
       "      <td>NaN</td>\n",
       "      <td>Bill Belichick</td>\n",
       "      <td>Seattle Seahawks</td>\n",
       "      <td>24</td>\n",
       "      <td>Russell Wilson</td>\n",
       "      <td>NaN</td>\n",
       "      <td>Pete Carroll</td>\n",
       "      <td>52</td>\n",
       "      <td>4</td>\n",
       "    </tr>\n",
       "    <tr>\n",
       "      <th>4</th>\n",
       "      <td>2014-02-02</td>\n",
       "      <td>48</td>\n",
       "      <td>MetLife Stadium</td>\n",
       "      <td>East Rutherford</td>\n",
       "      <td>New Jersey</td>\n",
       "      <td>82529</td>\n",
       "      <td>Seattle Seahawks</td>\n",
       "      <td>43</td>\n",
       "      <td>Russell Wilson</td>\n",
       "      <td>NaN</td>\n",
       "      <td>Pete Carroll</td>\n",
       "      <td>Denver Broncos</td>\n",
       "      <td>8</td>\n",
       "      <td>Peyton Manning</td>\n",
       "      <td>NaN</td>\n",
       "      <td>John Fox</td>\n",
       "      <td>51</td>\n",
       "      <td>35</td>\n",
       "    </tr>\n",
       "  </tbody>\n",
       "</table>\n",
       "</div>"
      ],
      "text/plain": [
       "         date  super_bowl                          venue             city  \\\n",
       "0  2018-02-04          52              U.S. Bank Stadium      Minneapolis   \n",
       "1  2017-02-05          51                    NRG Stadium          Houston   \n",
       "2  2016-02-07          50                 Levi's Stadium      Santa Clara   \n",
       "3  2015-02-01          49  University of Phoenix Stadium         Glendale   \n",
       "4  2014-02-02          48                MetLife Stadium  East Rutherford   \n",
       "\n",
       "        state  attendance           team_winner  winning_pts     qb_winner_1  \\\n",
       "0   Minnesota       67612   Philadelphia Eagles           41      Nick Foles   \n",
       "1       Texas       70807  New England Patriots           34       Tom Brady   \n",
       "2  California       71088        Denver Broncos           24  Peyton Manning   \n",
       "3     Arizona       70288  New England Patriots           28       Tom Brady   \n",
       "4  New Jersey       82529      Seattle Seahawks           43  Russell Wilson   \n",
       "\n",
       "  qb_winner_2    coach_winner            team_loser  losing_pts  \\\n",
       "0         NaN   Doug Pederson  New England Patriots          33   \n",
       "1         NaN  Bill Belichick       Atlanta Falcons          28   \n",
       "2         NaN     Gary Kubiak     Carolina Panthers          10   \n",
       "3         NaN  Bill Belichick      Seattle Seahawks          24   \n",
       "4         NaN    Pete Carroll        Denver Broncos           8   \n",
       "\n",
       "       qb_loser_1 qb_loser_2     coach_loser  combined_pts  difference_pts  \n",
       "0       Tom Brady        NaN  Bill Belichick            74               8  \n",
       "1       Matt Ryan        NaN       Dan Quinn            62               6  \n",
       "2      Cam Newton        NaN      Ron Rivera            34              14  \n",
       "3  Russell Wilson        NaN    Pete Carroll            52               4  \n",
       "4  Peyton Manning        NaN        John Fox            51              35  "
      ]
     },
     "execution_count": 2,
     "metadata": {},
     "output_type": "execute_result"
    }
   ],
   "source": [
    "# Load the CSV data into DataFrames\n",
    "super_bowls = pd.read_csv(\"datasets/super_bowls.csv\")\n",
    "super_bowls.head()"
   ]
  },
  {
   "cell_type": "code",
   "execution_count": 3,
   "id": "a6e17e28-6668-4ec1-a910-69b4c6805fd9",
   "metadata": {
    "executionCancelledAt": null,
    "executionTime": 48,
    "lastExecutedAt": 1727961222127,
    "lastExecutedByKernel": "6e16e52c-bae7-410d-a77a-a5e65e2b3588",
    "lastScheduledRunId": null,
    "lastSuccessfullyExecutedCode": "tv = pd.read_csv(\"datasets/tv.csv\")\ntv.head()",
    "outputsMetadata": {
     "0": {
      "height": 249,
      "type": "dataFrame"
     }
    }
   },
   "outputs": [
    {
     "data": {
      "application/vnd.microsoft.datawrangler.viewer.v0+json": {
       "columns": [
        {
         "name": "index",
         "rawType": "int64",
         "type": "integer"
        },
        {
         "name": "super_bowl",
         "rawType": "int64",
         "type": "integer"
        },
        {
         "name": "network",
         "rawType": "object",
         "type": "string"
        },
        {
         "name": "avg_us_viewers",
         "rawType": "int64",
         "type": "integer"
        },
        {
         "name": "total_us_viewers",
         "rawType": "float64",
         "type": "float"
        },
        {
         "name": "rating_household",
         "rawType": "float64",
         "type": "float"
        },
        {
         "name": "share_household",
         "rawType": "int64",
         "type": "integer"
        },
        {
         "name": "rating_18_49",
         "rawType": "float64",
         "type": "float"
        },
        {
         "name": "share_18_49",
         "rawType": "float64",
         "type": "float"
        },
        {
         "name": "ad_cost",
         "rawType": "int64",
         "type": "integer"
        }
       ],
       "conversionMethod": "pd.DataFrame",
       "ref": "e046ee1f-a0bf-4170-af35-76bf1bbaba85",
       "rows": [
        [
         "0",
         "52",
         "NBC",
         "103390000",
         null,
         "43.1",
         "68",
         "33.4",
         "78.0",
         "5000000"
        ],
        [
         "1",
         "51",
         "Fox",
         "111319000",
         "172000000.0",
         "45.3",
         "73",
         "37.1",
         "79.0",
         "5000000"
        ],
        [
         "2",
         "50",
         "CBS",
         "111864000",
         "167000000.0",
         "46.6",
         "72",
         "37.7",
         "79.0",
         "5000000"
        ],
        [
         "3",
         "49",
         "NBC",
         "114442000",
         "168000000.0",
         "47.5",
         "71",
         "39.1",
         "79.0",
         "4500000"
        ],
        [
         "4",
         "48",
         "Fox",
         "112191000",
         "167000000.0",
         "46.7",
         "69",
         "39.3",
         "77.0",
         "4000000"
        ]
       ],
       "shape": {
        "columns": 9,
        "rows": 5
       }
      },
      "text/html": [
       "<div>\n",
       "<style scoped>\n",
       "    .dataframe tbody tr th:only-of-type {\n",
       "        vertical-align: middle;\n",
       "    }\n",
       "\n",
       "    .dataframe tbody tr th {\n",
       "        vertical-align: top;\n",
       "    }\n",
       "\n",
       "    .dataframe thead th {\n",
       "        text-align: right;\n",
       "    }\n",
       "</style>\n",
       "<table border=\"1\" class=\"dataframe\">\n",
       "  <thead>\n",
       "    <tr style=\"text-align: right;\">\n",
       "      <th></th>\n",
       "      <th>super_bowl</th>\n",
       "      <th>network</th>\n",
       "      <th>avg_us_viewers</th>\n",
       "      <th>total_us_viewers</th>\n",
       "      <th>rating_household</th>\n",
       "      <th>share_household</th>\n",
       "      <th>rating_18_49</th>\n",
       "      <th>share_18_49</th>\n",
       "      <th>ad_cost</th>\n",
       "    </tr>\n",
       "  </thead>\n",
       "  <tbody>\n",
       "    <tr>\n",
       "      <th>0</th>\n",
       "      <td>52</td>\n",
       "      <td>NBC</td>\n",
       "      <td>103390000</td>\n",
       "      <td>NaN</td>\n",
       "      <td>43.1</td>\n",
       "      <td>68</td>\n",
       "      <td>33.4</td>\n",
       "      <td>78.0</td>\n",
       "      <td>5000000</td>\n",
       "    </tr>\n",
       "    <tr>\n",
       "      <th>1</th>\n",
       "      <td>51</td>\n",
       "      <td>Fox</td>\n",
       "      <td>111319000</td>\n",
       "      <td>172000000.0</td>\n",
       "      <td>45.3</td>\n",
       "      <td>73</td>\n",
       "      <td>37.1</td>\n",
       "      <td>79.0</td>\n",
       "      <td>5000000</td>\n",
       "    </tr>\n",
       "    <tr>\n",
       "      <th>2</th>\n",
       "      <td>50</td>\n",
       "      <td>CBS</td>\n",
       "      <td>111864000</td>\n",
       "      <td>167000000.0</td>\n",
       "      <td>46.6</td>\n",
       "      <td>72</td>\n",
       "      <td>37.7</td>\n",
       "      <td>79.0</td>\n",
       "      <td>5000000</td>\n",
       "    </tr>\n",
       "    <tr>\n",
       "      <th>3</th>\n",
       "      <td>49</td>\n",
       "      <td>NBC</td>\n",
       "      <td>114442000</td>\n",
       "      <td>168000000.0</td>\n",
       "      <td>47.5</td>\n",
       "      <td>71</td>\n",
       "      <td>39.1</td>\n",
       "      <td>79.0</td>\n",
       "      <td>4500000</td>\n",
       "    </tr>\n",
       "    <tr>\n",
       "      <th>4</th>\n",
       "      <td>48</td>\n",
       "      <td>Fox</td>\n",
       "      <td>112191000</td>\n",
       "      <td>167000000.0</td>\n",
       "      <td>46.7</td>\n",
       "      <td>69</td>\n",
       "      <td>39.3</td>\n",
       "      <td>77.0</td>\n",
       "      <td>4000000</td>\n",
       "    </tr>\n",
       "  </tbody>\n",
       "</table>\n",
       "</div>"
      ],
      "text/plain": [
       "   super_bowl network  avg_us_viewers  total_us_viewers  rating_household  \\\n",
       "0          52     NBC       103390000               NaN              43.1   \n",
       "1          51     Fox       111319000       172000000.0              45.3   \n",
       "2          50     CBS       111864000       167000000.0              46.6   \n",
       "3          49     NBC       114442000       168000000.0              47.5   \n",
       "4          48     Fox       112191000       167000000.0              46.7   \n",
       "\n",
       "   share_household  rating_18_49  share_18_49  ad_cost  \n",
       "0               68          33.4         78.0  5000000  \n",
       "1               73          37.1         79.0  5000000  \n",
       "2               72          37.7         79.0  5000000  \n",
       "3               71          39.1         79.0  4500000  \n",
       "4               69          39.3         77.0  4000000  "
      ]
     },
     "execution_count": 3,
     "metadata": {},
     "output_type": "execute_result"
    }
   ],
   "source": [
    "tv = pd.read_csv(\"datasets/tv.csv\")\n",
    "tv.head()"
   ]
  },
  {
   "cell_type": "code",
   "execution_count": 4,
   "id": "5a89e5fb-796b-4a4d-b637-eda7e0acd50d",
   "metadata": {
    "executionCancelledAt": null,
    "executionTime": 48,
    "lastExecutedAt": 1727961222175,
    "lastExecutedByKernel": "6e16e52c-bae7-410d-a77a-a5e65e2b3588",
    "lastScheduledRunId": null,
    "lastSuccessfullyExecutedCode": "halftime_musicians = pd.read_csv(\"datasets/halftime_musicians.csv\")\nhalftime_musicians",
    "outputsMetadata": {
     "0": {
      "height": 543,
      "type": "dataFrame"
     }
    }
   },
   "outputs": [
    {
     "data": {
      "application/vnd.microsoft.datawrangler.viewer.v0+json": {
       "columns": [
        {
         "name": "index",
         "rawType": "int64",
         "type": "integer"
        },
        {
         "name": "super_bowl",
         "rawType": "int64",
         "type": "integer"
        },
        {
         "name": "musician",
         "rawType": "object",
         "type": "string"
        },
        {
         "name": "num_songs",
         "rawType": "float64",
         "type": "float"
        }
       ],
       "conversionMethod": "pd.DataFrame",
       "ref": "64debbc9-0581-4920-aa0d-e28242a56e8d",
       "rows": [
        [
         "0",
         "52",
         "Justin Timberlake",
         "11.0"
        ],
        [
         "1",
         "52",
         "University of Minnesota Marching Band",
         "1.0"
        ],
        [
         "2",
         "51",
         "Lady Gaga",
         "7.0"
        ],
        [
         "3",
         "50",
         "Coldplay",
         "6.0"
        ],
        [
         "4",
         "50",
         "Beyoncé",
         "3.0"
        ],
        [
         "5",
         "50",
         "Bruno Mars",
         "3.0"
        ],
        [
         "6",
         "50",
         "Mark Ronson",
         "1.0"
        ],
        [
         "7",
         "50",
         "University of California Marching Band",
         "3.0"
        ],
        [
         "8",
         "50",
         "Youth Orchestra Los Angeles",
         "3.0"
        ],
        [
         "9",
         "50",
         "Gustavo Dudamel",
         "3.0"
        ],
        [
         "10",
         "49",
         "Katy Perry",
         "8.0"
        ],
        [
         "11",
         "49",
         "Lenny Kravitz",
         "1.0"
        ],
        [
         "12",
         "49",
         "Missy Elliott",
         "3.0"
        ],
        [
         "13",
         "49",
         "Arizona State University Sun Devil Marching Band",
         null
        ],
        [
         "14",
         "48",
         "Bruno Mars",
         "6.0"
        ],
        [
         "15",
         "48",
         "Red Hot Chili Peppers",
         "1.0"
        ],
        [
         "16",
         "47",
         "Beyoncé",
         "7.0"
        ],
        [
         "17",
         "47",
         "Destiny's Child",
         "2.0"
        ],
        [
         "18",
         "47",
         "Kelly Rowland",
         "1.0"
        ],
        [
         "19",
         "47",
         "Michelle Williams",
         "1.0"
        ],
        [
         "20",
         "46",
         "Madonna",
         "5.0"
        ],
        [
         "21",
         "46",
         "LMFAO",
         "1.0"
        ],
        [
         "22",
         "46",
         "Nicki Minaj",
         "1.0"
        ],
        [
         "23",
         "46",
         "M.I.A.",
         "1.0"
        ],
        [
         "24",
         "46",
         "Cee Lo Green",
         "2.0"
        ],
        [
         "25",
         "45",
         "The Black Eyed Peas",
         "6.0"
        ],
        [
         "26",
         "45",
         "Slash",
         "1.0"
        ],
        [
         "27",
         "45",
         "Usher",
         "1.0"
        ],
        [
         "28",
         "45",
         "will.i.am",
         "1.0"
        ],
        [
         "29",
         "45",
         "Fergie",
         "1.0"
        ],
        [
         "30",
         "44",
         "The Who",
         "5.0"
        ],
        [
         "31",
         "43",
         "Bruce Springsteen and the E Street Band",
         "4.0"
        ],
        [
         "32",
         "42",
         "Tom Petty & the Heartbreakers",
         "4.0"
        ],
        [
         "33",
         "41",
         "Prince",
         "7.0"
        ],
        [
         "34",
         "41",
         "Florida A&M University Marching 100 Band",
         null
        ],
        [
         "35",
         "40",
         "The Rolling Stones",
         "3.0"
        ],
        [
         "36",
         "39",
         "Paul McCartney",
         "4.0"
        ],
        [
         "37",
         "38",
         "Jessica Simpson",
         "1.0"
        ],
        [
         "38",
         "38",
         "Janet Jackson",
         "3.0"
        ],
        [
         "39",
         "38",
         "P. Diddy",
         "3.0"
        ],
        [
         "40",
         "38",
         "Nelly",
         "1.0"
        ],
        [
         "41",
         "38",
         "Kid Rock",
         "2.0"
        ],
        [
         "42",
         "38",
         "Justin Timberlake",
         "1.0"
        ],
        [
         "43",
         "38",
         "The Ocean of Soul Marching Band",
         null
        ],
        [
         "44",
         "38",
         "The Spirit of Houston Cougar Marching Band",
         null
        ],
        [
         "45",
         "37",
         "Shania Twain",
         "2.0"
        ],
        [
         "46",
         "37",
         "No Doubt",
         "2.0"
        ],
        [
         "47",
         "37",
         "Sting",
         "1.0"
        ],
        [
         "48",
         "36",
         "U2",
         "3.0"
        ],
        [
         "49",
         "35",
         "Aerosmith",
         "3.0"
        ]
       ],
       "shape": {
        "columns": 3,
        "rows": 134
       }
      },
      "text/html": [
       "<div>\n",
       "<style scoped>\n",
       "    .dataframe tbody tr th:only-of-type {\n",
       "        vertical-align: middle;\n",
       "    }\n",
       "\n",
       "    .dataframe tbody tr th {\n",
       "        vertical-align: top;\n",
       "    }\n",
       "\n",
       "    .dataframe thead th {\n",
       "        text-align: right;\n",
       "    }\n",
       "</style>\n",
       "<table border=\"1\" class=\"dataframe\">\n",
       "  <thead>\n",
       "    <tr style=\"text-align: right;\">\n",
       "      <th></th>\n",
       "      <th>super_bowl</th>\n",
       "      <th>musician</th>\n",
       "      <th>num_songs</th>\n",
       "    </tr>\n",
       "  </thead>\n",
       "  <tbody>\n",
       "    <tr>\n",
       "      <th>0</th>\n",
       "      <td>52</td>\n",
       "      <td>Justin Timberlake</td>\n",
       "      <td>11.0</td>\n",
       "    </tr>\n",
       "    <tr>\n",
       "      <th>1</th>\n",
       "      <td>52</td>\n",
       "      <td>University of Minnesota Marching Band</td>\n",
       "      <td>1.0</td>\n",
       "    </tr>\n",
       "    <tr>\n",
       "      <th>2</th>\n",
       "      <td>51</td>\n",
       "      <td>Lady Gaga</td>\n",
       "      <td>7.0</td>\n",
       "    </tr>\n",
       "    <tr>\n",
       "      <th>3</th>\n",
       "      <td>50</td>\n",
       "      <td>Coldplay</td>\n",
       "      <td>6.0</td>\n",
       "    </tr>\n",
       "    <tr>\n",
       "      <th>4</th>\n",
       "      <td>50</td>\n",
       "      <td>Beyoncé</td>\n",
       "      <td>3.0</td>\n",
       "    </tr>\n",
       "    <tr>\n",
       "      <th>...</th>\n",
       "      <td>...</td>\n",
       "      <td>...</td>\n",
       "      <td>...</td>\n",
       "    </tr>\n",
       "    <tr>\n",
       "      <th>129</th>\n",
       "      <td>3</td>\n",
       "      <td>Florida A&amp;M University Marching 100 Band</td>\n",
       "      <td>NaN</td>\n",
       "    </tr>\n",
       "    <tr>\n",
       "      <th>130</th>\n",
       "      <td>2</td>\n",
       "      <td>Grambling State University Tiger Marching Band</td>\n",
       "      <td>NaN</td>\n",
       "    </tr>\n",
       "    <tr>\n",
       "      <th>131</th>\n",
       "      <td>1</td>\n",
       "      <td>University of Arizona Symphonic Marching Band</td>\n",
       "      <td>NaN</td>\n",
       "    </tr>\n",
       "    <tr>\n",
       "      <th>132</th>\n",
       "      <td>1</td>\n",
       "      <td>Grambling State University Tiger Marching Band</td>\n",
       "      <td>NaN</td>\n",
       "    </tr>\n",
       "    <tr>\n",
       "      <th>133</th>\n",
       "      <td>1</td>\n",
       "      <td>Al Hirt</td>\n",
       "      <td>NaN</td>\n",
       "    </tr>\n",
       "  </tbody>\n",
       "</table>\n",
       "<p>134 rows × 3 columns</p>\n",
       "</div>"
      ],
      "text/plain": [
       "     super_bowl                                        musician  num_songs\n",
       "0            52                               Justin Timberlake       11.0\n",
       "1            52           University of Minnesota Marching Band        1.0\n",
       "2            51                                       Lady Gaga        7.0\n",
       "3            50                                        Coldplay        6.0\n",
       "4            50                                         Beyoncé        3.0\n",
       "..          ...                                             ...        ...\n",
       "129           3        Florida A&M University Marching 100 Band        NaN\n",
       "130           2  Grambling State University Tiger Marching Band        NaN\n",
       "131           1   University of Arizona Symphonic Marching Band        NaN\n",
       "132           1  Grambling State University Tiger Marching Band        NaN\n",
       "133           1                                         Al Hirt        NaN\n",
       "\n",
       "[134 rows x 3 columns]"
      ]
     },
     "execution_count": 4,
     "metadata": {},
     "output_type": "execute_result"
    }
   ],
   "source": [
    "halftime_musicians = pd.read_csv(\"datasets/halftime_musicians.csv\")\n",
    "halftime_musicians"
   ]
  },
  {
   "cell_type": "code",
   "execution_count": 14,
   "id": "8de1e7f0-9164-4da8-97af-a3095ea15a32",
   "metadata": {
    "executionCancelledAt": null,
    "executionTime": 266,
    "lastExecutedAt": 1727961222442,
    "lastExecutedByKernel": "6e16e52c-bae7-410d-a77a-a5e65e2b3588",
    "lastScheduledRunId": null,
    "lastSuccessfullyExecutedCode": "tv = tv.sort_values(by = \"super_bowl\")\nsns.lineplot(data = tv, y = \"total_us_viewers\", x = \"super_bowl\")"
   },
   "outputs": [
    {
     "data": {
      "text/plain": [
       "<Axes: xlabel='super_bowl', ylabel='total_us_viewers'>"
      ]
     },
     "execution_count": 14,
     "metadata": {},
     "output_type": "execute_result"
    },
    {
     "data": {
      "image/png": "[encoded data removed]",
      "text/plain": [
       "<Figure size 640x480 with 1 Axes>"
      ]
     },
     "metadata": {},
     "output_type": "display_data"
    }
   ],
   "source": [
    "tv = tv.sort_values(by = \"super_bowl\")\n",
    "sns.lineplot(data=tv, y=\"total_us_viewers\", x=\"super_bowl\")"
   ]
  },
  {
   "cell_type": "code",
   "execution_count": 6,
   "id": "06200caf-0904-41a5-bba8-6756353ac1af",
   "metadata": {
    "executionCancelledAt": null,
    "executionTime": 53,
    "lastExecutedAt": 1727961222495,
    "lastExecutedByKernel": "6e16e52c-bae7-410d-a77a-a5e65e2b3588",
    "lastScheduledRunId": null,
    "lastSuccessfullyExecutedCode": "viewership_increased = True",
    "outputsMetadata": {
     "0": {
      "height": 110,
      "type": "dataFrame"
     }
    }
   },
   "outputs": [],
   "source": [
    "viewership_increased = True"
   ]
  },
  {
   "cell_type": "code",
   "execution_count": 7,
   "id": "77a0b656-0793-4b9f-8c5c-ae1ebdc43ae2",
   "metadata": {
    "executionCancelledAt": null,
    "executionTime": 52,
    "lastExecutedAt": 1727961222547,
    "lastExecutedByKernel": "6e16e52c-bae7-410d-a77a-a5e65e2b3588",
    "lastScheduledRunId": null,
    "lastSuccessfullyExecutedCode": "super_bowls[\"point_difference\"] = super_bowls[\"winning_pts\"] - super_bowls[\"losing_pts\"]\ndifference = super_bowls[super_bowls[\"point_difference\"] > 40].shape[0]",
    "outputsMetadata": {
     "0": {
      "height": 137,
      "type": "dataFrame"
     }
    }
   },
   "outputs": [],
   "source": [
    "super_bowls[\"point_difference\"] = super_bowls[\"winning_pts\"] - super_bowls[\"losing_pts\"]\n",
    "difference = super_bowls[super_bowls[\"point_difference\"] > 40].shape[0]"
   ]
  },
  {
   "cell_type": "code",
   "execution_count": 8,
   "id": "c6774acf-3d17-4a00-8cda-e111205d0870",
   "metadata": {
    "executionCancelledAt": null,
    "executionTime": 52,
    "lastExecutedAt": 1727961222599,
    "lastExecutedByKernel": "6e16e52c-bae7-410d-a77a-a5e65e2b3588",
    "lastScheduledRunId": null,
    "lastSuccessfullyExecutedCode": "most_songs = halftime_musicians.groupby(\"musician\")[\"num_songs\"].sum().sort_values(ascending = False).index[0]",
    "outputsMetadata": {
     "0": {
      "height": 543,
      "type": "dataFrame"
     }
    }
   },
   "outputs": [],
   "source": [
    "most_songs = halftime_musicians.groupby(\"musician\")[\"num_songs\"].sum().sort_values(ascending = False).index[0]"
   ]
  }
 ],
 "metadata": {
  "colab": {
   "name": "Welcome to DataCamp Workspaces.ipynb",
   "provenance": []
  },
  "editor": "DataLab",
  "kernelspec": {
   "display_name": "base",
   "language": "python",
   "name": "python3"
  },
  "language_info": {
   "codemirror_mode": {
    "name": "ipython",
    "version": 3
   },
   "file_extension": ".py",
   "mimetype": "text/x-python",
   "name": "python",
   "nbconvert_exporter": "python",
   "pygments_lexer": "ipython3",
   "version": "3.12.4"
  }
 },
 "nbformat": 4,
 "nbformat_minor": 5
}
