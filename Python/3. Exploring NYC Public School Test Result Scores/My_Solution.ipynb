{
 "cells": [
  {
   "cell_type": "markdown",
   "id": "fe0ea788-58dd-459e-8976-fafdb5c05c6d",
   "metadata": {},
   "source": [
    "![New York City schoolbus](schoolbus.jpg)\n",
    "\n",
    "Photo by [Jannis Lucas](https://unsplash.com/@jannis_lucas) on [Unsplash](https://unsplash.com).\n",
    "<br>\n",
    "\n",
    "Every year, American high school students take SATs, which are standardized tests intended to measure literacy, numeracy, and writing skills. There are three sections - reading, math, and writing, each with a **maximum score of 800 points**. These tests are extremely important for students and colleges, as they play a pivotal role in the admissions process.\n",
    "\n",
    "Analyzing the performance of schools is important for a variety of stakeholders, including policy and education professionals, researchers, government, and even parents considering which school their children should attend. \n",
    "\n",
    "You have been provided with a dataset called `schools.csv`, which is previewed below.\n",
    "\n",
    "You have been tasked with answering three key questions about New York City (NYC) public school SAT performance."
   ]
  },
  {
   "cell_type": "code",
   "execution_count": 1,
   "id": "d0eb4f16-5a99-460d-a5ba-706b7ef0bbe7",
   "metadata": {
    "executionCancelledAt": null,
    "executionTime": 33,
    "id": "bA5ajAmk7XH6",
    "lastExecutedAt": 1723181772224,
    "lastExecutedByKernel": "b4bd6de7-7d57-4198-82b5-aa61edb47870",
    "lastScheduledRunId": null,
    "lastSuccessfullyExecutedCode": "# Re-run this cell \nimport pandas as pd\n\n# Read in the data\nschools = pd.read_csv(\"schools.csv\")\n\n# Preview the data\nschools.head()\n\n# Start coding here...\n# Add as many cells as you like...",
    "outputsMetadata": {
     "0": {
      "height": 196,
      "type": "dataFrame"
     }
    }
   },
   "outputs": [
    {
     "data": {
      "application/vnd.microsoft.datawrangler.viewer.v0+json": {
       "columns": [
        {
         "name": "index",
         "rawType": "int64",
         "type": "integer"
        },
        {
         "name": "school_name",
         "rawType": "object",
         "type": "string"
        },
        {
         "name": "borough",
         "rawType": "object",
         "type": "string"
        },
        {
         "name": "building_code",
         "rawType": "object",
         "type": "string"
        },
        {
         "name": "average_math",
         "rawType": "int64",
         "type": "integer"
        },
        {
         "name": "average_reading",
         "rawType": "int64",
         "type": "integer"
        },
        {
         "name": "average_writing",
         "rawType": "int64",
         "type": "integer"
        },
        {
         "name": "percent_tested",
         "rawType": "float64",
         "type": "float"
        }
       ],
       "conversionMethod": "pd.DataFrame",
       "ref": "b2f79333-7895-42f8-92a9-20944e49dacf",
       "rows": [
        [
         "0",
         "New Explorations into Science, Technology and Math High School",
         "Manhattan",
         "M022",
         "657",
         "601",
         "601",
         null
        ],
        [
         "1",
         "Essex Street Academy",
         "Manhattan",
         "M445",
         "395",
         "411",
         "387",
         "78.9"
        ],
        [
         "2",
         "Lower Manhattan Arts Academy",
         "Manhattan",
         "M445",
         "418",
         "428",
         "415",
         "65.1"
        ],
        [
         "3",
         "High School for Dual Language and Asian Studies",
         "Manhattan",
         "M445",
         "613",
         "453",
         "463",
         "95.9"
        ],
        [
         "4",
         "Henry Street School for International Studies",
         "Manhattan",
         "M056",
         "410",
         "406",
         "381",
         "59.7"
        ]
       ],
       "shape": {
        "columns": 7,
        "rows": 5
       }
      },
      "text/html": [
       "<div>\n",
       "<style scoped>\n",
       "    .dataframe tbody tr th:only-of-type {\n",
       "        vertical-align: middle;\n",
       "    }\n",
       "\n",
       "    .dataframe tbody tr th {\n",
       "        vertical-align: top;\n",
       "    }\n",
       "\n",
       "    .dataframe thead th {\n",
       "        text-align: right;\n",
       "    }\n",
       "</style>\n",
       "<table border=\"1\" class=\"dataframe\">\n",
       "  <thead>\n",
       "    <tr style=\"text-align: right;\">\n",
       "      <th></th>\n",
       "      <th>school_name</th>\n",
       "      <th>borough</th>\n",
       "      <th>building_code</th>\n",
       "      <th>average_math</th>\n",
       "      <th>average_reading</th>\n",
       "      <th>average_writing</th>\n",
       "      <th>percent_tested</th>\n",
       "    </tr>\n",
       "  </thead>\n",
       "  <tbody>\n",
       "    <tr>\n",
       "      <th>0</th>\n",
       "      <td>New Explorations into Science, Technology and ...</td>\n",
       "      <td>Manhattan</td>\n",
       "      <td>M022</td>\n",
       "      <td>657</td>\n",
       "      <td>601</td>\n",
       "      <td>601</td>\n",
       "      <td>NaN</td>\n",
       "    </tr>\n",
       "    <tr>\n",
       "      <th>1</th>\n",
       "      <td>Essex Street Academy</td>\n",
       "      <td>Manhattan</td>\n",
       "      <td>M445</td>\n",
       "      <td>395</td>\n",
       "      <td>411</td>\n",
       "      <td>387</td>\n",
       "      <td>78.9</td>\n",
       "    </tr>\n",
       "    <tr>\n",
       "      <th>2</th>\n",
       "      <td>Lower Manhattan Arts Academy</td>\n",
       "      <td>Manhattan</td>\n",
       "      <td>M445</td>\n",
       "      <td>418</td>\n",
       "      <td>428</td>\n",
       "      <td>415</td>\n",
       "      <td>65.1</td>\n",
       "    </tr>\n",
       "    <tr>\n",
       "      <th>3</th>\n",
       "      <td>High School for Dual Language and Asian Studies</td>\n",
       "      <td>Manhattan</td>\n",
       "      <td>M445</td>\n",
       "      <td>613</td>\n",
       "      <td>453</td>\n",
       "      <td>463</td>\n",
       "      <td>95.9</td>\n",
       "    </tr>\n",
       "    <tr>\n",
       "      <th>4</th>\n",
       "      <td>Henry Street School for International Studies</td>\n",
       "      <td>Manhattan</td>\n",
       "      <td>M056</td>\n",
       "      <td>410</td>\n",
       "      <td>406</td>\n",
       "      <td>381</td>\n",
       "      <td>59.7</td>\n",
       "    </tr>\n",
       "  </tbody>\n",
       "</table>\n",
       "</div>"
      ],
      "text/plain": [
       "                                         school_name    borough building_code  \\\n",
       "0  New Explorations into Science, Technology and ...  Manhattan          M022   \n",
       "1                               Essex Street Academy  Manhattan          M445   \n",
       "2                       Lower Manhattan Arts Academy  Manhattan          M445   \n",
       "3    High School for Dual Language and Asian Studies  Manhattan          M445   \n",
       "4      Henry Street School for International Studies  Manhattan          M056   \n",
       "\n",
       "   average_math  average_reading  average_writing  percent_tested  \n",
       "0           657              601              601             NaN  \n",
       "1           395              411              387            78.9  \n",
       "2           418              428              415            65.1  \n",
       "3           613              453              463            95.9  \n",
       "4           410              406              381            59.7  "
      ]
     },
     "execution_count": 1,
     "metadata": {},
     "output_type": "execute_result"
    }
   ],
   "source": [
    "# Re-run this cell \n",
    "import pandas as pd\n",
    "\n",
    "# Read in the data\n",
    "schools = pd.read_csv(\"schools.csv\")\n",
    "\n",
    "# Preview the data\n",
    "schools.head()\n",
    "\n",
    "# Start coding here...\n",
    "# Add as many cells as you like..."
   ]
  },
  {
   "cell_type": "code",
   "execution_count": 2,
   "id": "40ca8072-e802-445d-9148-30cbf5f962da",
   "metadata": {
    "executionCancelledAt": null,
    "executionTime": 53,
    "lastExecutedAt": 1723181772277,
    "lastExecutedByKernel": "b4bd6de7-7d57-4198-82b5-aa61edb47870",
    "lastScheduledRunId": null,
    "lastSuccessfullyExecutedCode": "schools = schools.sort_values(\"average_math\", ascending = False)\nschools",
    "outputsMetadata": {
     "0": {
      "height": 321,
      "type": "dataFrame"
     }
    }
   },
   "outputs": [
    {
     "data": {
      "application/vnd.microsoft.datawrangler.viewer.v0+json": {
       "columns": [
        {
         "name": "index",
         "rawType": "int64",
         "type": "integer"
        },
        {
         "name": "school_name",
         "rawType": "object",
         "type": "string"
        },
        {
         "name": "borough",
         "rawType": "object",
         "type": "string"
        },
        {
         "name": "building_code",
         "rawType": "object",
         "type": "string"
        },
        {
         "name": "average_math",
         "rawType": "int64",
         "type": "integer"
        },
        {
         "name": "average_reading",
         "rawType": "int64",
         "type": "integer"
        },
        {
         "name": "average_writing",
         "rawType": "int64",
         "type": "integer"
        },
        {
         "name": "percent_tested",
         "rawType": "float64",
         "type": "float"
        }
       ],
       "conversionMethod": "pd.DataFrame",
       "ref": "09bf1b0f-2c6d-4907-9bce-d770672ed040",
       "rows": [
        [
         "88",
         "Stuyvesant High School",
         "Manhattan",
         "M477",
         "754",
         "697",
         "693",
         "97.4"
        ],
        [
         "170",
         "Bronx High School of Science",
         "Bronx",
         "X445",
         "714",
         "660",
         "667",
         "97.0"
        ],
        [
         "93",
         "Staten Island Technical High School",
         "Staten Island",
         "R440",
         "711",
         "660",
         "670",
         "99.7"
        ],
        [
         "365",
         "Queens High School for the Sciences at York College",
         "Queens",
         "Q774",
         "701",
         "621",
         "625",
         "97.9"
        ],
        [
         "68",
         "High School for Mathematics, Science, and Engineering at City College",
         "Manhattan",
         "M812",
         "683",
         "610",
         "596",
         "92.6"
        ],
        [
         "280",
         "Brooklyn Technical High School",
         "Brooklyn",
         "K430",
         "682",
         "608",
         "606",
         "95.5"
        ],
        [
         "333",
         "Townsend Harris High School",
         "Queens",
         "Q515",
         "680",
         "640",
         "661",
         "97.1"
        ],
        [
         "174",
         "High School of American Studies at Lehman College",
         "Bronx",
         "X905",
         "669",
         "672",
         "672",
         "91.8"
        ],
        [
         "0",
         "New Explorations into Science, Technology and Math High School",
         "Manhattan",
         "M022",
         "657",
         "601",
         "601",
         null
        ],
        [
         "45",
         "Eleanor Roosevelt High School",
         "Manhattan",
         "M855",
         "641",
         "617",
         "631",
         "86.0"
        ],
        [
         "5",
         "Bard High School Early College",
         "Manhattan",
         "M097",
         "634",
         "641",
         "639",
         "70.8"
        ],
        [
         "213",
         "Baccalaureate School for Global Education",
         "Queens",
         "Q798",
         "633",
         "620",
         "628",
         "98.5"
        ],
        [
         "204",
         "Bard High School Early College Queens",
         "Queens",
         "Q735",
         "631",
         "598",
         "610",
         "94.1"
        ],
        [
         "237",
         "Brooklyn Latin School",
         "Brooklyn",
         "K049",
         "625",
         "588",
         "591",
         "97.5"
        ],
        [
         "3",
         "High School for Dual Language and Asian Studies",
         "Manhattan",
         "M445",
         "613",
         "453",
         "463",
         "95.9"
        ],
        [
         "26",
         "NYC Lab School for Collaborative Studies",
         "Manhattan",
         "M070",
         "595",
         "550",
         "555",
         "79.8"
        ],
        [
         "23",
         "Baruch College Campus High School",
         "Manhattan",
         "M874",
         "592",
         "526",
         "531",
         "94.3"
        ],
        [
         "49",
         "Fiorello H. LaGuardia High School of Music and Art and Performing Arts",
         "Manhattan",
         "M485",
         "592",
         "592",
         "597",
         "88.5"
        ],
        [
         "374",
         "Scholars' Academy",
         "Queens",
         "Q180",
         "588",
         "560",
         "568",
         "99.2"
        ],
        [
         "48",
         "Beacon High School",
         "Manhattan",
         "M837",
         "583",
         "586",
         "595",
         "82.8"
        ],
        [
         "58",
         "Columbia Secondary School",
         "Manhattan",
         "M125",
         "583",
         "561",
         "546",
         "88.2"
        ],
        [
         "51",
         "Manhattan / Hunter Science High School",
         "Manhattan",
         "M490",
         "581",
         "531",
         "535",
         "97.2"
        ],
        [
         "18",
         "Millennium High School",
         "Manhattan",
         "M824",
         "577",
         "560",
         "567",
         "94.0"
        ],
        [
         "308",
         "Leon M. Goldstein High School for the Sciences",
         "Brooklyn",
         "K535",
         "563",
         "534",
         "543",
         "94.0"
        ],
        [
         "328",
         "Benjamin N. Cardozo High School",
         "Queens",
         "Q415",
         "563",
         "505",
         "510",
         "75.6"
        ],
        [
         "329",
         "Francis Lewis High School",
         "Queens",
         "Q430",
         "562",
         "483",
         "485",
         "80.7"
        ],
        [
         "31",
         "NYC Museum School",
         "Manhattan",
         "M070",
         "560",
         "530",
         "522",
         "90.0"
        ],
        [
         "65",
         "Manhattan Center for Science and Mathematics",
         "Manhattan",
         "M435",
         "556",
         "505",
         "495",
         "87.6"
        ],
        [
         "275",
         "Millennium Brooklyn High School",
         "Brooklyn",
         "K460",
         "553",
         "551",
         "539",
         "79.6"
        ],
        [
         "254",
         "Midwood High School",
         "Brooklyn",
         "K405",
         "550",
         "514",
         "516",
         "85.7"
        ],
        [
         "212",
         "Frank Sinatra School of the Arts High School",
         "Queens",
         "Q570",
         "536",
         "543",
         "543",
         "89.5"
        ],
        [
         "24",
         "School of the Future High School",
         "Manhattan",
         "M660",
         "534",
         "533",
         "522",
         "89.9"
        ],
        [
         "293",
         "Medgar Evers College Preparatory School",
         "Brooklyn",
         "K590",
         "525",
         "500",
         "481",
         "89.0"
        ],
        [
         "356",
         "Queens Gateway to Health Sciences Secondary School",
         "Queens",
         "Q695",
         "524",
         "511",
         "514",
         "92.5"
        ],
        [
         "327",
         "Bayside High School",
         "Queens",
         "Q405",
         "523",
         "479",
         "485",
         "76.7"
        ],
        [
         "25",
         "Manhattan Village Academy",
         "Manhattan",
         "M873",
         "522",
         "479",
         "510",
         "98.8"
        ],
        [
         "324",
         "East-West School of International Studies",
         "Queens",
         "Q237",
         "521",
         "457",
         "451",
         "89.4"
        ],
        [
         "33",
         "NYC iSchool",
         "Manhattan",
         "M615",
         "518",
         "515",
         "503",
         "96.0"
        ],
        [
         "339",
         "Forest Hills High School",
         "Queens",
         "Q440",
         "517",
         "485",
         "483",
         "72.8"
        ],
        [
         "330",
         "Queens School of Inquiry",
         "Queens",
         "Q168",
         "516",
         "493",
         "486",
         "88.2"
        ],
        [
         "362",
         "Thomas A. Edison Career and Technical Education High School",
         "Queens",
         "Q620",
         "514",
         "473",
         "470",
         "80.0"
        ],
        [
         "116",
         "Bronx Center for Science and Mathematics",
         "Bronx",
         "X002",
         "513",
         "468",
         "485",
         "73.9"
        ],
        [
         "253",
         "Fort Hamilton High School",
         "Brooklyn",
         "K490",
         "513",
         "456",
         "451",
         "68.7"
        ],
        [
         "289",
         "John Dewey High School",
         "Brooklyn",
         "K540",
         "512",
         "418",
         "396",
         "62.7"
        ],
        [
         "201",
         "Aviation Career and Technical Education High School",
         "Queens",
         "Q610",
         "511",
         "464",
         "456",
         "78.6"
        ],
        [
         "278",
         "Bedford Academy High School",
         "Brooklyn",
         "K994",
         "505",
         "464",
         "456",
         "96.2"
        ],
        [
         "232",
         "Franklin Delano Roosevelt High School",
         "Brooklyn",
         "K505",
         "504",
         "411",
         "407",
         "54.0"
        ],
        [
         "218",
         "City Polytechnic High School of Engineering, Architecture, and Technology",
         "Brooklyn",
         "K580",
         "503",
         "477",
         "427",
         "18.5"
        ],
        [
         "281",
         "Brooklyn College Academy",
         "Brooklyn",
         "K917",
         "502",
         "495",
         "493",
         "98.1"
        ],
        [
         "14",
         "Institute for Collaborative Education",
         "Manhattan",
         "M475",
         "501",
         "550",
         "541",
         "78.6"
        ]
       ],
       "shape": {
        "columns": 7,
        "rows": 375
       }
      },
      "text/html": [
       "<div>\n",
       "<style scoped>\n",
       "    .dataframe tbody tr th:only-of-type {\n",
       "        vertical-align: middle;\n",
       "    }\n",
       "\n",
       "    .dataframe tbody tr th {\n",
       "        vertical-align: top;\n",
       "    }\n",
       "\n",
       "    .dataframe thead th {\n",
       "        text-align: right;\n",
       "    }\n",
       "</style>\n",
       "<table border=\"1\" class=\"dataframe\">\n",
       "  <thead>\n",
       "    <tr style=\"text-align: right;\">\n",
       "      <th></th>\n",
       "      <th>school_name</th>\n",
       "      <th>borough</th>\n",
       "      <th>building_code</th>\n",
       "      <th>average_math</th>\n",
       "      <th>average_reading</th>\n",
       "      <th>average_writing</th>\n",
       "      <th>percent_tested</th>\n",
       "    </tr>\n",
       "  </thead>\n",
       "  <tbody>\n",
       "    <tr>\n",
       "      <th>88</th>\n",
       "      <td>Stuyvesant High School</td>\n",
       "      <td>Manhattan</td>\n",
       "      <td>M477</td>\n",
       "      <td>754</td>\n",
       "      <td>697</td>\n",
       "      <td>693</td>\n",
       "      <td>97.4</td>\n",
       "    </tr>\n",
       "    <tr>\n",
       "      <th>170</th>\n",
       "      <td>Bronx High School of Science</td>\n",
       "      <td>Bronx</td>\n",
       "      <td>X445</td>\n",
       "      <td>714</td>\n",
       "      <td>660</td>\n",
       "      <td>667</td>\n",
       "      <td>97.0</td>\n",
       "    </tr>\n",
       "    <tr>\n",
       "      <th>93</th>\n",
       "      <td>Staten Island Technical High School</td>\n",
       "      <td>Staten Island</td>\n",
       "      <td>R440</td>\n",
       "      <td>711</td>\n",
       "      <td>660</td>\n",
       "      <td>670</td>\n",
       "      <td>99.7</td>\n",
       "    </tr>\n",
       "    <tr>\n",
       "      <th>365</th>\n",
       "      <td>Queens High School for the Sciences at York Co...</td>\n",
       "      <td>Queens</td>\n",
       "      <td>Q774</td>\n",
       "      <td>701</td>\n",
       "      <td>621</td>\n",
       "      <td>625</td>\n",
       "      <td>97.9</td>\n",
       "    </tr>\n",
       "    <tr>\n",
       "      <th>68</th>\n",
       "      <td>High School for Mathematics, Science, and Engi...</td>\n",
       "      <td>Manhattan</td>\n",
       "      <td>M812</td>\n",
       "      <td>683</td>\n",
       "      <td>610</td>\n",
       "      <td>596</td>\n",
       "      <td>92.6</td>\n",
       "    </tr>\n",
       "    <tr>\n",
       "      <th>...</th>\n",
       "      <td>...</td>\n",
       "      <td>...</td>\n",
       "      <td>...</td>\n",
       "      <td>...</td>\n",
       "      <td>...</td>\n",
       "      <td>...</td>\n",
       "      <td>...</td>\n",
       "    </tr>\n",
       "    <tr>\n",
       "      <th>337</th>\n",
       "      <td>Pan American International High School</td>\n",
       "      <td>Queens</td>\n",
       "      <td>Q744</td>\n",
       "      <td>340</td>\n",
       "      <td>320</td>\n",
       "      <td>318</td>\n",
       "      <td>31.9</td>\n",
       "    </tr>\n",
       "    <tr>\n",
       "      <th>234</th>\n",
       "      <td>Dr. Susan S. McKinney Secondary School of the ...</td>\n",
       "      <td>Brooklyn</td>\n",
       "      <td>K265</td>\n",
       "      <td>332</td>\n",
       "      <td>346</td>\n",
       "      <td>350</td>\n",
       "      <td>55.1</td>\n",
       "    </tr>\n",
       "    <tr>\n",
       "      <th>242</th>\n",
       "      <td>W. H. Maxwell Career and Technical Education H...</td>\n",
       "      <td>Brooklyn</td>\n",
       "      <td>K660</td>\n",
       "      <td>326</td>\n",
       "      <td>333</td>\n",
       "      <td>350</td>\n",
       "      <td>38.5</td>\n",
       "    </tr>\n",
       "    <tr>\n",
       "      <th>247</th>\n",
       "      <td>Multicultural High School</td>\n",
       "      <td>Brooklyn</td>\n",
       "      <td>K420</td>\n",
       "      <td>319</td>\n",
       "      <td>323</td>\n",
       "      <td>284</td>\n",
       "      <td>NaN</td>\n",
       "    </tr>\n",
       "    <tr>\n",
       "      <th>182</th>\n",
       "      <td>Pan American International High School at Monroe</td>\n",
       "      <td>Bronx</td>\n",
       "      <td>X420</td>\n",
       "      <td>317</td>\n",
       "      <td>315</td>\n",
       "      <td>292</td>\n",
       "      <td>65.6</td>\n",
       "    </tr>\n",
       "  </tbody>\n",
       "</table>\n",
       "<p>375 rows × 7 columns</p>\n",
       "</div>"
      ],
      "text/plain": [
       "                                           school_name        borough  \\\n",
       "88                              Stuyvesant High School      Manhattan   \n",
       "170                       Bronx High School of Science          Bronx   \n",
       "93                 Staten Island Technical High School  Staten Island   \n",
       "365  Queens High School for the Sciences at York Co...         Queens   \n",
       "68   High School for Mathematics, Science, and Engi...      Manhattan   \n",
       "..                                                 ...            ...   \n",
       "337             Pan American International High School         Queens   \n",
       "234  Dr. Susan S. McKinney Secondary School of the ...       Brooklyn   \n",
       "242  W. H. Maxwell Career and Technical Education H...       Brooklyn   \n",
       "247                          Multicultural High School       Brooklyn   \n",
       "182   Pan American International High School at Monroe          Bronx   \n",
       "\n",
       "    building_code  average_math  average_reading  average_writing  \\\n",
       "88           M477           754              697              693   \n",
       "170          X445           714              660              667   \n",
       "93           R440           711              660              670   \n",
       "365          Q774           701              621              625   \n",
       "68           M812           683              610              596   \n",
       "..            ...           ...              ...              ...   \n",
       "337          Q744           340              320              318   \n",
       "234          K265           332              346              350   \n",
       "242          K660           326              333              350   \n",
       "247          K420           319              323              284   \n",
       "182          X420           317              315              292   \n",
       "\n",
       "     percent_tested  \n",
       "88             97.4  \n",
       "170            97.0  \n",
       "93             99.7  \n",
       "365            97.9  \n",
       "68             92.6  \n",
       "..              ...  \n",
       "337            31.9  \n",
       "234            55.1  \n",
       "242            38.5  \n",
       "247             NaN  \n",
       "182            65.6  \n",
       "\n",
       "[375 rows x 7 columns]"
      ]
     },
     "execution_count": 2,
     "metadata": {},
     "output_type": "execute_result"
    }
   ],
   "source": [
    "schools = schools.sort_values(\"average_math\", ascending = False)\n",
    "schools"
   ]
  },
  {
   "cell_type": "code",
   "execution_count": 16,
   "id": "224986f5-c341-4dbe-9586-339f9c0c4ab2",
   "metadata": {
    "executionCancelledAt": null,
    "executionTime": 64,
    "lastExecutedAt": 1723181772341,
    "lastExecutedByKernel": "b4bd6de7-7d57-4198-82b5-aa61edb47870",
    "lastScheduledRunId": null,
    "lastSuccessfullyExecutedCode": "best_average_math = schools[schools[\"average_math\"] >= 0.8 * 800]\nbest_average_math",
    "outputsMetadata": {
     "0": {
      "height": 321,
      "type": "dataFrame"
     }
    }
   },
   "outputs": [
    {
     "data": {
      "application/vnd.microsoft.datawrangler.viewer.v0+json": {
       "columns": [
        {
         "name": "index",
         "rawType": "int64",
         "type": "integer"
        },
        {
         "name": "school_name",
         "rawType": "object",
         "type": "string"
        },
        {
         "name": "average_math",
         "rawType": "int64",
         "type": "integer"
        }
       ],
       "conversionMethod": "pd.DataFrame",
       "ref": "a0fb5749-b838-4f94-a6ef-eee217219b88",
       "rows": [
        [
         "88",
         "Stuyvesant High School",
         "754"
        ],
        [
         "93",
         "Staten Island Technical High School",
         "711"
        ],
        [
         "170",
         "Bronx High School of Science",
         "714"
        ],
        [
         "174",
         "High School of American Studies at Lehman College",
         "669"
        ],
        [
         "333",
         "Townsend Harris High School",
         "680"
        ],
        [
         "365",
         "Queens High School for the Sciences at York College",
         "701"
        ],
        [
         "280",
         "Brooklyn Technical High School",
         "682"
        ],
        [
         "45",
         "Eleanor Roosevelt High School",
         "641"
        ],
        [
         "68",
         "High School for Mathematics, Science, and Engineering at City College",
         "683"
        ],
        [
         "0",
         "New Explorations into Science, Technology and Math High School",
         "657"
        ]
       ],
       "shape": {
        "columns": 2,
        "rows": 10
       }
      },
      "text/html": [
       "<div>\n",
       "<style scoped>\n",
       "    .dataframe tbody tr th:only-of-type {\n",
       "        vertical-align: middle;\n",
       "    }\n",
       "\n",
       "    .dataframe tbody tr th {\n",
       "        vertical-align: top;\n",
       "    }\n",
       "\n",
       "    .dataframe thead th {\n",
       "        text-align: right;\n",
       "    }\n",
       "</style>\n",
       "<table border=\"1\" class=\"dataframe\">\n",
       "  <thead>\n",
       "    <tr style=\"text-align: right;\">\n",
       "      <th></th>\n",
       "      <th>school_name</th>\n",
       "      <th>average_math</th>\n",
       "    </tr>\n",
       "  </thead>\n",
       "  <tbody>\n",
       "    <tr>\n",
       "      <th>88</th>\n",
       "      <td>Stuyvesant High School</td>\n",
       "      <td>754</td>\n",
       "    </tr>\n",
       "    <tr>\n",
       "      <th>93</th>\n",
       "      <td>Staten Island Technical High School</td>\n",
       "      <td>711</td>\n",
       "    </tr>\n",
       "    <tr>\n",
       "      <th>170</th>\n",
       "      <td>Bronx High School of Science</td>\n",
       "      <td>714</td>\n",
       "    </tr>\n",
       "    <tr>\n",
       "      <th>174</th>\n",
       "      <td>High School of American Studies at Lehman College</td>\n",
       "      <td>669</td>\n",
       "    </tr>\n",
       "    <tr>\n",
       "      <th>333</th>\n",
       "      <td>Townsend Harris High School</td>\n",
       "      <td>680</td>\n",
       "    </tr>\n",
       "    <tr>\n",
       "      <th>365</th>\n",
       "      <td>Queens High School for the Sciences at York Co...</td>\n",
       "      <td>701</td>\n",
       "    </tr>\n",
       "    <tr>\n",
       "      <th>280</th>\n",
       "      <td>Brooklyn Technical High School</td>\n",
       "      <td>682</td>\n",
       "    </tr>\n",
       "    <tr>\n",
       "      <th>45</th>\n",
       "      <td>Eleanor Roosevelt High School</td>\n",
       "      <td>641</td>\n",
       "    </tr>\n",
       "    <tr>\n",
       "      <th>68</th>\n",
       "      <td>High School for Mathematics, Science, and Engi...</td>\n",
       "      <td>683</td>\n",
       "    </tr>\n",
       "    <tr>\n",
       "      <th>0</th>\n",
       "      <td>New Explorations into Science, Technology and ...</td>\n",
       "      <td>657</td>\n",
       "    </tr>\n",
       "  </tbody>\n",
       "</table>\n",
       "</div>"
      ],
      "text/plain": [
       "                                           school_name  average_math\n",
       "88                              Stuyvesant High School           754\n",
       "93                 Staten Island Technical High School           711\n",
       "170                       Bronx High School of Science           714\n",
       "174  High School of American Studies at Lehman College           669\n",
       "333                        Townsend Harris High School           680\n",
       "365  Queens High School for the Sciences at York Co...           701\n",
       "280                     Brooklyn Technical High School           682\n",
       "45                       Eleanor Roosevelt High School           641\n",
       "68   High School for Mathematics, Science, and Engi...           683\n",
       "0    New Explorations into Science, Technology and ...           657"
      ]
     },
     "execution_count": 16,
     "metadata": {},
     "output_type": "execute_result"
    }
   ],
   "source": [
    "best_math_schools = schools[schools[\"average_math\"] >= 0.8 * 800][[\"school_name\", \"average_math\"]]\n",
    "best_math_schools"
   ]
  },
  {
   "cell_type": "code",
   "execution_count": 27,
   "id": "1224d140-5cbc-466e-822a-4f271769acb4",
   "metadata": {
    "executionCancelledAt": null,
    "executionTime": 55,
    "lastExecutedAt": 1723181772452,
    "lastExecutedByKernel": "b4bd6de7-7d57-4198-82b5-aa61edb47870",
    "lastScheduledRunId": null,
    "lastSuccessfullyExecutedCode": "schools[\"total_SAT\"] = schools[\"average_math\"] + schools[\"average_reading\"] + schools[\"average_writing\"]\nschools.sort_values(\"total_SAT\", ascending = False, inplace = True)",
    "outputsMetadata": {
     "0": {
      "height": 321,
      "type": "dataFrame"
     }
    }
   },
   "outputs": [],
   "source": [
    "schools[\"total_SAT\"] = schools[\"average_math\"] + schools[\"average_reading\"] + schools[\"average_writing\"]\n",
    "schools.sort_values(\"total_SAT\", ascending = False, inplace = True)"
   ]
  },
  {
   "cell_type": "code",
   "execution_count": 18,
   "id": "1b1fa256-7b7a-4482-8c06-a0ed650b1f16",
   "metadata": {
    "executionCancelledAt": null,
    "executionTime": 48,
    "lastExecutedAt": 1723181772500,
    "lastExecutedByKernel": "b4bd6de7-7d57-4198-82b5-aa61edb47870",
    "lastScheduledRunId": null,
    "lastSuccessfullyExecutedCode": "top_10_schools = schools.loc[:, [\"school_name\", \"total_SAT\"]].head(10)\ntop_10_schools",
    "outputsMetadata": {
     "0": {
      "height": 321,
      "type": "dataFrame"
     }
    }
   },
   "outputs": [
    {
     "data": {
      "application/vnd.microsoft.datawrangler.viewer.v0+json": {
       "columns": [
        {
         "name": "index",
         "rawType": "int64",
         "type": "integer"
        },
        {
         "name": "school_name",
         "rawType": "object",
         "type": "string"
        },
        {
         "name": "total_SAT",
         "rawType": "int64",
         "type": "integer"
        }
       ],
       "conversionMethod": "pd.DataFrame",
       "ref": "f2f1d88b-30bf-4641-b8d5-02c3ac2456ab",
       "rows": [
        [
         "88",
         "Stuyvesant High School",
         "2144"
        ],
        [
         "170",
         "Bronx High School of Science",
         "2041"
        ],
        [
         "93",
         "Staten Island Technical High School",
         "2041"
        ],
        [
         "174",
         "High School of American Studies at Lehman College",
         "2013"
        ],
        [
         "333",
         "Townsend Harris High School",
         "1981"
        ],
        [
         "365",
         "Queens High School for the Sciences at York College",
         "1947"
        ],
        [
         "5",
         "Bard High School Early College",
         "1914"
        ],
        [
         "280",
         "Brooklyn Technical High School",
         "1896"
        ],
        [
         "45",
         "Eleanor Roosevelt High School",
         "1889"
        ],
        [
         "68",
         "High School for Mathematics, Science, and Engineering at City College",
         "1889"
        ]
       ],
       "shape": {
        "columns": 2,
        "rows": 10
       }
      },
      "text/html": [
       "<div>\n",
       "<style scoped>\n",
       "    .dataframe tbody tr th:only-of-type {\n",
       "        vertical-align: middle;\n",
       "    }\n",
       "\n",
       "    .dataframe tbody tr th {\n",
       "        vertical-align: top;\n",
       "    }\n",
       "\n",
       "    .dataframe thead th {\n",
       "        text-align: right;\n",
       "    }\n",
       "</style>\n",
       "<table border=\"1\" class=\"dataframe\">\n",
       "  <thead>\n",
       "    <tr style=\"text-align: right;\">\n",
       "      <th></th>\n",
       "      <th>school_name</th>\n",
       "      <th>total_SAT</th>\n",
       "    </tr>\n",
       "  </thead>\n",
       "  <tbody>\n",
       "    <tr>\n",
       "      <th>88</th>\n",
       "      <td>Stuyvesant High School</td>\n",
       "      <td>2144</td>\n",
       "    </tr>\n",
       "    <tr>\n",
       "      <th>170</th>\n",
       "      <td>Bronx High School of Science</td>\n",
       "      <td>2041</td>\n",
       "    </tr>\n",
       "    <tr>\n",
       "      <th>93</th>\n",
       "      <td>Staten Island Technical High School</td>\n",
       "      <td>2041</td>\n",
       "    </tr>\n",
       "    <tr>\n",
       "      <th>174</th>\n",
       "      <td>High School of American Studies at Lehman College</td>\n",
       "      <td>2013</td>\n",
       "    </tr>\n",
       "    <tr>\n",
       "      <th>333</th>\n",
       "      <td>Townsend Harris High School</td>\n",
       "      <td>1981</td>\n",
       "    </tr>\n",
       "    <tr>\n",
       "      <th>365</th>\n",
       "      <td>Queens High School for the Sciences at York Co...</td>\n",
       "      <td>1947</td>\n",
       "    </tr>\n",
       "    <tr>\n",
       "      <th>5</th>\n",
       "      <td>Bard High School Early College</td>\n",
       "      <td>1914</td>\n",
       "    </tr>\n",
       "    <tr>\n",
       "      <th>280</th>\n",
       "      <td>Brooklyn Technical High School</td>\n",
       "      <td>1896</td>\n",
       "    </tr>\n",
       "    <tr>\n",
       "      <th>45</th>\n",
       "      <td>Eleanor Roosevelt High School</td>\n",
       "      <td>1889</td>\n",
       "    </tr>\n",
       "    <tr>\n",
       "      <th>68</th>\n",
       "      <td>High School for Mathematics, Science, and Engi...</td>\n",
       "      <td>1889</td>\n",
       "    </tr>\n",
       "  </tbody>\n",
       "</table>\n",
       "</div>"
      ],
      "text/plain": [
       "                                           school_name  total_SAT\n",
       "88                              Stuyvesant High School       2144\n",
       "170                       Bronx High School of Science       2041\n",
       "93                 Staten Island Technical High School       2041\n",
       "174  High School of American Studies at Lehman College       2013\n",
       "333                        Townsend Harris High School       1981\n",
       "365  Queens High School for the Sciences at York Co...       1947\n",
       "5                       Bard High School Early College       1914\n",
       "280                     Brooklyn Technical High School       1896\n",
       "45                       Eleanor Roosevelt High School       1889\n",
       "68   High School for Mathematics, Science, and Engi...       1889"
      ]
     },
     "execution_count": 18,
     "metadata": {},
     "output_type": "execute_result"
    }
   ],
   "source": [
    "top_10_schools = schools.loc[:, [\"school_name\", \"total_SAT\"]].head(10)\n",
    "top_10_schools"
   ]
  },
  {
   "cell_type": "code",
   "execution_count": 19,
   "id": "04a74113-8ccb-4a2e-b3c1-4552b20b6602",
   "metadata": {
    "executionCancelledAt": null,
    "executionTime": 54,
    "lastExecutedAt": 1723181772554,
    "lastExecutedByKernel": "b4bd6de7-7d57-4198-82b5-aa61edb47870",
    "lastScheduledRunId": null,
    "lastSuccessfullyExecutedCode": "num_schools = schools.groupby(\"borough\")[\"school_name\"].count()\nnum_schools = num_schools.iloc[2 : 3]\nnum_schools",
    "outputsMetadata": {
     "0": {
      "height": 96,
      "type": "dataFrame"
     }
    }
   },
   "outputs": [
    {
     "data": {
      "text/plain": [
       "borough\n",
       "Manhattan    89\n",
       "Name: school_name, dtype: int64"
      ]
     },
     "execution_count": 19,
     "metadata": {},
     "output_type": "execute_result"
    }
   ],
   "source": [
    "num_schools = schools.groupby(\"borough\")[\"school_name\"].count()\n",
    "num_schools = num_schools.iloc[2 : 3]\n",
    "num_schools"
   ]
  },
  {
   "cell_type": "code",
   "execution_count": 20,
   "id": "2f554157-ba47-47c2-94ef-762546e4f0b7",
   "metadata": {
    "executionCancelledAt": null,
    "executionTime": 54,
    "lastExecutedAt": 1723181772608,
    "lastExecutedByKernel": "b4bd6de7-7d57-4198-82b5-aa61edb47870",
    "lastScheduledRunId": null,
    "lastSuccessfullyExecutedCode": "std_SAT_filter = schools.groupby(\"borough\")[\"total_SAT\"].agg(\"std\").round(2)\nstd_SAT_filter.sort_values(ascending = False, inplace = True)\nstd_SAT_filter",
    "outputsMetadata": {
     "0": {
      "height": 196,
      "type": "dataFrame"
     }
    }
   },
   "outputs": [
    {
     "data": {
      "text/plain": [
       "borough\n",
       "Manhattan        230.29\n",
       "Staten Island    222.30\n",
       "Queens           195.25\n",
       "Brooklyn         154.87\n",
       "Bronx            150.39\n",
       "Name: total_SAT, dtype: float64"
      ]
     },
     "execution_count": 20,
     "metadata": {},
     "output_type": "execute_result"
    }
   ],
   "source": [
    "std_SAT_filter = schools.groupby(\"borough\")[\"total_SAT\"].agg(\"std\").round(2)\n",
    "std_SAT_filter.sort_values(ascending = False, inplace = True)\n",
    "std_SAT_filter"
   ]
  },
  {
   "cell_type": "code",
   "execution_count": 21,
   "id": "ef39224e-6007-487f-bb31-723c5df6f4eb",
   "metadata": {
    "executionCancelledAt": null,
    "executionTime": 52,
    "lastExecutedAt": 1723181772660,
    "lastExecutedByKernel": "b4bd6de7-7d57-4198-82b5-aa61edb47870",
    "lastScheduledRunId": null,
    "lastSuccessfullyExecutedCode": "std_SAT = std_SAT_filter.iloc[: 1]\nstd_SAT",
    "outputsMetadata": {
     "0": {
      "height": 96,
      "type": "dataFrame"
     }
    }
   },
   "outputs": [
    {
     "data": {
      "text/plain": [
       "borough\n",
       "Manhattan    230.29\n",
       "Name: total_SAT, dtype: float64"
      ]
     },
     "execution_count": 21,
     "metadata": {},
     "output_type": "execute_result"
    }
   ],
   "source": [
    "std_SAT = std_SAT_filter.iloc[: 1]\n",
    "std_SAT"
   ]
  },
  {
   "cell_type": "code",
   "execution_count": 22,
   "id": "458104fb-955c-4ff1-aa1a-8c6555fa8199",
   "metadata": {
    "executionCancelledAt": null,
    "executionTime": 57,
    "lastExecutedAt": 1723181772717,
    "lastExecutedByKernel": "b4bd6de7-7d57-4198-82b5-aa61edb47870",
    "lastScheduledRunId": null,
    "lastSuccessfullyExecutedCode": "average_SAT_filter = schools.groupby(\"borough\")[\"total_SAT\"].mean().round(2)\naverage_SAT_filter.sort_values(ascending = False, inplace = True)\naverage_SAT_filter",
    "outputsMetadata": {
     "0": {
      "height": 196,
      "type": "dataFrame"
     }
    }
   },
   "outputs": [
    {
     "data": {
      "text/plain": [
       "borough\n",
       "Staten Island    1439.00\n",
       "Queens           1345.48\n",
       "Manhattan        1340.13\n",
       "Brooklyn         1230.26\n",
       "Bronx            1202.72\n",
       "Name: total_SAT, dtype: float64"
      ]
     },
     "execution_count": 22,
     "metadata": {},
     "output_type": "execute_result"
    }
   ],
   "source": [
    "average_SAT_filter = schools.groupby(\"borough\")[\"total_SAT\"].mean().round(2)\n",
    "average_SAT_filter.sort_values(ascending = False, inplace = True)\n",
    "average_SAT_filter"
   ]
  },
  {
   "cell_type": "code",
   "execution_count": 23,
   "id": "e4dd9864-bf00-49c1-98b0-968da5f3e24e",
   "metadata": {
    "executionCancelledAt": null,
    "executionTime": 58,
    "lastExecutedAt": 1723181772776,
    "lastExecutedByKernel": "b4bd6de7-7d57-4198-82b5-aa61edb47870",
    "lastScheduledRunId": null,
    "lastSuccessfullyExecutedCode": "average_SAT = average_SAT_filter.iloc[2: 3]\naverage_SAT",
    "outputsMetadata": {
     "0": {
      "height": 96,
      "type": "dataFrame"
     }
    }
   },
   "outputs": [
    {
     "data": {
      "text/plain": [
       "borough\n",
       "Manhattan    1340.13\n",
       "Name: total_SAT, dtype: float64"
      ]
     },
     "execution_count": 23,
     "metadata": {},
     "output_type": "execute_result"
    }
   ],
   "source": [
    "average_SAT = average_SAT_filter.iloc[2: 3]\n",
    "average_SAT"
   ]
  },
  {
   "cell_type": "code",
   "execution_count": 29,
   "id": "a81166f2-35cf-4e84-8bc4-3a6460571f4f",
   "metadata": {
    "executionCancelledAt": null,
    "executionTime": 64,
    "lastExecutedAt": 1723181772841,
    "lastExecutedByKernel": "b4bd6de7-7d57-4198-82b5-aa61edb47870",
    "lastScheduledRunId": null,
    "lastSuccessfullyExecutedCode": "largest_std_dev = pd.concat([num_schools, average_SAT, std_SAT], axis=1)\nlargest_std_dev",
    "outputsMetadata": {
     "0": {
      "height": 96,
      "type": "dataFrame"
     }
    }
   },
   "outputs": [
    {
     "data": {
      "application/vnd.microsoft.datawrangler.viewer.v0+json": {
       "columns": [
        {
         "name": "borough",
         "rawType": "object",
         "type": "string"
        },
        {
         "name": "school_name",
         "rawType": "int64",
         "type": "integer"
        },
        {
         "name": "total_SAT",
         "rawType": "float64",
         "type": "float"
        },
        {
         "name": "total_SAT",
         "rawType": "float64",
         "type": "float"
        }
       ],
       "conversionMethod": "pd.DataFrame",
       "ref": "8868a775-3706-409c-9607-9a05f8781a62",
       "rows": [
        [
         "Manhattan",
         "89",
         "1340.13",
         "230.29"
        ]
       ],
       "shape": {
        "columns": 3,
        "rows": 1
       }
      },
      "text/html": [
       "<div>\n",
       "<style scoped>\n",
       "    .dataframe tbody tr th:only-of-type {\n",
       "        vertical-align: middle;\n",
       "    }\n",
       "\n",
       "    .dataframe tbody tr th {\n",
       "        vertical-align: top;\n",
       "    }\n",
       "\n",
       "    .dataframe thead th {\n",
       "        text-align: right;\n",
       "    }\n",
       "</style>\n",
       "<table border=\"1\" class=\"dataframe\">\n",
       "  <thead>\n",
       "    <tr style=\"text-align: right;\">\n",
       "      <th></th>\n",
       "      <th>school_name</th>\n",
       "      <th>total_SAT</th>\n",
       "      <th>total_SAT</th>\n",
       "    </tr>\n",
       "    <tr>\n",
       "      <th>borough</th>\n",
       "      <th></th>\n",
       "      <th></th>\n",
       "      <th></th>\n",
       "    </tr>\n",
       "  </thead>\n",
       "  <tbody>\n",
       "    <tr>\n",
       "      <th>Manhattan</th>\n",
       "      <td>89</td>\n",
       "      <td>1340.13</td>\n",
       "      <td>230.29</td>\n",
       "    </tr>\n",
       "  </tbody>\n",
       "</table>\n",
       "</div>"
      ],
      "text/plain": [
       "           school_name  total_SAT  total_SAT\n",
       "borough                                     \n",
       "Manhattan           89    1340.13     230.29"
      ]
     },
     "execution_count": 29,
     "metadata": {},
     "output_type": "execute_result"
    }
   ],
   "source": [
    "largest_std_dev = pd.concat([num_schools, average_SAT, std_SAT], axis=1)\n",
    "largest_std_dev"
   ]
  },
  {
   "cell_type": "code",
   "execution_count": 25,
   "id": "8ffb9931-ace4-4ddc-87cc-ca9bd1eacf39",
   "metadata": {
    "executionCancelledAt": null,
    "executionTime": 66,
    "lastExecutedAt": 1723181772907,
    "lastExecutedByKernel": "b4bd6de7-7d57-4198-82b5-aa61edb47870",
    "lastScheduledRunId": null,
    "lastSuccessfullyExecutedCode": "largest_std_dev.columns = [\"num_schools\", \"average_SAT\", \"std_SAT\"]\nlargest_std_dev",
    "outputsMetadata": {
     "0": {
      "height": 96,
      "type": "dataFrame"
     }
    }
   },
   "outputs": [
    {
     "data": {
      "application/vnd.microsoft.datawrangler.viewer.v0+json": {
       "columns": [
        {
         "name": "borough",
         "rawType": "object",
         "type": "string"
        },
        {
         "name": "num_schools",
         "rawType": "int64",
         "type": "integer"
        },
        {
         "name": "average_SAT",
         "rawType": "float64",
         "type": "float"
        },
        {
         "name": "std_SAT",
         "rawType": "float64",
         "type": "float"
        }
       ],
       "conversionMethod": "pd.DataFrame",
       "ref": "c38636f3-4bb2-463e-ab9c-bc47bb05a3a0",
       "rows": [
        [
         "Manhattan",
         "89",
         "1340.13",
         "230.29"
        ]
       ],
       "shape": {
        "columns": 3,
        "rows": 1
       }
      },
      "text/html": [
       "<div>\n",
       "<style scoped>\n",
       "    .dataframe tbody tr th:only-of-type {\n",
       "        vertical-align: middle;\n",
       "    }\n",
       "\n",
       "    .dataframe tbody tr th {\n",
       "        vertical-align: top;\n",
       "    }\n",
       "\n",
       "    .dataframe thead th {\n",
       "        text-align: right;\n",
       "    }\n",
       "</style>\n",
       "<table border=\"1\" class=\"dataframe\">\n",
       "  <thead>\n",
       "    <tr style=\"text-align: right;\">\n",
       "      <th></th>\n",
       "      <th>num_schools</th>\n",
       "      <th>average_SAT</th>\n",
       "      <th>std_SAT</th>\n",
       "    </tr>\n",
       "    <tr>\n",
       "      <th>borough</th>\n",
       "      <th></th>\n",
       "      <th></th>\n",
       "      <th></th>\n",
       "    </tr>\n",
       "  </thead>\n",
       "  <tbody>\n",
       "    <tr>\n",
       "      <th>Manhattan</th>\n",
       "      <td>89</td>\n",
       "      <td>1340.13</td>\n",
       "      <td>230.29</td>\n",
       "    </tr>\n",
       "  </tbody>\n",
       "</table>\n",
       "</div>"
      ],
      "text/plain": [
       "           num_schools  average_SAT  std_SAT\n",
       "borough                                     \n",
       "Manhattan           89      1340.13   230.29"
      ]
     },
     "execution_count": 25,
     "metadata": {},
     "output_type": "execute_result"
    }
   ],
   "source": [
    "largest_std_dev.columns = [\"num_schools\", \"average_SAT\", \"std_SAT\"]\n",
    "largest_std_dev"
   ]
  }
 ],
 "metadata": {
  "editor": "DataLab",
  "kernelspec": {
   "display_name": "base",
   "language": "python",
   "name": "python3"
  },
  "language_info": {
   "codemirror_mode": {
    "name": "ipython",
    "version": 3
   },
   "file_extension": ".py",
   "mimetype": "text/x-python",
   "name": "python",
   "nbconvert_exporter": "python",
   "pygments_lexer": "ipython3",
   "version": "3.12.4"
  }
 },
 "nbformat": 4,
 "nbformat_minor": 5
}
