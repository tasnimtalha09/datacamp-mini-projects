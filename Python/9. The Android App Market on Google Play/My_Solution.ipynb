{
 "cells": [
  {
   "cell_type": "code",
   "execution_count": null,
   "metadata": {},
   "outputs": [],
   "source": [
    "# Loading the necessary datasets\n",
    "import pandas as pd\n",
    "import os"
   ]
  },
  {
   "cell_type": "code",
   "execution_count": 2,
   "metadata": {},
   "outputs": [],
   "source": [
    "pwd = os.getcwd()"
   ]
  },
  {
   "cell_type": "code",
   "execution_count": null,
   "metadata": {},
   "outputs": [
    {
     "data": {
      "application/vnd.microsoft.datawrangler.viewer.v0+json": {
       "columns": [
        {
         "name": "index",
         "rawType": "int64",
         "type": "integer"
        },
        {
         "name": "App",
         "rawType": "object",
         "type": "string"
        },
        {
         "name": "Category",
         "rawType": "object",
         "type": "string"
        },
        {
         "name": "Rating",
         "rawType": "float64",
         "type": "float"
        },
        {
         "name": "Reviews",
         "rawType": "int64",
         "type": "integer"
        },
        {
         "name": "Size",
         "rawType": "float64",
         "type": "float"
        },
        {
         "name": "Installs",
         "rawType": "object",
         "type": "string"
        },
        {
         "name": "Type",
         "rawType": "object",
         "type": "string"
        },
        {
         "name": "Price",
         "rawType": "float64",
         "type": "float"
        },
        {
         "name": "Last Updated",
         "rawType": "object",
         "type": "string"
        }
       ],
       "conversionMethod": "pd.DataFrame",
       "ref": "11e0a825-7c07-4b3f-ab7b-665a12ffea33",
       "rows": [
        [
         "0",
         "Photo Editor & Candy Camera & Grid & ScrapBook",
         "ART_AND_DESIGN",
         "4.1",
         "159",
         "19.0",
         "10,000+",
         "Free",
         "0.0",
         "January 7, 2018"
        ],
        [
         "1",
         "Coloring book moana",
         "ART_AND_DESIGN",
         "3.9",
         "967",
         "14.0",
         "500,000+",
         "Free",
         "0.0",
         "January 15, 2018"
        ],
        [
         "2",
         "U Launcher Lite – FREE Live Cool Themes, Hide Apps",
         "ART_AND_DESIGN",
         "4.7",
         "87510",
         "8.7",
         "5,000,000+",
         "Free",
         "0.0",
         "August 1, 2018"
        ],
        [
         "3",
         "Sketch - Draw & Paint",
         "ART_AND_DESIGN",
         "4.5",
         "215644",
         "25.0",
         "50,000,000+",
         "Free",
         "0.0",
         "June 8, 2018"
        ],
        [
         "4",
         "Pixel Draw - Number Art Coloring Book",
         "ART_AND_DESIGN",
         "4.3",
         "967",
         "2.8",
         "100,000+",
         "Free",
         "0.0",
         "June 20, 2018"
        ]
       ],
       "shape": {
        "columns": 9,
        "rows": 5
       }
      },
      "text/html": [
       "<div>\n",
       "<style scoped>\n",
       "    .dataframe tbody tr th:only-of-type {\n",
       "        vertical-align: middle;\n",
       "    }\n",
       "\n",
       "    .dataframe tbody tr th {\n",
       "        vertical-align: top;\n",
       "    }\n",
       "\n",
       "    .dataframe thead th {\n",
       "        text-align: right;\n",
       "    }\n",
       "</style>\n",
       "<table border=\"1\" class=\"dataframe\">\n",
       "  <thead>\n",
       "    <tr style=\"text-align: right;\">\n",
       "      <th></th>\n",
       "      <th>App</th>\n",
       "      <th>Category</th>\n",
       "      <th>Rating</th>\n",
       "      <th>Reviews</th>\n",
       "      <th>Size</th>\n",
       "      <th>Installs</th>\n",
       "      <th>Type</th>\n",
       "      <th>Price</th>\n",
       "      <th>Last Updated</th>\n",
       "    </tr>\n",
       "  </thead>\n",
       "  <tbody>\n",
       "    <tr>\n",
       "      <th>0</th>\n",
       "      <td>Photo Editor &amp; Candy Camera &amp; Grid &amp; ScrapBook</td>\n",
       "      <td>ART_AND_DESIGN</td>\n",
       "      <td>4.1</td>\n",
       "      <td>159</td>\n",
       "      <td>19.0</td>\n",
       "      <td>10,000+</td>\n",
       "      <td>Free</td>\n",
       "      <td>0.0</td>\n",
       "      <td>January 7, 2018</td>\n",
       "    </tr>\n",
       "    <tr>\n",
       "      <th>1</th>\n",
       "      <td>Coloring book moana</td>\n",
       "      <td>ART_AND_DESIGN</td>\n",
       "      <td>3.9</td>\n",
       "      <td>967</td>\n",
       "      <td>14.0</td>\n",
       "      <td>500,000+</td>\n",
       "      <td>Free</td>\n",
       "      <td>0.0</td>\n",
       "      <td>January 15, 2018</td>\n",
       "    </tr>\n",
       "    <tr>\n",
       "      <th>2</th>\n",
       "      <td>U Launcher Lite – FREE Live Cool Themes, Hide ...</td>\n",
       "      <td>ART_AND_DESIGN</td>\n",
       "      <td>4.7</td>\n",
       "      <td>87510</td>\n",
       "      <td>8.7</td>\n",
       "      <td>5,000,000+</td>\n",
       "      <td>Free</td>\n",
       "      <td>0.0</td>\n",
       "      <td>August 1, 2018</td>\n",
       "    </tr>\n",
       "    <tr>\n",
       "      <th>3</th>\n",
       "      <td>Sketch - Draw &amp; Paint</td>\n",
       "      <td>ART_AND_DESIGN</td>\n",
       "      <td>4.5</td>\n",
       "      <td>215644</td>\n",
       "      <td>25.0</td>\n",
       "      <td>50,000,000+</td>\n",
       "      <td>Free</td>\n",
       "      <td>0.0</td>\n",
       "      <td>June 8, 2018</td>\n",
       "    </tr>\n",
       "    <tr>\n",
       "      <th>4</th>\n",
       "      <td>Pixel Draw - Number Art Coloring Book</td>\n",
       "      <td>ART_AND_DESIGN</td>\n",
       "      <td>4.3</td>\n",
       "      <td>967</td>\n",
       "      <td>2.8</td>\n",
       "      <td>100,000+</td>\n",
       "      <td>Free</td>\n",
       "      <td>0.0</td>\n",
       "      <td>June 20, 2018</td>\n",
       "    </tr>\n",
       "  </tbody>\n",
       "</table>\n",
       "</div>"
      ],
      "text/plain": [
       "                                                 App        Category  Rating  \\\n",
       "0     Photo Editor & Candy Camera & Grid & ScrapBook  ART_AND_DESIGN     4.1   \n",
       "1                                Coloring book moana  ART_AND_DESIGN     3.9   \n",
       "2  U Launcher Lite – FREE Live Cool Themes, Hide ...  ART_AND_DESIGN     4.7   \n",
       "3                              Sketch - Draw & Paint  ART_AND_DESIGN     4.5   \n",
       "4              Pixel Draw - Number Art Coloring Book  ART_AND_DESIGN     4.3   \n",
       "\n",
       "   Reviews  Size     Installs  Type  Price      Last Updated  \n",
       "0      159  19.0      10,000+  Free    0.0   January 7, 2018  \n",
       "1      967  14.0     500,000+  Free    0.0  January 15, 2018  \n",
       "2    87510   8.7   5,000,000+  Free    0.0    August 1, 2018  \n",
       "3   215644  25.0  50,000,000+  Free    0.0      June 8, 2018  \n",
       "4      967   2.8     100,000+  Free    0.0     June 20, 2018  "
      ]
     },
     "execution_count": 3,
     "metadata": {},
     "output_type": "execute_result"
    }
   ],
   "source": [
    "# Loading the datasets\n",
    "apps = pd.read_csv(pwd + \"/datasets/apps.csv\")\n",
    "user_reviews = pd.read_csv(pwd + \"/datasets/user_reviews.csv\")\n",
    "apps.head()"
   ]
  },
  {
   "cell_type": "code",
   "execution_count": null,
   "metadata": {},
   "outputs": [
    {
     "data": {
      "text/plain": [
       "App              object\n",
       "Category         object\n",
       "Rating          float64\n",
       "Reviews           int64\n",
       "Size            float64\n",
       "Installs         object\n",
       "Type             object\n",
       "Price           float64\n",
       "Last Updated     object\n",
       "dtype: object"
      ]
     },
     "execution_count": 4,
     "metadata": {},
     "output_type": "execute_result"
    }
   ],
   "source": [
    "# Checking the column types of the \"apps\" dataset\n",
    "apps.dtypes"
   ]
  },
  {
   "cell_type": "code",
   "execution_count": null,
   "metadata": {},
   "outputs": [
    {
     "data": {
      "application/vnd.microsoft.datawrangler.viewer.v0+json": {
       "columns": [
        {
         "name": "index",
         "rawType": "int64",
         "type": "integer"
        },
        {
         "name": "App",
         "rawType": "object",
         "type": "string"
        },
        {
         "name": "Category",
         "rawType": "object",
         "type": "string"
        },
        {
         "name": "Rating",
         "rawType": "float64",
         "type": "float"
        },
        {
         "name": "Reviews",
         "rawType": "int64",
         "type": "integer"
        },
        {
         "name": "Size",
         "rawType": "float64",
         "type": "float"
        },
        {
         "name": "Installs",
         "rawType": "int64",
         "type": "integer"
        },
        {
         "name": "Type",
         "rawType": "object",
         "type": "string"
        },
        {
         "name": "Price",
         "rawType": "float64",
         "type": "float"
        },
        {
         "name": "Last Updated",
         "rawType": "object",
         "type": "string"
        }
       ],
       "conversionMethod": "pd.DataFrame",
       "ref": "5ec931ee-01a3-4ca5-8df9-0a26d9cb6ab0",
       "rows": [
        [
         "0",
         "Photo Editor & Candy Camera & Grid & ScrapBook",
         "ART_AND_DESIGN",
         "4.1",
         "159",
         "19.0",
         "10000",
         "Free",
         "0.0",
         "January 7, 2018"
        ],
        [
         "1",
         "Coloring book moana",
         "ART_AND_DESIGN",
         "3.9",
         "967",
         "14.0",
         "500000",
         "Free",
         "0.0",
         "January 15, 2018"
        ],
        [
         "2",
         "U Launcher Lite – FREE Live Cool Themes, Hide Apps",
         "ART_AND_DESIGN",
         "4.7",
         "87510",
         "8.7",
         "5000000",
         "Free",
         "0.0",
         "August 1, 2018"
        ],
        [
         "3",
         "Sketch - Draw & Paint",
         "ART_AND_DESIGN",
         "4.5",
         "215644",
         "25.0",
         "50000000",
         "Free",
         "0.0",
         "June 8, 2018"
        ],
        [
         "4",
         "Pixel Draw - Number Art Coloring Book",
         "ART_AND_DESIGN",
         "4.3",
         "967",
         "2.8",
         "100000",
         "Free",
         "0.0",
         "June 20, 2018"
        ]
       ],
       "shape": {
        "columns": 9,
        "rows": 5
       }
      },
      "text/html": [
       "<div>\n",
       "<style scoped>\n",
       "    .dataframe tbody tr th:only-of-type {\n",
       "        vertical-align: middle;\n",
       "    }\n",
       "\n",
       "    .dataframe tbody tr th {\n",
       "        vertical-align: top;\n",
       "    }\n",
       "\n",
       "    .dataframe thead th {\n",
       "        text-align: right;\n",
       "    }\n",
       "</style>\n",
       "<table border=\"1\" class=\"dataframe\">\n",
       "  <thead>\n",
       "    <tr style=\"text-align: right;\">\n",
       "      <th></th>\n",
       "      <th>App</th>\n",
       "      <th>Category</th>\n",
       "      <th>Rating</th>\n",
       "      <th>Reviews</th>\n",
       "      <th>Size</th>\n",
       "      <th>Installs</th>\n",
       "      <th>Type</th>\n",
       "      <th>Price</th>\n",
       "      <th>Last Updated</th>\n",
       "    </tr>\n",
       "  </thead>\n",
       "  <tbody>\n",
       "    <tr>\n",
       "      <th>0</th>\n",
       "      <td>Photo Editor &amp; Candy Camera &amp; Grid &amp; ScrapBook</td>\n",
       "      <td>ART_AND_DESIGN</td>\n",
       "      <td>4.1</td>\n",
       "      <td>159</td>\n",
       "      <td>19.0</td>\n",
       "      <td>10000</td>\n",
       "      <td>Free</td>\n",
       "      <td>0.0</td>\n",
       "      <td>January 7, 2018</td>\n",
       "    </tr>\n",
       "    <tr>\n",
       "      <th>1</th>\n",
       "      <td>Coloring book moana</td>\n",
       "      <td>ART_AND_DESIGN</td>\n",
       "      <td>3.9</td>\n",
       "      <td>967</td>\n",
       "      <td>14.0</td>\n",
       "      <td>500000</td>\n",
       "      <td>Free</td>\n",
       "      <td>0.0</td>\n",
       "      <td>January 15, 2018</td>\n",
       "    </tr>\n",
       "    <tr>\n",
       "      <th>2</th>\n",
       "      <td>U Launcher Lite – FREE Live Cool Themes, Hide ...</td>\n",
       "      <td>ART_AND_DESIGN</td>\n",
       "      <td>4.7</td>\n",
       "      <td>87510</td>\n",
       "      <td>8.7</td>\n",
       "      <td>5000000</td>\n",
       "      <td>Free</td>\n",
       "      <td>0.0</td>\n",
       "      <td>August 1, 2018</td>\n",
       "    </tr>\n",
       "    <tr>\n",
       "      <th>3</th>\n",
       "      <td>Sketch - Draw &amp; Paint</td>\n",
       "      <td>ART_AND_DESIGN</td>\n",
       "      <td>4.5</td>\n",
       "      <td>215644</td>\n",
       "      <td>25.0</td>\n",
       "      <td>50000000</td>\n",
       "      <td>Free</td>\n",
       "      <td>0.0</td>\n",
       "      <td>June 8, 2018</td>\n",
       "    </tr>\n",
       "    <tr>\n",
       "      <th>4</th>\n",
       "      <td>Pixel Draw - Number Art Coloring Book</td>\n",
       "      <td>ART_AND_DESIGN</td>\n",
       "      <td>4.3</td>\n",
       "      <td>967</td>\n",
       "      <td>2.8</td>\n",
       "      <td>100000</td>\n",
       "      <td>Free</td>\n",
       "      <td>0.0</td>\n",
       "      <td>June 20, 2018</td>\n",
       "    </tr>\n",
       "  </tbody>\n",
       "</table>\n",
       "</div>"
      ],
      "text/plain": [
       "                                                 App        Category  Rating  \\\n",
       "0     Photo Editor & Candy Camera & Grid & ScrapBook  ART_AND_DESIGN     4.1   \n",
       "1                                Coloring book moana  ART_AND_DESIGN     3.9   \n",
       "2  U Launcher Lite – FREE Live Cool Themes, Hide ...  ART_AND_DESIGN     4.7   \n",
       "3                              Sketch - Draw & Paint  ART_AND_DESIGN     4.5   \n",
       "4              Pixel Draw - Number Art Coloring Book  ART_AND_DESIGN     4.3   \n",
       "\n",
       "   Reviews  Size  Installs  Type  Price      Last Updated  \n",
       "0      159  19.0     10000  Free    0.0   January 7, 2018  \n",
       "1      967  14.0    500000  Free    0.0  January 15, 2018  \n",
       "2    87510   8.7   5000000  Free    0.0    August 1, 2018  \n",
       "3   215644  25.0  50000000  Free    0.0      June 8, 2018  \n",
       "4      967   2.8    100000  Free    0.0     June 20, 2018  "
      ]
     },
     "execution_count": 5,
     "metadata": {},
     "output_type": "execute_result"
    }
   ],
   "source": [
    "# Fixing the \"Installs\" column and converting it into integer\n",
    "apps[\"Installs\"] = apps[\"Installs\"].str.replace(\",\", \"\").str.replace(\"+\", \"\").astype(int)\n",
    "apps.head()"
   ]
  },
  {
   "cell_type": "code",
   "execution_count": null,
   "metadata": {},
   "outputs": [
    {
     "data": {
      "application/vnd.microsoft.datawrangler.viewer.v0+json": {
       "columns": [
        {
         "name": "index",
         "rawType": "int64",
         "type": "integer"
        },
        {
         "name": "Category",
         "rawType": "object",
         "type": "string"
        },
        {
         "name": "Number of apps",
         "rawType": "int64",
         "type": "integer"
        },
        {
         "name": "Average price",
         "rawType": "float64",
         "type": "float"
        },
        {
         "name": "Average rating",
         "rawType": "float64",
         "type": "float"
        }
       ],
       "conversionMethod": "pd.DataFrame",
       "ref": "a1423bc9-34c9-4922-a7fa-692749609710",
       "rows": [
        [
         "0",
         "ART_AND_DESIGN",
         "64",
         "0.09328125",
         "4.357377049180328"
        ],
        [
         "1",
         "AUTO_AND_VEHICLES",
         "85",
         "0.1584705882352941",
         "4.190410958904109"
        ],
        [
         "2",
         "BEAUTY",
         "53",
         "0.0",
         "4.2785714285714285"
        ],
        [
         "3",
         "BOOKS_AND_REFERENCE",
         "222",
         "0.5395045045045046",
         "4.344970414201184"
        ],
        [
         "4",
         "BUSINESS",
         "420",
         "0.4173571428571428",
         "4.098479087452472"
        ],
        [
         "5",
         "COMICS",
         "56",
         "0.0",
         "4.181481481481482"
        ],
        [
         "6",
         "COMMUNICATION",
         "315",
         "0.2639365079365079",
         "4.121484375"
        ],
        [
         "7",
         "DATING",
         "171",
         "0.16046783625730995",
         "3.970149253731343"
        ],
        [
         "8",
         "EDUCATION",
         "119",
         "0.15092436974789916",
         "4.364406779661017"
        ],
        [
         "9",
         "ENTERTAINMENT",
         "102",
         "0.07823529411764707",
         "4.135294117647059"
        ],
        [
         "10",
         "EVENTS",
         "64",
         "1.71859375",
         "4.435555555555555"
        ],
        [
         "11",
         "FAMILY",
         "1832",
         "1.309967248908297",
         "4.179664179104478"
        ],
        [
         "12",
         "FINANCE",
         "345",
         "8.408202898550725",
         "4.115562913907285"
        ],
        [
         "13",
         "FOOD_AND_DRINK",
         "112",
         "0.07571428571428572",
         "4.172340425531915"
        ],
        [
         "14",
         "GAME",
         "959",
         "0.2964650677789364",
         "4.247368421052632"
        ],
        [
         "15",
         "HEALTH_AND_FITNESS",
         "288",
         "0.22343750000000004",
         "4.243032786885245"
        ],
        [
         "16",
         "HOUSE_AND_HOME",
         "74",
         "0.0",
         "4.15"
        ],
        [
         "17",
         "LIBRARIES_AND_DEMO",
         "84",
         "0.011785714285714285",
         "4.178125"
        ],
        [
         "18",
         "LIFESTYLE",
         "369",
         "6.398021680216802",
         "4.093355481727574"
        ],
        [
         "19",
         "MAPS_AND_NAVIGATION",
         "131",
         "0.20572519083969468",
         "4.036440677966102"
        ],
        [
         "20",
         "MEDICAL",
         "395",
         "2.5207594936708864",
         "4.166551724137931"
        ],
        [
         "21",
         "NEWS_AND_MAGAZINES",
         "254",
         "0.015669291338582678",
         "4.12156862745098"
        ],
        [
         "22",
         "PARENTING",
         "60",
         "0.15966666666666668",
         "4.3"
        ],
        [
         "23",
         "PERSONALIZATION",
         "376",
         "0.40021276595744676",
         "4.332214765100671"
        ],
        [
         "24",
         "PHOTOGRAPHY",
         "281",
         "0.4209252669039146",
         "4.1574144486692015"
        ],
        [
         "25",
         "PRODUCTIVITY",
         "374",
         "0.6709358288770053",
         "4.183388704318937"
        ],
        [
         "26",
         "SHOPPING",
         "202",
         "0.027128712871287132",
         "4.2299999999999995"
        ],
        [
         "27",
         "SOCIAL",
         "239",
         "0.06682008368200837",
         "4.247290640394089"
        ],
        [
         "28",
         "SPORTS",
         "325",
         "0.3076923076923077",
         "4.216153846153846"
        ],
        [
         "29",
         "TOOLS",
         "827",
         "0.3231559854897219",
         "4.039554317548746"
        ],
        [
         "30",
         "TRAVEL_AND_LOCAL",
         "219",
         "0.22808219178082192",
         "4.06951871657754"
        ],
        [
         "31",
         "VIDEO_PLAYERS",
         "163",
         "0.0641717791411043",
         "4.044594594594595"
        ],
        [
         "32",
         "WEATHER",
         "79",
         "0.41037974683544304",
         "4.243055555555555"
        ]
       ],
       "shape": {
        "columns": 4,
        "rows": 33
       }
      },
      "text/html": [
       "<div>\n",
       "<style scoped>\n",
       "    .dataframe tbody tr th:only-of-type {\n",
       "        vertical-align: middle;\n",
       "    }\n",
       "\n",
       "    .dataframe tbody tr th {\n",
       "        vertical-align: top;\n",
       "    }\n",
       "\n",
       "    .dataframe thead th {\n",
       "        text-align: right;\n",
       "    }\n",
       "</style>\n",
       "<table border=\"1\" class=\"dataframe\">\n",
       "  <thead>\n",
       "    <tr style=\"text-align: right;\">\n",
       "      <th></th>\n",
       "      <th>Category</th>\n",
       "      <th>Number of apps</th>\n",
       "      <th>Average price</th>\n",
       "      <th>Average rating</th>\n",
       "    </tr>\n",
       "  </thead>\n",
       "  <tbody>\n",
       "    <tr>\n",
       "      <th>0</th>\n",
       "      <td>ART_AND_DESIGN</td>\n",
       "      <td>64</td>\n",
       "      <td>0.093281</td>\n",
       "      <td>4.357377</td>\n",
       "    </tr>\n",
       "    <tr>\n",
       "      <th>1</th>\n",
       "      <td>AUTO_AND_VEHICLES</td>\n",
       "      <td>85</td>\n",
       "      <td>0.158471</td>\n",
       "      <td>4.190411</td>\n",
       "    </tr>\n",
       "    <tr>\n",
       "      <th>2</th>\n",
       "      <td>BEAUTY</td>\n",
       "      <td>53</td>\n",
       "      <td>0.000000</td>\n",
       "      <td>4.278571</td>\n",
       "    </tr>\n",
       "    <tr>\n",
       "      <th>3</th>\n",
       "      <td>BOOKS_AND_REFERENCE</td>\n",
       "      <td>222</td>\n",
       "      <td>0.539505</td>\n",
       "      <td>4.344970</td>\n",
       "    </tr>\n",
       "    <tr>\n",
       "      <th>4</th>\n",
       "      <td>BUSINESS</td>\n",
       "      <td>420</td>\n",
       "      <td>0.417357</td>\n",
       "      <td>4.098479</td>\n",
       "    </tr>\n",
       "    <tr>\n",
       "      <th>5</th>\n",
       "      <td>COMICS</td>\n",
       "      <td>56</td>\n",
       "      <td>0.000000</td>\n",
       "      <td>4.181481</td>\n",
       "    </tr>\n",
       "    <tr>\n",
       "      <th>6</th>\n",
       "      <td>COMMUNICATION</td>\n",
       "      <td>315</td>\n",
       "      <td>0.263937</td>\n",
       "      <td>4.121484</td>\n",
       "    </tr>\n",
       "    <tr>\n",
       "      <th>7</th>\n",
       "      <td>DATING</td>\n",
       "      <td>171</td>\n",
       "      <td>0.160468</td>\n",
       "      <td>3.970149</td>\n",
       "    </tr>\n",
       "    <tr>\n",
       "      <th>8</th>\n",
       "      <td>EDUCATION</td>\n",
       "      <td>119</td>\n",
       "      <td>0.150924</td>\n",
       "      <td>4.364407</td>\n",
       "    </tr>\n",
       "    <tr>\n",
       "      <th>9</th>\n",
       "      <td>ENTERTAINMENT</td>\n",
       "      <td>102</td>\n",
       "      <td>0.078235</td>\n",
       "      <td>4.135294</td>\n",
       "    </tr>\n",
       "    <tr>\n",
       "      <th>10</th>\n",
       "      <td>EVENTS</td>\n",
       "      <td>64</td>\n",
       "      <td>1.718594</td>\n",
       "      <td>4.435556</td>\n",
       "    </tr>\n",
       "    <tr>\n",
       "      <th>11</th>\n",
       "      <td>FAMILY</td>\n",
       "      <td>1832</td>\n",
       "      <td>1.309967</td>\n",
       "      <td>4.179664</td>\n",
       "    </tr>\n",
       "    <tr>\n",
       "      <th>12</th>\n",
       "      <td>FINANCE</td>\n",
       "      <td>345</td>\n",
       "      <td>8.408203</td>\n",
       "      <td>4.115563</td>\n",
       "    </tr>\n",
       "    <tr>\n",
       "      <th>13</th>\n",
       "      <td>FOOD_AND_DRINK</td>\n",
       "      <td>112</td>\n",
       "      <td>0.075714</td>\n",
       "      <td>4.172340</td>\n",
       "    </tr>\n",
       "    <tr>\n",
       "      <th>14</th>\n",
       "      <td>GAME</td>\n",
       "      <td>959</td>\n",
       "      <td>0.296465</td>\n",
       "      <td>4.247368</td>\n",
       "    </tr>\n",
       "    <tr>\n",
       "      <th>15</th>\n",
       "      <td>HEALTH_AND_FITNESS</td>\n",
       "      <td>288</td>\n",
       "      <td>0.223438</td>\n",
       "      <td>4.243033</td>\n",
       "    </tr>\n",
       "    <tr>\n",
       "      <th>16</th>\n",
       "      <td>HOUSE_AND_HOME</td>\n",
       "      <td>74</td>\n",
       "      <td>0.000000</td>\n",
       "      <td>4.150000</td>\n",
       "    </tr>\n",
       "    <tr>\n",
       "      <th>17</th>\n",
       "      <td>LIBRARIES_AND_DEMO</td>\n",
       "      <td>84</td>\n",
       "      <td>0.011786</td>\n",
       "      <td>4.178125</td>\n",
       "    </tr>\n",
       "    <tr>\n",
       "      <th>18</th>\n",
       "      <td>LIFESTYLE</td>\n",
       "      <td>369</td>\n",
       "      <td>6.398022</td>\n",
       "      <td>4.093355</td>\n",
       "    </tr>\n",
       "    <tr>\n",
       "      <th>19</th>\n",
       "      <td>MAPS_AND_NAVIGATION</td>\n",
       "      <td>131</td>\n",
       "      <td>0.205725</td>\n",
       "      <td>4.036441</td>\n",
       "    </tr>\n",
       "    <tr>\n",
       "      <th>20</th>\n",
       "      <td>MEDICAL</td>\n",
       "      <td>395</td>\n",
       "      <td>2.520759</td>\n",
       "      <td>4.166552</td>\n",
       "    </tr>\n",
       "    <tr>\n",
       "      <th>21</th>\n",
       "      <td>NEWS_AND_MAGAZINES</td>\n",
       "      <td>254</td>\n",
       "      <td>0.015669</td>\n",
       "      <td>4.121569</td>\n",
       "    </tr>\n",
       "    <tr>\n",
       "      <th>22</th>\n",
       "      <td>PARENTING</td>\n",
       "      <td>60</td>\n",
       "      <td>0.159667</td>\n",
       "      <td>4.300000</td>\n",
       "    </tr>\n",
       "    <tr>\n",
       "      <th>23</th>\n",
       "      <td>PERSONALIZATION</td>\n",
       "      <td>376</td>\n",
       "      <td>0.400213</td>\n",
       "      <td>4.332215</td>\n",
       "    </tr>\n",
       "    <tr>\n",
       "      <th>24</th>\n",
       "      <td>PHOTOGRAPHY</td>\n",
       "      <td>281</td>\n",
       "      <td>0.420925</td>\n",
       "      <td>4.157414</td>\n",
       "    </tr>\n",
       "    <tr>\n",
       "      <th>25</th>\n",
       "      <td>PRODUCTIVITY</td>\n",
       "      <td>374</td>\n",
       "      <td>0.670936</td>\n",
       "      <td>4.183389</td>\n",
       "    </tr>\n",
       "    <tr>\n",
       "      <th>26</th>\n",
       "      <td>SHOPPING</td>\n",
       "      <td>202</td>\n",
       "      <td>0.027129</td>\n",
       "      <td>4.230000</td>\n",
       "    </tr>\n",
       "    <tr>\n",
       "      <th>27</th>\n",
       "      <td>SOCIAL</td>\n",
       "      <td>239</td>\n",
       "      <td>0.066820</td>\n",
       "      <td>4.247291</td>\n",
       "    </tr>\n",
       "    <tr>\n",
       "      <th>28</th>\n",
       "      <td>SPORTS</td>\n",
       "      <td>325</td>\n",
       "      <td>0.307692</td>\n",
       "      <td>4.216154</td>\n",
       "    </tr>\n",
       "    <tr>\n",
       "      <th>29</th>\n",
       "      <td>TOOLS</td>\n",
       "      <td>827</td>\n",
       "      <td>0.323156</td>\n",
       "      <td>4.039554</td>\n",
       "    </tr>\n",
       "    <tr>\n",
       "      <th>30</th>\n",
       "      <td>TRAVEL_AND_LOCAL</td>\n",
       "      <td>219</td>\n",
       "      <td>0.228082</td>\n",
       "      <td>4.069519</td>\n",
       "    </tr>\n",
       "    <tr>\n",
       "      <th>31</th>\n",
       "      <td>VIDEO_PLAYERS</td>\n",
       "      <td>163</td>\n",
       "      <td>0.064172</td>\n",
       "      <td>4.044595</td>\n",
       "    </tr>\n",
       "    <tr>\n",
       "      <th>32</th>\n",
       "      <td>WEATHER</td>\n",
       "      <td>79</td>\n",
       "      <td>0.410380</td>\n",
       "      <td>4.243056</td>\n",
       "    </tr>\n",
       "  </tbody>\n",
       "</table>\n",
       "</div>"
      ],
      "text/plain": [
       "               Category  Number of apps  Average price  Average rating\n",
       "0        ART_AND_DESIGN              64       0.093281        4.357377\n",
       "1     AUTO_AND_VEHICLES              85       0.158471        4.190411\n",
       "2                BEAUTY              53       0.000000        4.278571\n",
       "3   BOOKS_AND_REFERENCE             222       0.539505        4.344970\n",
       "4              BUSINESS             420       0.417357        4.098479\n",
       "5                COMICS              56       0.000000        4.181481\n",
       "6         COMMUNICATION             315       0.263937        4.121484\n",
       "7                DATING             171       0.160468        3.970149\n",
       "8             EDUCATION             119       0.150924        4.364407\n",
       "9         ENTERTAINMENT             102       0.078235        4.135294\n",
       "10               EVENTS              64       1.718594        4.435556\n",
       "11               FAMILY            1832       1.309967        4.179664\n",
       "12              FINANCE             345       8.408203        4.115563\n",
       "13       FOOD_AND_DRINK             112       0.075714        4.172340\n",
       "14                 GAME             959       0.296465        4.247368\n",
       "15   HEALTH_AND_FITNESS             288       0.223438        4.243033\n",
       "16       HOUSE_AND_HOME              74       0.000000        4.150000\n",
       "17   LIBRARIES_AND_DEMO              84       0.011786        4.178125\n",
       "18            LIFESTYLE             369       6.398022        4.093355\n",
       "19  MAPS_AND_NAVIGATION             131       0.205725        4.036441\n",
       "20              MEDICAL             395       2.520759        4.166552\n",
       "21   NEWS_AND_MAGAZINES             254       0.015669        4.121569\n",
       "22            PARENTING              60       0.159667        4.300000\n",
       "23      PERSONALIZATION             376       0.400213        4.332215\n",
       "24          PHOTOGRAPHY             281       0.420925        4.157414\n",
       "25         PRODUCTIVITY             374       0.670936        4.183389\n",
       "26             SHOPPING             202       0.027129        4.230000\n",
       "27               SOCIAL             239       0.066820        4.247291\n",
       "28               SPORTS             325       0.307692        4.216154\n",
       "29                TOOLS             827       0.323156        4.039554\n",
       "30     TRAVEL_AND_LOCAL             219       0.228082        4.069519\n",
       "31        VIDEO_PLAYERS             163       0.064172        4.044595\n",
       "32              WEATHER              79       0.410380        4.243056"
      ]
     },
     "execution_count": 6,
     "metadata": {},
     "output_type": "execute_result"
    }
   ],
   "source": [
    "# Doing some summary statistics of various app categories\n",
    "app_category_info = apps.groupby(\"Category\").agg({\"App\" : \"count\", \"Price\" : \"mean\", \"Rating\" : \"mean\"}).reset_index()\n",
    "app_category_info = app_category_info.rename(columns = {\"App\" : \"Number of apps\", \"Price\" : \"Average price\", \"Rating\" : \"Average rating\"})\n",
    "app_category_info\n"
   ]
  },
  {
   "cell_type": "code",
   "execution_count": null,
   "metadata": {},
   "outputs": [
    {
     "data": {
      "application/vnd.microsoft.datawrangler.viewer.v0+json": {
       "columns": [
        {
         "name": "index",
         "rawType": "int64",
         "type": "integer"
        },
        {
         "name": "App",
         "rawType": "object",
         "type": "string"
        },
        {
         "name": "Review",
         "rawType": "object",
         "type": "unknown"
        },
        {
         "name": "Sentiment Category",
         "rawType": "object",
         "type": "unknown"
        },
        {
         "name": "Sentiment Score",
         "rawType": "float64",
         "type": "float"
        }
       ],
       "conversionMethod": "pd.DataFrame",
       "ref": "71253bb3-360c-4bbe-88a0-8d77bf910474",
       "rows": [
        [
         "0",
         "10 Best Foods for You",
         "I like eat delicious food. That's I'm cooking food myself, case \"10 Best Foods\" helps lot, also \"Best Before (Shelf Life)\"",
         "Positive",
         "1.0"
        ],
        [
         "1",
         "10 Best Foods for You",
         "This help eating healthy exercise regular basis",
         "Positive",
         "0.25"
        ],
        [
         "2",
         "10 Best Foods for You",
         null,
         null,
         null
        ],
        [
         "3",
         "10 Best Foods for You",
         "Works great especially going grocery store",
         "Positive",
         "0.4"
        ],
        [
         "4",
         "10 Best Foods for You",
         "Best idea us",
         "Positive",
         "1.0"
        ]
       ],
       "shape": {
        "columns": 4,
        "rows": 5
       }
      },
      "text/html": [
       "<div>\n",
       "<style scoped>\n",
       "    .dataframe tbody tr th:only-of-type {\n",
       "        vertical-align: middle;\n",
       "    }\n",
       "\n",
       "    .dataframe tbody tr th {\n",
       "        vertical-align: top;\n",
       "    }\n",
       "\n",
       "    .dataframe thead th {\n",
       "        text-align: right;\n",
       "    }\n",
       "</style>\n",
       "<table border=\"1\" class=\"dataframe\">\n",
       "  <thead>\n",
       "    <tr style=\"text-align: right;\">\n",
       "      <th></th>\n",
       "      <th>App</th>\n",
       "      <th>Review</th>\n",
       "      <th>Sentiment Category</th>\n",
       "      <th>Sentiment Score</th>\n",
       "    </tr>\n",
       "  </thead>\n",
       "  <tbody>\n",
       "    <tr>\n",
       "      <th>0</th>\n",
       "      <td>10 Best Foods for You</td>\n",
       "      <td>I like eat delicious food. That's I'm cooking ...</td>\n",
       "      <td>Positive</td>\n",
       "      <td>1.00</td>\n",
       "    </tr>\n",
       "    <tr>\n",
       "      <th>1</th>\n",
       "      <td>10 Best Foods for You</td>\n",
       "      <td>This help eating healthy exercise regular basis</td>\n",
       "      <td>Positive</td>\n",
       "      <td>0.25</td>\n",
       "    </tr>\n",
       "    <tr>\n",
       "      <th>2</th>\n",
       "      <td>10 Best Foods for You</td>\n",
       "      <td>NaN</td>\n",
       "      <td>NaN</td>\n",
       "      <td>NaN</td>\n",
       "    </tr>\n",
       "    <tr>\n",
       "      <th>3</th>\n",
       "      <td>10 Best Foods for You</td>\n",
       "      <td>Works great especially going grocery store</td>\n",
       "      <td>Positive</td>\n",
       "      <td>0.40</td>\n",
       "    </tr>\n",
       "    <tr>\n",
       "      <th>4</th>\n",
       "      <td>10 Best Foods for You</td>\n",
       "      <td>Best idea us</td>\n",
       "      <td>Positive</td>\n",
       "      <td>1.00</td>\n",
       "    </tr>\n",
       "  </tbody>\n",
       "</table>\n",
       "</div>"
      ],
      "text/plain": [
       "                     App                                             Review  \\\n",
       "0  10 Best Foods for You  I like eat delicious food. That's I'm cooking ...   \n",
       "1  10 Best Foods for You    This help eating healthy exercise regular basis   \n",
       "2  10 Best Foods for You                                                NaN   \n",
       "3  10 Best Foods for You         Works great especially going grocery store   \n",
       "4  10 Best Foods for You                                       Best idea us   \n",
       "\n",
       "  Sentiment Category  Sentiment Score  \n",
       "0           Positive             1.00  \n",
       "1           Positive             0.25  \n",
       "2                NaN              NaN  \n",
       "3           Positive             0.40  \n",
       "4           Positive             1.00  "
      ]
     },
     "execution_count": 7,
     "metadata": {},
     "output_type": "execute_result"
    }
   ],
   "source": [
    "# Taking a look into the user_reviews dataset\n",
    "user_reviews.head()"
   ]
  },
  {
   "cell_type": "code",
   "execution_count": null,
   "metadata": {},
   "outputs": [
    {
     "data": {
      "application/vnd.microsoft.datawrangler.viewer.v0+json": {
       "columns": [
        {
         "name": "index",
         "rawType": "int64",
         "type": "integer"
        },
        {
         "name": "App",
         "rawType": "object",
         "type": "string"
        },
        {
         "name": "Category",
         "rawType": "object",
         "type": "string"
        },
        {
         "name": "Rating",
         "rawType": "float64",
         "type": "float"
        },
        {
         "name": "Reviews",
         "rawType": "int64",
         "type": "integer"
        },
        {
         "name": "Size",
         "rawType": "float64",
         "type": "float"
        },
        {
         "name": "Installs",
         "rawType": "int64",
         "type": "integer"
        },
        {
         "name": "Type",
         "rawType": "object",
         "type": "string"
        },
        {
         "name": "Price",
         "rawType": "float64",
         "type": "float"
        },
        {
         "name": "Last Updated",
         "rawType": "object",
         "type": "string"
        }
       ],
       "conversionMethod": "pd.DataFrame",
       "ref": "acc0a919-92c9-422c-b818-122329a03e4b",
       "rows": [
        [
         "837",
         "K PLUS",
         "FINANCE",
         "4.4",
         "124424",
         null,
         "10000000",
         "Free",
         "0.0",
         "June 26, 2018"
        ],
        [
         "838",
         "ING Banking",
         "FINANCE",
         "4.4",
         "39041",
         null,
         "1000000",
         "Free",
         "0.0",
         "August 3, 2018"
        ],
        [
         "839",
         "Citibanamex Movil",
         "FINANCE",
         "3.6",
         "52306",
         "42.0",
         "5000000",
         "Free",
         "0.0",
         "July 27, 2018"
        ],
        [
         "840",
         "The postal bank",
         "FINANCE",
         "3.7",
         "36718",
         null,
         "5000000",
         "Free",
         "0.0",
         "July 16, 2018"
        ],
        [
         "841",
         "KTB Netbank",
         "FINANCE",
         "3.8",
         "42644",
         "19.0",
         "5000000",
         "Free",
         "0.0",
         "June 28, 2018"
        ],
        [
         "842",
         "Mobile Bancomer",
         "FINANCE",
         "4.2",
         "278082",
         "70.0",
         "10000000",
         "Free",
         "0.0",
         "July 30, 2018"
        ],
        [
         "843",
         "Nedbank Money",
         "FINANCE",
         "4.2",
         "6076",
         "32.0",
         "500000",
         "Free",
         "0.0",
         "July 28, 2018"
        ],
        [
         "844",
         "SCB EASY",
         "FINANCE",
         "4.2",
         "112656",
         "93.0",
         "5000000",
         "Free",
         "0.0",
         "July 19, 2018"
        ],
        [
         "845",
         "CASHIER",
         "FINANCE",
         "3.3",
         "335738",
         null,
         "10000000",
         "Free",
         "0.0",
         "May 3, 2018"
        ],
        [
         "846",
         "Rabo Banking",
         "FINANCE",
         "3.4",
         "31906",
         null,
         "1000000",
         "Free",
         "0.0",
         "July 19, 2018"
        ],
        [
         "847",
         "Capitec Remote Banking",
         "FINANCE",
         "4.3",
         "20672",
         null,
         "1000000",
         "Free",
         "0.0",
         "May 8, 2018"
        ],
        [
         "848",
         "Itau bank",
         "FINANCE",
         "4.2",
         "957973",
         "40.0",
         "10000000",
         "Free",
         "0.0",
         "July 30, 2018"
        ],
        [
         "849",
         "Nubank",
         "FINANCE",
         "4.7",
         "130582",
         "24.0",
         "5000000",
         "Free",
         "0.0",
         "August 2, 2018"
        ],
        [
         "850",
         "The Societe Generale App",
         "FINANCE",
         "4.1",
         "31218",
         null,
         "1000000",
         "Free",
         "0.0",
         "July 31, 2018"
        ],
        [
         "851",
         "IKO",
         "FINANCE",
         "4.7",
         "167168",
         "20.0",
         "1000000",
         "Free",
         "0.0",
         "July 4, 2018"
        ],
        [
         "852",
         "Cash App",
         "FINANCE",
         "4.0",
         "34428",
         "15.0",
         "10000000",
         "Free",
         "0.0",
         "August 2, 2018"
        ],
        [
         "853",
         "Standard Bank / Stanbic Bank",
         "FINANCE",
         "3.6",
         "15247",
         "28.0",
         "1000000",
         "Free",
         "0.0",
         "July 13, 2018"
        ],
        [
         "854",
         "Bualuang mBanking",
         "FINANCE",
         "4.0",
         "48445",
         "10.0",
         "5000000",
         "Free",
         "0.0",
         "July 16, 2018"
        ],
        [
         "855",
         "Intesa Sanpaolo Mobile",
         "FINANCE",
         "3.6",
         "35518",
         null,
         "1000000",
         "Free",
         "0.0",
         "July 2, 2018"
        ],
        [
         "856",
         "UBA Mobile Banking",
         "FINANCE",
         "4.3",
         "12185",
         null,
         "1000000",
         "Free",
         "0.0",
         "June 8, 2018"
        ],
        [
         "857",
         "BBVA Spain",
         "FINANCE",
         "4.2",
         "36746",
         null,
         "5000000",
         "Free",
         "0.0",
         "July 24, 2018"
        ],
        [
         "858",
         "MyMo by GSB",
         "FINANCE",
         "4.2",
         "21996",
         "14.0",
         "1000000",
         "Free",
         "0.0",
         "July 19, 2018"
        ],
        [
         "859",
         "VTB-Online",
         "FINANCE",
         "4.1",
         "138371",
         null,
         "5000000",
         "Free",
         "0.0",
         "August 2, 2018"
        ],
        [
         "860",
         "Ecobank Mobile Banking",
         "FINANCE",
         "4.0",
         "12073",
         "42.0",
         "1000000",
         "Free",
         "0.0",
         "May 25, 2018"
        ],
        [
         "861",
         "Banorte Movil",
         "FINANCE",
         "4.1",
         "111632",
         "65.0",
         "1000000",
         "Free",
         "0.0",
         "June 9, 2018"
        ],
        [
         "862",
         "Wells Fargo Mobile",
         "FINANCE",
         "4.4",
         "250706",
         "37.0",
         "10000000",
         "Free",
         "0.0",
         "July 31, 2018"
        ],
        [
         "863",
         "Credit Karma",
         "FINANCE",
         "4.7",
         "706301",
         null,
         "10000000",
         "Free",
         "0.0",
         "July 31, 2018"
        ],
        [
         "864",
         "BZWBK24 mobile",
         "FINANCE",
         "4.5",
         "64959",
         "39.0",
         "1000000",
         "Free",
         "0.0",
         "June 18, 2018"
        ],
        [
         "865",
         "PayPal",
         "FINANCE",
         "4.3",
         "659741",
         "47.0",
         "50000000",
         "Free",
         "0.0",
         "July 18, 2018"
        ],
        [
         "866",
         "Capital One® Mobile",
         "FINANCE",
         "4.6",
         "510392",
         "79.0",
         "10000000",
         "Free",
         "0.0",
         "August 1, 2018"
        ],
        [
         "867",
         "Zenith Bank Mobile App",
         "FINANCE",
         "4.3",
         "7215",
         "18.0",
         "1000000",
         "Free",
         "0.0",
         "July 23, 2018"
        ],
        [
         "868",
         "GCash - Buy Load, Pay Bills, Send Money",
         "FINANCE",
         "4.0",
         "25508",
         null,
         "1000000",
         "Free",
         "0.0",
         "July 31, 2018"
        ],
        [
         "869",
         "Post Bank",
         "FINANCE",
         "4.5",
         "60449",
         "100.0",
         "1000000",
         "Free",
         "0.0",
         "July 23, 2018"
        ],
        [
         "870",
         "İşCep",
         "FINANCE",
         "4.5",
         "381788",
         "32.0",
         "10000000",
         "Free",
         "0.0",
         "August 2, 2018"
        ],
        [
         "871",
         "People's Bank",
         "FINANCE",
         "3.6",
         "10697",
         "46.0",
         "1000000",
         "Free",
         "0.0",
         "July 18, 2018"
        ],
        [
         "872",
         "Google Pay",
         "FINANCE",
         "4.2",
         "347838",
         null,
         "100000000",
         "Free",
         "0.0",
         "July 26, 2018"
        ],
        [
         "873",
         "Transfer",
         "FINANCE",
         "4.1",
         "31804",
         "9.8",
         "5000000",
         "Free",
         "0.0",
         "July 27, 2018"
        ],
        [
         "874",
         "T-Mobile in",
         "FINANCE",
         "3.5",
         "3856",
         "8.2",
         "1000000",
         "Free",
         "0.0",
         "July 31, 2018"
        ],
        [
         "875",
         "TrueMoney Wallet",
         "FINANCE",
         "4.4",
         "199684",
         "18.0",
         "5000000",
         "Free",
         "0.0",
         "July 19, 2018"
        ],
        [
         "876",
         "Alfa-Bank (Alfa-Bank)",
         "FINANCE",
         "4.0",
         "44545",
         null,
         "1000000",
         "Free",
         "0.0",
         "July 31, 2018"
        ],
        [
         "877",
         "Bank of Brazil",
         "FINANCE",
         "4.5",
         "1336246",
         "39.0",
         "10000000",
         "Free",
         "0.0",
         "August 3, 2018"
        ],
        [
         "878",
         "WiseBanyan - Invest For Free",
         "FINANCE",
         "4.2",
         "257",
         "44.0",
         "10000",
         "Free",
         "0.0",
         "July 31, 2018"
        ],
        [
         "879",
         "Robinhood - Investing, No Fees",
         "FINANCE",
         "4.6",
         "57493",
         null,
         "1000000",
         "Free",
         "0.0",
         "July 31, 2018"
        ],
        [
         "880",
         "Wells Fargo Daily Change",
         "FINANCE",
         "4.2",
         "283",
         "5.0",
         "100000",
         "Free",
         "0.0",
         "April 26, 2018"
        ],
        [
         "881",
         "Even - organize your money, get paid early",
         "FINANCE",
         "4.8",
         "12304",
         "21.0",
         "100000",
         "Free",
         "0.0",
         "August 2, 2018"
        ],
        [
         "882",
         "Digit Save Money Automatically",
         "FINANCE",
         "4.5",
         "8188",
         "22.0",
         "100000",
         "Free",
         "0.0",
         "July 31, 2018"
        ],
        [
         "883",
         "Stash: Invest. Learn. Save.",
         "FINANCE",
         "4.2",
         "11919",
         "23.0",
         "1000000",
         "Free",
         "0.0",
         "July 27, 2018"
        ],
        [
         "884",
         "Acorns - Invest Spare Change",
         "FINANCE",
         "4.3",
         "45957",
         null,
         "1000000",
         "Free",
         "0.0",
         "July 31, 2018"
        ],
        [
         "885",
         "Money Lover: Expense Tracker, Budget Planner",
         "FINANCE",
         "4.4",
         "126431",
         null,
         "1000000",
         "Free",
         "0.0",
         "August 1, 2018"
        ],
        [
         "886",
         "Expense IQ Money Manager",
         "FINANCE",
         "4.4",
         "21570",
         "27.0",
         "1000000",
         "Free",
         "0.0",
         "June 19, 2018"
        ]
       ],
       "shape": {
        "columns": 9,
        "rows": 328
       }
      },
      "text/html": [
       "<div>\n",
       "<style scoped>\n",
       "    .dataframe tbody tr th:only-of-type {\n",
       "        vertical-align: middle;\n",
       "    }\n",
       "\n",
       "    .dataframe tbody tr th {\n",
       "        vertical-align: top;\n",
       "    }\n",
       "\n",
       "    .dataframe thead th {\n",
       "        text-align: right;\n",
       "    }\n",
       "</style>\n",
       "<table border=\"1\" class=\"dataframe\">\n",
       "  <thead>\n",
       "    <tr style=\"text-align: right;\">\n",
       "      <th></th>\n",
       "      <th>App</th>\n",
       "      <th>Category</th>\n",
       "      <th>Rating</th>\n",
       "      <th>Reviews</th>\n",
       "      <th>Size</th>\n",
       "      <th>Installs</th>\n",
       "      <th>Type</th>\n",
       "      <th>Price</th>\n",
       "      <th>Last Updated</th>\n",
       "    </tr>\n",
       "  </thead>\n",
       "  <tbody>\n",
       "    <tr>\n",
       "      <th>837</th>\n",
       "      <td>K PLUS</td>\n",
       "      <td>FINANCE</td>\n",
       "      <td>4.4</td>\n",
       "      <td>124424</td>\n",
       "      <td>NaN</td>\n",
       "      <td>10000000</td>\n",
       "      <td>Free</td>\n",
       "      <td>0.0</td>\n",
       "      <td>June 26, 2018</td>\n",
       "    </tr>\n",
       "    <tr>\n",
       "      <th>838</th>\n",
       "      <td>ING Banking</td>\n",
       "      <td>FINANCE</td>\n",
       "      <td>4.4</td>\n",
       "      <td>39041</td>\n",
       "      <td>NaN</td>\n",
       "      <td>1000000</td>\n",
       "      <td>Free</td>\n",
       "      <td>0.0</td>\n",
       "      <td>August 3, 2018</td>\n",
       "    </tr>\n",
       "    <tr>\n",
       "      <th>839</th>\n",
       "      <td>Citibanamex Movil</td>\n",
       "      <td>FINANCE</td>\n",
       "      <td>3.6</td>\n",
       "      <td>52306</td>\n",
       "      <td>42.0</td>\n",
       "      <td>5000000</td>\n",
       "      <td>Free</td>\n",
       "      <td>0.0</td>\n",
       "      <td>July 27, 2018</td>\n",
       "    </tr>\n",
       "    <tr>\n",
       "      <th>840</th>\n",
       "      <td>The postal bank</td>\n",
       "      <td>FINANCE</td>\n",
       "      <td>3.7</td>\n",
       "      <td>36718</td>\n",
       "      <td>NaN</td>\n",
       "      <td>5000000</td>\n",
       "      <td>Free</td>\n",
       "      <td>0.0</td>\n",
       "      <td>July 16, 2018</td>\n",
       "    </tr>\n",
       "    <tr>\n",
       "      <th>841</th>\n",
       "      <td>KTB Netbank</td>\n",
       "      <td>FINANCE</td>\n",
       "      <td>3.8</td>\n",
       "      <td>42644</td>\n",
       "      <td>19.0</td>\n",
       "      <td>5000000</td>\n",
       "      <td>Free</td>\n",
       "      <td>0.0</td>\n",
       "      <td>June 28, 2018</td>\n",
       "    </tr>\n",
       "    <tr>\n",
       "      <th>...</th>\n",
       "      <td>...</td>\n",
       "      <td>...</td>\n",
       "      <td>...</td>\n",
       "      <td>...</td>\n",
       "      <td>...</td>\n",
       "      <td>...</td>\n",
       "      <td>...</td>\n",
       "      <td>...</td>\n",
       "      <td>...</td>\n",
       "    </tr>\n",
       "    <tr>\n",
       "      <th>9540</th>\n",
       "      <td>BankNordik</td>\n",
       "      <td>FINANCE</td>\n",
       "      <td>3.9</td>\n",
       "      <td>28</td>\n",
       "      <td>15.0</td>\n",
       "      <td>5000</td>\n",
       "      <td>Free</td>\n",
       "      <td>0.0</td>\n",
       "      <td>August 8, 2018</td>\n",
       "    </tr>\n",
       "    <tr>\n",
       "      <th>9564</th>\n",
       "      <td>FP Markets</td>\n",
       "      <td>FINANCE</td>\n",
       "      <td>NaN</td>\n",
       "      <td>1</td>\n",
       "      <td>2.0</td>\n",
       "      <td>100</td>\n",
       "      <td>Free</td>\n",
       "      <td>0.0</td>\n",
       "      <td>January 30, 2018</td>\n",
       "    </tr>\n",
       "    <tr>\n",
       "      <th>9565</th>\n",
       "      <td>FP Boss</td>\n",
       "      <td>FINANCE</td>\n",
       "      <td>NaN</td>\n",
       "      <td>1</td>\n",
       "      <td>5.8</td>\n",
       "      <td>1</td>\n",
       "      <td>Free</td>\n",
       "      <td>0.0</td>\n",
       "      <td>July 27, 2018</td>\n",
       "    </tr>\n",
       "    <tr>\n",
       "      <th>9572</th>\n",
       "      <td>FP FCU</td>\n",
       "      <td>FINANCE</td>\n",
       "      <td>3.6</td>\n",
       "      <td>48</td>\n",
       "      <td>26.0</td>\n",
       "      <td>5000</td>\n",
       "      <td>Free</td>\n",
       "      <td>0.0</td>\n",
       "      <td>April 5, 2018</td>\n",
       "    </tr>\n",
       "    <tr>\n",
       "      <th>9636</th>\n",
       "      <td>Gold Quote - Gold.fr</td>\n",
       "      <td>FINANCE</td>\n",
       "      <td>NaN</td>\n",
       "      <td>96</td>\n",
       "      <td>1.5</td>\n",
       "      <td>10000</td>\n",
       "      <td>Free</td>\n",
       "      <td>0.0</td>\n",
       "      <td>May 19, 2016</td>\n",
       "    </tr>\n",
       "  </tbody>\n",
       "</table>\n",
       "<p>328 rows × 9 columns</p>\n",
       "</div>"
      ],
      "text/plain": [
       "                       App Category  Rating  Reviews  Size  Installs  Type  \\\n",
       "837                 K PLUS  FINANCE     4.4   124424   NaN  10000000  Free   \n",
       "838            ING Banking  FINANCE     4.4    39041   NaN   1000000  Free   \n",
       "839      Citibanamex Movil  FINANCE     3.6    52306  42.0   5000000  Free   \n",
       "840        The postal bank  FINANCE     3.7    36718   NaN   5000000  Free   \n",
       "841            KTB Netbank  FINANCE     3.8    42644  19.0   5000000  Free   \n",
       "...                    ...      ...     ...      ...   ...       ...   ...   \n",
       "9540            BankNordik  FINANCE     3.9       28  15.0      5000  Free   \n",
       "9564            FP Markets  FINANCE     NaN        1   2.0       100  Free   \n",
       "9565               FP Boss  FINANCE     NaN        1   5.8         1  Free   \n",
       "9572                FP FCU  FINANCE     3.6       48  26.0      5000  Free   \n",
       "9636  Gold Quote - Gold.fr  FINANCE     NaN       96   1.5     10000  Free   \n",
       "\n",
       "      Price      Last Updated  \n",
       "837     0.0     June 26, 2018  \n",
       "838     0.0    August 3, 2018  \n",
       "839     0.0     July 27, 2018  \n",
       "840     0.0     July 16, 2018  \n",
       "841     0.0     June 28, 2018  \n",
       "...     ...               ...  \n",
       "9540    0.0    August 8, 2018  \n",
       "9564    0.0  January 30, 2018  \n",
       "9565    0.0     July 27, 2018  \n",
       "9572    0.0     April 5, 2018  \n",
       "9636    0.0      May 19, 2016  \n",
       "\n",
       "[328 rows x 9 columns]"
      ]
     },
     "execution_count": 8,
     "metadata": {},
     "output_type": "execute_result"
    }
   ],
   "source": [
    "# Filtering for the free finance apps\n",
    "free_finance = apps[(apps[\"Category\"] == \"FINANCE\") & (apps[\"Type\"] == \"Free\")]\n",
    "free_finance"
   ]
  },
  {
   "cell_type": "code",
   "execution_count": null,
   "metadata": {},
   "outputs": [
    {
     "data": {
      "application/vnd.microsoft.datawrangler.viewer.v0+json": {
       "columns": [
        {
         "name": "index",
         "rawType": "int64",
         "type": "integer"
        },
        {
         "name": "App",
         "rawType": "object",
         "type": "string"
        },
        {
         "name": "Category",
         "rawType": "object",
         "type": "string"
        },
        {
         "name": "Rating",
         "rawType": "float64",
         "type": "float"
        },
        {
         "name": "Reviews",
         "rawType": "int64",
         "type": "integer"
        },
        {
         "name": "Size",
         "rawType": "float64",
         "type": "float"
        },
        {
         "name": "Installs",
         "rawType": "int64",
         "type": "integer"
        },
        {
         "name": "Type",
         "rawType": "object",
         "type": "string"
        },
        {
         "name": "Price",
         "rawType": "float64",
         "type": "float"
        },
        {
         "name": "Last Updated",
         "rawType": "object",
         "type": "string"
        },
        {
         "name": "Review",
         "rawType": "object",
         "type": "unknown"
        },
        {
         "name": "Sentiment Category",
         "rawType": "object",
         "type": "unknown"
        },
        {
         "name": "Sentiment Score",
         "rawType": "float64",
         "type": "float"
        }
       ],
       "conversionMethod": "pd.DataFrame",
       "ref": "c4bbadae-57e3-436f-9bde-3d1bd724bd25",
       "rows": [
        [
         "0",
         "K PLUS",
         "FINANCE",
         "4.4",
         "124424",
         null,
         "10000000",
         "Free",
         "0.0",
         "June 26, 2018",
         null,
         null,
         null
        ],
        [
         "1",
         "ING Banking",
         "FINANCE",
         "4.4",
         "39041",
         null,
         "1000000",
         "Free",
         "0.0",
         "August 3, 2018",
         null,
         null,
         null
        ],
        [
         "2",
         "Citibanamex Movil",
         "FINANCE",
         "3.6",
         "52306",
         "42.0",
         "5000000",
         "Free",
         "0.0",
         "July 27, 2018",
         "Forget paying app, designed make fail payments get charged that. If want supposed still need go bank. Don't trust",
         "Negative",
         "-0.5"
        ],
        [
         "3",
         "Citibanamex Movil",
         "FINANCE",
         "3.6",
         "52306",
         "42.0",
         "5000000",
         "Free",
         "0.0",
         "July 27, 2018",
         "It's working expected, talking best bank Mexico good enough. Works check balance transfers!!",
         "Positive",
         "0.4"
        ],
        [
         "4",
         "Citibanamex Movil",
         "FINANCE",
         "3.6",
         "52306",
         "42.0",
         "5000000",
         "Free",
         "0.0",
         "July 27, 2018",
         "It has many problems with Android 8.1. You can not put a fingerprint to activate the netkey because as it has support for Oreo it thinks that you have the phone rooted. They have updated it several times but they still do not make it compatible for Android 8.1",
         "Positive",
         "0.25"
        ]
       ],
       "shape": {
        "columns": 12,
        "rows": 5
       }
      },
      "text/html": [
       "<div>\n",
       "<style scoped>\n",
       "    .dataframe tbody tr th:only-of-type {\n",
       "        vertical-align: middle;\n",
       "    }\n",
       "\n",
       "    .dataframe tbody tr th {\n",
       "        vertical-align: top;\n",
       "    }\n",
       "\n",
       "    .dataframe thead th {\n",
       "        text-align: right;\n",
       "    }\n",
       "</style>\n",
       "<table border=\"1\" class=\"dataframe\">\n",
       "  <thead>\n",
       "    <tr style=\"text-align: right;\">\n",
       "      <th></th>\n",
       "      <th>App</th>\n",
       "      <th>Category</th>\n",
       "      <th>Rating</th>\n",
       "      <th>Reviews</th>\n",
       "      <th>Size</th>\n",
       "      <th>Installs</th>\n",
       "      <th>Type</th>\n",
       "      <th>Price</th>\n",
       "      <th>Last Updated</th>\n",
       "      <th>Review</th>\n",
       "      <th>Sentiment Category</th>\n",
       "      <th>Sentiment Score</th>\n",
       "    </tr>\n",
       "  </thead>\n",
       "  <tbody>\n",
       "    <tr>\n",
       "      <th>0</th>\n",
       "      <td>K PLUS</td>\n",
       "      <td>FINANCE</td>\n",
       "      <td>4.4</td>\n",
       "      <td>124424</td>\n",
       "      <td>NaN</td>\n",
       "      <td>10000000</td>\n",
       "      <td>Free</td>\n",
       "      <td>0.0</td>\n",
       "      <td>June 26, 2018</td>\n",
       "      <td>NaN</td>\n",
       "      <td>NaN</td>\n",
       "      <td>NaN</td>\n",
       "    </tr>\n",
       "    <tr>\n",
       "      <th>1</th>\n",
       "      <td>ING Banking</td>\n",
       "      <td>FINANCE</td>\n",
       "      <td>4.4</td>\n",
       "      <td>39041</td>\n",
       "      <td>NaN</td>\n",
       "      <td>1000000</td>\n",
       "      <td>Free</td>\n",
       "      <td>0.0</td>\n",
       "      <td>August 3, 2018</td>\n",
       "      <td>NaN</td>\n",
       "      <td>NaN</td>\n",
       "      <td>NaN</td>\n",
       "    </tr>\n",
       "    <tr>\n",
       "      <th>2</th>\n",
       "      <td>Citibanamex Movil</td>\n",
       "      <td>FINANCE</td>\n",
       "      <td>3.6</td>\n",
       "      <td>52306</td>\n",
       "      <td>42.0</td>\n",
       "      <td>5000000</td>\n",
       "      <td>Free</td>\n",
       "      <td>0.0</td>\n",
       "      <td>July 27, 2018</td>\n",
       "      <td>Forget paying app, designed make fail payments...</td>\n",
       "      <td>Negative</td>\n",
       "      <td>-0.50</td>\n",
       "    </tr>\n",
       "    <tr>\n",
       "      <th>3</th>\n",
       "      <td>Citibanamex Movil</td>\n",
       "      <td>FINANCE</td>\n",
       "      <td>3.6</td>\n",
       "      <td>52306</td>\n",
       "      <td>42.0</td>\n",
       "      <td>5000000</td>\n",
       "      <td>Free</td>\n",
       "      <td>0.0</td>\n",
       "      <td>July 27, 2018</td>\n",
       "      <td>It's working expected, talking best bank Mexic...</td>\n",
       "      <td>Positive</td>\n",
       "      <td>0.40</td>\n",
       "    </tr>\n",
       "    <tr>\n",
       "      <th>4</th>\n",
       "      <td>Citibanamex Movil</td>\n",
       "      <td>FINANCE</td>\n",
       "      <td>3.6</td>\n",
       "      <td>52306</td>\n",
       "      <td>42.0</td>\n",
       "      <td>5000000</td>\n",
       "      <td>Free</td>\n",
       "      <td>0.0</td>\n",
       "      <td>July 27, 2018</td>\n",
       "      <td>It has many problems with Android 8.1. You can...</td>\n",
       "      <td>Positive</td>\n",
       "      <td>0.25</td>\n",
       "    </tr>\n",
       "  </tbody>\n",
       "</table>\n",
       "</div>"
      ],
      "text/plain": [
       "                 App Category  Rating  Reviews  Size  Installs  Type  Price  \\\n",
       "0             K PLUS  FINANCE     4.4   124424   NaN  10000000  Free    0.0   \n",
       "1        ING Banking  FINANCE     4.4    39041   NaN   1000000  Free    0.0   \n",
       "2  Citibanamex Movil  FINANCE     3.6    52306  42.0   5000000  Free    0.0   \n",
       "3  Citibanamex Movil  FINANCE     3.6    52306  42.0   5000000  Free    0.0   \n",
       "4  Citibanamex Movil  FINANCE     3.6    52306  42.0   5000000  Free    0.0   \n",
       "\n",
       "     Last Updated                                             Review  \\\n",
       "0   June 26, 2018                                                NaN   \n",
       "1  August 3, 2018                                                NaN   \n",
       "2   July 27, 2018  Forget paying app, designed make fail payments...   \n",
       "3   July 27, 2018  It's working expected, talking best bank Mexic...   \n",
       "4   July 27, 2018  It has many problems with Android 8.1. You can...   \n",
       "\n",
       "  Sentiment Category  Sentiment Score  \n",
       "0                NaN              NaN  \n",
       "1                NaN              NaN  \n",
       "2           Negative            -0.50  \n",
       "3           Positive             0.40  \n",
       "4           Positive             0.25  "
      ]
     },
     "execution_count": 9,
     "metadata": {},
     "output_type": "execute_result"
    }
   ],
   "source": [
    "# Merging the datasets into one\n",
    "finance = pd.merge(left = free_finance, right = user_reviews, on = \"App\", how = \"left\")\n",
    "finance.head()"
   ]
  },
  {
   "cell_type": "code",
   "execution_count": null,
   "metadata": {},
   "outputs": [
    {
     "data": {
      "application/vnd.microsoft.datawrangler.viewer.v0+json": {
       "columns": [
        {
         "name": "index",
         "rawType": "int64",
         "type": "integer"
        },
        {
         "name": "App",
         "rawType": "object",
         "type": "string"
        },
        {
         "name": "Sentiment Score",
         "rawType": "float64",
         "type": "float"
        }
       ],
       "conversionMethod": "pd.DataFrame",
       "ref": "b31fd0e4-9db8-430d-96bf-bbc50501258c",
       "rows": [
        [
         "0",
         "BBVA Spain",
         "0.515085705540251"
        ],
        [
         "1",
         "Associated Credit Union Mobile",
         "0.38809282879818596"
        ],
        [
         "2",
         "BankMobile Vibe App",
         "0.35345457682414205"
        ],
        [
         "3",
         "A+ Mobile",
         "0.3295922619047619"
        ],
        [
         "4",
         "Current debit card and app made for teens",
         "0.3272583733540765"
        ],
        [
         "5",
         "BZWBK24 mobile",
         "0.3268825522303783"
        ],
        [
         "6",
         "Even - organize your money, get paid early",
         "0.2839285714285714"
        ],
        [
         "7",
         "Credit Karma",
         "0.2700516800659658"
        ],
        [
         "8",
         "Fortune City - A Finance App",
         "0.2669661834114959"
        ],
        [
         "9",
         "Branch",
         "0.26422979797979795"
        ],
        [
         "10",
         "ACE Elite",
         "0.25217091550424886"
        ],
        [
         "11",
         "Digit Save Money Automatically",
         "0.250246308750773"
        ],
        [
         "12",
         "CNBC: Breaking Business News & Live Market Data",
         "0.24770376373317549"
        ],
        [
         "13",
         "CreditWise from Capital One",
         "0.23945429387863595"
        ],
        [
         "14",
         "Expense IQ Money Manager",
         "0.22750618948703624"
        ],
        [
         "15",
         "BBVA Compass Banking",
         "0.2055902244649166"
        ],
        [
         "16",
         "Bank of America Mobile Banking",
         "0.1800268291975881"
        ],
        [
         "17",
         "Amex Mobile",
         "0.17566632595799261"
        ],
        [
         "18",
         "Experian - Free Credit Report",
         "0.1705043708304578"
        ],
        [
         "19",
         "Fresh EBT - Food Stamp Balance",
         "0.15972740535608182"
        ],
        [
         "20",
         "E*TRADE Mobile",
         "0.15327341401364838"
        ],
        [
         "21",
         "Citibanamex Movil",
         "0.15006144781144778"
        ],
        [
         "22",
         "Betterment",
         "0.14325219763259925"
        ],
        [
         "23",
         "Banorte Movil",
         "0.116998667998668"
        ],
        [
         "24",
         "Google Pay",
         "0.115687486099574"
        ],
        [
         "25",
         "HDFC Bank MobileBanking",
         "0.11144867037724179"
        ],
        [
         "26",
         "Fox Business",
         "0.08882674106938812"
        ],
        [
         "27",
         "Credit Sesame",
         "0.08866738579403051"
        ],
        [
         "28",
         "Chase Mobile",
         "0.048165996701710984"
        ],
        [
         "29",
         "Acorns - Invest Spare Change",
         "0.04666666666666667"
        ],
        [
         "30",
         "GoBank",
         "0.039100828396805405"
        ],
        [
         "31",
         "GCash - Buy Load, Pay Bills, Send Money",
         "0.027082440851972096"
        ],
        [
         "32",
         "Barclays US for Android",
         "0.017928003998316493"
        ],
        [
         "33",
         "Citizens Bank Mobile Banking",
         "0.013179054741554746"
        ],
        [
         "34",
         "Bualuang mBanking",
         "0.004322019211725096"
        ],
        [
         "35",
         "Ecobank Mobile Banking",
         "-0.01486003194336528"
        ],
        [
         "36",
         "Bloomberg Professional",
         "-0.023352723665223663"
        ],
        [
         "37",
         "Citi Mobile®",
         "-0.03873065476190478"
        ],
        [
         "38",
         "Discover Mobile",
         "-0.0416666666666666"
        ],
        [
         "39",
         "1st Fed CI Mobile Banking",
         null
        ],
        [
         "40",
         "AB Anywhere Mobile Banking",
         null
        ],
        [
         "41",
         "AJ Bell Youinvest",
         null
        ],
        [
         "42",
         "AND CO",
         null
        ],
        [
         "43",
         "AX Battery Saver",
         null
        ],
        [
         "44",
         "Alabama Ag Credit Ag Banking",
         null
        ],
        [
         "45",
         "Alfa-Bank (Alfa-Bank)",
         null
        ],
        [
         "46",
         "Alipay",
         null
        ],
        [
         "47",
         "Alpha Bank CY",
         null
        ],
        [
         "48",
         "App Seguridad AV Villas",
         null
        ],
        [
         "49",
         "B",
         null
        ]
       ],
       "shape": {
        "columns": 2,
        "rows": 328
       }
      },
      "text/html": [
       "<div>\n",
       "<style scoped>\n",
       "    .dataframe tbody tr th:only-of-type {\n",
       "        vertical-align: middle;\n",
       "    }\n",
       "\n",
       "    .dataframe tbody tr th {\n",
       "        vertical-align: top;\n",
       "    }\n",
       "\n",
       "    .dataframe thead th {\n",
       "        text-align: right;\n",
       "    }\n",
       "</style>\n",
       "<table border=\"1\" class=\"dataframe\">\n",
       "  <thead>\n",
       "    <tr style=\"text-align: right;\">\n",
       "      <th></th>\n",
       "      <th>App</th>\n",
       "      <th>Sentiment Score</th>\n",
       "    </tr>\n",
       "  </thead>\n",
       "  <tbody>\n",
       "    <tr>\n",
       "      <th>0</th>\n",
       "      <td>BBVA Spain</td>\n",
       "      <td>0.515086</td>\n",
       "    </tr>\n",
       "    <tr>\n",
       "      <th>1</th>\n",
       "      <td>Associated Credit Union Mobile</td>\n",
       "      <td>0.388093</td>\n",
       "    </tr>\n",
       "    <tr>\n",
       "      <th>2</th>\n",
       "      <td>BankMobile Vibe App</td>\n",
       "      <td>0.353455</td>\n",
       "    </tr>\n",
       "    <tr>\n",
       "      <th>3</th>\n",
       "      <td>A+ Mobile</td>\n",
       "      <td>0.329592</td>\n",
       "    </tr>\n",
       "    <tr>\n",
       "      <th>4</th>\n",
       "      <td>Current debit card and app made for teens</td>\n",
       "      <td>0.327258</td>\n",
       "    </tr>\n",
       "    <tr>\n",
       "      <th>...</th>\n",
       "      <td>...</td>\n",
       "      <td>...</td>\n",
       "    </tr>\n",
       "    <tr>\n",
       "      <th>323</th>\n",
       "      <td>loans.com.au Smart Money</td>\n",
       "      <td>NaN</td>\n",
       "    </tr>\n",
       "    <tr>\n",
       "      <th>324</th>\n",
       "      <td>m-Faisaa</td>\n",
       "      <td>NaN</td>\n",
       "    </tr>\n",
       "    <tr>\n",
       "      <th>325</th>\n",
       "      <td>mon guide au bank populaire -infos et instruct...</td>\n",
       "      <td>NaN</td>\n",
       "    </tr>\n",
       "    <tr>\n",
       "      <th>326</th>\n",
       "      <td>my face</td>\n",
       "      <td>NaN</td>\n",
       "    </tr>\n",
       "    <tr>\n",
       "      <th>327</th>\n",
       "      <td>İşCep</td>\n",
       "      <td>NaN</td>\n",
       "    </tr>\n",
       "  </tbody>\n",
       "</table>\n",
       "<p>328 rows × 2 columns</p>\n",
       "</div>"
      ],
      "text/plain": [
       "                                                   App  Sentiment Score\n",
       "0                                           BBVA Spain         0.515086\n",
       "1                       Associated Credit Union Mobile         0.388093\n",
       "2                                  BankMobile Vibe App         0.353455\n",
       "3                                            A+ Mobile         0.329592\n",
       "4            Current debit card and app made for teens         0.327258\n",
       "..                                                 ...              ...\n",
       "323                           loans.com.au Smart Money              NaN\n",
       "324                                           m-Faisaa              NaN\n",
       "325  mon guide au bank populaire -infos et instruct...              NaN\n",
       "326                                            my face              NaN\n",
       "327                                              İşCep              NaN\n",
       "\n",
       "[328 rows x 2 columns]"
      ]
     },
     "execution_count": 10,
     "metadata": {},
     "output_type": "execute_result"
    }
   ],
   "source": [
    "# Analysing the sentiment scores from the merged dataset\n",
    "finance_score = finance.groupby(\"App\")[\"Sentiment Score\"].mean().sort_values(ascending = False).reset_index()\n",
    "finance_score"
   ]
  },
  {
   "cell_type": "code",
   "execution_count": null,
   "metadata": {},
   "outputs": [
    {
     "data": {
      "application/vnd.microsoft.datawrangler.viewer.v0+json": {
       "columns": [
        {
         "name": "index",
         "rawType": "int64",
         "type": "integer"
        },
        {
         "name": "App",
         "rawType": "object",
         "type": "string"
        },
        {
         "name": "Sentiment Score",
         "rawType": "float64",
         "type": "float"
        }
       ],
       "conversionMethod": "pd.DataFrame",
       "ref": "3f61dfdc-05b8-4edb-ab86-1b4b2eda4b1a",
       "rows": [
        [
         "0",
         "BBVA Spain",
         "0.515085705540251"
        ],
        [
         "1",
         "Associated Credit Union Mobile",
         "0.38809282879818596"
        ],
        [
         "2",
         "BankMobile Vibe App",
         "0.35345457682414205"
        ],
        [
         "3",
         "A+ Mobile",
         "0.3295922619047619"
        ],
        [
         "4",
         "Current debit card and app made for teens",
         "0.3272583733540765"
        ],
        [
         "5",
         "BZWBK24 mobile",
         "0.3268825522303783"
        ],
        [
         "6",
         "Even - organize your money, get paid early",
         "0.2839285714285714"
        ],
        [
         "7",
         "Credit Karma",
         "0.2700516800659658"
        ],
        [
         "8",
         "Fortune City - A Finance App",
         "0.2669661834114959"
        ],
        [
         "9",
         "Branch",
         "0.26422979797979795"
        ]
       ],
       "shape": {
        "columns": 2,
        "rows": 10
       }
      },
      "text/html": [
       "<div>\n",
       "<style scoped>\n",
       "    .dataframe tbody tr th:only-of-type {\n",
       "        vertical-align: middle;\n",
       "    }\n",
       "\n",
       "    .dataframe tbody tr th {\n",
       "        vertical-align: top;\n",
       "    }\n",
       "\n",
       "    .dataframe thead th {\n",
       "        text-align: right;\n",
       "    }\n",
       "</style>\n",
       "<table border=\"1\" class=\"dataframe\">\n",
       "  <thead>\n",
       "    <tr style=\"text-align: right;\">\n",
       "      <th></th>\n",
       "      <th>App</th>\n",
       "      <th>Sentiment Score</th>\n",
       "    </tr>\n",
       "  </thead>\n",
       "  <tbody>\n",
       "    <tr>\n",
       "      <th>0</th>\n",
       "      <td>BBVA Spain</td>\n",
       "      <td>0.515086</td>\n",
       "    </tr>\n",
       "    <tr>\n",
       "      <th>1</th>\n",
       "      <td>Associated Credit Union Mobile</td>\n",
       "      <td>0.388093</td>\n",
       "    </tr>\n",
       "    <tr>\n",
       "      <th>2</th>\n",
       "      <td>BankMobile Vibe App</td>\n",
       "      <td>0.353455</td>\n",
       "    </tr>\n",
       "    <tr>\n",
       "      <th>3</th>\n",
       "      <td>A+ Mobile</td>\n",
       "      <td>0.329592</td>\n",
       "    </tr>\n",
       "    <tr>\n",
       "      <th>4</th>\n",
       "      <td>Current debit card and app made for teens</td>\n",
       "      <td>0.327258</td>\n",
       "    </tr>\n",
       "    <tr>\n",
       "      <th>5</th>\n",
       "      <td>BZWBK24 mobile</td>\n",
       "      <td>0.326883</td>\n",
       "    </tr>\n",
       "    <tr>\n",
       "      <th>6</th>\n",
       "      <td>Even - organize your money, get paid early</td>\n",
       "      <td>0.283929</td>\n",
       "    </tr>\n",
       "    <tr>\n",
       "      <th>7</th>\n",
       "      <td>Credit Karma</td>\n",
       "      <td>0.270052</td>\n",
       "    </tr>\n",
       "    <tr>\n",
       "      <th>8</th>\n",
       "      <td>Fortune City - A Finance App</td>\n",
       "      <td>0.266966</td>\n",
       "    </tr>\n",
       "    <tr>\n",
       "      <th>9</th>\n",
       "      <td>Branch</td>\n",
       "      <td>0.264230</td>\n",
       "    </tr>\n",
       "  </tbody>\n",
       "</table>\n",
       "</div>"
      ],
      "text/plain": [
       "                                          App  Sentiment Score\n",
       "0                                  BBVA Spain         0.515086\n",
       "1              Associated Credit Union Mobile         0.388093\n",
       "2                         BankMobile Vibe App         0.353455\n",
       "3                                   A+ Mobile         0.329592\n",
       "4   Current debit card and app made for teens         0.327258\n",
       "5                              BZWBK24 mobile         0.326883\n",
       "6  Even - organize your money, get paid early         0.283929\n",
       "7                                Credit Karma         0.270052\n",
       "8                Fortune City - A Finance App         0.266966\n",
       "9                                      Branch         0.264230"
      ]
     },
     "execution_count": 11,
     "metadata": {},
     "output_type": "execute_result"
    }
   ],
   "source": [
    "# Taking the top 10 results\n",
    "top_10_user_feedback = finance_score.iloc[0:10, 0:2]\n",
    "top_10_user_feedback"
   ]
  }
 ],
 "metadata": {
  "kernelspec": {
   "display_name": "base",
   "language": "python",
   "name": "python3"
  },
  "language_info": {
   "codemirror_mode": {
    "name": "ipython",
    "version": 3
   },
   "file_extension": ".py",
   "mimetype": "text/x-python",
   "name": "python",
   "nbconvert_exporter": "python",
   "pygments_lexer": "ipython3",
   "version": "3.12.4"
  }
 },
 "nbformat": 4,
 "nbformat_minor": 2
}
