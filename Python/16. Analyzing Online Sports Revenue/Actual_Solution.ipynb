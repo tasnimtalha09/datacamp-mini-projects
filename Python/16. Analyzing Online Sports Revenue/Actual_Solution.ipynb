{
 "cells": [
  {
   "cell_type": "code",
   "execution_count": 1,
   "metadata": {},
   "outputs": [],
   "source": [
    "# Start coding here... \n",
    "import pandas as pd"
   ]
  },
  {
   "cell_type": "code",
   "execution_count": 2,
   "metadata": {},
   "outputs": [],
   "source": [
    "# Read in the data\n",
    "info = pd.read_csv(\"info.csv\")\n",
    "finance = pd.read_csv(\"finance.csv\")\n",
    "reviews = pd.read_csv(\"reviews.csv\")\n",
    "brands = pd.read_csv(\"brands.csv\")"
   ]
  },
  {
   "cell_type": "code",
   "execution_count": 3,
   "metadata": {},
   "outputs": [
    {
     "name": "stdout",
     "output_type": "stream",
     "text": [
      "    brand price_label  num_products  mean_revenue\n",
      "0  Adidas      Budget           574       2015.68\n",
      "1  Adidas     Average           655       3035.30\n",
      "2  Adidas   Expensive           759       4621.56\n",
      "3  Adidas       Elite           587       8302.78\n",
      "4    Nike      Budget           357       1596.33\n",
      "5    Nike     Average             8        675.59\n",
      "6    Nike   Expensive            47        500.56\n",
      "7    Nike       Elite           130       1367.45\n"
     ]
    },
    {
     "name": "stderr",
     "output_type": "stream",
     "text": [
      "/var/folders/jc/vpqr9xtx61l120lqvx7lbh400000gn/T/ipykernel_30719/4060327431.py:11: FutureWarning: The default of observed=False is deprecated and will be changed to True in a future version of pandas. Pass observed=False to retain current behavior or observed=True to adopt the future default and silence this warning.\n",
      "  adidas_vs_nike = merged_df.groupby([\"brand\", \"price_label\"], as_index=False).agg(\n"
     ]
    }
   ],
   "source": [
    "# Merge the data and drop null values\n",
    "merged_df = info.merge(finance, on=\"product_id\")\n",
    "merged_df = merged_df.merge(reviews, on=\"product_id\")\n",
    "merged_df = merged_df.merge(brands, on=\"product_id\")\n",
    "merged_df.dropna(inplace=True)\n",
    "\n",
    "# Add price labels based on listing_price quartiles\n",
    "merged_df[\"price_label\"] = pd.qcut(merged_df[\"listing_price\"], q=4, labels=[\"Budget\", \"Average\", \"Expensive\", \"Elite\"])\n",
    "\n",
    "# Group by brand and price_label to get volume and mean revenue\n",
    "adidas_vs_nike = merged_df.groupby([\"brand\", \"price_label\"], as_index=False).agg(\n",
    "    num_products=(\"price_label\", \"count\"), \n",
    "    mean_revenue=(\"revenue\", \"mean\")\n",
    ").round(2)\n",
    "\n",
    "print(adidas_vs_nike)"
   ]
  },
  {
   "cell_type": "code",
   "execution_count": 4,
   "metadata": {},
   "outputs": [
    {
     "name": "stdout",
     "output_type": "stream",
     "text": [
      "  description_length  mean_rating  num_reviews\n",
      "0                100         2.26            7\n",
      "1                200         3.19          526\n",
      "2                300         3.28         1785\n",
      "3                400         3.29          651\n",
      "4                500         3.35          118\n",
      "5                600         3.12           15\n",
      "6                700         3.65           15\n"
     ]
    },
    {
     "name": "stderr",
     "output_type": "stream",
     "text": [
      "/var/folders/jc/vpqr9xtx61l120lqvx7lbh400000gn/T/ipykernel_30719/1630594325.py:14: FutureWarning: The default of observed=False is deprecated and will be changed to True in a future version of pandas. Pass observed=False to retain current behavior or observed=True to adopt the future default and silence this warning.\n",
      "  description_lengths = merged_df.groupby(\"description_length\", as_index=False).agg(\n"
     ]
    }
   ],
   "source": [
    "# Store the length of each description\n",
    "merged_df[\"description_length\"] = merged_df[\"description\"].str.len()\n",
    "\n",
    "# Upper description length limits\n",
    "lengthes = [0, 100, 200, 300, 400, 500, 600, 700]\n",
    "\n",
    "# Description length labels\n",
    "labels = [\"100\", \"200\", \"300\", \"400\", \"500\", \"600\", \"700\"]\n",
    "\n",
    "# Cut into bins\n",
    "merged_df[\"description_length\"] = pd.cut(merged_df[\"description_length\"], bins=lengthes, labels=labels)\n",
    "\n",
    "# Group by the bins\n",
    "description_lengths = merged_df.groupby(\"description_length\", as_index=False).agg(\n",
    "    mean_rating=(\"rating\", \"mean\"), \n",
    "    num_reviews=(\"reviews\", \"count\")\n",
    ").round(2)\n",
    "\n",
    "print(description_lengths)"
   ]
  }
 ],
 "metadata": {
  "kernelspec": {
   "display_name": "Python 3",
   "language": "python",
   "name": "python3"
  },
  "language_info": {
   "codemirror_mode": {
    "name": "ipython",
    "version": 3
   },
   "file_extension": ".py",
   "mimetype": "text/x-python",
   "name": "python",
   "nbconvert_exporter": "python",
   "pygments_lexer": "ipython3",
   "version": "3.12.4"
  }
 },
 "nbformat": 4,
 "nbformat_minor": 2
}
