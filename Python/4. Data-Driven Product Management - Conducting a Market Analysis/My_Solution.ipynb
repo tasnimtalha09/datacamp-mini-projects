{
 "cells": [
  {
   "cell_type": "markdown",
   "id": "5ed0ca94-e3ab-4fab-a5a3-5eb0307b6c26",
   "metadata": {},
   "source": [
    "![gym](gym.png)\n"
   ]
  },
  {
   "cell_type": "markdown",
   "id": "7ee8ccb9-c762-4f35-9b79-ebd2ab1824b0",
   "metadata": {},
   "source": [
    "You are a product manager for a fitness studio and are interested in understanding the current demand for digital fitness classes. You plan to conduct a market analysis in Python to gauge demand and identify potential areas for growth of digital products and services.\n",
    "\n",
    "### The Data\n",
    "\n",
    "You are provided with a number of CSV files in the \"Files/data\" folder, which offer international and national-level data on Google Trends keyword searches related to fitness and related products. \n",
    "\n",
    "### workout.csv\n",
    "\n",
    "| Column     | Description              |\n",
    "|------------|--------------------------|\n",
    "| `'month'` | Month when the data was measured. |\n",
    "| `'workout_worldwide'` | Index representing the popularity of the keyword 'workout', on a scale of 0 to 100. |\n",
    "\n",
    "### three_keywords.csv\n",
    "\n",
    "| Column     | Description              |\n",
    "|------------|--------------------------|\n",
    "| `'month'` | Month when the data was measured. |\n",
    "| `'home_workout_worldwide'` | Index representing the popularity of the keyword 'home workout', on a scale of 0 to 100. |\n",
    "| `'gym_workout_worldwide'` | Index representing the popularity of the keyword 'gym workout', on a scale of 0 to 100. |\n",
    "| `'home_gym_worldwide'` | Index representing the popularity of the keyword 'home gym', on a scale of 0 to 100. |\n",
    "\n",
    "### workout_geo.csv\n",
    "\n",
    "| Column     | Description              |\n",
    "|------------|--------------------------|\n",
    "| `'country'` | Country where the data was measured. |\n",
    "| `'workout_2018_2023'` | Index representing the popularity of the keyword 'workout' during the 5 year period. |\n",
    "\n",
    "### three_keywords_geo.csv\n",
    "\n",
    "| Column     | Description              |\n",
    "|------------|--------------------------|\n",
    "| `'country'` | Country where the data was measured. |\n",
    "| `'home_workout_2018_2023'` | Index representing the popularity of the keyword 'home workout' during the 5 year period. |\n",
    "| `'gym_workout_2018_2023'` | Index representing the popularity of the keyword 'gym workout' during the 5 year period.  |\n",
    "| `'home_gym_2018_2023'` | Index representing the popularity of the keyword 'home gym' during the 5 year period. |"
   ]
  },
  {
   "cell_type": "code",
   "execution_count": 14,
   "id": "36e5d14e-3f2b-4123-97a3-d11880a7a047",
   "metadata": {
    "executionCancelledAt": null,
    "executionTime": 9,
    "lastExecutedAt": 1723267699329,
    "lastExecutedByKernel": "f569b950-a05e-4354-9a04-45fe8e477849",
    "lastScheduledRunId": null,
    "lastSuccessfullyExecutedCode": "# Import the necessary libraries\nimport pandas as pd\nimport matplotlib.pyplot as plt",
    "outputsMetadata": {
     "0": {
      "height": 321,
      "type": "dataFrame"
     }
    }
   },
   "outputs": [],
   "source": [
    "# Import the necessary libraries\n",
    "import pandas as pd\n",
    "import matplotlib.pyplot as plt"
   ]
  },
  {
   "cell_type": "code",
   "execution_count": 15,
   "id": "c303a942-ddac-498d-981e-0b7755259f3f",
   "metadata": {
    "chartConfig": {
     "bar": {
      "hasRoundedCorners": true,
      "stacked": false
     },
     "type": "bar",
     "version": "v1"
    },
    "executionCancelledAt": null,
    "executionTime": 46,
    "lastExecutedAt": 1723267699375,
    "lastExecutedByKernel": "f569b950-a05e-4354-9a04-45fe8e477849",
    "lastScheduledRunId": null,
    "lastSuccessfullyExecutedCode": "# Start coding here\nworkout = pd.read_csv(\"data/workout.csv\")\nthree_keywords = pd.read_csv(\"data/three_keywords.csv\")\nworkout_geo = pd.read_csv(\"data/workout_geo.csv\")\nthree_keywords_geo = pd.read_csv(\"data/three_keywords_geo.csv\")\n\ndisplay(workout.head(20))",
    "outputsMetadata": {
     "0": {
      "height": 321,
      "type": "dataFrame"
     }
    },
    "visualizeDataframe": false
   },
   "outputs": [
    {
     "data": {
      "application/vnd.microsoft.datawrangler.viewer.v0+json": {
       "columns": [
        {
         "name": "index",
         "rawType": "int64",
         "type": "integer"
        },
        {
         "name": "month",
         "rawType": "object",
         "type": "string"
        },
        {
         "name": "workout_worldwide",
         "rawType": "int64",
         "type": "integer"
        }
       ],
       "conversionMethod": "pd.DataFrame",
       "ref": "c5a3d8d2-f77b-4567-82a5-5535af0f30ca",
       "rows": [
        [
         "0",
         "2018-03",
         "59"
        ],
        [
         "1",
         "2018-04",
         "61"
        ],
        [
         "2",
         "2018-05",
         "57"
        ],
        [
         "3",
         "2018-06",
         "56"
        ],
        [
         "4",
         "2018-07",
         "51"
        ],
        [
         "5",
         "2018-08",
         "58"
        ],
        [
         "6",
         "2018-09",
         "50"
        ],
        [
         "7",
         "2018-10",
         "49"
        ],
        [
         "8",
         "2018-11",
         "47"
        ],
        [
         "9",
         "2018-12",
         "48"
        ],
        [
         "10",
         "2019-01",
         "64"
        ],
        [
         "11",
         "2019-02",
         "63"
        ],
        [
         "12",
         "2019-03",
         "55"
        ],
        [
         "13",
         "2019-04",
         "54"
        ],
        [
         "14",
         "2019-05",
         "53"
        ],
        [
         "15",
         "2019-06",
         "56"
        ],
        [
         "16",
         "2019-07",
         "56"
        ],
        [
         "17",
         "2019-08",
         "54"
        ],
        [
         "18",
         "2019-09",
         "49"
        ],
        [
         "19",
         "2019-10",
         "47"
        ]
       ],
       "shape": {
        "columns": 2,
        "rows": 20
       }
      },
      "text/html": [
       "<div>\n",
       "<style scoped>\n",
       "    .dataframe tbody tr th:only-of-type {\n",
       "        vertical-align: middle;\n",
       "    }\n",
       "\n",
       "    .dataframe tbody tr th {\n",
       "        vertical-align: top;\n",
       "    }\n",
       "\n",
       "    .dataframe thead th {\n",
       "        text-align: right;\n",
       "    }\n",
       "</style>\n",
       "<table border=\"1\" class=\"dataframe\">\n",
       "  <thead>\n",
       "    <tr style=\"text-align: right;\">\n",
       "      <th></th>\n",
       "      <th>month</th>\n",
       "      <th>workout_worldwide</th>\n",
       "    </tr>\n",
       "  </thead>\n",
       "  <tbody>\n",
       "    <tr>\n",
       "      <th>0</th>\n",
       "      <td>2018-03</td>\n",
       "      <td>59</td>\n",
       "    </tr>\n",
       "    <tr>\n",
       "      <th>1</th>\n",
       "      <td>2018-04</td>\n",
       "      <td>61</td>\n",
       "    </tr>\n",
       "    <tr>\n",
       "      <th>2</th>\n",
       "      <td>2018-05</td>\n",
       "      <td>57</td>\n",
       "    </tr>\n",
       "    <tr>\n",
       "      <th>3</th>\n",
       "      <td>2018-06</td>\n",
       "      <td>56</td>\n",
       "    </tr>\n",
       "    <tr>\n",
       "      <th>4</th>\n",
       "      <td>2018-07</td>\n",
       "      <td>51</td>\n",
       "    </tr>\n",
       "    <tr>\n",
       "      <th>5</th>\n",
       "      <td>2018-08</td>\n",
       "      <td>58</td>\n",
       "    </tr>\n",
       "    <tr>\n",
       "      <th>6</th>\n",
       "      <td>2018-09</td>\n",
       "      <td>50</td>\n",
       "    </tr>\n",
       "    <tr>\n",
       "      <th>7</th>\n",
       "      <td>2018-10</td>\n",
       "      <td>49</td>\n",
       "    </tr>\n",
       "    <tr>\n",
       "      <th>8</th>\n",
       "      <td>2018-11</td>\n",
       "      <td>47</td>\n",
       "    </tr>\n",
       "    <tr>\n",
       "      <th>9</th>\n",
       "      <td>2018-12</td>\n",
       "      <td>48</td>\n",
       "    </tr>\n",
       "    <tr>\n",
       "      <th>10</th>\n",
       "      <td>2019-01</td>\n",
       "      <td>64</td>\n",
       "    </tr>\n",
       "    <tr>\n",
       "      <th>11</th>\n",
       "      <td>2019-02</td>\n",
       "      <td>63</td>\n",
       "    </tr>\n",
       "    <tr>\n",
       "      <th>12</th>\n",
       "      <td>2019-03</td>\n",
       "      <td>55</td>\n",
       "    </tr>\n",
       "    <tr>\n",
       "      <th>13</th>\n",
       "      <td>2019-04</td>\n",
       "      <td>54</td>\n",
       "    </tr>\n",
       "    <tr>\n",
       "      <th>14</th>\n",
       "      <td>2019-05</td>\n",
       "      <td>53</td>\n",
       "    </tr>\n",
       "    <tr>\n",
       "      <th>15</th>\n",
       "      <td>2019-06</td>\n",
       "      <td>56</td>\n",
       "    </tr>\n",
       "    <tr>\n",
       "      <th>16</th>\n",
       "      <td>2019-07</td>\n",
       "      <td>56</td>\n",
       "    </tr>\n",
       "    <tr>\n",
       "      <th>17</th>\n",
       "      <td>2019-08</td>\n",
       "      <td>54</td>\n",
       "    </tr>\n",
       "    <tr>\n",
       "      <th>18</th>\n",
       "      <td>2019-09</td>\n",
       "      <td>49</td>\n",
       "    </tr>\n",
       "    <tr>\n",
       "      <th>19</th>\n",
       "      <td>2019-10</td>\n",
       "      <td>47</td>\n",
       "    </tr>\n",
       "  </tbody>\n",
       "</table>\n",
       "</div>"
      ],
      "text/plain": [
       "      month  workout_worldwide\n",
       "0   2018-03                 59\n",
       "1   2018-04                 61\n",
       "2   2018-05                 57\n",
       "3   2018-06                 56\n",
       "4   2018-07                 51\n",
       "5   2018-08                 58\n",
       "6   2018-09                 50\n",
       "7   2018-10                 49\n",
       "8   2018-11                 47\n",
       "9   2018-12                 48\n",
       "10  2019-01                 64\n",
       "11  2019-02                 63\n",
       "12  2019-03                 55\n",
       "13  2019-04                 54\n",
       "14  2019-05                 53\n",
       "15  2019-06                 56\n",
       "16  2019-07                 56\n",
       "17  2019-08                 54\n",
       "18  2019-09                 49\n",
       "19  2019-10                 47"
      ]
     },
     "metadata": {},
     "output_type": "display_data"
    }
   ],
   "source": [
    "# Start coding here\n",
    "workout = pd.read_csv(\"data/workout.csv\")\n",
    "three_keywords = pd.read_csv(\"data/three_keywords.csv\")\n",
    "workout_geo = pd.read_csv(\"data/workout_geo.csv\")\n",
    "three_keywords_geo = pd.read_csv(\"data/three_keywords_geo.csv\")\n",
    "\n",
    "display(workout.head(20))"
   ]
  },
  {
   "cell_type": "code",
   "execution_count": 16,
   "id": "f81268b3-ae04-4676-b2c5-b0e46918aa6e",
   "metadata": {
    "executionCancelledAt": null,
    "executionTime": 48,
    "lastExecutedAt": 1723267699424,
    "lastExecutedByKernel": "f569b950-a05e-4354-9a04-45fe8e477849",
    "lastScheduledRunId": null,
    "lastSuccessfullyExecutedCode": "year_df = workout.loc[workout[\"workout_worldwide\"].idxmax()]\nyear_str = str(year_df[\"month\"])[: 4]\n\nyear_str"
   },
   "outputs": [
    {
     "data": {
      "text/plain": [
       "'2020'"
      ]
     },
     "execution_count": 16,
     "metadata": {},
     "output_type": "execute_result"
    }
   ],
   "source": [
    "year_df = workout.loc[workout[\"workout_worldwide\"].idxmax()]\n",
    "year_str = str(year_df[\"month\"])[: 4]\n",
    "\n",
    "year_str"
   ]
  },
  {
   "cell_type": "code",
   "execution_count": 17,
   "id": "d88b09ba-6c8c-4432-83dd-01749786056d",
   "metadata": {
    "executionCancelledAt": null,
    "executionTime": 55,
    "lastExecutedAt": 1723267699479,
    "lastExecutedByKernel": "f569b950-a05e-4354-9a04-45fe8e477849",
    "lastScheduledRunId": null,
    "lastSuccessfullyExecutedCode": "three_keywords.head()",
    "outputsMetadata": {
     "0": {
      "height": 196,
      "type": "dataFrame"
     }
    }
   },
   "outputs": [
    {
     "data": {
      "application/vnd.microsoft.datawrangler.viewer.v0+json": {
       "columns": [
        {
         "name": "index",
         "rawType": "int64",
         "type": "integer"
        },
        {
         "name": "month",
         "rawType": "object",
         "type": "string"
        },
        {
         "name": "home_workout_worldwide",
         "rawType": "int64",
         "type": "integer"
        },
        {
         "name": "gym_workout_worldwide",
         "rawType": "int64",
         "type": "integer"
        },
        {
         "name": "home_gym_worldwide",
         "rawType": "int64",
         "type": "integer"
        }
       ],
       "conversionMethod": "pd.DataFrame",
       "ref": "310e9f3f-ffee-40be-bca1-a0a31c58f066",
       "rows": [
        [
         "0",
         "2018-03",
         "12",
         "16",
         "10"
        ],
        [
         "1",
         "2018-04",
         "12",
         "18",
         "10"
        ],
        [
         "2",
         "2018-05",
         "13",
         "16",
         "9"
        ],
        [
         "3",
         "2018-06",
         "12",
         "17",
         "9"
        ],
        [
         "4",
         "2018-07",
         "12",
         "17",
         "9"
        ]
       ],
       "shape": {
        "columns": 4,
        "rows": 5
       }
      },
      "text/html": [
       "<div>\n",
       "<style scoped>\n",
       "    .dataframe tbody tr th:only-of-type {\n",
       "        vertical-align: middle;\n",
       "    }\n",
       "\n",
       "    .dataframe tbody tr th {\n",
       "        vertical-align: top;\n",
       "    }\n",
       "\n",
       "    .dataframe thead th {\n",
       "        text-align: right;\n",
       "    }\n",
       "</style>\n",
       "<table border=\"1\" class=\"dataframe\">\n",
       "  <thead>\n",
       "    <tr style=\"text-align: right;\">\n",
       "      <th></th>\n",
       "      <th>month</th>\n",
       "      <th>home_workout_worldwide</th>\n",
       "      <th>gym_workout_worldwide</th>\n",
       "      <th>home_gym_worldwide</th>\n",
       "    </tr>\n",
       "  </thead>\n",
       "  <tbody>\n",
       "    <tr>\n",
       "      <th>0</th>\n",
       "      <td>2018-03</td>\n",
       "      <td>12</td>\n",
       "      <td>16</td>\n",
       "      <td>10</td>\n",
       "    </tr>\n",
       "    <tr>\n",
       "      <th>1</th>\n",
       "      <td>2018-04</td>\n",
       "      <td>12</td>\n",
       "      <td>18</td>\n",
       "      <td>10</td>\n",
       "    </tr>\n",
       "    <tr>\n",
       "      <th>2</th>\n",
       "      <td>2018-05</td>\n",
       "      <td>13</td>\n",
       "      <td>16</td>\n",
       "      <td>9</td>\n",
       "    </tr>\n",
       "    <tr>\n",
       "      <th>3</th>\n",
       "      <td>2018-06</td>\n",
       "      <td>12</td>\n",
       "      <td>17</td>\n",
       "      <td>9</td>\n",
       "    </tr>\n",
       "    <tr>\n",
       "      <th>4</th>\n",
       "      <td>2018-07</td>\n",
       "      <td>12</td>\n",
       "      <td>17</td>\n",
       "      <td>9</td>\n",
       "    </tr>\n",
       "  </tbody>\n",
       "</table>\n",
       "</div>"
      ],
      "text/plain": [
       "     month  home_workout_worldwide  gym_workout_worldwide  home_gym_worldwide\n",
       "0  2018-03                      12                     16                  10\n",
       "1  2018-04                      12                     18                  10\n",
       "2  2018-05                      13                     16                   9\n",
       "3  2018-06                      12                     17                   9\n",
       "4  2018-07                      12                     17                   9"
      ]
     },
     "execution_count": 17,
     "metadata": {},
     "output_type": "execute_result"
    }
   ],
   "source": [
    "three_keywords.head()"
   ]
  },
  {
   "cell_type": "code",
   "execution_count": null,
   "id": "62b4302b-d8bd-4fa7-9ba6-21e9a730499b",
   "metadata": {
    "executionCancelledAt": null,
    "executionTime": 646,
    "lastExecutedAt": 1723267700174,
    "lastExecutedByKernel": "f569b950-a05e-4354-9a04-45fe8e477849",
    "lastScheduledRunId": null,
    "lastSuccessfullyExecutedCode": "plt.figure(figsize=(12, 6))\nplt.plot(three_keywords[\"month\"], three_keywords[\"home_workout_worldwide\"], color = \"blue\")\nplt.plot(three_keywords[\"month\"], three_keywords[\"gym_workout_worldwide\"], color = \"green\")\nplt.plot(three_keywords[\"month\"], three_keywords[\"home_gym_worldwide\"], color = \"red\")\nplt.xlabel(\"Month\")\nplt.ylabel(\"Popularity Index\")\nplt.title(\"Popularity Across the Months\")\nplt.xticks(rotation = 90)\nplt.legend()\nplt.tight_layout()\nplt.show()"
   },
   "outputs": [
    {
     "data": {
      "image/png": "[encoded data removed]",
      "text/plain": [
       "<Figure size 1200x600 with 1 Axes>"
      ]
     },
     "metadata": {},
     "output_type": "display_data"
    }
   ],
   "source": [
    "plt.figure(figsize=(12, 6))\n",
    "plt.plot(three_keywords[\"month\"], three_keywords[\"home_workout_worldwide\"], color = \"blue\", label = \"Home Workout\")\n",
    "plt.plot(three_keywords[\"month\"], three_keywords[\"gym_workout_worldwide\"], color = \"green\", label = \"Gym Workout\")\n",
    "plt.plot(three_keywords[\"month\"], three_keywords[\"home_gym_worldwide\"], color = \"red\", label = \"Home Gym\")\n",
    "plt.xlabel(\"Month\")\n",
    "plt.ylabel(\"Popularity Index\")\n",
    "plt.title(\"Popularity Across the Months\")\n",
    "plt.xticks(rotation = 90)\n",
    "plt.legend()\n",
    "plt.tight_layout()\n",
    "plt.show()"
   ]
  },
  {
   "cell_type": "code",
   "execution_count": 19,
   "id": "f6e42634-ac5f-4ea5-b97d-558d87bbe714",
   "metadata": {
    "executionCancelledAt": null,
    "executionTime": 49,
    "lastExecutedAt": 1723267700223,
    "lastExecutedByKernel": "f569b950-a05e-4354-9a04-45fe8e477849",
    "lastScheduledRunId": null,
    "lastSuccessfullyExecutedCode": "peak_covid = \"home_workout\"\ncurrent = \"gym_workout\"\n\nprint(peak_covid)\nprint(current)",
    "outputsMetadata": {
     "0": {
      "height": 59,
      "type": "stream"
     }
    }
   },
   "outputs": [
    {
     "name": "stdout",
     "output_type": "stream",
     "text": [
      "home_workout\n",
      "gym_workout\n"
     ]
    }
   ],
   "source": [
    "peak_covid = \"home_workout\"\n",
    "current = \"gym_workout\"\n",
    "\n",
    "print(peak_covid)\n",
    "print(current)"
   ]
  },
  {
   "cell_type": "code",
   "execution_count": 20,
   "id": "4af19e1b-9d33-4c6a-a18c-26f6224cf7c2",
   "metadata": {
    "executionCancelledAt": null,
    "executionTime": 49,
    "lastExecutedAt": 1723267700272,
    "lastExecutedByKernel": "f569b950-a05e-4354-9a04-45fe8e477849",
    "lastScheduledRunId": null,
    "lastSuccessfullyExecutedCode": "workout_geo.head()",
    "outputsMetadata": {
     "0": {
      "height": 196,
      "type": "dataFrame"
     }
    }
   },
   "outputs": [
    {
     "data": {
      "application/vnd.microsoft.datawrangler.viewer.v0+json": {
       "columns": [
        {
         "name": "index",
         "rawType": "int64",
         "type": "integer"
        },
        {
         "name": "country",
         "rawType": "object",
         "type": "string"
        },
        {
         "name": "workout_2018_2023",
         "rawType": "float64",
         "type": "float"
        }
       ],
       "conversionMethod": "pd.DataFrame",
       "ref": "5d450628-40c9-4c64-9c00-868f75fc77c3",
       "rows": [
        [
         "0",
         "Guam",
         null
        ],
        [
         "1",
         "Falkland Islands (Islas Malvinas)",
         null
        ],
        [
         "2",
         "Cook Islands",
         null
        ],
        [
         "3",
         "Brunei",
         null
        ],
        [
         "4",
         "Palau",
         null
        ]
       ],
       "shape": {
        "columns": 2,
        "rows": 5
       }
      },
      "text/html": [
       "<div>\n",
       "<style scoped>\n",
       "    .dataframe tbody tr th:only-of-type {\n",
       "        vertical-align: middle;\n",
       "    }\n",
       "\n",
       "    .dataframe tbody tr th {\n",
       "        vertical-align: top;\n",
       "    }\n",
       "\n",
       "    .dataframe thead th {\n",
       "        text-align: right;\n",
       "    }\n",
       "</style>\n",
       "<table border=\"1\" class=\"dataframe\">\n",
       "  <thead>\n",
       "    <tr style=\"text-align: right;\">\n",
       "      <th></th>\n",
       "      <th>country</th>\n",
       "      <th>workout_2018_2023</th>\n",
       "    </tr>\n",
       "  </thead>\n",
       "  <tbody>\n",
       "    <tr>\n",
       "      <th>0</th>\n",
       "      <td>Guam</td>\n",
       "      <td>NaN</td>\n",
       "    </tr>\n",
       "    <tr>\n",
       "      <th>1</th>\n",
       "      <td>Falkland Islands (Islas Malvinas)</td>\n",
       "      <td>NaN</td>\n",
       "    </tr>\n",
       "    <tr>\n",
       "      <th>2</th>\n",
       "      <td>Cook Islands</td>\n",
       "      <td>NaN</td>\n",
       "    </tr>\n",
       "    <tr>\n",
       "      <th>3</th>\n",
       "      <td>Brunei</td>\n",
       "      <td>NaN</td>\n",
       "    </tr>\n",
       "    <tr>\n",
       "      <th>4</th>\n",
       "      <td>Palau</td>\n",
       "      <td>NaN</td>\n",
       "    </tr>\n",
       "  </tbody>\n",
       "</table>\n",
       "</div>"
      ],
      "text/plain": [
       "                             country  workout_2018_2023\n",
       "0                               Guam                NaN\n",
       "1  Falkland Islands (Islas Malvinas)                NaN\n",
       "2                       Cook Islands                NaN\n",
       "3                             Brunei                NaN\n",
       "4                              Palau                NaN"
      ]
     },
     "execution_count": 20,
     "metadata": {},
     "output_type": "execute_result"
    }
   ],
   "source": [
    "workout_geo.head()"
   ]
  },
  {
   "cell_type": "code",
   "execution_count": 21,
   "id": "0e5a4be4-a81b-4fa4-a780-a5dcfe381f66",
   "metadata": {
    "executionCancelledAt": null,
    "executionTime": 47,
    "lastExecutedAt": 1723267700319,
    "lastExecutedByKernel": "f569b950-a05e-4354-9a04-45fe8e477849",
    "lastScheduledRunId": null,
    "lastSuccessfullyExecutedCode": "top_country_df = workout_geo.loc[workout_geo[\"workout_2018_2023\"].idxmax()]\ntop_country = top_country_df[\"country\"]\ntop_country"
   },
   "outputs": [
    {
     "data": {
      "text/plain": [
       "'United States'"
      ]
     },
     "execution_count": 21,
     "metadata": {},
     "output_type": "execute_result"
    }
   ],
   "source": [
    "top_country_df = workout_geo.loc[workout_geo[\"workout_2018_2023\"].idxmax()]\n",
    "top_country = top_country_df[\"country\"]\n",
    "top_country"
   ]
  },
  {
   "cell_type": "code",
   "execution_count": 22,
   "id": "54e91e71-25e7-46ea-8f7e-443156f22ec1",
   "metadata": {
    "executionCancelledAt": null,
    "executionTime": 59,
    "lastExecutedAt": 1723267700379,
    "lastExecutedByKernel": "f569b950-a05e-4354-9a04-45fe8e477849",
    "lastScheduledRunId": null,
    "lastSuccessfullyExecutedCode": "three_keywords_geo.head()",
    "outputsMetadata": {
     "0": {
      "height": 196,
      "type": "dataFrame"
     }
    }
   },
   "outputs": [
    {
     "data": {
      "application/vnd.microsoft.datawrangler.viewer.v0+json": {
       "columns": [
        {
         "name": "index",
         "rawType": "int64",
         "type": "integer"
        },
        {
         "name": "Country",
         "rawType": "object",
         "type": "string"
        },
        {
         "name": "home_workout_2018_2023",
         "rawType": "float64",
         "type": "float"
        },
        {
         "name": "gym_workout_2018_2023",
         "rawType": "float64",
         "type": "float"
        },
        {
         "name": "home_gym_2018_2023",
         "rawType": "float64",
         "type": "float"
        }
       ],
       "conversionMethod": "pd.DataFrame",
       "ref": "4c26ed22-aaf9-45be-a85c-a2158357fb02",
       "rows": [
        [
         "0",
         "Gibraltar",
         null,
         null,
         null
        ],
        [
         "1",
         "Lesotho",
         null,
         null,
         null
        ],
        [
         "2",
         "Guam",
         null,
         null,
         null
        ],
        [
         "3",
         "Botswana",
         null,
         null,
         null
        ],
        [
         "4",
         "Brunei",
         null,
         null,
         null
        ]
       ],
       "shape": {
        "columns": 4,
        "rows": 5
       }
      },
      "text/html": [
       "<div>\n",
       "<style scoped>\n",
       "    .dataframe tbody tr th:only-of-type {\n",
       "        vertical-align: middle;\n",
       "    }\n",
       "\n",
       "    .dataframe tbody tr th {\n",
       "        vertical-align: top;\n",
       "    }\n",
       "\n",
       "    .dataframe thead th {\n",
       "        text-align: right;\n",
       "    }\n",
       "</style>\n",
       "<table border=\"1\" class=\"dataframe\">\n",
       "  <thead>\n",
       "    <tr style=\"text-align: right;\">\n",
       "      <th></th>\n",
       "      <th>Country</th>\n",
       "      <th>home_workout_2018_2023</th>\n",
       "      <th>gym_workout_2018_2023</th>\n",
       "      <th>home_gym_2018_2023</th>\n",
       "    </tr>\n",
       "  </thead>\n",
       "  <tbody>\n",
       "    <tr>\n",
       "      <th>0</th>\n",
       "      <td>Gibraltar</td>\n",
       "      <td>NaN</td>\n",
       "      <td>NaN</td>\n",
       "      <td>NaN</td>\n",
       "    </tr>\n",
       "    <tr>\n",
       "      <th>1</th>\n",
       "      <td>Lesotho</td>\n",
       "      <td>NaN</td>\n",
       "      <td>NaN</td>\n",
       "      <td>NaN</td>\n",
       "    </tr>\n",
       "    <tr>\n",
       "      <th>2</th>\n",
       "      <td>Guam</td>\n",
       "      <td>NaN</td>\n",
       "      <td>NaN</td>\n",
       "      <td>NaN</td>\n",
       "    </tr>\n",
       "    <tr>\n",
       "      <th>3</th>\n",
       "      <td>Botswana</td>\n",
       "      <td>NaN</td>\n",
       "      <td>NaN</td>\n",
       "      <td>NaN</td>\n",
       "    </tr>\n",
       "    <tr>\n",
       "      <th>4</th>\n",
       "      <td>Brunei</td>\n",
       "      <td>NaN</td>\n",
       "      <td>NaN</td>\n",
       "      <td>NaN</td>\n",
       "    </tr>\n",
       "  </tbody>\n",
       "</table>\n",
       "</div>"
      ],
      "text/plain": [
       "     Country  home_workout_2018_2023  gym_workout_2018_2023  \\\n",
       "0  Gibraltar                     NaN                    NaN   \n",
       "1    Lesotho                     NaN                    NaN   \n",
       "2       Guam                     NaN                    NaN   \n",
       "3   Botswana                     NaN                    NaN   \n",
       "4     Brunei                     NaN                    NaN   \n",
       "\n",
       "   home_gym_2018_2023  \n",
       "0                 NaN  \n",
       "1                 NaN  \n",
       "2                 NaN  \n",
       "3                 NaN  \n",
       "4                 NaN  "
      ]
     },
     "execution_count": 22,
     "metadata": {},
     "output_type": "execute_result"
    }
   ],
   "source": [
    "three_keywords_geo.head()"
   ]
  },
  {
   "cell_type": "code",
   "execution_count": 23,
   "id": "1d2ff6a9-d4e6-47b2-a076-fc340c25cc71",
   "metadata": {
    "executionCancelledAt": null,
    "executionTime": 52,
    "lastExecutedAt": 1723267700431,
    "lastExecutedByKernel": "f569b950-a05e-4354-9a04-45fe8e477849",
    "lastScheduledRunId": null,
    "lastSuccessfullyExecutedCode": "three_keywords_clean = three_keywords_geo.drop(columns = [\"gym_workout_2018_2023\", \"home_gym_2018_2023\"])\nthree_keywords_clean.set_index(\"Country\")",
    "outputsMetadata": {
     "0": {
      "height": 321,
      "type": "dataFrame"
     }
    }
   },
   "outputs": [
    {
     "data": {
      "application/vnd.microsoft.datawrangler.viewer.v0+json": {
       "columns": [
        {
         "name": "Country",
         "rawType": "object",
         "type": "string"
        },
        {
         "name": "home_workout_2018_2023",
         "rawType": "float64",
         "type": "float"
        }
       ],
       "conversionMethod": "pd.DataFrame",
       "ref": "f0e06a43-3eee-4a3e-ad1c-fbdb47ba7b63",
       "rows": [
        [
         "Gibraltar",
         null
        ],
        [
         "Lesotho",
         null
        ],
        [
         "Guam",
         null
        ],
        [
         "Botswana",
         null
        ],
        [
         "Brunei",
         null
        ],
        [
         "Bhutan",
         null
        ],
        [
         "Maldives",
         null
        ],
        [
         "Zimbabwe",
         null
        ],
        [
         "Malta",
         null
        ],
        [
         "Lebanon",
         null
        ],
        [
         "Ethiopia",
         null
        ],
        [
         "Guyana",
         null
        ],
        [
         "Malawi",
         null
        ],
        [
         "Belize",
         null
        ],
        [
         "Namibia",
         null
        ],
        [
         "South Africa",
         "41.0"
        ],
        [
         "Australia",
         "30.0"
        ],
        [
         "Trinidad & Tobago",
         null
        ],
        [
         "Fiji",
         null
        ],
        [
         "Mauritius",
         null
        ],
        [
         "Barbados",
         null
        ],
        [
         "Afghanistan",
         null
        ],
        [
         "Canada",
         "40.0"
        ],
        [
         "Philippines",
         "52.0"
        ],
        [
         "Guernsey",
         null
        ],
        [
         "United Kingdom",
         "34.0"
        ],
        [
         "Jersey",
         null
        ],
        [
         "Qatar",
         null
        ],
        [
         "Ireland",
         "33.0"
        ],
        [
         "St. Lucia",
         null
        ],
        [
         "Jamaica",
         null
        ],
        [
         "India",
         "28.0"
        ],
        [
         "New Zealand",
         "34.0"
        ],
        [
         "Grenada",
         null
        ],
        [
         "Isle of Man",
         null
        ],
        [
         "United States",
         "36.0"
        ],
        [
         "United Arab Emirates",
         "32.0"
        ],
        [
         "Sri Lanka",
         "33.0"
        ],
        [
         "Myanmar (Burma)",
         null
        ],
        [
         "Iceland",
         null
        ],
        [
         "Zambia",
         null
        ],
        [
         "North Macedonia",
         null
        ],
        [
         "Somalia",
         null
        ],
        [
         "Singapore",
         "37.0"
        ],
        [
         "Bahrain",
         null
        ],
        [
         "Suriname",
         null
        ],
        [
         "Eswatini",
         null
        ],
        [
         "Nepal",
         null
        ],
        [
         "Bahamas",
         null
        ],
        [
         "Kenya",
         "47.0"
        ]
       ],
       "shape": {
        "columns": 1,
        "rows": 250
       }
      },
      "text/html": [
       "<div>\n",
       "<style scoped>\n",
       "    .dataframe tbody tr th:only-of-type {\n",
       "        vertical-align: middle;\n",
       "    }\n",
       "\n",
       "    .dataframe tbody tr th {\n",
       "        vertical-align: top;\n",
       "    }\n",
       "\n",
       "    .dataframe thead th {\n",
       "        text-align: right;\n",
       "    }\n",
       "</style>\n",
       "<table border=\"1\" class=\"dataframe\">\n",
       "  <thead>\n",
       "    <tr style=\"text-align: right;\">\n",
       "      <th></th>\n",
       "      <th>home_workout_2018_2023</th>\n",
       "    </tr>\n",
       "    <tr>\n",
       "      <th>Country</th>\n",
       "      <th></th>\n",
       "    </tr>\n",
       "  </thead>\n",
       "  <tbody>\n",
       "    <tr>\n",
       "      <th>Gibraltar</th>\n",
       "      <td>NaN</td>\n",
       "    </tr>\n",
       "    <tr>\n",
       "      <th>Lesotho</th>\n",
       "      <td>NaN</td>\n",
       "    </tr>\n",
       "    <tr>\n",
       "      <th>Guam</th>\n",
       "      <td>NaN</td>\n",
       "    </tr>\n",
       "    <tr>\n",
       "      <th>Botswana</th>\n",
       "      <td>NaN</td>\n",
       "    </tr>\n",
       "    <tr>\n",
       "      <th>Brunei</th>\n",
       "      <td>NaN</td>\n",
       "    </tr>\n",
       "    <tr>\n",
       "      <th>...</th>\n",
       "      <td>...</td>\n",
       "    </tr>\n",
       "    <tr>\n",
       "      <th>Tokelau</th>\n",
       "      <td>NaN</td>\n",
       "    </tr>\n",
       "    <tr>\n",
       "      <th>Tuvalu</th>\n",
       "      <td>NaN</td>\n",
       "    </tr>\n",
       "    <tr>\n",
       "      <th>U.S. Outlying Islands</th>\n",
       "      <td>NaN</td>\n",
       "    </tr>\n",
       "    <tr>\n",
       "      <th>Vatican City</th>\n",
       "      <td>NaN</td>\n",
       "    </tr>\n",
       "    <tr>\n",
       "      <th>Wallis &amp; Futuna</th>\n",
       "      <td>NaN</td>\n",
       "    </tr>\n",
       "  </tbody>\n",
       "</table>\n",
       "<p>250 rows × 1 columns</p>\n",
       "</div>"
      ],
      "text/plain": [
       "                       home_workout_2018_2023\n",
       "Country                                      \n",
       "Gibraltar                                 NaN\n",
       "Lesotho                                   NaN\n",
       "Guam                                      NaN\n",
       "Botswana                                  NaN\n",
       "Brunei                                    NaN\n",
       "...                                       ...\n",
       "Tokelau                                   NaN\n",
       "Tuvalu                                    NaN\n",
       "U.S. Outlying Islands                     NaN\n",
       "Vatican City                              NaN\n",
       "Wallis & Futuna                           NaN\n",
       "\n",
       "[250 rows x 1 columns]"
      ]
     },
     "execution_count": 23,
     "metadata": {},
     "output_type": "execute_result"
    }
   ],
   "source": [
    "three_keywords_clean = three_keywords_geo.drop(columns = [\"gym_workout_2018_2023\", \"home_gym_2018_2023\"])\n",
    "three_keywords_clean.set_index(\"Country\")"
   ]
  },
  {
   "cell_type": "code",
   "execution_count": 24,
   "id": "d1d70080-dd83-4a39-ad6f-f7b63dde03cd",
   "metadata": {
    "executionCancelledAt": null,
    "executionTime": 47,
    "lastExecutedAt": 1723267700479,
    "lastExecutedByKernel": "f569b950-a05e-4354-9a04-45fe8e477849",
    "lastScheduledRunId": null,
    "lastSuccessfullyExecutedCode": "three_keywords_clean_two = three_keywords_clean[three_keywords_clean[\"Country\"].isin([\"Philippines\", \"Malaysia\"])]\nthree_keywords_clean_two.set_index(\"Country\")",
    "outputsMetadata": {
     "0": {
      "height": 121,
      "type": "dataFrame"
     }
    }
   },
   "outputs": [
    {
     "data": {
      "application/vnd.microsoft.datawrangler.viewer.v0+json": {
       "columns": [
        {
         "name": "Country",
         "rawType": "object",
         "type": "string"
        },
        {
         "name": "home_workout_2018_2023",
         "rawType": "float64",
         "type": "float"
        }
       ],
       "conversionMethod": "pd.DataFrame",
       "ref": "2ab1002e-6bf7-48e0-bd4d-6ca13ce0f8be",
       "rows": [
        [
         "Philippines",
         "52.0"
        ],
        [
         "Malaysia",
         "47.0"
        ]
       ],
       "shape": {
        "columns": 1,
        "rows": 2
       }
      },
      "text/html": [
       "<div>\n",
       "<style scoped>\n",
       "    .dataframe tbody tr th:only-of-type {\n",
       "        vertical-align: middle;\n",
       "    }\n",
       "\n",
       "    .dataframe tbody tr th {\n",
       "        vertical-align: top;\n",
       "    }\n",
       "\n",
       "    .dataframe thead th {\n",
       "        text-align: right;\n",
       "    }\n",
       "</style>\n",
       "<table border=\"1\" class=\"dataframe\">\n",
       "  <thead>\n",
       "    <tr style=\"text-align: right;\">\n",
       "      <th></th>\n",
       "      <th>home_workout_2018_2023</th>\n",
       "    </tr>\n",
       "    <tr>\n",
       "      <th>Country</th>\n",
       "      <th></th>\n",
       "    </tr>\n",
       "  </thead>\n",
       "  <tbody>\n",
       "    <tr>\n",
       "      <th>Philippines</th>\n",
       "      <td>52.0</td>\n",
       "    </tr>\n",
       "    <tr>\n",
       "      <th>Malaysia</th>\n",
       "      <td>47.0</td>\n",
       "    </tr>\n",
       "  </tbody>\n",
       "</table>\n",
       "</div>"
      ],
      "text/plain": [
       "             home_workout_2018_2023\n",
       "Country                            \n",
       "Philippines                    52.0\n",
       "Malaysia                       47.0"
      ]
     },
     "execution_count": 24,
     "metadata": {},
     "output_type": "execute_result"
    }
   ],
   "source": [
    "three_keywords_clean_two = three_keywords_clean[three_keywords_clean[\"Country\"].isin([\"Philippines\", \"Malaysia\"])]\n",
    "three_keywords_clean_two.set_index(\"Country\")"
   ]
  },
  {
   "cell_type": "code",
   "execution_count": 25,
   "id": "34e20f48-2212-4a44-a11b-3e53ba2e2309",
   "metadata": {
    "executionCancelledAt": null,
    "executionTime": 52,
    "lastExecutedAt": 1723267700532,
    "lastExecutedByKernel": "f569b950-a05e-4354-9a04-45fe8e477849",
    "lastScheduledRunId": null,
    "lastSuccessfullyExecutedCode": "home_workout_geo_df = three_keywords_clean_two[three_keywords_clean_two[\"home_workout_2018_2023\"] == three_keywords_clean_two[\"home_workout_2018_2023\"].max()]\nhome_workout_geo_df[\"Country\"]",
    "outputsMetadata": {
     "0": {
      "height": 96,
      "type": "dataFrame"
     }
    }
   },
   "outputs": [
    {
     "data": {
      "text/plain": [
       "23    Philippines\n",
       "Name: Country, dtype: object"
      ]
     },
     "execution_count": 25,
     "metadata": {},
     "output_type": "execute_result"
    }
   ],
   "source": [
    "home_workout_geo_df = three_keywords_clean_two[three_keywords_clean_two[\"home_workout_2018_2023\"] == three_keywords_clean_two[\"home_workout_2018_2023\"].max()]\n",
    "home_workout_geo_df[\"Country\"]"
   ]
  },
  {
   "cell_type": "code",
   "execution_count": 26,
   "id": "a429a0e9-58f6-4383-8ff6-1a4e313c9511",
   "metadata": {
    "executionCancelledAt": null,
    "executionTime": 51,
    "lastExecutedAt": 1723267700583,
    "lastExecutedByKernel": "f569b950-a05e-4354-9a04-45fe8e477849",
    "lastScheduledRunId": null,
    "lastSuccessfullyExecutedCode": "home_workout_geo = \"Philippines\""
   },
   "outputs": [],
   "source": [
    "home_workout_geo = \"Philippines\""
   ]
  }
 ],
 "metadata": {
  "colab": {
   "name": "Welcome to DataCamp Workspaces.ipynb",
   "provenance": []
  },
  "editor": "DataLab",
  "kernelspec": {
   "display_name": "base",
   "language": "python",
   "name": "python3"
  },
  "language_info": {
   "codemirror_mode": {
    "name": "ipython",
    "version": 3
   },
   "file_extension": ".py",
   "mimetype": "text/x-python",
   "name": "python",
   "nbconvert_exporter": "python",
   "pygments_lexer": "ipython3",
   "version": "3.12.4"
  }
 },
 "nbformat": 4,
 "nbformat_minor": 5
}
