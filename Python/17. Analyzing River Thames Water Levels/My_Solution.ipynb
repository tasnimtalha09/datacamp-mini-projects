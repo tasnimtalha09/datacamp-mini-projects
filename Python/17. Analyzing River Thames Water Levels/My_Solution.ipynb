{
 "cells": [
  {
   "attachments": {},
   "cell_type": "markdown",
   "id": "35d4e17b-eeb6-40dd-a140-7b949390e115",
   "metadata": {
    "tags": []
   },
   "source": [
    "# Analyzing River Thames Water Levels\n",
    "Time series data is everywhere, from watching your stock portfolio to monitoring climate change, and even live-tracking as local cases of a virus become a global pandemic. In this project, you’ll work with a time series that tracks the tide levels of the Thames River. You’ll first load the data and inspect it data visually, and then perform calculations on the dataset to generate some summary statistics. You’ll end by reducing the time series to its component attributes and analyzing them. \n",
    "\n",
    "The original dataset is available from the British Oceanographic Data Center.\n",
    "\n",
    "Here's a map of the locations of the tidal meters along the River Thames in London.\n",
    "\n",
    "![](locations.png)\n",
    "\n",
    "The provided datasets are in the `data` folder in this workspace. For this project, you will work with one of these files, `10-11_London_Bridge.txt`, which contains comma separated values for water levels in the Thames River at the London Bridge. After you've finished the project, you can use your same code to analyze data from the other files (at other spots in the UK where tidal data is collected) if you'd like. \n",
    "\n",
    "The TXT file contains data for three variables, described in the table below. \n",
    "\n",
    "| Variable Name | Description | Format |\n",
    "| ------------- | ----------- | ------ |\n",
    "| Date and time | Date and time of measurement to GMT. Note the tide gauge is accurate to one minute. | dd/mm/yyyy hh:mm:ss |\n",
    "| Water level | High or low water level measured by tide meter. Tide gauges are accurate to 1 centimetre. | metres (Admiralty Chart Datum (CD), Ordnance Datum Newlyn (ODN or Trinity High Water (THW)) | \n",
    "| Flag | High water flag = 1, low water flag = 0 | Categorical (0 or 1) |\n",
    "\n"
   ]
  },
  {
   "cell_type": "code",
   "execution_count": 1,
   "id": "2ca4359b-3fb7-4cfc-8017-36f70e928fba",
   "metadata": {
    "executionCancelledAt": null,
    "executionTime": 12,
    "lastExecutedAt": 1729653482658,
    "lastExecutedByKernel": "47d6bbef-6342-4aee-9742-7b9be7f2f2c6",
    "lastScheduledRunId": null,
    "lastSuccessfullyExecutedCode": "# We've imported your first Python package for you, along with a function you will need called IQR\nimport pandas as pd               \n\ndef IQR(column): \n    \"\"\" Calculates the interquartile range (IQR) for a given DataFrame column using the quantile method \"\"\"\n    q25, q75 = column.quantile([0.25, 0.75])\n    return q75-q25\n\n# Begin coding here ..."
   },
   "outputs": [],
   "source": [
    "# We've imported your first Python package for you, along with a function you will need called IQR\n",
    "import pandas as pd               \n",
    "\n",
    "def IQR(column): \n",
    "    \"\"\" Calculates the interquartile range (IQR) for a given DataFrame column using the quantile method \"\"\"\n",
    "    q25, q75 = column.quantile([0.25, 0.75])\n",
    "    return q75-q25"
   ]
  },
  {
   "cell_type": "code",
   "execution_count": 2,
   "id": "ee274281-75d5-4774-a6d9-a0eea52b4357",
   "metadata": {
    "executionCancelledAt": null,
    "executionTime": 93,
    "lastExecutedAt": 1729653482751,
    "lastExecutedByKernel": "47d6bbef-6342-4aee-9742-7b9be7f2f2c6",
    "lastScheduledRunId": null,
    "lastSuccessfullyExecutedCode": "thames = pd.read_csv(\"data/10-11_London_Bridge.txt\")\nthames = thames.drop(columns = \" HW=1 or LW=0\")\nthames = thames.rename(columns = {\" water level (m ODN)\" : \"Water Level\", \" flag\" : \"Flag\"})\nthames.head()",
    "outputsMetadata": {
     "0": {
      "height": 222,
      "type": "dataFrame"
     }
    }
   },
   "outputs": [
    {
     "data": {
      "application/vnd.microsoft.datawrangler.viewer.v0+json": {
       "columns": [
        {
         "name": "index",
         "rawType": "int64",
         "type": "integer"
        },
        {
         "name": "Date and time",
         "rawType": "datetime64[ns]",
         "type": "datetime"
        },
        {
         "name": "Year",
         "rawType": "int32",
         "type": "integer"
        },
        {
         "name": "Month",
         "rawType": "int32",
         "type": "integer"
        },
        {
         "name": "Water Level",
         "rawType": "float64",
         "type": "float"
        },
        {
         "name": "Flag",
         "rawType": "object",
         "type": "string"
        }
       ],
       "conversionMethod": "pd.DataFrame",
       "ref": "f619b00d-a48a-4711-9d12-4b1c8ecb7b06",
       "rows": [
        [
         "0",
         "1911-05-01 15:40:00",
         "1911",
         "5",
         "3.713",
         "High"
        ],
        [
         "1",
         "1911-05-02 11:25:00",
         "1911",
         "5",
         "-2.9415",
         "Low"
        ],
        [
         "2",
         "1911-05-02 16:05:00",
         "1911",
         "5",
         "3.3828",
         "High"
        ],
        [
         "3",
         "1911-05-03 11:50:00",
         "1911",
         "5",
         "-2.6367",
         "Low"
        ],
        [
         "4",
         "1911-05-03 16:55:00",
         "1911",
         "5",
         "2.9256",
         "High"
        ]
       ],
       "shape": {
        "columns": 5,
        "rows": 5
       }
      },
      "text/html": [
       "<div>\n",
       "<style scoped>\n",
       "    .dataframe tbody tr th:only-of-type {\n",
       "        vertical-align: middle;\n",
       "    }\n",
       "\n",
       "    .dataframe tbody tr th {\n",
       "        vertical-align: top;\n",
       "    }\n",
       "\n",
       "    .dataframe thead th {\n",
       "        text-align: right;\n",
       "    }\n",
       "</style>\n",
       "<table border=\"1\" class=\"dataframe\">\n",
       "  <thead>\n",
       "    <tr style=\"text-align: right;\">\n",
       "      <th></th>\n",
       "      <th>Date and time</th>\n",
       "      <th>Year</th>\n",
       "      <th>Month</th>\n",
       "      <th>Water Level</th>\n",
       "      <th>Flag</th>\n",
       "    </tr>\n",
       "  </thead>\n",
       "  <tbody>\n",
       "    <tr>\n",
       "      <th>0</th>\n",
       "      <td>1911-05-01 15:40:00</td>\n",
       "      <td>1911</td>\n",
       "      <td>5</td>\n",
       "      <td>3.7130</td>\n",
       "      <td>High</td>\n",
       "    </tr>\n",
       "    <tr>\n",
       "      <th>1</th>\n",
       "      <td>1911-05-02 11:25:00</td>\n",
       "      <td>1911</td>\n",
       "      <td>5</td>\n",
       "      <td>-2.9415</td>\n",
       "      <td>Low</td>\n",
       "    </tr>\n",
       "    <tr>\n",
       "      <th>2</th>\n",
       "      <td>1911-05-02 16:05:00</td>\n",
       "      <td>1911</td>\n",
       "      <td>5</td>\n",
       "      <td>3.3828</td>\n",
       "      <td>High</td>\n",
       "    </tr>\n",
       "    <tr>\n",
       "      <th>3</th>\n",
       "      <td>1911-05-03 11:50:00</td>\n",
       "      <td>1911</td>\n",
       "      <td>5</td>\n",
       "      <td>-2.6367</td>\n",
       "      <td>Low</td>\n",
       "    </tr>\n",
       "    <tr>\n",
       "      <th>4</th>\n",
       "      <td>1911-05-03 16:55:00</td>\n",
       "      <td>1911</td>\n",
       "      <td>5</td>\n",
       "      <td>2.9256</td>\n",
       "      <td>High</td>\n",
       "    </tr>\n",
       "  </tbody>\n",
       "</table>\n",
       "</div>"
      ],
      "text/plain": [
       "        Date and time  Year  Month  Water Level  Flag\n",
       "0 1911-05-01 15:40:00  1911      5       3.7130  High\n",
       "1 1911-05-02 11:25:00  1911      5      -2.9415   Low\n",
       "2 1911-05-02 16:05:00  1911      5       3.3828  High\n",
       "3 1911-05-03 11:50:00  1911      5      -2.6367   Low\n",
       "4 1911-05-03 16:55:00  1911      5       2.9256  High"
      ]
     },
     "execution_count": 2,
     "metadata": {},
     "output_type": "execute_result"
    }
   ],
   "source": [
    "thames = pd.read_csv(\"data/10-11_London_Bridge.txt\")\n",
    "\n",
    "thames = thames.drop(columns = \" HW=1 or LW=0\")\n",
    "thames = thames.rename(columns = {\" water level (m ODN)\" : \"Water Level\", \" flag\" : \"Flag\"})\n",
    "\n",
    "thames[\"Date and time\"] = pd.to_datetime(thames[\"Date and time\"], dayfirst = True)\n",
    "thames[\"Month\"] = thames[\"Date and time\"].dt.month\n",
    "thames[\"Year\"] = thames[\"Date and time\"].dt.year\n",
    "\n",
    "thames[\"Water Level\"] = thames[\"Water Level\"].astype(float)\n",
    "\n",
    "thames[\"Flag\"] = thames[\"Flag\"].replace({1 : \"High\", 0 : \"Low\"})\n",
    "\n",
    "thames = thames[[\"Date and time\", \"Year\", \"Month\", \"Water Level\", \"Flag\"]]\n",
    "thames.head()"
   ]
  },
  {
   "cell_type": "code",
   "execution_count": 8,
   "id": "f126d7f0-833a-414b-a636-370a6c30865f",
   "metadata": {
    "executionCancelledAt": null,
    "executionTime": 39,
    "lastExecutedAt": 1729653573858,
    "lastExecutedByKernel": "47d6bbef-6342-4aee-9742-7b9be7f2f2c6",
    "lastScheduledRunId": null,
    "lastSuccessfullyExecutedCode": "high = thames[thames[\"Flag\"] == \"High\"]\nhigh_tide = high.groupby(\"Flag\").agg({\"Water Level\" : [\"mean\", \"median\", IQR]})\nhigh_tide",
    "outputsMetadata": {
     "0": {
      "height": 543,
      "type": "dataFrame"
     }
    }
   },
   "outputs": [
    {
     "data": {
      "application/vnd.microsoft.datawrangler.viewer.v0+json": {
       "columns": [
        {
         "name": "Flag",
         "rawType": "object",
         "type": "string"
        },
        {
         "name": "('Water Level', 'mean')",
         "rawType": "float64",
         "type": "float"
        },
        {
         "name": "('Water Level', 'median')",
         "rawType": "float64",
         "type": "float"
        },
        {
         "name": "('Water Level', 'IQR')",
         "rawType": "float64",
         "type": "float"
        }
       ],
       "conversionMethod": "pd.DataFrame",
       "ref": "fc2de3fa-26da-4892-a085-8c219402673e",
       "rows": [
        [
         "High",
         "3.3183726156555977",
         "3.3526",
         "0.7436000000000003"
        ]
       ],
       "shape": {
        "columns": 3,
        "rows": 1
       }
      },
      "text/html": [
       "<div>\n",
       "<style scoped>\n",
       "    .dataframe tbody tr th:only-of-type {\n",
       "        vertical-align: middle;\n",
       "    }\n",
       "\n",
       "    .dataframe tbody tr th {\n",
       "        vertical-align: top;\n",
       "    }\n",
       "\n",
       "    .dataframe thead tr th {\n",
       "        text-align: left;\n",
       "    }\n",
       "\n",
       "    .dataframe thead tr:last-of-type th {\n",
       "        text-align: right;\n",
       "    }\n",
       "</style>\n",
       "<table border=\"1\" class=\"dataframe\">\n",
       "  <thead>\n",
       "    <tr>\n",
       "      <th></th>\n",
       "      <th colspan=\"3\" halign=\"left\">Water Level</th>\n",
       "    </tr>\n",
       "    <tr>\n",
       "      <th></th>\n",
       "      <th>mean</th>\n",
       "      <th>median</th>\n",
       "      <th>IQR</th>\n",
       "    </tr>\n",
       "    <tr>\n",
       "      <th>Flag</th>\n",
       "      <th></th>\n",
       "      <th></th>\n",
       "      <th></th>\n",
       "    </tr>\n",
       "  </thead>\n",
       "  <tbody>\n",
       "    <tr>\n",
       "      <th>High</th>\n",
       "      <td>3.318373</td>\n",
       "      <td>3.3526</td>\n",
       "      <td>0.7436</td>\n",
       "    </tr>\n",
       "  </tbody>\n",
       "</table>\n",
       "</div>"
      ],
      "text/plain": [
       "     Water Level                \n",
       "            mean  median     IQR\n",
       "Flag                            \n",
       "High    3.318373  3.3526  0.7436"
      ]
     },
     "metadata": {},
     "output_type": "display_data"
    },
    {
     "data": {
      "application/vnd.microsoft.datawrangler.viewer.v0+json": {
       "columns": [
        {
         "name": "Flag",
         "rawType": "object",
         "type": "string"
        },
        {
         "name": "('Water Level', 'mean')",
         "rawType": "float64",
         "type": "float"
        },
        {
         "name": "('Water Level', 'median')",
         "rawType": "float64",
         "type": "float"
        },
        {
         "name": "('Water Level', 'IQR')",
         "rawType": "float64",
         "type": "float"
        }
       ],
       "conversionMethod": "pd.DataFrame",
       "ref": "fa890bf0-c692-4679-a706-1d01f28d5eab",
       "rows": [
        [
         "Low",
         "-2.3837365821465784",
         "-2.4129",
         "0.5382000000000002"
        ]
       ],
       "shape": {
        "columns": 3,
        "rows": 1
       }
      },
      "text/html": [
       "<div>\n",
       "<style scoped>\n",
       "    .dataframe tbody tr th:only-of-type {\n",
       "        vertical-align: middle;\n",
       "    }\n",
       "\n",
       "    .dataframe tbody tr th {\n",
       "        vertical-align: top;\n",
       "    }\n",
       "\n",
       "    .dataframe thead tr th {\n",
       "        text-align: left;\n",
       "    }\n",
       "\n",
       "    .dataframe thead tr:last-of-type th {\n",
       "        text-align: right;\n",
       "    }\n",
       "</style>\n",
       "<table border=\"1\" class=\"dataframe\">\n",
       "  <thead>\n",
       "    <tr>\n",
       "      <th></th>\n",
       "      <th colspan=\"3\" halign=\"left\">Water Level</th>\n",
       "    </tr>\n",
       "    <tr>\n",
       "      <th></th>\n",
       "      <th>mean</th>\n",
       "      <th>median</th>\n",
       "      <th>IQR</th>\n",
       "    </tr>\n",
       "    <tr>\n",
       "      <th>Flag</th>\n",
       "      <th></th>\n",
       "      <th></th>\n",
       "      <th></th>\n",
       "    </tr>\n",
       "  </thead>\n",
       "  <tbody>\n",
       "    <tr>\n",
       "      <th>Low</th>\n",
       "      <td>-2.383737</td>\n",
       "      <td>-2.4129</td>\n",
       "      <td>0.5382</td>\n",
       "    </tr>\n",
       "  </tbody>\n",
       "</table>\n",
       "</div>"
      ],
      "text/plain": [
       "     Water Level                \n",
       "            mean  median     IQR\n",
       "Flag                            \n",
       "Low    -2.383737 -2.4129  0.5382"
      ]
     },
     "metadata": {},
     "output_type": "display_data"
    }
   ],
   "source": [
    "high = thames[thames[\"Flag\"] == \"High\"]\n",
    "high_statistics = high.groupby(\"Flag\").agg({\"Water Level\" : [\"mean\", \"median\", IQR]})\n",
    "\n",
    "low = thames[thames[\"Flag\"] == \"Low\"]\n",
    "low_statistics = low.groupby(\"Flag\").agg({\"Water Level\" : [\"mean\", \"median\", IQR]})\n",
    "\n",
    "display(high_statistics)\n",
    "display(low_statistics)"
   ]
  },
  {
   "cell_type": "code",
   "execution_count": 4,
   "id": "70606826",
   "metadata": {},
   "outputs": [],
   "source": [
    "high_tide_days = thames[thames[\"Flag\"] == \"High\"]\n",
    "low_tide_days = thames[thames[\"Flag\"] == \"Low\"]"
   ]
  },
  {
   "cell_type": "code",
   "execution_count": 5,
   "id": "9b584a8e",
   "metadata": {},
   "outputs": [
    {
     "data": {
      "application/vnd.microsoft.datawrangler.viewer.v0+json": {
       "columns": [
        {
         "name": "index",
         "rawType": "int64",
         "type": "integer"
        },
        {
         "name": "Year",
         "rawType": "int32",
         "type": "integer"
        },
        {
         "name": "Water Level",
         "rawType": "float64",
         "type": "float"
        }
       ],
       "conversionMethod": "pd.DataFrame",
       "ref": "83d9a59d-9ed1-46da-9917-7ae5d4708260",
       "rows": [
        [
         "0",
         "1911",
         "0.004098360655737705"
        ],
        [
         "1",
         "1912",
         "0.03231597845601436"
        ],
        [
         "2",
         "1913",
         "0.08221225710014948"
        ],
        [
         "3",
         "1914",
         "0.055312954876273655"
        ],
        [
         "4",
         "1915",
         "0.04504504504504504"
        ],
        [
         "5",
         "1916",
         "0.11160058737151249"
        ],
        [
         "6",
         "1917",
         "0.08454810495626822"
        ],
        [
         "7",
         "1918",
         "0.052083333333333336"
        ],
        [
         "8",
         "1919",
         "0.07964601769911504"
        ],
        [
         "9",
         "1920",
         "0.04100946372239748"
        ],
        [
         "10",
         "1921",
         "0.04588607594936709"
        ],
        [
         "11",
         "1922",
         "0.06116642958748222"
        ],
        [
         "12",
         "1923",
         "0.05660377358490566"
        ],
        [
         "13",
         "1924",
         "0.07623318385650224"
        ],
        [
         "14",
         "1925",
         "0.03687943262411347"
        ],
        [
         "15",
         "1926",
         "0.07736389684813753"
        ],
        [
         "16",
         "1927",
         "0.07692307692307693"
        ],
        [
         "17",
         "1928",
         "0.07244318181818182"
        ],
        [
         "18",
         "1929",
         "0.0456490727532097"
        ],
        [
         "19",
         "1930",
         "0.05673758865248227"
        ],
        [
         "20",
         "1931",
         "0.0625"
        ],
        [
         "21",
         "1932",
         "0.04113475177304964"
        ],
        [
         "22",
         "1933",
         "0.031205673758865248"
        ],
        [
         "23",
         "1934",
         "0.014164305949008499"
        ],
        [
         "24",
         "1935",
         "0.04397163120567376"
        ],
        [
         "25",
         "1936",
         "0.08628005657708628"
        ],
        [
         "26",
         "1937",
         "0.09787234042553192"
        ],
        [
         "27",
         "1938",
         "0.04964539007092199"
        ],
        [
         "28",
         "1939",
         "0.0950354609929078"
        ],
        [
         "29",
         "1940",
         "0.0708215297450425"
        ],
        [
         "30",
         "1941",
         "0.06045751633986928"
        ],
        [
         "31",
         "1942",
         "0.032857142857142856"
        ],
        [
         "32",
         "1943",
         "0.05164992826398852"
        ],
        [
         "33",
         "1944",
         "0.0420899854862119"
        ],
        [
         "34",
         "1945",
         "0.05370101596516691"
        ],
        [
         "35",
         "1946",
         "0.08062015503875969"
        ],
        [
         "36",
         "1947",
         "0.0713224368499257"
        ],
        [
         "37",
         "1948",
         "0.05564648117839607"
        ],
        [
         "38",
         "1949",
         "0.06836248012718601"
        ],
        [
         "39",
         "1950",
         "0.059506531204644414"
        ],
        [
         "40",
         "1951",
         "0.0830945558739255"
        ],
        [
         "41",
         "1952",
         "0.09232954545454546"
        ],
        [
         "42",
         "1953",
         "0.10556348074179743"
        ],
        [
         "43",
         "1954",
         "0.09401709401709402"
        ],
        [
         "44",
         "1955",
         "0.10798816568047337"
        ],
        [
         "45",
         "1956",
         "0.07637906647807638"
        ],
        [
         "46",
         "1957",
         "0.10076335877862595"
        ],
        [
         "47",
         "1958",
         "0.16458333333333333"
        ],
        [
         "48",
         "1959",
         "0.11224489795918367"
        ],
        [
         "49",
         "1960",
         "0.21104815864022664"
        ]
       ],
       "shape": {
        "columns": 2,
        "rows": 85
       }
      },
      "text/html": [
       "<div>\n",
       "<style scoped>\n",
       "    .dataframe tbody tr th:only-of-type {\n",
       "        vertical-align: middle;\n",
       "    }\n",
       "\n",
       "    .dataframe tbody tr th {\n",
       "        vertical-align: top;\n",
       "    }\n",
       "\n",
       "    .dataframe thead th {\n",
       "        text-align: right;\n",
       "    }\n",
       "</style>\n",
       "<table border=\"1\" class=\"dataframe\">\n",
       "  <thead>\n",
       "    <tr style=\"text-align: right;\">\n",
       "      <th></th>\n",
       "      <th>Year</th>\n",
       "      <th>Water Level</th>\n",
       "    </tr>\n",
       "  </thead>\n",
       "  <tbody>\n",
       "    <tr>\n",
       "      <th>0</th>\n",
       "      <td>1911</td>\n",
       "      <td>0.004098</td>\n",
       "    </tr>\n",
       "    <tr>\n",
       "      <th>1</th>\n",
       "      <td>1912</td>\n",
       "      <td>0.032316</td>\n",
       "    </tr>\n",
       "    <tr>\n",
       "      <th>2</th>\n",
       "      <td>1913</td>\n",
       "      <td>0.082212</td>\n",
       "    </tr>\n",
       "    <tr>\n",
       "      <th>3</th>\n",
       "      <td>1914</td>\n",
       "      <td>0.055313</td>\n",
       "    </tr>\n",
       "    <tr>\n",
       "      <th>4</th>\n",
       "      <td>1915</td>\n",
       "      <td>0.045045</td>\n",
       "    </tr>\n",
       "    <tr>\n",
       "      <th>...</th>\n",
       "      <td>...</td>\n",
       "      <td>...</td>\n",
       "    </tr>\n",
       "    <tr>\n",
       "      <th>80</th>\n",
       "      <td>1991</td>\n",
       "      <td>0.096317</td>\n",
       "    </tr>\n",
       "    <tr>\n",
       "      <th>81</th>\n",
       "      <td>1992</td>\n",
       "      <td>0.103253</td>\n",
       "    </tr>\n",
       "    <tr>\n",
       "      <th>82</th>\n",
       "      <td>1993</td>\n",
       "      <td>0.145923</td>\n",
       "    </tr>\n",
       "    <tr>\n",
       "      <th>83</th>\n",
       "      <td>1994</td>\n",
       "      <td>0.150355</td>\n",
       "    </tr>\n",
       "    <tr>\n",
       "      <th>84</th>\n",
       "      <td>1995</td>\n",
       "      <td>0.170213</td>\n",
       "    </tr>\n",
       "  </tbody>\n",
       "</table>\n",
       "<p>85 rows × 2 columns</p>\n",
       "</div>"
      ],
      "text/plain": [
       "    Year  Water Level\n",
       "0   1911     0.004098\n",
       "1   1912     0.032316\n",
       "2   1913     0.082212\n",
       "3   1914     0.055313\n",
       "4   1915     0.045045\n",
       "..   ...          ...\n",
       "80  1991     0.096317\n",
       "81  1992     0.103253\n",
       "82  1993     0.145923\n",
       "83  1994     0.150355\n",
       "84  1995     0.170213\n",
       "\n",
       "[85 rows x 2 columns]"
      ]
     },
     "execution_count": 5,
     "metadata": {},
     "output_type": "execute_result"
    }
   ],
   "source": [
    "all_high = high_tide_days.groupby(\"Year\")[\"Water Level\"].count()\n",
    "very_high_days = high_tide_days[high_tide_days[\"Water Level\"] > high_tide_days[\"Water Level\"].quantile(0.9)].groupby(\"Year\")[\"Water Level\"].count()\n",
    "very_high_ratio = (very_high_days / all_high).reset_index()\n",
    "very_high_ratio"
   ]
  },
  {
   "cell_type": "code",
   "execution_count": 6,
   "id": "3d6c4b2e",
   "metadata": {},
   "outputs": [
    {
     "data": {
      "application/vnd.microsoft.datawrangler.viewer.v0+json": {
       "columns": [
        {
         "name": "index",
         "rawType": "int64",
         "type": "integer"
        },
        {
         "name": "Year",
         "rawType": "int32",
         "type": "integer"
        },
        {
         "name": "Water Level",
         "rawType": "float64",
         "type": "float"
        }
       ],
       "conversionMethod": "pd.DataFrame",
       "ref": "a53fd35f-b8af-4a84-9d48-b76698141cc0",
       "rows": [
        [
         "0",
         "1911",
         "0.06060606060606061"
        ],
        [
         "1",
         "1912",
         "0.06666666666666667"
        ],
        [
         "2",
         "1913",
         "0.022388059701492536"
        ],
        [
         "3",
         "1914",
         "0.03901734104046243"
        ],
        [
         "4",
         "1915",
         "0.03343465045592705"
        ],
        [
         "5",
         "1916",
         "0.05278592375366569"
        ],
        [
         "6",
         "1917",
         "0.04927536231884058"
        ],
        [
         "7",
         "1918",
         "0.08643815201192251"
        ],
        [
         "8",
         "1919",
         "0.045925925925925926"
        ],
        [
         "9",
         "1920",
         "0.08056872037914692"
        ],
        [
         "10",
         "1921",
         "0.10584518167456557"
        ],
        [
         "11",
         "1922",
         "0.09843081312410841"
        ],
        [
         "12",
         "1923",
         "0.09473684210526316"
        ],
        [
         "13",
         "1924",
         "0.05052005943536404"
        ],
        [
         "14",
         "1925",
         "0.08356940509915015"
        ],
        [
         "15",
         "1926",
         "0.08802308802308802"
        ],
        [
         "16",
         "1927",
         "0.045779685264663805"
        ],
        [
         "17",
         "1928",
         "0.08857142857142856"
        ],
        [
         "18",
         "1929",
         "0.17663817663817663"
        ],
        [
         "19",
         "1930",
         "0.07264957264957266"
        ],
        [
         "20",
         "1931",
         "0.07296137339055794"
        ],
        [
         "21",
         "1932",
         "0.09873060648801128"
        ],
        [
         "22",
         "1933",
         "0.09375"
        ],
        [
         "23",
         "1934",
         "0.14630681818181818"
        ],
        [
         "24",
         "1935",
         "0.14387464387464388"
        ],
        [
         "25",
         "1936",
         "0.09361702127659574"
        ],
        [
         "26",
         "1937",
         "0.06125356125356125"
        ],
        [
         "27",
         "1938",
         "0.16335227272727273"
        ],
        [
         "28",
         "1939",
         "0.08096590909090909"
        ],
        [
         "29",
         "1940",
         "0.11505681818181818"
        ],
        [
         "30",
         "1941",
         "0.10457516339869281"
        ],
        [
         "31",
         "1942",
         "0.12446351931330472"
        ],
        [
         "32",
         "1943",
         "0.15086206896551724"
        ],
        [
         "33",
         "1944",
         "0.17971014492753623"
        ],
        [
         "34",
         "1945",
         "0.14847161572052403"
        ],
        [
         "35",
         "1946",
         "0.11975116640746501"
        ],
        [
         "36",
         "1947",
         "0.06537890044576523"
        ],
        [
         "37",
         "1948",
         "0.10766721044045677"
        ],
        [
         "38",
         "1949",
         "0.1392"
        ],
        [
         "39",
         "1950",
         "0.09606986899563319"
        ],
        [
         "40",
         "1951",
         "0.04297994269340974"
        ],
        [
         "41",
         "1952",
         "0.08701854493580599"
        ],
        [
         "42",
         "1953",
         "0.13486370157819225"
        ],
        [
         "43",
         "1954",
         "0.12949640287769784"
        ],
        [
         "44",
         "1955",
         "0.10946745562130178"
        ],
        [
         "45",
         "1956",
         "0.10556348074179743"
        ],
        [
         "46",
         "1957",
         "0.1111111111111111"
        ],
        [
         "47",
         "1958",
         "0.08"
        ],
        [
         "48",
         "1959",
         "0.09649122807017543"
        ],
        [
         "49",
         "1960",
         "0.07365439093484419"
        ]
       ],
       "shape": {
        "columns": 2,
        "rows": 85
       }
      },
      "text/html": [
       "<div>\n",
       "<style scoped>\n",
       "    .dataframe tbody tr th:only-of-type {\n",
       "        vertical-align: middle;\n",
       "    }\n",
       "\n",
       "    .dataframe tbody tr th {\n",
       "        vertical-align: top;\n",
       "    }\n",
       "\n",
       "    .dataframe thead th {\n",
       "        text-align: right;\n",
       "    }\n",
       "</style>\n",
       "<table border=\"1\" class=\"dataframe\">\n",
       "  <thead>\n",
       "    <tr style=\"text-align: right;\">\n",
       "      <th></th>\n",
       "      <th>Year</th>\n",
       "      <th>Water Level</th>\n",
       "    </tr>\n",
       "  </thead>\n",
       "  <tbody>\n",
       "    <tr>\n",
       "      <th>0</th>\n",
       "      <td>1911</td>\n",
       "      <td>0.060606</td>\n",
       "    </tr>\n",
       "    <tr>\n",
       "      <th>1</th>\n",
       "      <td>1912</td>\n",
       "      <td>0.066667</td>\n",
       "    </tr>\n",
       "    <tr>\n",
       "      <th>2</th>\n",
       "      <td>1913</td>\n",
       "      <td>0.022388</td>\n",
       "    </tr>\n",
       "    <tr>\n",
       "      <th>3</th>\n",
       "      <td>1914</td>\n",
       "      <td>0.039017</td>\n",
       "    </tr>\n",
       "    <tr>\n",
       "      <th>4</th>\n",
       "      <td>1915</td>\n",
       "      <td>0.033435</td>\n",
       "    </tr>\n",
       "    <tr>\n",
       "      <th>...</th>\n",
       "      <td>...</td>\n",
       "      <td>...</td>\n",
       "    </tr>\n",
       "    <tr>\n",
       "      <th>80</th>\n",
       "      <td>1991</td>\n",
       "      <td>0.150355</td>\n",
       "    </tr>\n",
       "    <tr>\n",
       "      <th>81</th>\n",
       "      <td>1992</td>\n",
       "      <td>0.107496</td>\n",
       "    </tr>\n",
       "    <tr>\n",
       "      <th>82</th>\n",
       "      <td>1993</td>\n",
       "      <td>0.112696</td>\n",
       "    </tr>\n",
       "    <tr>\n",
       "      <th>83</th>\n",
       "      <td>1994</td>\n",
       "      <td>0.106383</td>\n",
       "    </tr>\n",
       "    <tr>\n",
       "      <th>84</th>\n",
       "      <td>1995</td>\n",
       "      <td>0.107801</td>\n",
       "    </tr>\n",
       "  </tbody>\n",
       "</table>\n",
       "<p>85 rows × 2 columns</p>\n",
       "</div>"
      ],
      "text/plain": [
       "    Year  Water Level\n",
       "0   1911     0.060606\n",
       "1   1912     0.066667\n",
       "2   1913     0.022388\n",
       "3   1914     0.039017\n",
       "4   1915     0.033435\n",
       "..   ...          ...\n",
       "80  1991     0.150355\n",
       "81  1992     0.107496\n",
       "82  1993     0.112696\n",
       "83  1994     0.106383\n",
       "84  1995     0.107801\n",
       "\n",
       "[85 rows x 2 columns]"
      ]
     },
     "execution_count": 6,
     "metadata": {},
     "output_type": "execute_result"
    }
   ],
   "source": [
    "all_low = low_tide_days.groupby(\"Year\")[\"Water Level\"].count()\n",
    "very_high_days = low_tide_days[low_tide_days[\"Water Level\"] < low_tide_days[\"Water Level\"].quantile(0.1)].groupby(\"Year\")[\"Water Level\"].count()\n",
    "very_low_ratio = (very_high_days / all_low).reset_index()\n",
    "very_low_ratio"
   ]
  },
  {
   "cell_type": "code",
   "execution_count": null,
   "id": "4d7eb5b7",
   "metadata": {},
   "outputs": [
    {
     "data": {
      "text/plain": [
       "{'high_statistics':      Water Level                \n",
       "             mean  median     IQR\n",
       " Flag                            \n",
       " High    3.318373  3.3526  0.7436,\n",
       " 'low_statistics':      Water Level                \n",
       "             mean  median     IQR\n",
       " Flag                            \n",
       " Low    -2.383737 -2.4129  0.5382,\n",
       " 'very_high_ratio':     Year  Water Level\n",
       " 0   1911     0.004098\n",
       " 1   1912     0.032316\n",
       " 2   1913     0.082212\n",
       " 3   1914     0.055313\n",
       " 4   1915     0.045045\n",
       " ..   ...          ...\n",
       " 80  1991     0.096317\n",
       " 81  1992     0.103253\n",
       " 82  1993     0.145923\n",
       " 83  1994     0.150355\n",
       " 84  1995     0.170213\n",
       " \n",
       " [85 rows x 2 columns],\n",
       " 'very_low_ratio':     Year  Water Level\n",
       " 0   1911     0.060606\n",
       " 1   1912     0.066667\n",
       " 2   1913     0.022388\n",
       " 3   1914     0.039017\n",
       " 4   1915     0.033435\n",
       " ..   ...          ...\n",
       " 80  1991     0.150355\n",
       " 81  1992     0.107496\n",
       " 82  1993     0.112696\n",
       " 83  1994     0.106383\n",
       " 84  1995     0.107801\n",
       " \n",
       " [85 rows x 2 columns]}"
      ]
     },
     "execution_count": 10,
     "metadata": {},
     "output_type": "execute_result"
    }
   ],
   "source": [
    "solution = {\"high_statistics\": high_statistics, \n",
    "            \"low_statistics\": low_statistics, \n",
    "            \"very_high_ratio\": very_high_ratio, \n",
    "            \"very_low_ratio\": very_low_ratio}\n",
    "solution"
   ]
  }
 ],
 "metadata": {
  "editor": "DataCamp Workspace",
  "kernelspec": {
   "display_name": "base",
   "language": "python",
   "name": "python3"
  },
  "language_info": {
   "codemirror_mode": {
    "name": "ipython",
    "version": 3
   },
   "file_extension": ".py",
   "mimetype": "text/x-python",
   "name": "python",
   "nbconvert_exporter": "python",
   "pygments_lexer": "ipython3",
   "version": "3.12.4"
  }
 },
 "nbformat": 4,
 "nbformat_minor": 5
}
