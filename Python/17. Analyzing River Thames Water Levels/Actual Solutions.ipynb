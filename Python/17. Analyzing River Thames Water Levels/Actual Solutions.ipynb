{
 "cells": [
  {
   "cell_type": "code",
   "execution_count": 1,
   "metadata": {},
   "outputs": [],
   "source": [
    "# Package imports\n",
    "import pandas as pd                \n",
    "\n",
    "def IQR(column): \n",
    "    q25, q75 = column.quantile([0.25, 0.75])\n",
    "    return q75-q25"
   ]
  },
  {
   "cell_type": "code",
   "execution_count": 2,
   "metadata": {},
   "outputs": [],
   "source": [
    "# Load the data from London Bridge\n",
    "lb = pd.read_csv('data/10-11_London_Bridge.txt') # Comma-separated .txt file"
   ]
  },
  {
   "cell_type": "code",
   "execution_count": 22,
   "metadata": {},
   "outputs": [
    {
     "data": {
      "text/plain": [
       "mean      3.318373\n",
       "median    3.352600\n",
       "IQR       0.743600\n",
       "Name: water_level, dtype: float64"
      ]
     },
     "execution_count": 22,
     "metadata": {},
     "output_type": "execute_result"
    }
   ],
   "source": [
    "# Take only the first three columns\n",
    "df = lb.iloc[:, :3]\n",
    "\n",
    "# Rename columns\n",
    "df.columns = ['datetime', 'water_level', 'is_high_tide']\n",
    "\n",
    "# Convert to datetime with dayfirst=True\n",
    "df['datetime'] = pd.to_datetime(df['datetime'], dayfirst = True)\n",
    "\n",
    "# Convert to float\n",
    "df['water_level'] = df.water_level.astype(float)\n",
    "\n",
    "# Create extra month and year columns for easy access\n",
    "df['month'] = df['datetime'].dt.month\n",
    "df['year'] = df['datetime'].dt.year\n",
    "\n",
    "# Filter df for high and low tide\n",
    "tide_high = df[df['is_high_tide'] == 1]\n",
    "tide_low = df[df['is_high_tide'] == 0]\n",
    "\n",
    "# Create summary statistics\n",
    "high_statistics = tide_high['water_level'].agg(['mean', 'median', IQR])\n",
    "low_statistics = tide_low['water_level'].agg(['mean', 'median', IQR])\n",
    "\n",
    "high_statistics"
   ]
  },
  {
   "cell_type": "code",
   "execution_count": 19,
   "metadata": {},
   "outputs": [
    {
     "name": "stdout",
     "output_type": "stream",
     "text": [
      "    year  water_level\n",
      "0   1911     0.004098\n",
      "1   1912     0.032316\n",
      "2   1913     0.082212\n",
      "3   1914     0.055313\n",
      "4   1915     0.045045\n",
      "..   ...          ...\n",
      "80  1991     0.096317\n",
      "81  1992     0.103253\n",
      "82  1993     0.145923\n",
      "83  1994     0.150355\n",
      "84  1995     0.170213\n",
      "\n",
      "[85 rows x 2 columns]\n",
      "    year  water_level\n",
      "0   1911     0.060606\n",
      "1   1912     0.066667\n",
      "2   1913     0.022388\n",
      "3   1914     0.039017\n",
      "4   1915     0.033435\n",
      "..   ...          ...\n",
      "80  1991     0.150355\n",
      "81  1992     0.107496\n",
      "82  1993     0.112696\n",
      "83  1994     0.106383\n",
      "84  1995     0.107801\n",
      "\n",
      "[85 rows x 2 columns]\n"
     ]
    }
   ],
   "source": [
    "# Calculate ratio of high tide days\n",
    "all_high_days = tide_high.groupby('year')['water_level'].count()\n",
    "very_high_days = tide_high[tide_high['water_level'] > tide_high['water_level'].quantile(0.90)].groupby('year')['water_level'].count()\n",
    "very_high_ratio = (very_high_days/all_high_days).reset_index()\n",
    "\n",
    "print(very_high_ratio)\n",
    "print(very_low_ratio)"
   ]
  },
  {
   "cell_type": "code",
   "execution_count": 13,
   "metadata": {},
   "outputs": [
    {
     "name": "stdout",
     "output_type": "stream",
     "text": [
      "{'high_statistics': mean      3.318373\n",
      "median    3.352600\n",
      "IQR       0.743600\n",
      "Name: water_level, dtype: float64, 'low_statistics': mean     -2.383737\n",
      "median   -2.412900\n",
      "IQR       0.538200\n",
      "Name: water_level, dtype: float64, 'very_high_ratio':     year  water_level\n",
      "0   1911     0.004098\n",
      "1   1912     0.032316\n",
      "2   1913     0.082212\n",
      "3   1914     0.055313\n",
      "4   1915     0.045045\n",
      "..   ...          ...\n",
      "80  1991     0.096317\n",
      "81  1992     0.103253\n",
      "82  1993     0.145923\n",
      "83  1994     0.150355\n",
      "84  1995     0.170213\n",
      "\n",
      "[85 rows x 2 columns], 'very_low_ratio':     year  water_level\n",
      "0   1911     0.060606\n",
      "1   1912     0.066667\n",
      "2   1913     0.022388\n",
      "3   1914     0.039017\n",
      "4   1915     0.033435\n",
      "..   ...          ...\n",
      "80  1991     0.150355\n",
      "81  1992     0.107496\n",
      "82  1993     0.112696\n",
      "83  1994     0.106383\n",
      "84  1995     0.107801\n",
      "\n",
      "[85 rows x 2 columns]}\n"
     ]
    }
   ],
   "source": [
    "# Calculate ratio of low tide days\n",
    "all_low_days = tide_low.groupby('year')['water_level'].count()\n",
    "very_low_days = tide_low[tide_low['water_level'] < tide_low['water_level'].quantile(0.10)].groupby('year')['water_level'].count()\n",
    "very_low_ratio = (very_low_days/all_low_days).reset_index()\n",
    "\n",
    "solution = {'high_statistics': high_statistics, 'low_statistics': low_statistics, 'very_high_ratio': very_high_ratio, 'very_low_ratio':very_low_ratio}\n",
    "print(solution)"
   ]
  }
 ],
 "metadata": {
  "kernelspec": {
   "display_name": "Python 3",
   "language": "python",
   "name": "python3"
  },
  "language_info": {
   "codemirror_mode": {
    "name": "ipython",
    "version": 3
   },
   "file_extension": ".py",
   "mimetype": "text/x-python",
   "name": "python",
   "nbconvert_exporter": "python",
   "pygments_lexer": "ipython3",
   "version": "3.12.4"
  }
 },
 "nbformat": 4,
 "nbformat_minor": 2
}
